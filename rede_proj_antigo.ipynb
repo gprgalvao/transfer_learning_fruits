{
 "cells": [
  {
   "cell_type": "code",
   "execution_count": 1,
   "metadata": {},
   "outputs": [],
   "source": [
    "from functions_extras import criar_treino_teste"
   ]
  },
  {
   "cell_type": "code",
   "execution_count": 2,
   "metadata": {},
   "outputs": [
    {
     "name": "stdout",
     "output_type": "stream",
     "text": [
      "Criando particionamento\n",
      "\t 459 \t+ 197 \t= 656 \t -> Apple Granny Smith\n",
      "\t 459 \t+ 197 \t= 656 \t -> Apple Red 2\n",
      "\t 435 \t+ 187 \t= 622 \t -> Kiwi\n",
      "\t 459 \t+ 197 \t= 656 \t -> Limes\n",
      "\t 459 \t+ 197 \t= 656 \t -> Nectarine\n",
      "\t 408 \t+ 176 \t= 584 \t -> Onion White\n",
      "\t 459 \t+ 197 \t= 656 \t -> Peach Flat\n",
      "\t 459 \t+ 197 \t= 656 \t -> Pear Williams\n",
      "\t 393 \t+ 169 \t= 562 \t -> Plum 2\n",
      "\t 420 \t+ 180 \t= 600 \t -> Potato White\n",
      "\t 442 \t+ 190 \t= 632 \t -> Watermelon\n",
      "Particionamento criado com sucesso!\n"
     ]
    }
   ],
   "source": [
    "criar_treino_teste('./dataset_fruits/', 0.3)"
   ]
  },
  {
   "cell_type": "code",
   "execution_count": 1,
   "metadata": {},
   "outputs": [
    {
     "name": "stdout",
     "output_type": "stream",
     "text": [
      "Versão do TensorFlow: 2.1.0\n",
      "versão do Keras: 2.2.4-tf\n"
     ]
    },
    {
     "name": "stderr",
     "output_type": "stream",
     "text": [
      "Using TensorFlow backend.\n"
     ]
    }
   ],
   "source": [
    "import tensorflow as tf\n",
    "print(\"Versão do TensorFlow:\", tf.__version__)\n",
    "\n",
    "from tensorflow import keras\n",
    "print(\"versão do Keras:\", keras.__version__)\n",
    "\n",
    "# IMPORTANDO COMANDOS E FUNÇÕES #\n",
    "\n",
    "import numpy as np\n",
    "import matplotlib.pyplot as plt #gerar gráfico\n",
    "import os\n",
    "from keras.preprocessing.image import ImageDataGenerator\n",
    "from keras.callbacks import EarlyStopping\n",
    "\n",
    "import pickle\n",
    "\n",
    "# IMPORTANDO LAYERS PARA A CNN #\n",
    "\n",
    "from keras.models import Sequential\n",
    "from keras import layers\n",
    "from keras.layers import Dropout"
   ]
  },
  {
   "cell_type": "code",
   "execution_count": 2,
   "metadata": {},
   "outputs": [],
   "source": [
    "# MONTANDO A ESTRUTURA DA CNN #\n",
    "\n",
    "model = Sequential()\n",
    "model.add(layers.Conv2D(32, (3, 3), activation='relu', input_shape=(64, 64, 3)))\n",
    "model.add(layers.MaxPooling2D((2, 2)))\n",
    "model.add(Dropout(0.5)) # dropout de 50%\n",
    "model.add(layers.Conv2D(64, (3, 3), activation='relu'))\n",
    "model.add(layers.MaxPooling2D((2, 2)))\n",
    "model.add(Dropout(0.5))\n",
    "model.add(layers.Conv2D(64, (3, 3), activation='relu'))\n",
    "model.add(layers.MaxPooling2D((2, 2)))\n",
    "model.add(Dropout(0.5))\n",
    "\n",
    "model.add(layers.Flatten()) # camada de achatamento\n",
    "model.add(layers.Dense(64, activation='relu'))\n",
    "model.add(Dropout(0.5))\n",
    "model.add(layers.Dense(units = 11, activation = 'softmax')) # 11 unidades de saída (11 classes)"
   ]
  },
  {
   "cell_type": "code",
   "execution_count": 3,
   "metadata": {},
   "outputs": [
    {
     "name": "stdout",
     "output_type": "stream",
     "text": [
      "versao do h5py: 2.10.0\n"
     ]
    }
   ],
   "source": [
    "import h5py\n",
    "\n",
    "print(\"versao do h5py:\", h5py.__version__)"
   ]
  },
  {
   "cell_type": "code",
   "execution_count": 4,
   "metadata": {},
   "outputs": [
    {
     "name": "stdout",
     "output_type": "stream",
     "text": [
      "Model: \"sequential_1\"\n",
      "_________________________________________________________________\n",
      "Layer (type)                 Output Shape              Param #   \n",
      "=================================================================\n",
      "conv2d_1 (Conv2D)            (None, 62, 62, 32)        896       \n",
      "_________________________________________________________________\n",
      "max_pooling2d_1 (MaxPooling2 (None, 31, 31, 32)        0         \n",
      "_________________________________________________________________\n",
      "dropout_1 (Dropout)          (None, 31, 31, 32)        0         \n",
      "_________________________________________________________________\n",
      "conv2d_2 (Conv2D)            (None, 29, 29, 64)        18496     \n",
      "_________________________________________________________________\n",
      "max_pooling2d_2 (MaxPooling2 (None, 14, 14, 64)        0         \n",
      "_________________________________________________________________\n",
      "dropout_2 (Dropout)          (None, 14, 14, 64)        0         \n",
      "_________________________________________________________________\n",
      "conv2d_3 (Conv2D)            (None, 12, 12, 64)        36928     \n",
      "_________________________________________________________________\n",
      "max_pooling2d_3 (MaxPooling2 (None, 6, 6, 64)          0         \n",
      "_________________________________________________________________\n",
      "dropout_3 (Dropout)          (None, 6, 6, 64)          0         \n",
      "_________________________________________________________________\n",
      "flatten_1 (Flatten)          (None, 2304)              0         \n",
      "_________________________________________________________________\n",
      "dense_1 (Dense)              (None, 64)                147520    \n",
      "_________________________________________________________________\n",
      "dropout_4 (Dropout)          (None, 64)                0         \n",
      "_________________________________________________________________\n",
      "dense_2 (Dense)              (None, 11)                715       \n",
      "=================================================================\n",
      "Total params: 204,555\n",
      "Trainable params: 204,555\n",
      "Non-trainable params: 0\n",
      "_________________________________________________________________\n"
     ]
    }
   ],
   "source": [
    "model.summary() # resumo da estrutura, com os parâmetros ajustáveis"
   ]
  },
  {
   "cell_type": "code",
   "execution_count": 5,
   "metadata": {},
   "outputs": [],
   "source": [
    "model.compile(optimizer='adam',\n",
    "              loss=tf.keras.losses.CategoricalCrossentropy(\n",
    "                  from_logits=False,\n",
    "                  label_smoothing=0,                            #configurações da função loss\n",
    "                  reduction=\"auto\",\n",
    "                  name=\"categorical_crossentropy\"),\n",
    "              metrics=['accuracy'])"
   ]
  },
  {
   "cell_type": "code",
   "execution_count": 6,
   "metadata": {},
   "outputs": [
    {
     "name": "stdout",
     "output_type": "stream",
     "text": [
      "Found 4160 images belonging to 11 classes.\n",
      "Found 1037 images belonging to 11 classes.\n"
     ]
    }
   ],
   "source": [
    "# DIVIDIR AS 8000 IMAGENS EM PARTIÇÃO DE TREINO E VALIDAÇÃO, UTILIZANDO O IMAGEDATAGENERATOR #\n",
    "\n",
    "from keras.preprocessing.image import ImageDataGenerator\n",
    "\n",
    "datagen =  ImageDataGenerator(rescale = 1./255, validation_split=0.2) # comando para reescala + divisão em 20% para validação\n",
    "\n",
    "# imagens de treino (80%) \n",
    "\n",
    "train_data = datagen.flow_from_directory('dataset_fruits/Training', \n",
    "                                         subset = 'training',\n",
    "                                         batch_size = 16,\n",
    "                                         target_size = (64, 64)) # definindo tamanho das imagens\n",
    "\n",
    "# imagens de validação (20%)\n",
    "\n",
    "valid_data = datagen.flow_from_directory('dataset_fruits/Training',\n",
    "                                         subset='validation',\n",
    "                                         batch_size = 16,\n",
    "                                         target_size = (64, 64))"
   ]
  },
  {
   "cell_type": "code",
   "execution_count": 7,
   "metadata": {},
   "outputs": [],
   "source": [
    "# DEFININDO O COMANDO EARLYSTOPPING #\n",
    "\n",
    "es = EarlyStopping(monitor='val_accuracy', mode='max', verbose=1, patience = 10) #early stopping baseado na melhor acurácia de validação"
   ]
  },
  {
   "cell_type": "code",
   "execution_count": 8,
   "metadata": {},
   "outputs": [
    {
     "name": "stdout",
     "output_type": "stream",
     "text": [
      "Epoch 1/100\n",
      "260/260 [==============================] - 21s 81ms/step - loss: 1.7338 - accuracy: 0.3656 - val_loss: 0.8012 - val_accuracy: 0.7435\n",
      "Epoch 2/100\n",
      "260/260 [==============================] - 21s 80ms/step - loss: 0.6178 - accuracy: 0.7632 - val_loss: 0.4931 - val_accuracy: 0.8312\n",
      "Epoch 3/100\n",
      "260/260 [==============================] - 22s 83ms/step - loss: 0.3798 - accuracy: 0.8558 - val_loss: 0.2173 - val_accuracy: 0.8023\n",
      "Epoch 4/100\n",
      "260/260 [==============================] - 22s 85ms/step - loss: 0.2637 - accuracy: 0.9012 - val_loss: 0.1120 - val_accuracy: 0.8602\n",
      "Epoch 5/100\n",
      "260/260 [==============================] - 21s 82ms/step - loss: 0.2164 - accuracy: 0.9212 - val_loss: 0.1601 - val_accuracy: 0.9489\n",
      "Epoch 6/100\n",
      "260/260 [==============================] - 22s 83ms/step - loss: 0.2033 - accuracy: 0.9238 - val_loss: 0.0657 - val_accuracy: 0.9547\n",
      "Epoch 7/100\n",
      "260/260 [==============================] - 51s 197ms/step - loss: 0.1454 - accuracy: 0.9442 - val_loss: 0.3322 - val_accuracy: 0.9335\n",
      "Epoch 8/100\n",
      "260/260 [==============================] - 55s 212ms/step - loss: 0.1622 - accuracy: 0.9365 - val_loss: 0.1809 - val_accuracy: 0.9016\n",
      "Epoch 9/100\n",
      "260/260 [==============================] - 21s 79ms/step - loss: 0.1457 - accuracy: 0.9469 - val_loss: 0.0533 - val_accuracy: 0.9036\n",
      "Epoch 10/100\n",
      "260/260 [==============================] - 21s 79ms/step - loss: 0.1279 - accuracy: 0.9538 - val_loss: 0.0764 - val_accuracy: 0.9653\n",
      "Epoch 11/100\n",
      "260/260 [==============================] - 21s 80ms/step - loss: 0.1189 - accuracy: 0.9538 - val_loss: 0.0705 - val_accuracy: 0.9662\n",
      "Epoch 12/100\n",
      "260/260 [==============================] - 21s 81ms/step - loss: 0.0946 - accuracy: 0.9656 - val_loss: 0.0037 - val_accuracy: 0.9769\n",
      "Epoch 13/100\n",
      "260/260 [==============================] - 22s 83ms/step - loss: 0.1048 - accuracy: 0.9579 - val_loss: 0.2230 - val_accuracy: 0.9460\n",
      "Epoch 14/100\n",
      "260/260 [==============================] - 21s 82ms/step - loss: 0.1034 - accuracy: 0.9611 - val_loss: 0.0043 - val_accuracy: 1.0000\n",
      "Epoch 15/100\n",
      "260/260 [==============================] - 23s 89ms/step - loss: 0.0752 - accuracy: 0.9721 - val_loss: 0.3425 - val_accuracy: 0.8795\n",
      "Epoch 16/100\n",
      "260/260 [==============================] - 22s 86ms/step - loss: 0.1209 - accuracy: 0.9563 - val_loss: 0.3379 - val_accuracy: 0.9499\n",
      "Epoch 17/100\n",
      "260/260 [==============================] - 22s 85ms/step - loss: 0.0727 - accuracy: 0.9752 - val_loss: 0.0101 - val_accuracy: 0.9904\n",
      "Epoch 18/100\n",
      "260/260 [==============================] - 22s 83ms/step - loss: 0.0789 - accuracy: 0.9656 - val_loss: 0.1180 - val_accuracy: 0.9200\n",
      "Epoch 19/100\n",
      "260/260 [==============================] - 21s 81ms/step - loss: 0.0717 - accuracy: 0.9733 - val_loss: 0.0188 - val_accuracy: 0.9913\n",
      "Epoch 20/100\n",
      "260/260 [==============================] - 21s 83ms/step - loss: 0.1137 - accuracy: 0.9661 - val_loss: 0.7445 - val_accuracy: 0.9055\n",
      "Epoch 21/100\n",
      "260/260 [==============================] - 21s 80ms/step - loss: 0.0736 - accuracy: 0.9755 - val_loss: 0.1223 - val_accuracy: 0.9286\n",
      "Epoch 22/100\n",
      "260/260 [==============================] - 21s 80ms/step - loss: 0.0553 - accuracy: 0.9764 - val_loss: 0.4714 - val_accuracy: 0.9354\n",
      "Epoch 23/100\n",
      "260/260 [==============================] - 21s 79ms/step - loss: 0.0943 - accuracy: 0.9700 - val_loss: 3.4708e-04 - val_accuracy: 0.9383\n",
      "Epoch 24/100\n",
      "260/260 [==============================] - 21s 80ms/step - loss: 0.0543 - accuracy: 0.9798 - val_loss: 0.1026 - val_accuracy: 0.8554\n",
      "Epoch 00024: early stopping\n"
     ]
    }
   ],
   "source": [
    "# INÍCIO DO TREINO DO MODELO #\n",
    "\n",
    "history = model.fit(train_data,\n",
    "                    epochs=100,\n",
    "                    validation_data=valid_data,\n",
    "                    callbacks = [es])\n",
    "\n",
    "# informação: steps_per_epoch = número de imagens / batch_size"
   ]
  },
  {
   "cell_type": "code",
   "execution_count": 9,
   "metadata": {},
   "outputs": [],
   "source": [
    "model.save('model_proj_antigo',\n",
    "          overwrite = True) \n",
    "\n",
    "with open('trainHistoryDict_proj_antigo', 'wb') as file_pi:\n",
    "        pickle.dump(history.history, file_pi)"
   ]
  },
  {
   "cell_type": "code",
   "execution_count": 10,
   "metadata": {},
   "outputs": [],
   "source": [
    "model = keras.models.load_model('model_proj_antigo')\n",
    "history = pickle.load(open('trainHistoryDict_proj_antigo', \"rb\"))"
   ]
  },
  {
   "cell_type": "code",
   "execution_count": 11,
   "metadata": {},
   "outputs": [
    {
     "name": "stdout",
     "output_type": "stream",
     "text": [
      "Model: \"sequential_1\"\n",
      "_________________________________________________________________\n",
      "Layer (type)                 Output Shape              Param #   \n",
      "=================================================================\n",
      "conv2d_1 (Conv2D)            (None, 62, 62, 32)        896       \n",
      "_________________________________________________________________\n",
      "max_pooling2d_1 (MaxPooling2 (None, 31, 31, 32)        0         \n",
      "_________________________________________________________________\n",
      "dropout_1 (Dropout)          (None, 31, 31, 32)        0         \n",
      "_________________________________________________________________\n",
      "conv2d_2 (Conv2D)            (None, 29, 29, 64)        18496     \n",
      "_________________________________________________________________\n",
      "max_pooling2d_2 (MaxPooling2 (None, 14, 14, 64)        0         \n",
      "_________________________________________________________________\n",
      "dropout_2 (Dropout)          (None, 14, 14, 64)        0         \n",
      "_________________________________________________________________\n",
      "conv2d_3 (Conv2D)            (None, 12, 12, 64)        36928     \n",
      "_________________________________________________________________\n",
      "max_pooling2d_3 (MaxPooling2 (None, 6, 6, 64)          0         \n",
      "_________________________________________________________________\n",
      "dropout_3 (Dropout)          (None, 6, 6, 64)          0         \n",
      "_________________________________________________________________\n",
      "flatten_1 (Flatten)          (None, 2304)              0         \n",
      "_________________________________________________________________\n",
      "dense_1 (Dense)              (None, 64)                147520    \n",
      "_________________________________________________________________\n",
      "dropout_4 (Dropout)          (None, 64)                0         \n",
      "_________________________________________________________________\n",
      "dense_2 (Dense)              (None, 11)                715       \n",
      "=================================================================\n",
      "Total params: 204,555\n",
      "Trainable params: 204,555\n",
      "Non-trainable params: 0\n",
      "_________________________________________________________________\n"
     ]
    }
   ],
   "source": [
    "model.summary()"
   ]
  },
  {
   "cell_type": "code",
   "execution_count": 12,
   "metadata": {},
   "outputs": [
    {
     "data": {
      "text/plain": [
       "<matplotlib.legend.Legend at 0x18ecbeaa288>"
      ]
     },
     "execution_count": 12,
     "metadata": {},
     "output_type": "execute_result"
    },
    {
     "data": {
      "image/png": "[encoded data removed]",
      "text/plain": [
       "<Figure size 432x288 with 1 Axes>"
      ]
     },
     "metadata": {
      "needs_background": "light"
     },
     "output_type": "display_data"
    }
   ],
   "source": [
    "# GERANDO GRÁFICO COM RESULTADOS DAS ACURÁCIAS DE TREINO E VALIDAÇÃO #\n",
    "plt.plot(history['accuracy'], label='accuracy_train')\n",
    "plt.plot(history['val_accuracy'], label = 'accuracy_valid')\n",
    "plt.xlabel('Epoch')\n",
    "plt.ylabel('Accuracy')\n",
    "plt.ylim([0, 1])\n",
    "plt.legend(loc='lower right')"
   ]
  },
  {
   "cell_type": "code",
   "execution_count": 13,
   "metadata": {},
   "outputs": [
    {
     "data": {
      "text/plain": [
       "<matplotlib.legend.Legend at 0x18ecc1fff88>"
      ]
     },
     "execution_count": 13,
     "metadata": {},
     "output_type": "execute_result"
    },
    {
     "data": {
      "image/png": "[encoded data removed]",
      "text/plain": [
       "<Figure size 432x288 with 1 Axes>"
      ]
     },
     "metadata": {
      "needs_background": "light"
     },
     "output_type": "display_data"
    }
   ],
   "source": [
    "# GERANDO GRÁFICO COM RESULTADOS DO LOSS DE TREINO E VALIDAÇÃO #\n",
    "\n",
    "plt.plot(history['loss'], label='loss train')\n",
    "plt.plot(history['val_loss'], label='loss val')\n",
    "plt.xlabel('Epoch')\n",
    "plt.ylabel('Loss')\n",
    "plt.ylim([0, 3])\n",
    "plt.legend(loc='lower right')"
   ]
  },
  {
   "cell_type": "code",
   "execution_count": 14,
   "metadata": {},
   "outputs": [
    {
     "name": "stdout",
     "output_type": "stream",
     "text": [
      "Found 1739 images belonging to 11 classes.\n"
     ]
    }
   ],
   "source": [
    "datagen_test =  ImageDataGenerator(rescale = 1./255) # comando para reescala das imagens de teste\n",
    "\n",
    "# imagens de teste\n",
    "\n",
    "test_data = datagen_test.flow_from_directory(directory='dataset_fruits/Test',\n",
    "                                             target_size = (64, 64),\n",
    "                                             batch_size = 1,\n",
    "                                             shuffle=False)"
   ]
  },
  {
   "cell_type": "code",
   "execution_count": 15,
   "metadata": {},
   "outputs": [
    {
     "name": "stdout",
     "output_type": "stream",
     "text": [
      "WARNING:tensorflow:sample_weight modes were coerced from\n",
      "  ...\n",
      "    to  \n",
      "  ['...']\n",
      "1739/1739 [==============================] - 18s 10ms/step - loss: 0.0548 - accuracy: 0.9816\n",
      "acurácia nos dados de teste: 0.9815986\n",
      "loss dos dados de teste: 0.054794727159141396\n"
     ]
    }
   ],
   "source": [
    "# DEFININDO COMANDO PARA AVALIAR O DESEMPENHO DO MODELO NAS IMAGENS DE TESTE #\n",
    "\n",
    "test_loss, test_acc = model.evaluate(test_data) # verificar versão do Keras\n",
    "\n",
    "print(\"acurácia nos dados de teste:\", test_acc)\n",
    "print(\"loss dos dados de teste:\", test_loss)"
   ]
  },
  {
   "cell_type": "code",
   "execution_count": 16,
   "metadata": {},
   "outputs": [
    {
     "name": "stdout",
     "output_type": "stream",
     "text": [
      "(1739,)\n",
      "[ 0  0  0 ... 10 10 10]\n",
      "Accuracy\n",
      "0.9815986198964922\n",
      "Balanced Accuracy\n",
      "0.9821064301552108\n",
      "Confusion Matrix\n",
      "[[164   0   0   0   0   0   0   0   0   0   0]\n",
      " [  0 135   0   0  29   0   0   0   0   0   0]\n",
      " [  0   0 156   0   0   0   0   0   0   0   0]\n",
      " [  0   0   0 166   0   0   0   0   0   0   0]\n",
      " [  0   0   0   0 164   0   0   0   0   0   0]\n",
      " [  0   0   0   0   0 146   0   0   0   0   0]\n",
      " [  0   0   0   0   0   0 164   0   0   0   0]\n",
      " [  0   0   0   0   0   0   0 166   0   0   0]\n",
      " [  0   0   0   0   0   0   0   0 142   0   0]\n",
      " [  0   0   0   0   0   3   0   0   0 147   0]\n",
      " [  0   0   0   0   0   0   0   0   0   0 157]]\n",
      "Classification Report\n"
     ]
    }
   ],
   "source": [
    "from sklearn.metrics import classification_report, confusion_matrix, balanced_accuracy_score, accuracy_score\n",
    "\n",
    "Y_pred = model.predict(test_data)\n",
    "y_pred = np.argmax(Y_pred, axis=1)\n",
    "\n",
    "print(y_pred.shape)\n",
    "\n",
    "print(test_data.classes)\n",
    "\n",
    "print('Accuracy')\n",
    "print(accuracy_score(test_data.classes,y_pred))\n",
    "\n",
    "print('Balanced Accuracy')\n",
    "print(balanced_accuracy_score(test_data.classes,y_pred))\n",
    "\n",
    "print('Confusion Matrix')\n",
    "print(confusion_matrix(test_data.classes, y_pred))\n",
    "print('Classification Report')"
   ]
  },
  {
   "cell_type": "code",
   "execution_count": null,
   "metadata": {},
   "outputs": [],
   "source": []
  }
 ],
 "metadata": {
  "kernelspec": {
   "display_name": "Python 3",
   "language": "python",
   "name": "python3"
  },
  "language_info": {
   "codemirror_mode": {
    "name": "ipython",
    "version": 3
   },
   "file_extension": ".py",
   "mimetype": "text/x-python",
   "name": "python",
   "nbconvert_exporter": "python",
   "pygments_lexer": "ipython3",
   "version": "3.7.7"
  }
 },
 "nbformat": 4,
 "nbformat_minor": 4
}
