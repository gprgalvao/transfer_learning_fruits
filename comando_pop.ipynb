{
 "cells": [
  {
   "cell_type": "code",
   "execution_count": 1,
   "metadata": {},
   "outputs": [
    {
     "name": "stdout",
     "output_type": "stream",
     "text": [
      "Versão do TensorFlow: 2.1.0\n",
      "versão do Keras: 2.2.4-tf\n"
     ]
    },
    {
     "name": "stderr",
     "output_type": "stream",
     "text": [
      "Using TensorFlow backend.\n"
     ]
    }
   ],
   "source": [
    "import tensorflow as tf\n",
    "print(\"Versão do TensorFlow:\", tf.__version__)\n",
    "\n",
    "from tensorflow import keras\n",
    "print(\"versão do Keras:\", keras.__version__)\n",
    "\n",
    "# IMPORTANDO COMANDOS E FUNÇÕES #\n",
    "\n",
    "import numpy as np\n",
    "import h5py\n",
    "import matplotlib.pyplot as plt #gerar gráfico\n",
    "import os\n",
    "from keras.preprocessing.image import ImageDataGenerator\n",
    "from keras.callbacks import EarlyStopping\n",
    "\n",
    "from sklearn.metrics import classification_report, confusion_matrix, balanced_accuracy_score, accuracy_score\n",
    "\n",
    "import pickle\n",
    "\n",
    "# IMPORTANDO LAYERS PARA A CNN #\n",
    "\n",
    "from keras.models import Sequential\n",
    "from keras import layers\n",
    "from keras.layers import Dropout"
   ]
  },
  {
   "cell_type": "code",
   "execution_count": 2,
   "metadata": {},
   "outputs": [
    {
     "name": "stdout",
     "output_type": "stream",
     "text": [
      "Model: \"sequential_1\"\n",
      "_________________________________________________________________\n",
      "Layer (type)                 Output Shape              Param #   \n",
      "=================================================================\n",
      "conv2d_1 (Conv2D)            (None, 98, 98, 32)        896       \n",
      "_________________________________________________________________\n",
      "max_pooling2d_1 (MaxPooling2 (None, 49, 49, 32)        0         \n",
      "_________________________________________________________________\n",
      "dropout_1 (Dropout)          (None, 49, 49, 32)        0         \n",
      "_________________________________________________________________\n",
      "conv2d_2 (Conv2D)            (None, 47, 47, 64)        18496     \n",
      "_________________________________________________________________\n",
      "max_pooling2d_2 (MaxPooling2 (None, 23, 23, 64)        0         \n",
      "_________________________________________________________________\n",
      "dropout_2 (Dropout)          (None, 23, 23, 64)        0         \n",
      "_________________________________________________________________\n",
      "conv2d_3 (Conv2D)            (None, 21, 21, 64)        36928     \n",
      "_________________________________________________________________\n",
      "max_pooling2d_3 (MaxPooling2 (None, 10, 10, 64)        0         \n",
      "_________________________________________________________________\n",
      "dropout_3 (Dropout)          (None, 10, 10, 64)        0         \n",
      "_________________________________________________________________\n",
      "flatten_1 (Flatten)          (None, 6400)              0         \n",
      "_________________________________________________________________\n",
      "dense (Dense)                (None, 64)                409664    \n",
      "_________________________________________________________________\n",
      "dropout (Dropout)            (None, 64)                0         \n",
      "_________________________________________________________________\n",
      "dense_1 (Dense)              (None, 11)                715       \n",
      "=================================================================\n",
      "Total params: 466,699\n",
      "Trainable params: 466,699\n",
      "Non-trainable params: 0\n",
      "_________________________________________________________________\n"
     ]
    }
   ],
   "source": [
    "# Criando modelo\n",
    "\n",
    "model = keras.models.load_model('model.h5')\n",
    "model.pop()\n",
    "model.pop()\n",
    "model.pop()\n",
    "model.add(tf.keras.layers.Dense(64, activation='relu'))\n",
    "model.add(tf.keras.layers.Dropout(0.5))\n",
    "model.add(tf.keras.layers.Dense(units = 11, activation = 'softmax'))\n",
    "model.summary()"
   ]
  },
  {
   "cell_type": "code",
   "execution_count": 3,
   "metadata": {},
   "outputs": [],
   "source": [
    "model.compile(optimizer='adam',\n",
    "              loss=tf.keras.losses.CategoricalCrossentropy(\n",
    "                  from_logits=False,\n",
    "                  label_smoothing=0,                            #configurações da função loss\n",
    "                  reduction=\"auto\",\n",
    "                  name=\"categorical_crossentropy\"),\n",
    "              metrics=['accuracy'])"
   ]
  },
  {
   "cell_type": "code",
   "execution_count": 4,
   "metadata": {},
   "outputs": [],
   "source": [
    "from functions_extras import criar_treino_teste"
   ]
  },
  {
   "cell_type": "code",
   "execution_count": 5,
   "metadata": {},
   "outputs": [
    {
     "name": "stdout",
     "output_type": "stream",
     "text": [
      "Criando particionamento\n",
      "\t 140 \t+ 61 \t= 201 \t -> agata_potato\n",
      "\t 147 \t+ 64 \t= 211 \t -> diamond_peach\n",
      "\t 148 \t+ 64 \t= 212 \t -> fuji_apple\n",
      "\t 108 \t+ 47 \t= 155 \t -> granny_smith_apple\n",
      "\t 119 \t+ 52 \t= 171 \t -> kiwi\n",
      "\t 172 \t+ 75 \t= 247 \t -> nectarine\n",
      "\t 52 \t+ 23 \t= 75 \t -> onion\n",
      "\t 184 \t+ 80 \t= 264 \t -> plum\n",
      "\t 111 \t+ 48 \t= 159 \t -> spanish_pear\n",
      "\t 74 \t+ 32 \t= 106 \t -> taiti_lime\n",
      "\t 134 \t+ 58 \t= 192 \t -> watermelon\n",
      "Particionamento criado com sucesso!\n"
     ]
    }
   ],
   "source": [
    "criar_treino_teste('./dataset_smkt/', 0.3)"
   ]
  },
  {
   "cell_type": "code",
   "execution_count": 6,
   "metadata": {},
   "outputs": [
    {
     "name": "stdout",
     "output_type": "stream",
     "text": [
      "Found 1117 images belonging to 11 classes.\n",
      "Found 272 images belonging to 11 classes.\n"
     ]
    }
   ],
   "source": [
    "# DIVIDIR AS IMAGENS EM PARTIÇÃO DE TREINO E VALIDAÇÃO, UTILIZANDO O IMAGEDATAGENERATOR #\n",
    "\n",
    "datagen =  ImageDataGenerator(rescale = 1./255, validation_split=0.2) # comando para reescala + divisão em 20% para validação\n",
    "\n",
    "# imagens de treino (80%) \n",
    "\n",
    "train_data = datagen.flow_from_directory('dataset_smkt/train', \n",
    "                                         subset = 'training',\n",
    "                                         batch_size = 64,\n",
    "                                         target_size = (100, 100)) # definindo tamanho das imagens\n",
    "\n",
    "# imagens de validação (20%)\n",
    "\n",
    "valid_data = datagen.flow_from_directory('dataset_smkt/train',\n",
    "                                         subset='validation',\n",
    "                                         batch_size = 64,\n",
    "                                         target_size = (100, 100))"
   ]
  },
  {
   "cell_type": "code",
   "execution_count": 7,
   "metadata": {},
   "outputs": [],
   "source": [
    "# DEFININDO O COMANDO EARLYSTOPPING #\n",
    "\n",
    "es = EarlyStopping(monitor='val_accuracy', mode='max', verbose=1, patience = 11)"
   ]
  },
  {
   "cell_type": "code",
   "execution_count": 8,
   "metadata": {},
   "outputs": [
    {
     "name": "stdout",
     "output_type": "stream",
     "text": [
      "WARNING:tensorflow:sample_weight modes were coerced from\n",
      "  ...\n",
      "    to  \n",
      "  ['...']\n",
      "WARNING:tensorflow:sample_weight modes were coerced from\n",
      "  ...\n",
      "    to  \n",
      "  ['...']\n",
      "Train for 18 steps, validate for 5 steps\n",
      "Epoch 1/100\n",
      "18/18 [==============================] - 27s 1s/step - loss: 2.0601 - accuracy: 0.3545 - val_loss: 1.6397 - val_accuracy: 0.4596\n",
      "Epoch 2/100\n",
      "18/18 [==============================] - 22s 1s/step - loss: 1.1667 - accuracy: 0.5927 - val_loss: 1.3998 - val_accuracy: 0.5331\n",
      "Epoch 3/100\n",
      "18/18 [==============================] - 24s 1s/step - loss: 0.8793 - accuracy: 0.6974 - val_loss: 1.2033 - val_accuracy: 0.6507\n",
      "Epoch 4/100\n",
      "18/18 [==============================] - 22s 1s/step - loss: 0.6773 - accuracy: 0.7690 - val_loss: 1.0574 - val_accuracy: 0.7206\n",
      "Epoch 5/100\n",
      "18/18 [==============================] - 21s 1s/step - loss: 0.5453 - accuracy: 0.8236 - val_loss: 0.8972 - val_accuracy: 0.6949\n",
      "Epoch 6/100\n",
      "18/18 [==============================] - 22s 1s/step - loss: 0.4605 - accuracy: 0.8487 - val_loss: 0.7978 - val_accuracy: 0.6838\n",
      "Epoch 7/100\n",
      "18/18 [==============================] - 25s 1s/step - loss: 0.3498 - accuracy: 0.8890 - val_loss: 0.8340 - val_accuracy: 0.6654\n",
      "Epoch 8/100\n",
      "18/18 [==============================] - 25s 1s/step - loss: 0.3403 - accuracy: 0.8854 - val_loss: 0.7482 - val_accuracy: 0.6875\n",
      "Epoch 9/100\n",
      "18/18 [==============================] - 25s 1s/step - loss: 0.4376 - accuracy: 0.8541 - val_loss: 0.8698 - val_accuracy: 0.6544\n",
      "Epoch 10/100\n",
      "18/18 [==============================] - 25s 1s/step - loss: 0.3077 - accuracy: 0.8988 - val_loss: 0.7580 - val_accuracy: 0.7353\n",
      "Epoch 11/100\n",
      "18/18 [==============================] - 21s 1s/step - loss: 0.2264 - accuracy: 0.9150 - val_loss: 0.7031 - val_accuracy: 0.7279\n",
      "Epoch 12/100\n",
      "18/18 [==============================] - 21s 1s/step - loss: 0.2246 - accuracy: 0.9158 - val_loss: 0.7899 - val_accuracy: 0.7500\n",
      "Epoch 13/100\n",
      "18/18 [==============================] - 21s 1s/step - loss: 0.2354 - accuracy: 0.9194 - val_loss: 0.6657 - val_accuracy: 0.7500\n",
      "Epoch 14/100\n",
      "18/18 [==============================] - 21s 1s/step - loss: 0.2360 - accuracy: 0.9185 - val_loss: 0.7228 - val_accuracy: 0.7684\n",
      "Epoch 15/100\n",
      "18/18 [==============================] - 21s 1s/step - loss: 0.2290 - accuracy: 0.9185 - val_loss: 0.7805 - val_accuracy: 0.7463\n",
      "Epoch 16/100\n",
      "18/18 [==============================] - 22s 1s/step - loss: 0.1483 - accuracy: 0.9543 - val_loss: 0.5423 - val_accuracy: 0.8309\n",
      "Epoch 17/100\n",
      "18/18 [==============================] - 21s 1s/step - loss: 0.1855 - accuracy: 0.9382 - val_loss: 0.7029 - val_accuracy: 0.7426\n",
      "Epoch 18/100\n",
      "18/18 [==============================] - 21s 1s/step - loss: 0.2108 - accuracy: 0.9248 - val_loss: 0.5209 - val_accuracy: 0.8235\n",
      "Epoch 19/100\n",
      "18/18 [==============================] - 21s 1s/step - loss: 0.1724 - accuracy: 0.9517 - val_loss: 0.5601 - val_accuracy: 0.8382\n",
      "Epoch 20/100\n",
      "18/18 [==============================] - 21s 1s/step - loss: 0.1605 - accuracy: 0.9427 - val_loss: 0.5061 - val_accuracy: 0.8346\n",
      "Epoch 21/100\n",
      "18/18 [==============================] - 21s 1s/step - loss: 0.1392 - accuracy: 0.9526 - val_loss: 0.9626 - val_accuracy: 0.7169\n",
      "Epoch 22/100\n",
      "18/18 [==============================] - 21s 1s/step - loss: 0.1477 - accuracy: 0.9418 - val_loss: 0.5977 - val_accuracy: 0.8051\n",
      "Epoch 23/100\n",
      "18/18 [==============================] - 21s 1s/step - loss: 0.1500 - accuracy: 0.9454 - val_loss: 0.5659 - val_accuracy: 0.8235\n",
      "Epoch 24/100\n",
      "18/18 [==============================] - 21s 1s/step - loss: 0.1506 - accuracy: 0.9481 - val_loss: 0.4748 - val_accuracy: 0.8456\n",
      "Epoch 25/100\n",
      "18/18 [==============================] - 21s 1s/step - loss: 0.1220 - accuracy: 0.9517 - val_loss: 0.5844 - val_accuracy: 0.7978\n",
      "Epoch 26/100\n",
      "18/18 [==============================] - 21s 1s/step - loss: 0.1159 - accuracy: 0.9624 - val_loss: 0.5828 - val_accuracy: 0.7978\n",
      "Epoch 27/100\n",
      "18/18 [==============================] - 21s 1s/step - loss: 0.0858 - accuracy: 0.9705 - val_loss: 0.5639 - val_accuracy: 0.8162\n",
      "Epoch 28/100\n",
      "18/18 [==============================] - 21s 1s/step - loss: 0.1271 - accuracy: 0.9588 - val_loss: 0.5949 - val_accuracy: 0.8088\n",
      "Epoch 29/100\n",
      "18/18 [==============================] - 21s 1s/step - loss: 0.3653 - accuracy: 0.8872 - val_loss: 0.7257 - val_accuracy: 0.8088\n",
      "Epoch 30/100\n",
      "18/18 [==============================] - 21s 1s/step - loss: 0.2781 - accuracy: 0.9096 - val_loss: 0.5963 - val_accuracy: 0.8235\n",
      "Epoch 31/100\n",
      "18/18 [==============================] - 21s 1s/step - loss: 0.1271 - accuracy: 0.9579 - val_loss: 0.5966 - val_accuracy: 0.8162\n",
      "Epoch 32/100\n",
      "18/18 [==============================] - 21s 1s/step - loss: 0.1195 - accuracy: 0.9642 - val_loss: 0.6164 - val_accuracy: 0.7904\n",
      "Epoch 33/100\n",
      "18/18 [==============================] - 21s 1s/step - loss: 0.0981 - accuracy: 0.9642 - val_loss: 0.8150 - val_accuracy: 0.7831\n",
      "Epoch 34/100\n",
      "18/18 [==============================] - 21s 1s/step - loss: 0.1399 - accuracy: 0.9463 - val_loss: 0.5440 - val_accuracy: 0.8051\n",
      "Epoch 35/100\n",
      "18/18 [==============================] - 21s 1s/step - loss: 0.0832 - accuracy: 0.9660 - val_loss: 0.5208 - val_accuracy: 0.8676\n",
      "Epoch 36/100\n",
      "18/18 [==============================] - 21s 1s/step - loss: 0.0892 - accuracy: 0.9642 - val_loss: 0.6164 - val_accuracy: 0.8382\n",
      "Epoch 37/100\n",
      "18/18 [==============================] - 21s 1s/step - loss: 0.0729 - accuracy: 0.9767 - val_loss: 0.5859 - val_accuracy: 0.8088\n",
      "Epoch 38/100\n",
      "18/18 [==============================] - 21s 1s/step - loss: 0.0721 - accuracy: 0.9785 - val_loss: 0.6066 - val_accuracy: 0.8456\n",
      "Epoch 39/100\n",
      "18/18 [==============================] - 21s 1s/step - loss: 0.1036 - accuracy: 0.9642 - val_loss: 0.6752 - val_accuracy: 0.8566\n",
      "Epoch 40/100\n",
      "18/18 [==============================] - 21s 1s/step - loss: 0.1142 - accuracy: 0.9651 - val_loss: 0.5638 - val_accuracy: 0.8566\n",
      "Epoch 41/100\n",
      "18/18 [==============================] - 21s 1s/step - loss: 0.1262 - accuracy: 0.9606 - val_loss: 0.5776 - val_accuracy: 0.8603\n",
      "Epoch 42/100\n",
      "18/18 [==============================] - 23s 1s/step - loss: 0.0856 - accuracy: 0.9740 - val_loss: 0.5678 - val_accuracy: 0.8566\n",
      "Epoch 43/100\n",
      "18/18 [==============================] - 21s 1s/step - loss: 0.0733 - accuracy: 0.9731 - val_loss: 0.6503 - val_accuracy: 0.8382\n",
      "Epoch 44/100\n",
      "18/18 [==============================] - 22s 1s/step - loss: 0.0899 - accuracy: 0.9731 - val_loss: 0.5250 - val_accuracy: 0.8456\n",
      "Epoch 45/100\n",
      "18/18 [==============================] - 21s 1s/step - loss: 0.0825 - accuracy: 0.9696 - val_loss: 0.6071 - val_accuracy: 0.8603\n",
      "Epoch 46/100\n",
      "18/18 [==============================] - 21s 1s/step - loss: 0.0640 - accuracy: 0.9812 - val_loss: 0.6199 - val_accuracy: 0.8346\n",
      "Epoch 00046: early stopping\n"
     ]
    }
   ],
   "source": [
    "# INÍCIO DO TREINO DO MODELO #\n",
    "\n",
    "history = model.fit(train_data,\n",
    "                    epochs=100,\n",
    "                    validation_data=valid_data,\n",
    "                    callbacks = [es])\n",
    "\n",
    "# informação: steps_per_epoch = número de imagens / batch_size"
   ]
  },
  {
   "cell_type": "code",
   "execution_count": 9,
   "metadata": {},
   "outputs": [],
   "source": [
    "model.save('model_comando_pop.h5',\n",
    "          overwrite = True) \n",
    "del model\n",
    "\n",
    "with open('trainHistoryDict_model_comando_pop', 'wb') as file_pi:\n",
    "        pickle.dump(history.history, file_pi)"
   ]
  },
  {
   "cell_type": "code",
   "execution_count": 10,
   "metadata": {},
   "outputs": [],
   "source": [
    "model_comando_pop = keras.models.load_model('model_comando_pop.h5')\n",
    "history = pickle.load(open('trainHistoryDict_model_comando_pop', \"rb\"))"
   ]
  },
  {
   "cell_type": "code",
   "execution_count": 11,
   "metadata": {},
   "outputs": [
    {
     "name": "stdout",
     "output_type": "stream",
     "text": [
      "Model: \"sequential_1\"\n",
      "_________________________________________________________________\n",
      "Layer (type)                 Output Shape              Param #   \n",
      "=================================================================\n",
      "conv2d_1 (Conv2D)            (None, 98, 98, 32)        896       \n",
      "_________________________________________________________________\n",
      "max_pooling2d_1 (MaxPooling2 (None, 49, 49, 32)        0         \n",
      "_________________________________________________________________\n",
      "dropout_1 (Dropout)          (None, 49, 49, 32)        0         \n",
      "_________________________________________________________________\n",
      "conv2d_2 (Conv2D)            (None, 47, 47, 64)        18496     \n",
      "_________________________________________________________________\n",
      "max_pooling2d_2 (MaxPooling2 (None, 23, 23, 64)        0         \n",
      "_________________________________________________________________\n",
      "dropout_2 (Dropout)          (None, 23, 23, 64)        0         \n",
      "_________________________________________________________________\n",
      "conv2d_3 (Conv2D)            (None, 21, 21, 64)        36928     \n",
      "_________________________________________________________________\n",
      "max_pooling2d_3 (MaxPooling2 (None, 10, 10, 64)        0         \n",
      "_________________________________________________________________\n",
      "dropout_3 (Dropout)          (None, 10, 10, 64)        0         \n",
      "_________________________________________________________________\n",
      "flatten_1 (Flatten)          (None, 6400)              0         \n",
      "_________________________________________________________________\n",
      "dense (Dense)                (None, 64)                409664    \n",
      "_________________________________________________________________\n",
      "dropout (Dropout)            (None, 64)                0         \n",
      "_________________________________________________________________\n",
      "dense_1 (Dense)              (None, 11)                715       \n",
      "=================================================================\n",
      "Total params: 466,699\n",
      "Trainable params: 466,699\n",
      "Non-trainable params: 0\n",
      "_________________________________________________________________\n"
     ]
    }
   ],
   "source": [
    "model_comando_pop.summary()"
   ]
  },
  {
   "cell_type": "code",
   "execution_count": 12,
   "metadata": {},
   "outputs": [
    {
     "data": {
      "text/plain": [
       "<matplotlib.legend.Legend at 0x2b000855648>"
      ]
     },
     "execution_count": 12,
     "metadata": {},
     "output_type": "execute_result"
    },
    {
     "data": {
      "image/png": "[encoded data removed]",
      "text/plain": [
       "<Figure size 432x288 with 1 Axes>"
      ]
     },
     "metadata": {
      "needs_background": "light"
     },
     "output_type": "display_data"
    }
   ],
   "source": [
    "# GERANDO GRÁFICO COM RESULTADOS DAS ACURÁCIAS DE TREINO E VALIDAÇÃO #\n",
    "\n",
    "plt.plot(history['accuracy'], label='accuracy_train')\n",
    "plt.plot(history['val_accuracy'], label = 'accuracy_valid')\n",
    "plt.xlabel('Epoch')\n",
    "plt.ylabel('Accuracy')\n",
    "plt.ylim([0, 1])\n",
    "plt.legend(loc='lower right')"
   ]
  },
  {
   "cell_type": "code",
   "execution_count": 13,
   "metadata": {},
   "outputs": [
    {
     "data": {
      "text/plain": [
       "<matplotlib.legend.Legend at 0x2b0008aedc8>"
      ]
     },
     "execution_count": 13,
     "metadata": {},
     "output_type": "execute_result"
    },
    {
     "data": {
      "image/png": "[encoded data removed]",
      "text/plain": [
       "<Figure size 432x288 with 1 Axes>"
      ]
     },
     "metadata": {
      "needs_background": "light"
     },
     "output_type": "display_data"
    }
   ],
   "source": [
    "# GERANDO GRÁFICO COM RESULTADOS DO LOSS DE TREINO E VALIDAÇÃO #\n",
    "\n",
    "plt.plot(history['loss'], label='loss train')\n",
    "plt.plot(history['val_loss'], label='loss val')\n",
    "plt.xlabel('Epoch')\n",
    "plt.ylabel('Loss')\n",
    "plt.ylim([0, 3])\n",
    "plt.legend(loc='lower right')"
   ]
  },
  {
   "cell_type": "code",
   "execution_count": 14,
   "metadata": {},
   "outputs": [
    {
     "name": "stdout",
     "output_type": "stream",
     "text": [
      "Found 604 images belonging to 11 classes.\n"
     ]
    }
   ],
   "source": [
    "datagen_test =  ImageDataGenerator(rescale = 1./255) # comando para reescala das imagens de teste\n",
    "\n",
    "# imagens de teste\n",
    "\n",
    "test_data = datagen_test.flow_from_directory(directory='dataset_smkt/test',\n",
    "                                             target_size = (100, 100),\n",
    "                                             batch_size = 1,\n",
    "                                             shuffle=False)"
   ]
  },
  {
   "cell_type": "code",
   "execution_count": 15,
   "metadata": {},
   "outputs": [
    {
     "name": "stdout",
     "output_type": "stream",
     "text": [
      "WARNING:tensorflow:sample_weight modes were coerced from\n",
      "  ...\n",
      "    to  \n",
      "  ['...']\n",
      "604/604 [==============================] - 8s 13ms/step - loss: 0.1313 - accuracy: 0.9487\n",
      "acurácia nos dados de teste: 0.9486755\n",
      "loss dos dados de teste: 0.13131145670058936\n"
     ]
    }
   ],
   "source": [
    "# DEFININDO COMANDO PARA AVALIAR O DESEMPENHO DO MODELO NAS IMAGENS DE TESTE #\n",
    "\n",
    "test_loss, test_acc = model_comando_pop.evaluate(test_data) # verificar versão do Keras\n",
    "\n",
    "print(\"acurácia nos dados de teste:\", test_acc)\n",
    "print(\"loss dos dados de teste:\", test_loss)"
   ]
  },
  {
   "cell_type": "code",
   "execution_count": 16,
   "metadata": {},
   "outputs": [
    {
     "name": "stdout",
     "output_type": "stream",
     "text": [
      "(604,)\n",
      "Accuracy\n",
      "0.9486754966887417\n",
      "Balanced Accuracy\n",
      "0.9498033442648743\n",
      "Confusion Matrix\n",
      "[[57  0  0  0  0  0  0  0  4  0  0]\n",
      " [ 0 50 10  0  0  2  0  0  2  0  0]\n",
      " [ 0  1 62  0  0  0  0  0  1  0  0]\n",
      " [ 0  0  0 45  0  0  0  0  0  0  2]\n",
      " [ 0  0  0  0 50  2  0  0  0  0  0]\n",
      " [ 0  0  1  0  0 74  0  0  0  0  0]\n",
      " [ 0  0  0  0  0  0 23  0  0  0  0]\n",
      " [ 0  0  0  0  0  0  0 80  0  0  0]\n",
      " [ 0  2  0  0  0  0  0  0 45  0  1]\n",
      " [ 0  0  0  0  0  0  0  0  0 30  2]\n",
      " [ 1  0  0  0  0  0  0  0  0  0 57]]\n",
      "Classification Report\n"
     ]
    }
   ],
   "source": [
    "Y_pred = model_comando_pop.predict(test_data)\n",
    "y_pred = np.argmax(Y_pred, axis=1)\n",
    "\n",
    "print(y_pred.shape)\n",
    "\n",
    "print('Accuracy')\n",
    "print(accuracy_score(test_data.classes,y_pred))\n",
    "\n",
    "print('Balanced Accuracy')\n",
    "print(balanced_accuracy_score(test_data.classes,y_pred))\n",
    "\n",
    "print('Confusion Matrix')\n",
    "print(confusion_matrix(test_data.classes, y_pred))\n",
    "print('Classification Report')"
   ]
  },
  {
   "cell_type": "markdown",
   "metadata": {},
   "source": [
    "# "
   ]
  }
 ],
 "metadata": {
  "kernelspec": {
   "display_name": "Python 3",
   "language": "python",
   "name": "python3"
  },
  "language_info": {
   "codemirror_mode": {
    "name": "ipython",
    "version": 3
   },
   "file_extension": ".py",
   "mimetype": "text/x-python",
   "name": "python",
   "nbconvert_exporter": "python",
   "pygments_lexer": "ipython3",
   "version": "3.7.7"
  }
 },
 "nbformat": 4,
 "nbformat_minor": 4
}
