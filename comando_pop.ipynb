{
 "cells": [
  {
   "cell_type": "markdown",
   "metadata": {},
   "source": [
    "# Modelo para avaliar o fine-tuning no modelo base, inicializando suas últimas camadas com pesos aleatórios"
   ]
  },
  {
   "cell_type": "markdown",
   "metadata": {},
   "source": [
    "Neste código, serão avaliados dois modelos:\n",
    "\n",
    "- 1º modelo: Utilizando 70% do dataset Supermarket Produce para treino e 30% para teste (fine-tuning), com o modelo base original;\n",
    "- 2º modelo: Utilizando 70% do dataset Supermarket Produce para treino e 30% para teste (fine-tuning), com as últimas camadas do modelo base tendo seus pesos reinicializados."
   ]
  },
  {
   "cell_type": "code",
   "execution_count": 1,
   "metadata": {},
   "outputs": [
    {
     "name": "stdout",
     "output_type": "stream",
     "text": [
      "Versão do TensorFlow: 2.5.0\n",
      "versão do Keras: 2.5.0\n"
     ]
    }
   ],
   "source": [
    "import tensorflow as tf\n",
    "print(\"Versão do TensorFlow:\", tf.__version__)\n",
    "\n",
    "import keras\n",
    "print(\"versão do Keras:\", keras.__version__)\n",
    "\n",
    "# IMPORTANDO COMANDOS E FUNÇÕES #\n",
    "\n",
    "import numpy as np\n",
    "import h5py\n",
    "import matplotlib.pyplot as plt #gerar gráfico\n",
    "import os\n",
    "from keras.preprocessing.image import ImageDataGenerator\n",
    "from keras.callbacks           import EarlyStopping\n",
    "\n",
    "from sklearn.metrics import classification_report, confusion_matrix, balanced_accuracy_score, accuracy_score\n",
    "\n",
    "import pickle\n",
    "\n",
    "# IMPORTANDO LAYERS PARA A CNN #\n",
    "\n",
    "from keras.models import Sequential\n",
    "from keras        import layers\n",
    "from keras.layers import Dropout"
   ]
  },
  {
   "cell_type": "code",
   "execution_count": 2,
   "metadata": {},
   "outputs": [],
   "source": [
    "# Definindo uma semente para treinamento\n",
    "\n",
    "semente = 13\n",
    "\n",
    "from numpy.random import seed\n",
    "seed(semente)\n",
    "\n",
    "tf.random.set_seed(semente)"
   ]
  },
  {
   "cell_type": "code",
   "execution_count": 3,
   "metadata": {},
   "outputs": [],
   "source": [
    "from functions_extras import criar_treino_teste"
   ]
  },
  {
   "cell_type": "code",
   "execution_count": 4,
   "metadata": {},
   "outputs": [
    {
     "name": "stdout",
     "output_type": "stream",
     "text": [
      "Criando particionamento\n",
      "\t 148 \t+ 64 \t= 212 \t -> apple1\n",
      "\t 108 \t+ 47 \t= 155 \t -> granny_smith_apple\n",
      "\t 119 \t+ 52 \t= 171 \t -> kiwi\n",
      "\t 74 \t+ 32 \t= 106 \t -> lime\n",
      "\t 172 \t+ 75 \t= 247 \t -> nectarine\n",
      "\t 52 \t+ 23 \t= 75 \t -> onion\n",
      "\t 147 \t+ 64 \t= 211 \t -> peach\n",
      "\t 111 \t+ 48 \t= 159 \t -> pear\n",
      "\t 184 \t+ 80 \t= 264 \t -> plum\n",
      "\t 140 \t+ 61 \t= 201 \t -> potato\n",
      "\t 134 \t+ 58 \t= 192 \t -> watermelon\n",
      "Particionamento criado com sucesso!\n"
     ]
    }
   ],
   "source": [
    "criar_treino_teste('./dataset_smkt/', 0.3)"
   ]
  },
  {
   "cell_type": "code",
   "execution_count": 5,
   "metadata": {},
   "outputs": [
    {
     "name": "stdout",
     "output_type": "stream",
     "text": [
      "Found 1117 images belonging to 11 classes.\n",
      "Found 272 images belonging to 11 classes.\n",
      "Found 604 images belonging to 11 classes.\n"
     ]
    }
   ],
   "source": [
    "# DIVIDIR AS IMAGENS EM PARTIÇÃO DE TREINO E VALIDAÇÃO, UTILIZANDO O IMAGEDATAGENERATOR #\n",
    "\n",
    "datagen =  ImageDataGenerator(rescale = 1./255, validation_split=0.2) # comando para reescala + divisão em 20% para validação\n",
    "\n",
    "# imagens de treino (80%) \n",
    "\n",
    "train_data = datagen.flow_from_directory('dataset_smkt/train', \n",
    "                                         subset = 'training',\n",
    "                                         batch_size = 64,\n",
    "                                         target_size = (100, 100)) # definindo tamanho das imagens\n",
    "\n",
    "# imagens de validação (20%)\n",
    "\n",
    "valid_data = datagen.flow_from_directory('dataset_smkt/train',\n",
    "                                         subset='validation',\n",
    "                                         batch_size = 64,\n",
    "                                         target_size = (100, 100))\n",
    "\n",
    "# imagens de teste (30% do conjunto todo)\n",
    "\n",
    "datagen_test =  ImageDataGenerator(rescale = 1./255) # comando para reescala das imagens de teste\n",
    "\n",
    "test_data = datagen_test.flow_from_directory(directory='dataset_smkt/test',\n",
    "                                             target_size = (100, 100),\n",
    "                                             batch_size = 1,\n",
    "                                             shuffle=False)"
   ]
  },
  {
   "cell_type": "markdown",
   "metadata": {},
   "source": [
    "# Modelo sem .pop()"
   ]
  },
  {
   "cell_type": "code",
   "execution_count": 6,
   "metadata": {},
   "outputs": [],
   "source": [
    "# Criando modelo\n",
    "\n",
    "model = keras.models.load_model('model.h5')"
   ]
  },
  {
   "cell_type": "code",
   "execution_count": 7,
   "metadata": {},
   "outputs": [
    {
     "name": "stdout",
     "output_type": "stream",
     "text": [
      "2.5.0\n"
     ]
    }
   ],
   "source": [
    "print(tf.__version__)"
   ]
  },
  {
   "cell_type": "code",
   "execution_count": 8,
   "metadata": {},
   "outputs": [],
   "source": [
    "model.compile(optimizer='adam',\n",
    "              loss=tf.keras.losses.CategoricalCrossentropy(\n",
    "                  from_logits=False,\n",
    "                  label_smoothing=0,                            #configurações da função loss\n",
    "                  reduction=\"auto\",\n",
    "                  name=\"categorical_crossentropy\"),\n",
    "              metrics=['accuracy'])"
   ]
  },
  {
   "cell_type": "code",
   "execution_count": 9,
   "metadata": {},
   "outputs": [],
   "source": [
    "# DEFININDO O COMANDO EARLYSTOPPING #\n",
    "\n",
    "es = EarlyStopping(monitor='val_accuracy', mode='max', verbose=1, patience = 13)"
   ]
  },
  {
   "cell_type": "code",
   "execution_count": 10,
   "metadata": {},
   "outputs": [
    {
     "name": "stdout",
     "output_type": "stream",
     "text": [
      "Epoch 1/100\n",
      "18/18 [==============================] - 35s 1s/step - loss: 12.2773 - accuracy: 0.1022 - val_loss: 2.1783 - val_accuracy: 0.2022\n",
      "Epoch 2/100\n",
      "18/18 [==============================] - 21s 1s/step - loss: 2.3117 - accuracy: 0.1724 - val_loss: 2.0417 - val_accuracy: 0.3493\n",
      "Epoch 3/100\n",
      "18/18 [==============================] - 21s 1s/step - loss: 1.8960 - accuracy: 0.3303 - val_loss: 1.6798 - val_accuracy: 0.5331\n",
      "Epoch 4/100\n",
      "18/18 [==============================] - 21s 1s/step - loss: 1.5042 - accuracy: 0.4614 - val_loss: 1.3881 - val_accuracy: 0.5809\n",
      "Epoch 5/100\n",
      "18/18 [==============================] - 21s 1s/step - loss: 1.1828 - accuracy: 0.5786 - val_loss: 1.2124 - val_accuracy: 0.6140\n",
      "Epoch 6/100\n",
      "18/18 [==============================] - 21s 1s/step - loss: 0.9337 - accuracy: 0.6558 - val_loss: 1.3250 - val_accuracy: 0.4963\n",
      "Epoch 7/100\n",
      "18/18 [==============================] - 21s 1s/step - loss: 0.9335 - accuracy: 0.6842 - val_loss: 1.1437 - val_accuracy: 0.5588\n",
      "Epoch 8/100\n",
      "18/18 [==============================] - 22s 1s/step - loss: 0.8310 - accuracy: 0.7208 - val_loss: 0.9508 - val_accuracy: 0.6581\n",
      "Epoch 9/100\n",
      "18/18 [==============================] - 21s 1s/step - loss: 0.6732 - accuracy: 0.7568 - val_loss: 0.8915 - val_accuracy: 0.7059\n",
      "Epoch 10/100\n",
      "18/18 [==============================] - 21s 1s/step - loss: 0.6633 - accuracy: 0.7579 - val_loss: 0.8657 - val_accuracy: 0.6838\n",
      "Epoch 11/100\n",
      "18/18 [==============================] - 21s 1s/step - loss: 0.5297 - accuracy: 0.8111 - val_loss: 0.7878 - val_accuracy: 0.7243\n",
      "Epoch 12/100\n",
      "18/18 [==============================] - 21s 1s/step - loss: 0.4769 - accuracy: 0.8115 - val_loss: 0.9221 - val_accuracy: 0.6691\n",
      "Epoch 13/100\n",
      "18/18 [==============================] - 21s 1s/step - loss: 0.5033 - accuracy: 0.8218 - val_loss: 0.8438 - val_accuracy: 0.6838\n",
      "Epoch 14/100\n",
      "18/18 [==============================] - 23s 1s/step - loss: 0.4481 - accuracy: 0.8282 - val_loss: 0.7247 - val_accuracy: 0.7426\n",
      "Epoch 15/100\n",
      "18/18 [==============================] - 23s 1s/step - loss: 0.4157 - accuracy: 0.8543 - val_loss: 1.1162 - val_accuracy: 0.6471\n",
      "Epoch 16/100\n",
      "18/18 [==============================] - 24s 1s/step - loss: 0.4052 - accuracy: 0.8420 - val_loss: 0.7680 - val_accuracy: 0.7022\n",
      "Epoch 17/100\n",
      "18/18 [==============================] - 24s 1s/step - loss: 0.3736 - accuracy: 0.8723 - val_loss: 0.8718 - val_accuracy: 0.6985\n",
      "Epoch 18/100\n",
      "18/18 [==============================] - 21s 1s/step - loss: 0.3791 - accuracy: 0.8614 - val_loss: 0.7856 - val_accuracy: 0.6581\n",
      "Epoch 19/100\n",
      "18/18 [==============================] - 22s 1s/step - loss: 0.3556 - accuracy: 0.8744 - val_loss: 0.7957 - val_accuracy: 0.6618\n",
      "Epoch 20/100\n",
      "18/18 [==============================] - 21s 1s/step - loss: 0.3150 - accuracy: 0.8922 - val_loss: 0.7542 - val_accuracy: 0.7316\n",
      "Epoch 21/100\n",
      "18/18 [==============================] - 21s 1s/step - loss: 0.3851 - accuracy: 0.8605 - val_loss: 0.8214 - val_accuracy: 0.6691\n",
      "Epoch 22/100\n",
      "18/18 [==============================] - 21s 1s/step - loss: 0.3361 - accuracy: 0.8756 - val_loss: 0.8853 - val_accuracy: 0.6838\n",
      "Epoch 23/100\n",
      "18/18 [==============================] - 21s 1s/step - loss: 0.2884 - accuracy: 0.9016 - val_loss: 0.6500 - val_accuracy: 0.7610\n",
      "Epoch 24/100\n",
      "18/18 [==============================] - 21s 1s/step - loss: 0.2249 - accuracy: 0.9081 - val_loss: 0.6684 - val_accuracy: 0.7426\n",
      "Epoch 25/100\n",
      "18/18 [==============================] - 21s 1s/step - loss: 0.3174 - accuracy: 0.8876 - val_loss: 0.8102 - val_accuracy: 0.7096\n",
      "Epoch 26/100\n",
      "18/18 [==============================] - 21s 1s/step - loss: 0.2795 - accuracy: 0.9012 - val_loss: 0.6873 - val_accuracy: 0.7574\n",
      "Epoch 27/100\n",
      "18/18 [==============================] - 22s 1s/step - loss: 0.2531 - accuracy: 0.9019 - val_loss: 0.8963 - val_accuracy: 0.7169\n",
      "Epoch 28/100\n",
      "18/18 [==============================] - 21s 1s/step - loss: 0.2337 - accuracy: 0.9204 - val_loss: 0.8096 - val_accuracy: 0.7132\n",
      "Epoch 29/100\n",
      "18/18 [==============================] - 21s 1s/step - loss: 0.2609 - accuracy: 0.9018 - val_loss: 0.7027 - val_accuracy: 0.7537\n",
      "Epoch 30/100\n",
      "18/18 [==============================] - 22s 1s/step - loss: 0.2220 - accuracy: 0.9192 - val_loss: 1.0225 - val_accuracy: 0.6875\n",
      "Epoch 31/100\n",
      "18/18 [==============================] - 25s 1s/step - loss: 0.2239 - accuracy: 0.9175 - val_loss: 0.5794 - val_accuracy: 0.7794\n",
      "Epoch 32/100\n",
      "18/18 [==============================] - 23s 1s/step - loss: 0.1982 - accuracy: 0.9307 - val_loss: 0.6839 - val_accuracy: 0.7647\n",
      "Epoch 33/100\n",
      "18/18 [==============================] - 24s 1s/step - loss: 0.2070 - accuracy: 0.9199 - val_loss: 0.7027 - val_accuracy: 0.7390\n",
      "Epoch 34/100\n",
      "18/18 [==============================] - 23s 1s/step - loss: 0.2222 - accuracy: 0.9203 - val_loss: 0.8759 - val_accuracy: 0.7684\n",
      "Epoch 35/100\n",
      "18/18 [==============================] - 26s 1s/step - loss: 0.2490 - accuracy: 0.9213 - val_loss: 0.8548 - val_accuracy: 0.6912\n",
      "Epoch 36/100\n",
      "18/18 [==============================] - 23s 1s/step - loss: 0.2506 - accuracy: 0.9142 - val_loss: 0.6861 - val_accuracy: 0.7132\n",
      "Epoch 37/100\n",
      "18/18 [==============================] - 22s 1s/step - loss: 0.2436 - accuracy: 0.9032 - val_loss: 1.1275 - val_accuracy: 0.7132\n",
      "Epoch 38/100\n",
      "18/18 [==============================] - 24s 1s/step - loss: 0.2530 - accuracy: 0.9141 - val_loss: 0.9465 - val_accuracy: 0.7500\n",
      "Epoch 39/100\n",
      "18/18 [==============================] - 23s 1s/step - loss: 0.1727 - accuracy: 0.9276 - val_loss: 0.7897 - val_accuracy: 0.7243\n",
      "Epoch 40/100\n",
      "18/18 [==============================] - 24s 1s/step - loss: 0.1625 - accuracy: 0.9403 - val_loss: 0.8342 - val_accuracy: 0.7647\n",
      "Epoch 41/100\n",
      "18/18 [==============================] - 24s 1s/step - loss: 0.1713 - accuracy: 0.9458 - val_loss: 1.0557 - val_accuracy: 0.7169\n",
      "Epoch 42/100\n",
      "18/18 [==============================] - 22s 1s/step - loss: 0.1906 - accuracy: 0.9217 - val_loss: 0.7184 - val_accuracy: 0.7169\n",
      "Epoch 43/100\n",
      "18/18 [==============================] - 23s 1s/step - loss: 0.1479 - accuracy: 0.9468 - val_loss: 0.6851 - val_accuracy: 0.7463\n",
      "Epoch 44/100\n",
      "18/18 [==============================] - 23s 1s/step - loss: 0.1795 - accuracy: 0.9336 - val_loss: 0.7632 - val_accuracy: 0.7316\n",
      "Epoch 00044: early stopping\n"
     ]
    }
   ],
   "source": [
    "# INÍCIO DO TREINO DO MODELO #\n",
    "\n",
    "history = model.fit(train_data,\n",
    "                    epochs=100,\n",
    "                    validation_data=valid_data,\n",
    "                    callbacks = [es])\n",
    "\n",
    "# informação: steps_per_epoch = número de imagens / batch_size"
   ]
  },
  {
   "cell_type": "code",
   "execution_count": 11,
   "metadata": {},
   "outputs": [],
   "source": [
    "model.save('model_3est_sp.h5',\n",
    "          overwrite = True) \n",
    "del model\n",
    "\n",
    "with open('trainHistoryDict_model_3est_sp', 'wb') as file_pi:\n",
    "        pickle.dump(history.history, file_pi)"
   ]
  },
  {
   "cell_type": "code",
   "execution_count": 29,
   "metadata": {},
   "outputs": [],
   "source": [
    "model_3est = keras.models.load_model('model_3est_sp.h5')\n",
    "history = pickle.load(open('trainHistoryDict_model_3est_sp', \"rb\"))"
   ]
  },
  {
   "cell_type": "code",
   "execution_count": 30,
   "metadata": {},
   "outputs": [
    {
     "name": "stdout",
     "output_type": "stream",
     "text": [
      "Model: \"sequential\"\n",
      "_________________________________________________________________\n",
      "Layer (type)                 Output Shape              Param #   \n",
      "=================================================================\n",
      "conv2d (Conv2D)              (None, 98, 98, 32)        896       \n",
      "_________________________________________________________________\n",
      "max_pooling2d (MaxPooling2D) (None, 49, 49, 32)        0         \n",
      "_________________________________________________________________\n",
      "dropout (Dropout)            (None, 49, 49, 32)        0         \n",
      "_________________________________________________________________\n",
      "conv2d_1 (Conv2D)            (None, 47, 47, 64)        18496     \n",
      "_________________________________________________________________\n",
      "max_pooling2d_1 (MaxPooling2 (None, 23, 23, 64)        0         \n",
      "_________________________________________________________________\n",
      "dropout_1 (Dropout)          (None, 23, 23, 64)        0         \n",
      "_________________________________________________________________\n",
      "conv2d_2 (Conv2D)            (None, 21, 21, 64)        36928     \n",
      "_________________________________________________________________\n",
      "max_pooling2d_2 (MaxPooling2 (None, 10, 10, 64)        0         \n",
      "_________________________________________________________________\n",
      "dropout_2 (Dropout)          (None, 10, 10, 64)        0         \n",
      "_________________________________________________________________\n",
      "flatten (Flatten)            (None, 6400)              0         \n",
      "_________________________________________________________________\n",
      "dense (Dense)                (None, 64)                409664    \n",
      "_________________________________________________________________\n",
      "dropout_3 (Dropout)          (None, 64)                0         \n",
      "_________________________________________________________________\n",
      "dense_1 (Dense)              (None, 11)                715       \n",
      "=================================================================\n",
      "Total params: 466,699\n",
      "Trainable params: 466,699\n",
      "Non-trainable params: 0\n",
      "_________________________________________________________________\n"
     ]
    }
   ],
   "source": [
    "model_3est.summary()"
   ]
  },
  {
   "cell_type": "code",
   "execution_count": 31,
   "metadata": {
    "scrolled": true
   },
   "outputs": [
    {
     "data": {
      "text/plain": [
       "<matplotlib.legend.Legend at 0x25741401580>"
      ]
     },
     "execution_count": 31,
     "metadata": {},
     "output_type": "execute_result"
    },
    {
     "data": {
      "image/png": "[encoded data removed]",
      "text/plain": [
       "<Figure size 432x288 with 1 Axes>"
      ]
     },
     "metadata": {
      "needs_background": "light"
     },
     "output_type": "display_data"
    }
   ],
   "source": [
    "# GERANDO GRÁFICO COM RESULTADOS DAS ACURÁCIAS DE TREINO E VALIDAÇÃO #\n",
    "\n",
    "plt.plot(history['accuracy'], label='accuracy_train')\n",
    "plt.plot(history['val_accuracy'], label = 'accuracy_valid')\n",
    "plt.xlabel('Epoch')\n",
    "plt.ylabel('Accuracy')\n",
    "plt.ylim([0, 1])\n",
    "plt.legend(loc='lower right')"
   ]
  },
  {
   "cell_type": "code",
   "execution_count": 32,
   "metadata": {},
   "outputs": [
    {
     "data": {
      "text/plain": [
       "<matplotlib.legend.Legend at 0x257411f6c40>"
      ]
     },
     "execution_count": 32,
     "metadata": {},
     "output_type": "execute_result"
    },
    {
     "data": {
      "image/png": "[encoded data removed]",
      "text/plain": [
       "<Figure size 432x288 with 1 Axes>"
      ]
     },
     "metadata": {
      "needs_background": "light"
     },
     "output_type": "display_data"
    }
   ],
   "source": [
    "# GERANDO GRÁFICO COM RESULTADOS DO LOSS DE TREINO E VALIDAÇÃO #\n",
    "\n",
    "plt.plot(history['loss'], label='loss train')\n",
    "plt.plot(history['val_loss'], label='loss val')\n",
    "plt.xlabel('Epoch')\n",
    "plt.ylabel('Loss')\n",
    "plt.ylim([0, 3])\n",
    "plt.legend(loc='lower right')"
   ]
  },
  {
   "cell_type": "code",
   "execution_count": 16,
   "metadata": {},
   "outputs": [
    {
     "name": "stdout",
     "output_type": "stream",
     "text": [
      "604/604 [==============================] - 8s 13ms/step - loss: 0.2180 - accuracy: 0.9172\n",
      "acurácia nos dados de teste: 0.9172185659408569\n",
      "loss dos dados de teste: 0.21796609461307526\n"
     ]
    }
   ],
   "source": [
    "# DEFININDO COMANDO PARA AVALIAR O DESEMPENHO DO MODELO NAS IMAGENS DE TESTE #\n",
    "\n",
    "test_loss, test_acc = model_3est.evaluate(test_data) # verificar versão do Keras\n",
    "\n",
    "print(\"acurácia nos dados de teste:\", test_acc)\n",
    "print(\"loss dos dados de teste:\", test_loss)"
   ]
  },
  {
   "cell_type": "code",
   "execution_count": 17,
   "metadata": {},
   "outputs": [
    {
     "name": "stdout",
     "output_type": "stream",
     "text": [
      "(604,)\n",
      "Accuracy\n",
      "0.9172185430463576\n",
      "Balanced Accuracy\n",
      "0.9149451568566856\n",
      "Confusion Matrix\n",
      "[[60  0  0  0  0  0  3  1  0  0  0]\n",
      " [ 0 47  0  0  0  0  0  0  0  0  0]\n",
      " [ 0  0 38  0 10  0  1  2  1  0  0]\n",
      " [ 0  0  0 31  0  0  0  0  0  0  1]\n",
      " [ 2  0  0  0 73  0  0  0  0  0  0]\n",
      " [ 0  0  0  0  0 21  0  0  0  2  0]\n",
      " [ 8  0  1  0  0  0 55  0  0  0  0]\n",
      " [ 0  0  0  0  0  0  5 41  0  1  1]\n",
      " [ 2  0  0  0  0  0  0  0 78  0  0]\n",
      " [ 0  0  5  0  0  0  0  4  0 52  0]\n",
      " [ 0  0  0  0  0  0  0  0  0  0 58]]\n",
      "Classification Report\n"
     ]
    }
   ],
   "source": [
    "Y_pred = model_3est.predict(test_data)\n",
    "y_pred = np.argmax(Y_pred, axis=1)\n",
    "\n",
    "print(y_pred.shape)\n",
    "\n",
    "print('Accuracy')\n",
    "print(accuracy_score(test_data.classes,y_pred))\n",
    "\n",
    "print('Balanced Accuracy')\n",
    "print(balanced_accuracy_score(test_data.classes,y_pred))\n",
    "\n",
    "print('Confusion Matrix')\n",
    "print(confusion_matrix(test_data.classes, y_pred))\n",
    "print('Classification Report')"
   ]
  },
  {
   "cell_type": "markdown",
   "metadata": {},
   "source": [
    "# Modelo com o .pop()"
   ]
  },
  {
   "cell_type": "code",
   "execution_count": 18,
   "metadata": {
    "scrolled": true
   },
   "outputs": [
    {
     "name": "stdout",
     "output_type": "stream",
     "text": [
      "Model: \"sequential\"\n",
      "_________________________________________________________________\n",
      "Layer (type)                 Output Shape              Param #   \n",
      "=================================================================\n",
      "conv2d (Conv2D)              (None, 98, 98, 32)        896       \n",
      "_________________________________________________________________\n",
      "max_pooling2d (MaxPooling2D) (None, 49, 49, 32)        0         \n",
      "_________________________________________________________________\n",
      "dropout (Dropout)            (None, 49, 49, 32)        0         \n",
      "_________________________________________________________________\n",
      "conv2d_1 (Conv2D)            (None, 47, 47, 64)        18496     \n",
      "_________________________________________________________________\n",
      "max_pooling2d_1 (MaxPooling2 (None, 23, 23, 64)        0         \n",
      "_________________________________________________________________\n",
      "dropout_1 (Dropout)          (None, 23, 23, 64)        0         \n",
      "_________________________________________________________________\n",
      "conv2d_2 (Conv2D)            (None, 21, 21, 64)        36928     \n",
      "_________________________________________________________________\n",
      "max_pooling2d_2 (MaxPooling2 (None, 10, 10, 64)        0         \n",
      "_________________________________________________________________\n",
      "dropout_2 (Dropout)          (None, 10, 10, 64)        0         \n",
      "_________________________________________________________________\n",
      "flatten (Flatten)            (None, 6400)              0         \n",
      "_________________________________________________________________\n",
      "dense (Dense)                (None, 64)                409664    \n",
      "_________________________________________________________________\n",
      "dropout_3 (Dropout)          (None, 64)                0         \n",
      "_________________________________________________________________\n",
      "dense_1 (Dense)              (None, 11)                715       \n",
      "=================================================================\n",
      "Total params: 466,699\n",
      "Trainable params: 466,699\n",
      "Non-trainable params: 0\n",
      "_________________________________________________________________\n"
     ]
    }
   ],
   "source": [
    "# Criando modelo\n",
    "\n",
    "model = keras.models.load_model('model.h5')\n",
    "\n",
    "model.pop()\n",
    "model.pop()\n",
    "model.pop()\n",
    "model.pop()\n",
    "\n",
    "model.add(layers.Flatten())\n",
    "model.add(layers.Dense(64, activation='relu'))\n",
    "model.add(layers.Dropout(0.5, name=\"dropout_3\"))\n",
    "model.add(layers.Dense(units = 11, activation = 'softmax'))\n",
    "\n",
    "\n",
    "model.summary()"
   ]
  },
  {
   "cell_type": "code",
   "execution_count": 19,
   "metadata": {},
   "outputs": [],
   "source": [
    "model.compile(optimizer='adam',\n",
    "              loss=tf.keras.losses.CategoricalCrossentropy(\n",
    "                  from_logits=False,\n",
    "                  label_smoothing=0,                            #configurações da função loss\n",
    "                  reduction=\"auto\",\n",
    "                  name=\"categorical_crossentropy\"),\n",
    "              metrics=['accuracy'])"
   ]
  },
  {
   "cell_type": "code",
   "execution_count": 20,
   "metadata": {},
   "outputs": [
    {
     "name": "stdout",
     "output_type": "stream",
     "text": [
      "Epoch 1/100\n",
      "18/18 [==============================] - 26s 1s/step - loss: 2.5239 - accuracy: 0.2683 - val_loss: 1.5097 - val_accuracy: 0.4779\n",
      "Epoch 2/100\n",
      "18/18 [==============================] - 23s 1s/step - loss: 1.3493 - accuracy: 0.5255 - val_loss: 1.3048 - val_accuracy: 0.5184\n",
      "Epoch 3/100\n",
      "18/18 [==============================] - 24s 1s/step - loss: 1.0208 - accuracy: 0.6468 - val_loss: 1.0564 - val_accuracy: 0.6434\n",
      "Epoch 4/100\n",
      "18/18 [==============================] - 23s 1s/step - loss: 0.7514 - accuracy: 0.7373 - val_loss: 0.9341 - val_accuracy: 0.6360\n",
      "Epoch 5/100\n",
      "18/18 [==============================] - 23s 1s/step - loss: 0.6770 - accuracy: 0.7603 - val_loss: 0.9133 - val_accuracy: 0.7316\n",
      "Epoch 6/100\n",
      "18/18 [==============================] - 23s 1s/step - loss: 0.5474 - accuracy: 0.8136 - val_loss: 0.8757 - val_accuracy: 0.7022\n",
      "Epoch 7/100\n",
      "18/18 [==============================] - 23s 1s/step - loss: 0.3908 - accuracy: 0.8793 - val_loss: 0.8095 - val_accuracy: 0.7279\n",
      "Epoch 8/100\n",
      "18/18 [==============================] - 23s 1s/step - loss: 0.4312 - accuracy: 0.8474 - val_loss: 0.7208 - val_accuracy: 0.7831\n",
      "Epoch 9/100\n",
      "18/18 [==============================] - 22s 1s/step - loss: 0.3881 - accuracy: 0.8750 - val_loss: 0.7762 - val_accuracy: 0.7132\n",
      "Epoch 10/100\n",
      "18/18 [==============================] - 23s 1s/step - loss: 0.3662 - accuracy: 0.8757 - val_loss: 0.6839 - val_accuracy: 0.7353\n",
      "Epoch 11/100\n",
      "18/18 [==============================] - 24s 1s/step - loss: 0.2857 - accuracy: 0.9107 - val_loss: 0.6870 - val_accuracy: 0.7316\n",
      "Epoch 12/100\n",
      "18/18 [==============================] - 23s 1s/step - loss: 0.2320 - accuracy: 0.9154 - val_loss: 0.6752 - val_accuracy: 0.7941\n",
      "Epoch 13/100\n",
      "18/18 [==============================] - 22s 1s/step - loss: 0.2519 - accuracy: 0.9060 - val_loss: 0.6283 - val_accuracy: 0.7757\n",
      "Epoch 14/100\n",
      "18/18 [==============================] - 24s 1s/step - loss: 0.2539 - accuracy: 0.9141 - val_loss: 0.6168 - val_accuracy: 0.7463\n",
      "Epoch 15/100\n",
      "18/18 [==============================] - 23s 1s/step - loss: 0.2187 - accuracy: 0.9172 - val_loss: 0.6512 - val_accuracy: 0.7721\n",
      "Epoch 16/100\n",
      "18/18 [==============================] - 24s 1s/step - loss: 0.2159 - accuracy: 0.9355 - val_loss: 0.6475 - val_accuracy: 0.7610\n",
      "Epoch 17/100\n",
      "18/18 [==============================] - 23s 1s/step - loss: 0.2067 - accuracy: 0.9286 - val_loss: 0.6976 - val_accuracy: 0.7831\n",
      "Epoch 18/100\n",
      "18/18 [==============================] - 23s 1s/step - loss: 0.1690 - accuracy: 0.9334 - val_loss: 0.6531 - val_accuracy: 0.7978\n",
      "Epoch 19/100\n",
      "18/18 [==============================] - 23s 1s/step - loss: 0.1555 - accuracy: 0.9397 - val_loss: 0.7135 - val_accuracy: 0.7574\n",
      "Epoch 20/100\n",
      "18/18 [==============================] - 23s 1s/step - loss: 0.2069 - accuracy: 0.9230 - val_loss: 0.7084 - val_accuracy: 0.7574\n",
      "Epoch 21/100\n",
      "18/18 [==============================] - 23s 1s/step - loss: 0.2282 - accuracy: 0.9166 - val_loss: 0.5955 - val_accuracy: 0.7574\n",
      "Epoch 22/100\n",
      "18/18 [==============================] - 23s 1s/step - loss: 0.1647 - accuracy: 0.9398 - val_loss: 0.6127 - val_accuracy: 0.7463\n",
      "Epoch 23/100\n",
      "18/18 [==============================] - 23s 1s/step - loss: 0.1213 - accuracy: 0.9546 - val_loss: 0.7643 - val_accuracy: 0.7169\n",
      "Epoch 24/100\n",
      "18/18 [==============================] - 24s 1s/step - loss: 0.1701 - accuracy: 0.9377 - val_loss: 0.5935 - val_accuracy: 0.7794\n",
      "Epoch 25/100\n",
      "18/18 [==============================] - 23s 1s/step - loss: 0.1281 - accuracy: 0.9545 - val_loss: 0.7189 - val_accuracy: 0.7500\n",
      "Epoch 26/100\n",
      "18/18 [==============================] - 23s 1s/step - loss: 0.1615 - accuracy: 0.9473 - val_loss: 0.6207 - val_accuracy: 0.7684\n",
      "Epoch 27/100\n",
      "18/18 [==============================] - 24s 1s/step - loss: 0.1059 - accuracy: 0.9587 - val_loss: 0.5811 - val_accuracy: 0.7868\n",
      "Epoch 28/100\n",
      "18/18 [==============================] - 23s 1s/step - loss: 0.1082 - accuracy: 0.9610 - val_loss: 0.6920 - val_accuracy: 0.7574\n",
      "Epoch 29/100\n",
      "18/18 [==============================] - 24s 1s/step - loss: 0.1075 - accuracy: 0.9598 - val_loss: 0.6590 - val_accuracy: 0.7794\n",
      "Epoch 30/100\n",
      "18/18 [==============================] - 23s 1s/step - loss: 0.1045 - accuracy: 0.9552 - val_loss: 0.8365 - val_accuracy: 0.7169\n",
      "Epoch 31/100\n",
      "18/18 [==============================] - 23s 1s/step - loss: 0.0815 - accuracy: 0.9736 - val_loss: 0.7293 - val_accuracy: 0.7574\n",
      "Epoch 00031: early stopping\n"
     ]
    }
   ],
   "source": [
    "# INÍCIO DO TREINO DO MODELO #\n",
    "\n",
    "history = model.fit(train_data,\n",
    "                    epochs=100,\n",
    "                    validation_data=valid_data,\n",
    "                    callbacks = [es])\n",
    "\n",
    "# informação: steps_per_epoch = número de imagens / batch_size"
   ]
  },
  {
   "cell_type": "code",
   "execution_count": 21,
   "metadata": {},
   "outputs": [],
   "source": [
    "model.save('model_comando_pop.h5',\n",
    "          overwrite = True) \n",
    "del model\n",
    "\n",
    "with open('trainHistoryDict_model_comando_pop', 'wb') as file_pi:\n",
    "        pickle.dump(history.history, file_pi)"
   ]
  },
  {
   "cell_type": "code",
   "execution_count": 22,
   "metadata": {},
   "outputs": [],
   "source": [
    "model_comando_pop = keras.models.load_model('model_comando_pop.h5')\n",
    "history = pickle.load(open('trainHistoryDict_model_comando_pop', \"rb\"))"
   ]
  },
  {
   "cell_type": "code",
   "execution_count": 23,
   "metadata": {},
   "outputs": [
    {
     "name": "stdout",
     "output_type": "stream",
     "text": [
      "Model: \"sequential\"\n",
      "_________________________________________________________________\n",
      "Layer (type)                 Output Shape              Param #   \n",
      "=================================================================\n",
      "conv2d (Conv2D)              (None, 98, 98, 32)        896       \n",
      "_________________________________________________________________\n",
      "max_pooling2d (MaxPooling2D) (None, 49, 49, 32)        0         \n",
      "_________________________________________________________________\n",
      "dropout (Dropout)            (None, 49, 49, 32)        0         \n",
      "_________________________________________________________________\n",
      "conv2d_1 (Conv2D)            (None, 47, 47, 64)        18496     \n",
      "_________________________________________________________________\n",
      "max_pooling2d_1 (MaxPooling2 (None, 23, 23, 64)        0         \n",
      "_________________________________________________________________\n",
      "dropout_1 (Dropout)          (None, 23, 23, 64)        0         \n",
      "_________________________________________________________________\n",
      "conv2d_2 (Conv2D)            (None, 21, 21, 64)        36928     \n",
      "_________________________________________________________________\n",
      "max_pooling2d_2 (MaxPooling2 (None, 10, 10, 64)        0         \n",
      "_________________________________________________________________\n",
      "dropout_2 (Dropout)          (None, 10, 10, 64)        0         \n",
      "_________________________________________________________________\n",
      "flatten (Flatten)            (None, 6400)              0         \n",
      "_________________________________________________________________\n",
      "dense (Dense)                (None, 64)                409664    \n",
      "_________________________________________________________________\n",
      "dropout_3 (Dropout)          (None, 64)                0         \n",
      "_________________________________________________________________\n",
      "dense_1 (Dense)              (None, 11)                715       \n",
      "=================================================================\n",
      "Total params: 466,699\n",
      "Trainable params: 466,699\n",
      "Non-trainable params: 0\n",
      "_________________________________________________________________\n"
     ]
    }
   ],
   "source": [
    "model_comando_pop.summary()"
   ]
  },
  {
   "cell_type": "code",
   "execution_count": 24,
   "metadata": {},
   "outputs": [
    {
     "data": {
      "text/plain": [
       "<matplotlib.legend.Legend at 0x257419431f0>"
      ]
     },
     "execution_count": 24,
     "metadata": {},
     "output_type": "execute_result"
    },
    {
     "data": {
      "image/png": "[encoded data removed]",
      "text/plain": [
       "<Figure size 432x288 with 1 Axes>"
      ]
     },
     "metadata": {
      "needs_background": "light"
     },
     "output_type": "display_data"
    }
   ],
   "source": [
    "# GERANDO GRÁFICO COM RESULTADOS DAS ACURÁCIAS DE TREINO E VALIDAÇÃO #\n",
    "\n",
    "plt.plot(history['accuracy'], label='accuracy_train')\n",
    "plt.plot(history['val_accuracy'], label = 'accuracy_valid')\n",
    "plt.xlabel('Epoch')\n",
    "plt.ylabel('Accuracy')\n",
    "plt.ylim([0, 1])\n",
    "plt.legend(loc='lower right')"
   ]
  },
  {
   "cell_type": "code",
   "execution_count": 25,
   "metadata": {},
   "outputs": [
    {
     "data": {
      "text/plain": [
       "<matplotlib.legend.Legend at 0x2574129b3d0>"
      ]
     },
     "execution_count": 25,
     "metadata": {},
     "output_type": "execute_result"
    },
    {
     "data": {
      "image/png": "[encoded data removed]",
      "text/plain": [
       "<Figure size 432x288 with 1 Axes>"
      ]
     },
     "metadata": {
      "needs_background": "light"
     },
     "output_type": "display_data"
    }
   ],
   "source": [
    "# GERANDO GRÁFICO COM RESULTADOS DO LOSS DE TREINO E VALIDAÇÃO #\n",
    "\n",
    "plt.plot(history['loss'], label='loss train')\n",
    "plt.plot(history['val_loss'], label='loss val')\n",
    "plt.xlabel('Epoch')\n",
    "plt.ylabel('Loss')\n",
    "plt.ylim([0, 3])\n",
    "plt.legend(loc='lower right')"
   ]
  },
  {
   "cell_type": "code",
   "execution_count": 26,
   "metadata": {},
   "outputs": [
    {
     "name": "stdout",
     "output_type": "stream",
     "text": [
      "Found 604 images belonging to 11 classes.\n"
     ]
    }
   ],
   "source": [
    "datagen_test =  ImageDataGenerator(rescale = 1./255) # comando para reescala das imagens de teste\n",
    "\n",
    "# imagens de teste\n",
    "\n",
    "test_data = datagen_test.flow_from_directory(directory='dataset_smkt/test',\n",
    "                                             target_size = (100, 100),\n",
    "                                             batch_size = 1,\n",
    "                                             shuffle=False)"
   ]
  },
  {
   "cell_type": "code",
   "execution_count": 27,
   "metadata": {},
   "outputs": [
    {
     "name": "stdout",
     "output_type": "stream",
     "text": [
      "604/604 [==============================] - 8s 12ms/step - loss: 0.1900 - accuracy: 0.9272\n",
      "acurácia nos dados de teste: 0.9271523356437683\n",
      "loss dos dados de teste: 0.19000540673732758\n"
     ]
    }
   ],
   "source": [
    "# DEFININDO COMANDO PARA AVALIAR O DESEMPENHO DO MODELO NAS IMAGENS DE TESTE #\n",
    "\n",
    "test_loss, test_acc = model_comando_pop.evaluate(test_data) # verificar versão do Keras\n",
    "\n",
    "print(\"acurácia nos dados de teste:\", test_acc)\n",
    "print(\"loss dos dados de teste:\", test_loss)"
   ]
  },
  {
   "cell_type": "code",
   "execution_count": 28,
   "metadata": {},
   "outputs": [
    {
     "name": "stdout",
     "output_type": "stream",
     "text": [
      "(604,)\n",
      "Accuracy\n",
      "0.9271523178807947\n",
      "Balanced Accuracy\n",
      "0.9257261002867246\n",
      "Confusion Matrix\n",
      "[[61  0  0  0  0  0  2  1  0  0  0]\n",
      " [ 0 47  0  0  0  0  0  0  0  0  0]\n",
      " [ 0  0 40  0  9  0  1  2  0  0  0]\n",
      " [ 0  0  0 31  0  0  0  0  0  0  1]\n",
      " [ 1  0  0  0 73  0  0  0  0  1  0]\n",
      " [ 0  0  0  0  0 21  0  0  0  2  0]\n",
      " [ 8  0  1  0  0  0 52  3  0  0  0]\n",
      " [ 0  0  0  0  0  0  2 45  0  0  1]\n",
      " [ 1  0  0  0  0  0  0  0 79  0  0]\n",
      " [ 0  0  0  0  0  0  0  7  0 54  0]\n",
      " [ 0  0  0  0  0  0  0  1  0  0 57]]\n",
      "Classification Report\n"
     ]
    }
   ],
   "source": [
    "Y_pred = model_comando_pop.predict(test_data)\n",
    "y_pred = np.argmax(Y_pred, axis=1)\n",
    "\n",
    "print(y_pred.shape)\n",
    "\n",
    "print('Accuracy')\n",
    "print(accuracy_score(test_data.classes,y_pred))\n",
    "\n",
    "print('Balanced Accuracy')\n",
    "print(balanced_accuracy_score(test_data.classes,y_pred))\n",
    "\n",
    "print('Confusion Matrix')\n",
    "print(confusion_matrix(test_data.classes, y_pred))\n",
    "print('Classification Report')"
   ]
  },
  {
   "cell_type": "markdown",
   "metadata": {},
   "source": [
    "# "
   ]
  },
  {
   "cell_type": "code",
   "execution_count": null,
   "metadata": {},
   "outputs": [],
   "source": []
  }
 ],
 "metadata": {
  "kernelspec": {
   "display_name": "Python 3",
   "language": "python",
   "name": "python3"
  },
  "language_info": {
   "codemirror_mode": {
    "name": "ipython",
    "version": 3
   },
   "file_extension": ".py",
   "mimetype": "text/x-python",
   "name": "python",
   "nbconvert_exporter": "python",
   "pygments_lexer": "ipython3",
   "version": "3.8.8"
  }
 },
 "nbformat": 4,
 "nbformat_minor": 4
}
