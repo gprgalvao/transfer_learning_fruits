{
 "cells": [
  {
   "cell_type": "code",
   "execution_count": 1,
   "metadata": {},
   "outputs": [
    {
     "name": "stdout",
     "output_type": "stream",
     "text": [
      "Versão do TensorFlow: 2.5.0\n",
      "versão do Keras: 2.5.0\n"
     ]
    },
    {
     "name": "stderr",
     "output_type": "stream",
     "text": [
      "Matplotlib is building the font cache; this may take a moment.\n"
     ]
    }
   ],
   "source": [
    "import tensorflow as tf\n",
    "print(\"Versão do TensorFlow:\", tf.__version__)\n",
    "\n",
    "from tensorflow import keras\n",
    "print(\"versão do Keras:\", keras.__version__)\n",
    "\n",
    "# IMPORTANDO COMANDOS E FUNÇÕES #\n",
    "\n",
    "import numpy as np\n",
    "import h5py\n",
    "import matplotlib.pyplot as plt #gerar gráfico\n",
    "import os\n",
    "from keras.preprocessing.image import ImageDataGenerator\n",
    "from keras.callbacks import EarlyStopping\n",
    "\n",
    "from sklearn.metrics import classification_report, confusion_matrix, balanced_accuracy_score, accuracy_score\n",
    "\n",
    "import pickle\n",
    "\n",
    "# IMPORTANDO LAYERS PARA A CNN #\n",
    "\n",
    "from keras.models import Sequential\n",
    "from keras import layers\n",
    "from keras.layers import Dropout"
   ]
  },
  {
   "cell_type": "code",
   "execution_count": 2,
   "metadata": {},
   "outputs": [],
   "source": [
    "# MONTANDO A ESTRUTURA DA CNN #\n",
    "\n",
    "model = Sequential()\n",
    "model.add(layers.Conv2D(32, (3, 3), activation='relu', input_shape=(100, 100, 3)))\n",
    "model.add(layers.MaxPooling2D((2, 2)))\n",
    "model.add(Dropout(0.5)) # dropout de 50%\n",
    "model.add(layers.Conv2D(64, (3, 3), activation='relu'))\n",
    "model.add(layers.MaxPooling2D((2, 2)))\n",
    "model.add(Dropout(0.5))\n",
    "model.add(layers.Conv2D(64, (3, 3), activation='relu'))\n",
    "model.add(layers.MaxPooling2D((2, 2)))\n",
    "model.add(Dropout(0.5))\n",
    "\n",
    "model.add(layers.Flatten()) # camada de achatamento\n",
    "model.add(layers.Dense(64, activation='relu'))\n",
    "model.add(Dropout(0.5))\n",
    "model.add(layers.Dense(units = 11, activation = 'softmax')) # 11 unidades de saída (11 classes)"
   ]
  },
  {
   "cell_type": "code",
   "execution_count": 3,
   "metadata": {},
   "outputs": [
    {
     "name": "stdout",
     "output_type": "stream",
     "text": [
      "versao do h5py: 3.1.0\n"
     ]
    }
   ],
   "source": [
    "print(\"versao do h5py:\", h5py.__version__)"
   ]
  },
  {
   "cell_type": "code",
   "execution_count": 4,
   "metadata": {},
   "outputs": [
    {
     "name": "stdout",
     "output_type": "stream",
     "text": [
      "Model: \"sequential\"\n",
      "_________________________________________________________________\n",
      "Layer (type)                 Output Shape              Param #   \n",
      "=================================================================\n",
      "conv2d (Conv2D)              (None, 98, 98, 32)        896       \n",
      "_________________________________________________________________\n",
      "max_pooling2d (MaxPooling2D) (None, 49, 49, 32)        0         \n",
      "_________________________________________________________________\n",
      "dropout (Dropout)            (None, 49, 49, 32)        0         \n",
      "_________________________________________________________________\n",
      "conv2d_1 (Conv2D)            (None, 47, 47, 64)        18496     \n",
      "_________________________________________________________________\n",
      "max_pooling2d_1 (MaxPooling2 (None, 23, 23, 64)        0         \n",
      "_________________________________________________________________\n",
      "dropout_1 (Dropout)          (None, 23, 23, 64)        0         \n",
      "_________________________________________________________________\n",
      "conv2d_2 (Conv2D)            (None, 21, 21, 64)        36928     \n",
      "_________________________________________________________________\n",
      "max_pooling2d_2 (MaxPooling2 (None, 10, 10, 64)        0         \n",
      "_________________________________________________________________\n",
      "dropout_2 (Dropout)          (None, 10, 10, 64)        0         \n",
      "_________________________________________________________________\n",
      "flatten (Flatten)            (None, 6400)              0         \n",
      "_________________________________________________________________\n",
      "dense (Dense)                (None, 64)                409664    \n",
      "_________________________________________________________________\n",
      "dropout_3 (Dropout)          (None, 64)                0         \n",
      "_________________________________________________________________\n",
      "dense_1 (Dense)              (None, 11)                715       \n",
      "=================================================================\n",
      "Total params: 466,699\n",
      "Trainable params: 466,699\n",
      "Non-trainable params: 0\n",
      "_________________________________________________________________\n"
     ]
    }
   ],
   "source": [
    "model.summary() # resumo da estrutura, com os parâmetros ajustáveis"
   ]
  },
  {
   "cell_type": "code",
   "execution_count": 5,
   "metadata": {},
   "outputs": [],
   "source": [
    "model.compile(optimizer='adam',\n",
    "              loss=tf.keras.losses.CategoricalCrossentropy(\n",
    "                  from_logits=False,\n",
    "                  label_smoothing=0,                            #configurações da função loss\n",
    "                  reduction=\"auto\",\n",
    "                  name=\"categorical_crossentropy\"),\n",
    "              metrics=['accuracy'])"
   ]
  },
  {
   "cell_type": "code",
   "execution_count": 6,
   "metadata": {},
   "outputs": [],
   "source": [
    "from functions_extras import criar_treino_teste"
   ]
  },
  {
   "cell_type": "code",
   "execution_count": 7,
   "metadata": {},
   "outputs": [
    {
     "name": "stdout",
     "output_type": "stream",
     "text": [
      "Criando particionamento\n",
      "\t 492 \t+ 164 \t= 656 \t -> Apple Granny Smith\n",
      "\t 492 \t+ 164 \t= 656 \t -> Apple Red 2\n",
      "\t 466 \t+ 156 \t= 622 \t -> Kiwi\n",
      "\t 492 \t+ 164 \t= 656 \t -> Limes\n",
      "\t 492 \t+ 164 \t= 656 \t -> Nectarine\n",
      "\t 438 \t+ 146 \t= 584 \t -> Onion White\n",
      "\t 492 \t+ 164 \t= 656 \t -> Peach Flat\n",
      "\t 492 \t+ 164 \t= 656 \t -> Pear Williams\n",
      "\t 421 \t+ 141 \t= 562 \t -> Plum 2\n",
      "\t 450 \t+ 150 \t= 600 \t -> Potato White\n",
      "\t 474 \t+ 158 \t= 632 \t -> Watermelon\n",
      "Particionamento criado com sucesso!\n"
     ]
    }
   ],
   "source": [
    "criar_treino_teste('./dataset_fruits/', 0.25)"
   ]
  },
  {
   "cell_type": "code",
   "execution_count": 8,
   "metadata": {},
   "outputs": [
    {
     "name": "stdout",
     "output_type": "stream",
     "text": [
      "Found 3384 images belonging to 11 classes.\n",
      "Found 1817 images belonging to 11 classes.\n"
     ]
    }
   ],
   "source": [
    "# DIVIDIR AS IMAGENS EM PARTIÇÃO DE TREINO E VALIDAÇÃO, UTILIZANDO O IMAGEDATAGENERATOR #\n",
    "\n",
    "datagen =  ImageDataGenerator(rescale = 1./255, validation_split=0.35) # comando para reescala\n",
    "\n",
    "# imagens de treino (65%) \n",
    "\n",
    "train_data = datagen.flow_from_directory('dataset_fruits/train',\n",
    "                                         subset='training',\n",
    "                                         batch_size = 64,\n",
    "                                         target_size = (100, 100)) # definindo tamanho das imagens\n",
    "\n",
    "# imagens de validação (35%)\n",
    "\n",
    "valid_data = datagen.flow_from_directory('dataset_fruits/train',\n",
    "                                         subset='validation',\n",
    "                                         batch_size = 64,\n",
    "                                         target_size = (100, 100))"
   ]
  },
  {
   "cell_type": "code",
   "execution_count": 9,
   "metadata": {},
   "outputs": [],
   "source": [
    "# DEFININDO O COMANDO EARLYSTOPPING #\n",
    "\n",
    "es = EarlyStopping(monitor='val_accuracy', mode='max', verbose=1, patience = 13) #early stopping baseado na melhor acurácia de validação"
   ]
  },
  {
   "cell_type": "code",
   "execution_count": 10,
   "metadata": {},
   "outputs": [
    {
     "name": "stdout",
     "output_type": "stream",
     "text": [
      "Epoch 1/100\n",
      "53/53 [==============================] - 49s 649ms/step - loss: 2.3724 - accuracy: 0.1199 - val_loss: 1.8688 - val_accuracy: 0.3996\n",
      "Epoch 2/100\n",
      "53/53 [==============================] - 35s 658ms/step - loss: 1.5135 - accuracy: 0.4174 - val_loss: 0.9614 - val_accuracy: 0.7270\n",
      "Epoch 3/100\n",
      "53/53 [==============================] - 36s 673ms/step - loss: 0.9442 - accuracy: 0.6202 - val_loss: 0.7863 - val_accuracy: 0.7182\n",
      "Epoch 4/100\n",
      "53/53 [==============================] - 36s 686ms/step - loss: 0.8574 - accuracy: 0.6671 - val_loss: 0.6544 - val_accuracy: 0.8167\n",
      "Epoch 5/100\n",
      "53/53 [==============================] - 36s 683ms/step - loss: 0.7312 - accuracy: 0.7125 - val_loss: 0.5093 - val_accuracy: 0.8844\n",
      "Epoch 6/100\n",
      "53/53 [==============================] - 37s 706ms/step - loss: 0.5431 - accuracy: 0.7910 - val_loss: 0.5145 - val_accuracy: 0.8646\n",
      "Epoch 7/100\n",
      "53/53 [==============================] - 36s 682ms/step - loss: 0.5363 - accuracy: 0.7900 - val_loss: 0.5611 - val_accuracy: 0.9081\n",
      "Epoch 8/100\n",
      "53/53 [==============================] - 35s 666ms/step - loss: 0.4505 - accuracy: 0.8250 - val_loss: 0.5426 - val_accuracy: 0.9384\n",
      "Epoch 9/100\n",
      "53/53 [==============================] - 37s 694ms/step - loss: 0.5475 - accuracy: 0.7807 - val_loss: 0.8441 - val_accuracy: 0.9053\n",
      "Epoch 10/100\n",
      "53/53 [==============================] - 36s 679ms/step - loss: 0.4676 - accuracy: 0.8095 - val_loss: 0.6242 - val_accuracy: 0.8404\n",
      "Epoch 11/100\n",
      "53/53 [==============================] - 36s 682ms/step - loss: 0.4031 - accuracy: 0.8433 - val_loss: 0.3597 - val_accuracy: 0.8877\n",
      "Epoch 12/100\n",
      "53/53 [==============================] - 37s 697ms/step - loss: 0.3420 - accuracy: 0.8697 - val_loss: 0.7006 - val_accuracy: 0.8844\n",
      "Epoch 13/100\n",
      "53/53 [==============================] - 34s 646ms/step - loss: 0.3510 - accuracy: 0.8571 - val_loss: 0.6027 - val_accuracy: 0.9235\n",
      "Epoch 14/100\n",
      "53/53 [==============================] - 35s 661ms/step - loss: 0.3468 - accuracy: 0.8521 - val_loss: 0.6010 - val_accuracy: 0.9169\n",
      "Epoch 15/100\n",
      "53/53 [==============================] - 37s 705ms/step - loss: 0.2891 - accuracy: 0.8885 - val_loss: 0.3605 - val_accuracy: 0.9461\n",
      "Epoch 16/100\n",
      "53/53 [==============================] - 35s 661ms/step - loss: 0.3302 - accuracy: 0.8644 - val_loss: 0.4772 - val_accuracy: 0.9207\n",
      "Epoch 17/100\n",
      "53/53 [==============================] - 34s 647ms/step - loss: 0.3218 - accuracy: 0.8664 - val_loss: 0.4658 - val_accuracy: 0.9483\n",
      "Epoch 18/100\n",
      "53/53 [==============================] - 34s 644ms/step - loss: 0.2753 - accuracy: 0.8872 - val_loss: 0.6414 - val_accuracy: 0.8734\n",
      "Epoch 19/100\n",
      "53/53 [==============================] - 35s 662ms/step - loss: 0.2800 - accuracy: 0.8884 - val_loss: 0.7179 - val_accuracy: 0.9274\n",
      "Epoch 20/100\n",
      "53/53 [==============================] - 34s 638ms/step - loss: 0.2741 - accuracy: 0.8970 - val_loss: 0.3450 - val_accuracy: 0.9312\n",
      "Epoch 21/100\n",
      "53/53 [==============================] - 35s 660ms/step - loss: 0.2630 - accuracy: 0.8979 - val_loss: 0.2971 - val_accuracy: 0.9631\n",
      "Epoch 22/100\n",
      "53/53 [==============================] - 34s 643ms/step - loss: 0.2627 - accuracy: 0.8966 - val_loss: 0.4494 - val_accuracy: 0.9455\n",
      "Epoch 23/100\n",
      "53/53 [==============================] - 35s 669ms/step - loss: 0.2701 - accuracy: 0.8876 - val_loss: 0.4467 - val_accuracy: 0.9593\n",
      "Epoch 24/100\n",
      "53/53 [==============================] - 34s 650ms/step - loss: 0.2320 - accuracy: 0.9086 - val_loss: 0.4961 - val_accuracy: 0.9450\n",
      "Epoch 25/100\n",
      "53/53 [==============================] - 34s 642ms/step - loss: 0.2374 - accuracy: 0.9047 - val_loss: 0.5924 - val_accuracy: 0.9433\n",
      "Epoch 26/100\n",
      "53/53 [==============================] - 35s 663ms/step - loss: 0.2262 - accuracy: 0.9026 - val_loss: 0.6082 - val_accuracy: 0.9395\n",
      "Epoch 27/100\n",
      "53/53 [==============================] - 34s 638ms/step - loss: 0.2296 - accuracy: 0.9051 - val_loss: 0.6963 - val_accuracy: 0.9141\n",
      "Epoch 28/100\n",
      "53/53 [==============================] - 35s 664ms/step - loss: 0.2551 - accuracy: 0.8936 - val_loss: 0.2757 - val_accuracy: 0.9246\n",
      "Epoch 29/100\n",
      "53/53 [==============================] - 34s 640ms/step - loss: 0.2622 - accuracy: 0.9053 - val_loss: 0.3139 - val_accuracy: 0.9461\n",
      "Epoch 30/100\n",
      "53/53 [==============================] - 35s 666ms/step - loss: 0.2515 - accuracy: 0.8984 - val_loss: 0.3509 - val_accuracy: 0.9637\n",
      "Epoch 31/100\n",
      "53/53 [==============================] - 34s 649ms/step - loss: 0.2429 - accuracy: 0.8982 - val_loss: 0.2835 - val_accuracy: 0.9560\n",
      "Epoch 32/100\n",
      "53/53 [==============================] - 34s 641ms/step - loss: 0.2087 - accuracy: 0.9177 - val_loss: 0.3671 - val_accuracy: 0.9670\n",
      "Epoch 33/100\n",
      "53/53 [==============================] - 35s 660ms/step - loss: 0.2213 - accuracy: 0.9077 - val_loss: 0.3951 - val_accuracy: 0.9593\n",
      "Epoch 34/100\n",
      "53/53 [==============================] - 34s 638ms/step - loss: 0.2237 - accuracy: 0.9064 - val_loss: 0.4301 - val_accuracy: 0.9549\n",
      "Epoch 35/100\n",
      "53/53 [==============================] - 35s 658ms/step - loss: 0.2792 - accuracy: 0.8867 - val_loss: 0.7483 - val_accuracy: 0.9576\n",
      "Epoch 36/100\n",
      "53/53 [==============================] - 34s 640ms/step - loss: 0.2117 - accuracy: 0.9208 - val_loss: 0.5678 - val_accuracy: 0.9637\n",
      "Epoch 37/100\n",
      "53/53 [==============================] - 35s 655ms/step - loss: 0.2076 - accuracy: 0.9205 - val_loss: 0.5126 - val_accuracy: 0.9648\n",
      "Epoch 38/100\n",
      "53/53 [==============================] - 35s 652ms/step - loss: 0.2042 - accuracy: 0.9181 - val_loss: 0.5387 - val_accuracy: 0.9642\n",
      "Epoch 39/100\n",
      "53/53 [==============================] - 34s 639ms/step - loss: 0.1800 - accuracy: 0.9228 - val_loss: 0.4150 - val_accuracy: 0.9560\n",
      "Epoch 40/100\n",
      "53/53 [==============================] - 35s 659ms/step - loss: 0.1953 - accuracy: 0.9289 - val_loss: 0.3767 - val_accuracy: 0.9400\n",
      "Epoch 41/100\n",
      "53/53 [==============================] - 35s 652ms/step - loss: 0.1943 - accuracy: 0.9290 - val_loss: 0.3712 - val_accuracy: 0.9670\n",
      "Epoch 42/100\n",
      "53/53 [==============================] - 35s 662ms/step - loss: 0.1649 - accuracy: 0.9381 - val_loss: 0.4094 - val_accuracy: 0.9670\n",
      "Epoch 43/100\n",
      "53/53 [==============================] - 34s 639ms/step - loss: 0.1580 - accuracy: 0.9366 - val_loss: 0.2389 - val_accuracy: 0.9747\n",
      "Epoch 44/100\n",
      "53/53 [==============================] - 35s 656ms/step - loss: 0.1533 - accuracy: 0.9416 - val_loss: 0.3248 - val_accuracy: 0.9703\n",
      "Epoch 45/100\n",
      "53/53 [==============================] - 35s 656ms/step - loss: 0.1638 - accuracy: 0.9341 - val_loss: 0.3676 - val_accuracy: 0.9686\n",
      "Epoch 46/100\n",
      "53/53 [==============================] - 34s 639ms/step - loss: 0.1784 - accuracy: 0.9255 - val_loss: 0.2409 - val_accuracy: 0.9708\n",
      "Epoch 47/100\n",
      "53/53 [==============================] - 35s 666ms/step - loss: 0.2005 - accuracy: 0.9166 - val_loss: 0.1377 - val_accuracy: 0.9774\n",
      "Epoch 48/100\n",
      "53/53 [==============================] - 34s 637ms/step - loss: 0.1843 - accuracy: 0.9254 - val_loss: 0.2118 - val_accuracy: 0.9719\n",
      "Epoch 49/100\n",
      "53/53 [==============================] - 35s 656ms/step - loss: 0.1746 - accuracy: 0.9264 - val_loss: 0.2760 - val_accuracy: 0.9708\n",
      "Epoch 50/100\n",
      "53/53 [==============================] - 34s 639ms/step - loss: 0.1638 - accuracy: 0.9336 - val_loss: 0.2711 - val_accuracy: 0.9747\n",
      "Epoch 51/100\n",
      "53/53 [==============================] - 35s 658ms/step - loss: 0.1755 - accuracy: 0.9253 - val_loss: 0.2457 - val_accuracy: 0.9708\n",
      "Epoch 52/100\n",
      "53/53 [==============================] - 35s 658ms/step - loss: 0.1604 - accuracy: 0.9295 - val_loss: 0.3679 - val_accuracy: 0.9642\n",
      "Epoch 53/100\n",
      "53/53 [==============================] - 34s 638ms/step - loss: 0.1613 - accuracy: 0.9342 - val_loss: 0.3266 - val_accuracy: 0.9697\n",
      "Epoch 54/100\n",
      "53/53 [==============================] - 35s 655ms/step - loss: 0.1546 - accuracy: 0.9352 - val_loss: 0.5762 - val_accuracy: 0.9516\n",
      "Epoch 55/100\n",
      "53/53 [==============================] - 34s 637ms/step - loss: 0.1810 - accuracy: 0.9316 - val_loss: 0.4761 - val_accuracy: 0.9681\n",
      "Epoch 56/100\n",
      "53/53 [==============================] - 35s 655ms/step - loss: 0.1855 - accuracy: 0.9216 - val_loss: 0.4610 - val_accuracy: 0.9483\n",
      "Epoch 57/100\n"
     ]
    },
    {
     "name": "stdout",
     "output_type": "stream",
     "text": [
      "53/53 [==============================] - 34s 636ms/step - loss: 0.1625 - accuracy: 0.9393 - val_loss: 0.2857 - val_accuracy: 0.9703\n",
      "Epoch 58/100\n",
      "53/53 [==============================] - 35s 661ms/step - loss: 0.1399 - accuracy: 0.9437 - val_loss: 0.6702 - val_accuracy: 0.9615\n",
      "Epoch 59/100\n",
      "53/53 [==============================] - 35s 661ms/step - loss: 0.1629 - accuracy: 0.9352 - val_loss: 0.4279 - val_accuracy: 0.9642\n",
      "Epoch 60/100\n",
      "53/53 [==============================] - 34s 637ms/step - loss: 0.1649 - accuracy: 0.9347 - val_loss: 0.2561 - val_accuracy: 0.9703\n",
      "Epoch 00060: early stopping\n"
     ]
    }
   ],
   "source": [
    "# INÍCIO DO TREINO DO MODELO #\n",
    "\n",
    "history = model.fit(train_data,\n",
    "                    epochs=100,\n",
    "                    validation_data=valid_data,\n",
    "                    callbacks = [es],\n",
    "                    verbose=True)\n",
    "\n",
    "# informação: steps_per_epoch = número de imagens / batch_size"
   ]
  },
  {
   "cell_type": "code",
   "execution_count": 11,
   "metadata": {},
   "outputs": [],
   "source": [
    "model.save('model.h5',\n",
    "          overwrite = True) \n",
    "del model\n",
    "\n",
    "with open('trainHistoryDict_model', 'wb') as file_pi:\n",
    "        pickle.dump(history.history, file_pi)"
   ]
  },
  {
   "cell_type": "code",
   "execution_count": 12,
   "metadata": {},
   "outputs": [],
   "source": [
    "model = keras.models.load_model('model.h5')\n",
    "history = pickle.load(open('trainHistoryDict_model', \"rb\"))"
   ]
  },
  {
   "cell_type": "code",
   "execution_count": 13,
   "metadata": {},
   "outputs": [
    {
     "data": {
      "text/plain": [
       "<matplotlib.legend.Legend at 0x1baaa2f8b20>"
      ]
     },
     "execution_count": 13,
     "metadata": {},
     "output_type": "execute_result"
    },
    {
     "data": {
      "image/png": "[encoded data removed]",
      "text/plain": [
       "<Figure size 432x288 with 1 Axes>"
      ]
     },
     "metadata": {
      "needs_background": "light"
     },
     "output_type": "display_data"
    }
   ],
   "source": [
    "# GERANDO GRÁFICO COM RESULTADOS DAS ACURÁCIAS DE TREINO E VALIDAÇÃO #\n",
    "\n",
    "plt.plot(history['accuracy'], label='accuracy_train')\n",
    "plt.plot(history['val_accuracy'], label = 'accuracy_valid')\n",
    "plt.xlabel('Epoch')\n",
    "plt.ylabel('Accuracy')\n",
    "plt.ylim([0, 1])\n",
    "plt.legend(loc='lower right')"
   ]
  },
  {
   "cell_type": "code",
   "execution_count": 14,
   "metadata": {},
   "outputs": [
    {
     "data": {
      "text/plain": [
       "<matplotlib.legend.Legend at 0x1baaa9d87f0>"
      ]
     },
     "execution_count": 14,
     "metadata": {},
     "output_type": "execute_result"
    },
    {
     "data": {
      "image/png": "[encoded data removed]",
      "text/plain": [
       "<Figure size 432x288 with 1 Axes>"
      ]
     },
     "metadata": {
      "needs_background": "light"
     },
     "output_type": "display_data"
    }
   ],
   "source": [
    "# GERANDO GRÁFICO COM RESULTADOS DO LOSS DE TREINO E VALIDAÇÃO #\n",
    "\n",
    "plt.plot(history['loss'], label='loss train')\n",
    "plt.plot(history['val_loss'], label='loss val')\n",
    "plt.xlabel('Epoch')\n",
    "plt.ylabel('Loss')\n",
    "plt.ylim([0, 3])\n",
    "plt.legend(loc='lower right')"
   ]
  },
  {
   "cell_type": "code",
   "execution_count": 15,
   "metadata": {},
   "outputs": [
    {
     "name": "stdout",
     "output_type": "stream",
     "text": [
      "Found 1735 images belonging to 11 classes.\n"
     ]
    }
   ],
   "source": [
    "datagen_test =  ImageDataGenerator(rescale = 1./255) # comando para reescala das imagens de teste\n",
    "\n",
    "# imagens de teste\n",
    "\n",
    "test_data = datagen_test.flow_from_directory(directory='dataset_fruits/test',\n",
    "                                             target_size = (100, 100),\n",
    "                                             batch_size = 1,\n",
    "                                             shuffle=True)"
   ]
  },
  {
   "cell_type": "code",
   "execution_count": 16,
   "metadata": {},
   "outputs": [
    {
     "name": "stdout",
     "output_type": "stream",
     "text": [
      "1735/1735 [==============================] - 9s 5ms/step - loss: 0.0741 - accuracy: 0.9914\n",
      "acurácia nos dados de teste: 0.9913544654846191\n",
      "loss dos dados de teste: 0.07414999604225159\n"
     ]
    }
   ],
   "source": [
    "# DEFININDO COMANDO PARA AVALIAR O DESEMPENHO DO MODELO NAS IMAGENS DE TESTE #\n",
    "\n",
    "test_loss, test_acc = model.evaluate(test_data)\n",
    "\n",
    "print(\"acurácia nos dados de teste:\", test_acc)\n",
    "print(\"loss dos dados de teste:\", test_loss)"
   ]
  },
  {
   "cell_type": "code",
   "execution_count": 17,
   "metadata": {},
   "outputs": [
    {
     "name": "stdout",
     "output_type": "stream",
     "text": [
      "(1735,)\n",
      "Accuracy\n",
      "0.10259365994236311\n",
      "Balanced Accuracy\n",
      "0.1025406884627659\n",
      "Confusion Matrix\n",
      "[[18 20 15 12 12 10 13 18 10 25 11]\n",
      " [ 7 17 13 20 17 16 19 18 15 14  8]\n",
      " [14 13 22 12 22 12  8 17 13  6 17]\n",
      " [23 13 18 17 17  9 14 12 13 16 12]\n",
      " [16 15  8 11 18 18 12 19  8 18 21]\n",
      " [15  8 12 16 18 13 14 10 14 16 10]\n",
      " [15 14 14 19 20  9 16 17 11 12 17]\n",
      " [14 10  9 16 17 10 24 16 12 14 22]\n",
      " [14  9 14 13 12 12 15 13 18 12  9]\n",
      " [17 11 20  9 12 21 14  9 13  8 16]\n",
      " [11 19 11 19 14 16 15 15 14  9 15]]\n",
      "Classification Report\n"
     ]
    }
   ],
   "source": [
    "Y_pred = model.predict(test_data)\n",
    "y_pred = np.argmax(Y_pred, axis=1)\n",
    "\n",
    "print(y_pred.shape)\n",
    "\n",
    "print('Accuracy')\n",
    "print(accuracy_score(test_data.classes,y_pred))\n",
    "\n",
    "print('Balanced Accuracy')\n",
    "print(balanced_accuracy_score(test_data.classes,y_pred))\n",
    "\n",
    "print('Confusion Matrix')\n",
    "print(confusion_matrix(test_data.classes, y_pred))\n",
    "print('Classification Report')"
   ]
  },
  {
   "cell_type": "markdown",
   "metadata": {},
   "source": [
    "# Primeira estratégia: 100% teste"
   ]
  },
  {
   "cell_type": "code",
   "execution_count": 18,
   "metadata": {},
   "outputs": [],
   "source": [
    "# MONTANDO A ESTRUTURA DA CNN #\n",
    "\n",
    "model_1est = keras.models.load_model('model.h5')"
   ]
  },
  {
   "cell_type": "code",
   "execution_count": 19,
   "metadata": {},
   "outputs": [
    {
     "name": "stdout",
     "output_type": "stream",
     "text": [
      "Model: \"sequential\"\n",
      "_________________________________________________________________\n",
      "Layer (type)                 Output Shape              Param #   \n",
      "=================================================================\n",
      "conv2d (Conv2D)              (None, 98, 98, 32)        896       \n",
      "_________________________________________________________________\n",
      "max_pooling2d (MaxPooling2D) (None, 49, 49, 32)        0         \n",
      "_________________________________________________________________\n",
      "dropout (Dropout)            (None, 49, 49, 32)        0         \n",
      "_________________________________________________________________\n",
      "conv2d_1 (Conv2D)            (None, 47, 47, 64)        18496     \n",
      "_________________________________________________________________\n",
      "max_pooling2d_1 (MaxPooling2 (None, 23, 23, 64)        0         \n",
      "_________________________________________________________________\n",
      "dropout_1 (Dropout)          (None, 23, 23, 64)        0         \n",
      "_________________________________________________________________\n",
      "conv2d_2 (Conv2D)            (None, 21, 21, 64)        36928     \n",
      "_________________________________________________________________\n",
      "max_pooling2d_2 (MaxPooling2 (None, 10, 10, 64)        0         \n",
      "_________________________________________________________________\n",
      "dropout_2 (Dropout)          (None, 10, 10, 64)        0         \n",
      "_________________________________________________________________\n",
      "flatten (Flatten)            (None, 6400)              0         \n",
      "_________________________________________________________________\n",
      "dense (Dense)                (None, 64)                409664    \n",
      "_________________________________________________________________\n",
      "dropout_3 (Dropout)          (None, 64)                0         \n",
      "_________________________________________________________________\n",
      "dense_1 (Dense)              (None, 11)                715       \n",
      "=================================================================\n",
      "Total params: 466,699\n",
      "Trainable params: 466,699\n",
      "Non-trainable params: 0\n",
      "_________________________________________________________________\n"
     ]
    }
   ],
   "source": [
    "model_1est.summary() # resumo da estrutura, com os parâmetros ajustáveis"
   ]
  },
  {
   "cell_type": "code",
   "execution_count": 20,
   "metadata": {},
   "outputs": [
    {
     "name": "stdout",
     "output_type": "stream",
     "text": [
      "Criando particionamento\n",
      "\t 200 \t+ 1 \t= 201 \t -> agata_potato\n",
      "\t 210 \t+ 1 \t= 211 \t -> diamond_peach\n",
      "\t 211 \t+ 1 \t= 212 \t -> fuji_apple\n",
      "\t 154 \t+ 1 \t= 155 \t -> granny_smith_apple\n",
      "\t 170 \t+ 1 \t= 171 \t -> kiwi\n",
      "\t 246 \t+ 1 \t= 247 \t -> nectarine\n",
      "\t 74 \t+ 1 \t= 75 \t -> onion\n",
      "\t 263 \t+ 1 \t= 264 \t -> plum\n",
      "\t 158 \t+ 1 \t= 159 \t -> spanish_pear\n",
      "\t 105 \t+ 1 \t= 106 \t -> taiti_lime\n",
      "\t 191 \t+ 1 \t= 192 \t -> watermelon\n",
      "Particionamento criado com sucesso!\n"
     ]
    }
   ],
   "source": [
    "criar_treino_teste('./dataset_smkt/', 1)"
   ]
  },
  {
   "cell_type": "code",
   "execution_count": 21,
   "metadata": {},
   "outputs": [
    {
     "name": "stdout",
     "output_type": "stream",
     "text": [
      "Found 1982 images belonging to 11 classes.\n"
     ]
    }
   ],
   "source": [
    "# DIVIDIR AS IMAGENS EM PARTIÇÃO DE TREINO E VALIDAÇÃO, UTILIZANDO O IMAGEDATAGENERATOR #\n",
    "\n",
    "datagen =  ImageDataGenerator(rescale = 1./255) # comando para reescala\n",
    "\n",
    "# imagens de teste (100%) \n",
    "\n",
    "test_data = datagen.flow_from_directory('dataset_smkt/train', \n",
    "                                         batch_size = 1,\n",
    "                                         target_size = (100, 100),\n",
    "                                         shuffle=True) # definindo tamanho das imagens"
   ]
  },
  {
   "cell_type": "code",
   "execution_count": 22,
   "metadata": {},
   "outputs": [
    {
     "name": "stdout",
     "output_type": "stream",
     "text": [
      "1982/1982 [==============================] - 25s 13ms/step - loss: 15.6641 - accuracy: 0.0424\n",
      "acurácia nos dados de teste: 0.04238143190741539\n",
      "loss dos dados de teste: 15.664131164550781\n"
     ]
    }
   ],
   "source": [
    "# DEFININDO COMANDO PARA AVALIAR O DESEMPENHO DO MODELO NAS IMAGENS DE TESTE #\n",
    "\n",
    "test_loss, test_acc = model_1est.evaluate(test_data)\n",
    "\n",
    "print(\"acurácia nos dados de teste:\", test_acc)\n",
    "print(\"loss dos dados de teste:\", test_loss)"
   ]
  },
  {
   "cell_type": "code",
   "execution_count": 23,
   "metadata": {},
   "outputs": [
    {
     "name": "stdout",
     "output_type": "stream",
     "text": [
      "(1982,)\n",
      "Accuracy\n",
      "0.11251261352169525\n",
      "Balanced Accuracy\n",
      "0.09667517884053128\n",
      "Confusion Matrix\n",
      "[[  8   0   4   4   0  14  21  92   0   8  49]\n",
      " [  7   0   3   6   0  11  13  90   0   9  71]\n",
      " [  9   1   7   2   1  14  15  82   0   8  72]\n",
      " [  8   0   2   6   0   9   5  65   0  11  48]\n",
      " [ 12   0   6   7   0   4  11  65   0   7  58]\n",
      " [ 10   2   6   6   0  11  15  86   0  16  94]\n",
      " [  5   1   0   0   0   6   5  34   0   4  19]\n",
      " [  9   2   3  12   1  15  16 115   0  10  80]\n",
      " [  7   0   3   1   0   6   9  76   0   4  52]\n",
      " [  4   1   6   4   0   4   4  36   0   7  39]\n",
      " [  6   0   1   5   0   3  14  86   0  12  64]]\n",
      "Classification Report\n"
     ]
    }
   ],
   "source": [
    "Y_pred = model_1est.predict(test_data)\n",
    "y_pred = np.argmax(Y_pred, axis=1)\n",
    "\n",
    "print(y_pred.shape)\n",
    "\n",
    "print('Accuracy')\n",
    "print(accuracy_score(test_data.classes,y_pred))\n",
    "\n",
    "print('Balanced Accuracy')\n",
    "print(balanced_accuracy_score(test_data.classes,y_pred))\n",
    "\n",
    "print('Confusion Matrix')\n",
    "print(confusion_matrix(test_data.classes, y_pred))\n",
    "print('Classification Report')"
   ]
  },
  {
   "cell_type": "markdown",
   "metadata": {},
   "source": [
    "# Segunda estratégia: 50% treino 50% teste"
   ]
  },
  {
   "cell_type": "code",
   "execution_count": 24,
   "metadata": {},
   "outputs": [],
   "source": [
    "# Criando modelo\n",
    "\n",
    "model = keras.models.load_model('model.h5')"
   ]
  },
  {
   "cell_type": "code",
   "execution_count": 25,
   "metadata": {},
   "outputs": [],
   "source": [
    "model.compile(optimizer='adam',\n",
    "              loss=tf.keras.losses.CategoricalCrossentropy(\n",
    "                  from_logits=False,\n",
    "                  label_smoothing=0,                            #configurações da função loss\n",
    "                  reduction=\"auto\",\n",
    "                  name=\"categorical_crossentropy\"),\n",
    "              metrics=['accuracy'])"
   ]
  },
  {
   "cell_type": "code",
   "execution_count": 26,
   "metadata": {},
   "outputs": [
    {
     "name": "stdout",
     "output_type": "stream",
     "text": [
      "Criando particionamento\n",
      "\t 100 \t+ 101 \t= 201 \t -> agata_potato\n",
      "\t 105 \t+ 106 \t= 211 \t -> diamond_peach\n",
      "\t 106 \t+ 106 \t= 212 \t -> fuji_apple\n",
      "\t 77 \t+ 78 \t= 155 \t -> granny_smith_apple\n",
      "\t 85 \t+ 86 \t= 171 \t -> kiwi\n",
      "\t 123 \t+ 124 \t= 247 \t -> nectarine\n",
      "\t 37 \t+ 38 \t= 75 \t -> onion\n",
      "\t 132 \t+ 132 \t= 264 \t -> plum\n",
      "\t 79 \t+ 80 \t= 159 \t -> spanish_pear\n",
      "\t 53 \t+ 53 \t= 106 \t -> taiti_lime\n",
      "\t 96 \t+ 96 \t= 192 \t -> watermelon\n",
      "Particionamento criado com sucesso!\n"
     ]
    }
   ],
   "source": [
    "criar_treino_teste('./dataset_smkt/', 0.5)"
   ]
  },
  {
   "cell_type": "code",
   "execution_count": 27,
   "metadata": {},
   "outputs": [
    {
     "name": "stdout",
     "output_type": "stream",
     "text": [
      "Found 798 images belonging to 11 classes.\n",
      "Found 195 images belonging to 11 classes.\n"
     ]
    }
   ],
   "source": [
    "# DIVIDIR AS IMAGENS EM PARTIÇÃO DE TREINO E VALIDAÇÃO, UTILIZANDO O IMAGEDATAGENERATOR #\n",
    "\n",
    "datagen =  ImageDataGenerator(rescale = 1./255, validation_split=0.2) # comando para reescala + divisão em 20% para validação\n",
    "\n",
    "# imagens de treino (80%) \n",
    "\n",
    "train_data = datagen.flow_from_directory('dataset_smkt/train', \n",
    "                                         subset = 'training',\n",
    "                                         batch_size = 64,\n",
    "                                         target_size = (100, 100)) # definindo tamanho das imagens\n",
    "\n",
    "# imagens de validação (20%)\n",
    "\n",
    "valid_data = datagen.flow_from_directory('dataset_smkt/train',\n",
    "                                         subset = 'validation',\n",
    "                                         batch_size = 64,\n",
    "                                         target_size = (100, 100))"
   ]
  },
  {
   "cell_type": "code",
   "execution_count": 28,
   "metadata": {
    "scrolled": false
   },
   "outputs": [
    {
     "name": "stdout",
     "output_type": "stream",
     "text": [
      "Epoch 1/100\n",
      "13/13 [==============================] - 17s 1s/step - loss: 8.2607 - accuracy: 0.0664 - val_loss: 2.4958 - val_accuracy: 0.1538\n",
      "Epoch 2/100\n",
      "13/13 [==============================] - 15s 1s/step - loss: 2.5538 - accuracy: 0.0827 - val_loss: 2.3193 - val_accuracy: 0.1487\n",
      "Epoch 3/100\n",
      "13/13 [==============================] - 15s 1s/step - loss: 2.2831 - accuracy: 0.1504 - val_loss: 2.2100 - val_accuracy: 0.2667\n",
      "Epoch 4/100\n",
      "13/13 [==============================] - 15s 1s/step - loss: 2.1270 - accuracy: 0.2343 - val_loss: 2.1052 - val_accuracy: 0.2513\n",
      "Epoch 5/100\n",
      "13/13 [==============================] - 15s 1s/step - loss: 1.9378 - accuracy: 0.2957 - val_loss: 1.9815 - val_accuracy: 0.3026\n",
      "Epoch 6/100\n",
      "13/13 [==============================] - 15s 1s/step - loss: 1.8287 - accuracy: 0.3271 - val_loss: 1.8544 - val_accuracy: 0.3641\n",
      "Epoch 7/100\n",
      "13/13 [==============================] - 15s 1s/step - loss: 1.6547 - accuracy: 0.3747 - val_loss: 1.7600 - val_accuracy: 0.4615\n",
      "Epoch 8/100\n",
      "13/13 [==============================] - 15s 1s/step - loss: 1.5264 - accuracy: 0.4536 - val_loss: 1.6427 - val_accuracy: 0.4667\n",
      "Epoch 9/100\n",
      "13/13 [==============================] - 15s 1s/step - loss: 1.3635 - accuracy: 0.5113 - val_loss: 1.5644 - val_accuracy: 0.5231\n",
      "Epoch 10/100\n",
      "13/13 [==============================] - 15s 1s/step - loss: 1.2058 - accuracy: 0.5589 - val_loss: 1.5297 - val_accuracy: 0.5333\n",
      "Epoch 11/100\n",
      "13/13 [==============================] - 15s 1s/step - loss: 1.0962 - accuracy: 0.6078 - val_loss: 1.4028 - val_accuracy: 0.5231\n",
      "Epoch 12/100\n",
      "13/13 [==============================] - 15s 1s/step - loss: 0.9298 - accuracy: 0.6729 - val_loss: 1.3209 - val_accuracy: 0.5179\n",
      "Epoch 13/100\n",
      "13/13 [==============================] - 15s 1s/step - loss: 0.9581 - accuracy: 0.6454 - val_loss: 1.3211 - val_accuracy: 0.5282\n",
      "Epoch 14/100\n",
      "13/13 [==============================] - 15s 1s/step - loss: 0.9123 - accuracy: 0.6792 - val_loss: 1.2707 - val_accuracy: 0.5385\n",
      "Epoch 15/100\n",
      "13/13 [==============================] - 15s 1s/step - loss: 0.8005 - accuracy: 0.7080 - val_loss: 1.2961 - val_accuracy: 0.5436\n",
      "Epoch 16/100\n",
      "13/13 [==============================] - 15s 1s/step - loss: 0.7652 - accuracy: 0.7043 - val_loss: 1.3910 - val_accuracy: 0.5179\n",
      "Epoch 17/100\n",
      "13/13 [==============================] - 15s 1s/step - loss: 0.7739 - accuracy: 0.6967 - val_loss: 1.3669 - val_accuracy: 0.5282\n",
      "Epoch 18/100\n",
      "13/13 [==============================] - 15s 1s/step - loss: 0.7140 - accuracy: 0.7343 - val_loss: 1.3901 - val_accuracy: 0.4974\n",
      "Epoch 19/100\n",
      "13/13 [==============================] - 15s 1s/step - loss: 0.6876 - accuracy: 0.7469 - val_loss: 1.4315 - val_accuracy: 0.5026\n",
      "Epoch 20/100\n",
      "13/13 [==============================] - 15s 1s/step - loss: 0.6469 - accuracy: 0.7669 - val_loss: 1.2432 - val_accuracy: 0.5641\n",
      "Epoch 21/100\n",
      "13/13 [==============================] - 15s 1s/step - loss: 0.6838 - accuracy: 0.7368 - val_loss: 1.2599 - val_accuracy: 0.5487\n",
      "Epoch 22/100\n",
      "13/13 [==============================] - 15s 1s/step - loss: 0.6178 - accuracy: 0.7669 - val_loss: 1.3674 - val_accuracy: 0.5641\n",
      "Epoch 23/100\n",
      "13/13 [==============================] - 15s 1s/step - loss: 0.5531 - accuracy: 0.7794 - val_loss: 1.5093 - val_accuracy: 0.5436\n",
      "Epoch 24/100\n",
      "13/13 [==============================] - 15s 1s/step - loss: 0.5154 - accuracy: 0.7982 - val_loss: 1.5020 - val_accuracy: 0.5795\n",
      "Epoch 25/100\n",
      "13/13 [==============================] - 15s 1s/step - loss: 0.5367 - accuracy: 0.8033 - val_loss: 1.3846 - val_accuracy: 0.5590\n",
      "Epoch 26/100\n",
      "13/13 [==============================] - 15s 1s/step - loss: 0.5175 - accuracy: 0.8120 - val_loss: 1.4079 - val_accuracy: 0.5949\n",
      "Epoch 27/100\n",
      "13/13 [==============================] - 15s 1s/step - loss: 0.5052 - accuracy: 0.8008 - val_loss: 1.3961 - val_accuracy: 0.6051\n",
      "Epoch 28/100\n",
      "13/13 [==============================] - 15s 1s/step - loss: 0.4592 - accuracy: 0.8195 - val_loss: 1.4279 - val_accuracy: 0.6000\n",
      "Epoch 29/100\n",
      "13/13 [==============================] - 15s 1s/step - loss: 0.4419 - accuracy: 0.8446 - val_loss: 1.4269 - val_accuracy: 0.5795\n",
      "Epoch 30/100\n",
      "13/13 [==============================] - 15s 1s/step - loss: 0.4697 - accuracy: 0.8233 - val_loss: 1.5768 - val_accuracy: 0.6051\n",
      "Epoch 31/100\n",
      "13/13 [==============================] - 15s 1s/step - loss: 0.4554 - accuracy: 0.8383 - val_loss: 1.6310 - val_accuracy: 0.5897\n",
      "Epoch 32/100\n",
      "13/13 [==============================] - 15s 1s/step - loss: 0.4318 - accuracy: 0.8496 - val_loss: 1.3270 - val_accuracy: 0.6000\n",
      "Epoch 33/100\n",
      "13/13 [==============================] - 15s 1s/step - loss: 0.4336 - accuracy: 0.8246 - val_loss: 1.6100 - val_accuracy: 0.5487\n",
      "Epoch 34/100\n",
      "13/13 [==============================] - 15s 1s/step - loss: 0.4369 - accuracy: 0.8333 - val_loss: 1.7249 - val_accuracy: 0.5846\n",
      "Epoch 35/100\n",
      "13/13 [==============================] - 15s 1s/step - loss: 0.4491 - accuracy: 0.8271 - val_loss: 1.6829 - val_accuracy: 0.6000\n",
      "Epoch 36/100\n",
      "13/13 [==============================] - 15s 1s/step - loss: 0.3804 - accuracy: 0.8509 - val_loss: 1.5849 - val_accuracy: 0.5949\n",
      "Epoch 37/100\n",
      "13/13 [==============================] - 15s 1s/step - loss: 0.3643 - accuracy: 0.8559 - val_loss: 1.4919 - val_accuracy: 0.6103\n",
      "Epoch 38/100\n",
      "13/13 [==============================] - 15s 1s/step - loss: 0.3571 - accuracy: 0.8571 - val_loss: 1.4954 - val_accuracy: 0.6256\n",
      "Epoch 39/100\n",
      "13/13 [==============================] - 15s 1s/step - loss: 0.3574 - accuracy: 0.8709 - val_loss: 1.7813 - val_accuracy: 0.5949\n",
      "Epoch 40/100\n",
      "13/13 [==============================] - 15s 1s/step - loss: 0.3434 - accuracy: 0.8759 - val_loss: 1.5826 - val_accuracy: 0.6154\n",
      "Epoch 41/100\n",
      "13/13 [==============================] - 15s 1s/step - loss: 0.4018 - accuracy: 0.8647 - val_loss: 1.6837 - val_accuracy: 0.6462\n",
      "Epoch 42/100\n",
      "13/13 [==============================] - 15s 1s/step - loss: 0.3384 - accuracy: 0.8759 - val_loss: 1.3739 - val_accuracy: 0.6000\n",
      "Epoch 43/100\n",
      "13/13 [==============================] - 15s 1s/step - loss: 0.3604 - accuracy: 0.8659 - val_loss: 1.5241 - val_accuracy: 0.6000\n",
      "Epoch 44/100\n",
      "13/13 [==============================] - 15s 1s/step - loss: 0.3292 - accuracy: 0.8684 - val_loss: 1.4399 - val_accuracy: 0.6462\n",
      "Epoch 45/100\n",
      "13/13 [==============================] - 15s 1s/step - loss: 0.3459 - accuracy: 0.8559 - val_loss: 1.6561 - val_accuracy: 0.6154\n",
      "Epoch 46/100\n",
      "13/13 [==============================] - 15s 1s/step - loss: 0.3743 - accuracy: 0.8521 - val_loss: 1.6831 - val_accuracy: 0.5949\n",
      "Epoch 47/100\n",
      "13/13 [==============================] - 15s 1s/step - loss: 0.3613 - accuracy: 0.8684 - val_loss: 1.6217 - val_accuracy: 0.6308\n",
      "Epoch 48/100\n",
      "13/13 [==============================] - 15s 1s/step - loss: 0.3138 - accuracy: 0.8835 - val_loss: 1.6851 - val_accuracy: 0.6308\n",
      "Epoch 49/100\n",
      "13/13 [==============================] - 15s 1s/step - loss: 0.3190 - accuracy: 0.8697 - val_loss: 1.4003 - val_accuracy: 0.6410\n",
      "Epoch 50/100\n",
      "13/13 [==============================] - 15s 1s/step - loss: 0.3202 - accuracy: 0.8609 - val_loss: 1.7181 - val_accuracy: 0.6513\n",
      "Epoch 51/100\n",
      "13/13 [==============================] - 15s 1s/step - loss: 0.3313 - accuracy: 0.8784 - val_loss: 1.6536 - val_accuracy: 0.6256\n",
      "Epoch 52/100\n",
      "13/13 [==============================] - 15s 1s/step - loss: 0.3237 - accuracy: 0.8810 - val_loss: 1.5663 - val_accuracy: 0.6564\n",
      "Epoch 53/100\n",
      "13/13 [==============================] - 15s 1s/step - loss: 0.3262 - accuracy: 0.8647 - val_loss: 1.2806 - val_accuracy: 0.6667\n",
      "Epoch 54/100\n",
      "13/13 [==============================] - 15s 1s/step - loss: 0.3286 - accuracy: 0.8797 - val_loss: 1.5162 - val_accuracy: 0.6000\n",
      "Epoch 55/100\n",
      "13/13 [==============================] - 15s 1s/step - loss: 0.3056 - accuracy: 0.8835 - val_loss: 1.4550 - val_accuracy: 0.6256\n",
      "Epoch 56/100\n",
      "13/13 [==============================] - 15s 1s/step - loss: 0.2740 - accuracy: 0.8985 - val_loss: 1.4142 - val_accuracy: 0.6256\n",
      "Epoch 57/100\n",
      "13/13 [==============================] - 15s 1s/step - loss: 0.2556 - accuracy: 0.9035 - val_loss: 1.2980 - val_accuracy: 0.6462\n",
      "Epoch 58/100\n",
      "13/13 [==============================] - 15s 1s/step - loss: 0.2705 - accuracy: 0.9010 - val_loss: 2.0282 - val_accuracy: 0.6359\n"
     ]
    },
    {
     "name": "stdout",
     "output_type": "stream",
     "text": [
      "Epoch 59/100\n",
      "13/13 [==============================] - 16s 1s/step - loss: 0.2595 - accuracy: 0.8872 - val_loss: 1.4097 - val_accuracy: 0.6308\n",
      "Epoch 60/100\n",
      "13/13 [==============================] - 15s 1s/step - loss: 0.2983 - accuracy: 0.8947 - val_loss: 1.6990 - val_accuracy: 0.6564\n",
      "Epoch 61/100\n",
      "13/13 [==============================] - 15s 1s/step - loss: 0.2496 - accuracy: 0.8997 - val_loss: 1.4551 - val_accuracy: 0.6718\n",
      "Epoch 62/100\n",
      "13/13 [==============================] - 15s 1s/step - loss: 0.2352 - accuracy: 0.9198 - val_loss: 1.7263 - val_accuracy: 0.6564\n",
      "Epoch 63/100\n",
      "13/13 [==============================] - 15s 1s/step - loss: 0.2195 - accuracy: 0.9123 - val_loss: 1.9582 - val_accuracy: 0.6205\n",
      "Epoch 64/100\n",
      "13/13 [==============================] - 15s 1s/step - loss: 0.2778 - accuracy: 0.8997 - val_loss: 1.6056 - val_accuracy: 0.7026\n",
      "Epoch 65/100\n",
      "13/13 [==============================] - 15s 1s/step - loss: 0.2754 - accuracy: 0.8985 - val_loss: 1.3522 - val_accuracy: 0.6462\n",
      "Epoch 66/100\n",
      "13/13 [==============================] - 15s 1s/step - loss: 0.2974 - accuracy: 0.8772 - val_loss: 1.6136 - val_accuracy: 0.5795\n",
      "Epoch 67/100\n",
      "13/13 [==============================] - 15s 1s/step - loss: 0.2629 - accuracy: 0.9048 - val_loss: 1.5944 - val_accuracy: 0.6718\n",
      "Epoch 68/100\n",
      "13/13 [==============================] - 15s 1s/step - loss: 0.2604 - accuracy: 0.9035 - val_loss: 1.3438 - val_accuracy: 0.6564\n",
      "Epoch 69/100\n",
      "13/13 [==============================] - 15s 1s/step - loss: 0.2491 - accuracy: 0.9023 - val_loss: 1.9958 - val_accuracy: 0.5897\n",
      "Epoch 70/100\n",
      "13/13 [==============================] - 15s 1s/step - loss: 0.2644 - accuracy: 0.8922 - val_loss: 1.4961 - val_accuracy: 0.6974\n",
      "Epoch 71/100\n",
      "13/13 [==============================] - 15s 1s/step - loss: 0.2446 - accuracy: 0.8972 - val_loss: 1.4236 - val_accuracy: 0.6410\n",
      "Epoch 72/100\n",
      "13/13 [==============================] - 15s 1s/step - loss: 0.2583 - accuracy: 0.9085 - val_loss: 1.3644 - val_accuracy: 0.6769\n",
      "Epoch 73/100\n",
      "13/13 [==============================] - 15s 1s/step - loss: 0.2698 - accuracy: 0.8910 - val_loss: 1.1922 - val_accuracy: 0.7179\n",
      "Epoch 74/100\n",
      "13/13 [==============================] - 15s 1s/step - loss: 0.2051 - accuracy: 0.9110 - val_loss: 1.5994 - val_accuracy: 0.6359\n",
      "Epoch 75/100\n",
      "13/13 [==============================] - 15s 1s/step - loss: 0.2097 - accuracy: 0.9273 - val_loss: 1.2281 - val_accuracy: 0.7026\n",
      "Epoch 76/100\n",
      "13/13 [==============================] - 15s 1s/step - loss: 0.1898 - accuracy: 0.9173 - val_loss: 1.3764 - val_accuracy: 0.6718\n",
      "Epoch 77/100\n",
      "13/13 [==============================] - 15s 1s/step - loss: 0.2008 - accuracy: 0.9273 - val_loss: 1.4005 - val_accuracy: 0.7077\n",
      "Epoch 78/100\n",
      "13/13 [==============================] - 15s 1s/step - loss: 0.2027 - accuracy: 0.9248 - val_loss: 1.8022 - val_accuracy: 0.6410\n",
      "Epoch 79/100\n",
      "13/13 [==============================] - 15s 1s/step - loss: 0.2204 - accuracy: 0.9060 - val_loss: 1.8856 - val_accuracy: 0.6923\n",
      "Epoch 80/100\n",
      "13/13 [==============================] - 15s 1s/step - loss: 0.1852 - accuracy: 0.9298 - val_loss: 1.7006 - val_accuracy: 0.6769\n",
      "Epoch 81/100\n",
      "13/13 [==============================] - 15s 1s/step - loss: 0.1926 - accuracy: 0.9185 - val_loss: 1.4224 - val_accuracy: 0.6769\n",
      "Epoch 82/100\n",
      "13/13 [==============================] - 15s 1s/step - loss: 0.2841 - accuracy: 0.9085 - val_loss: 1.2079 - val_accuracy: 0.7436\n",
      "Epoch 83/100\n",
      "13/13 [==============================] - 15s 1s/step - loss: 0.2596 - accuracy: 0.9048 - val_loss: 1.4712 - val_accuracy: 0.6923\n",
      "Epoch 84/100\n",
      "13/13 [==============================] - 15s 1s/step - loss: 0.2273 - accuracy: 0.9010 - val_loss: 1.1908 - val_accuracy: 0.6667\n",
      "Epoch 85/100\n",
      "13/13 [==============================] - 15s 1s/step - loss: 0.2090 - accuracy: 0.9211 - val_loss: 1.0640 - val_accuracy: 0.7385\n",
      "Epoch 86/100\n",
      "13/13 [==============================] - 15s 1s/step - loss: 0.1814 - accuracy: 0.9273 - val_loss: 1.4528 - val_accuracy: 0.7026\n",
      "Epoch 87/100\n",
      "13/13 [==============================] - 15s 1s/step - loss: 0.1901 - accuracy: 0.9236 - val_loss: 1.6693 - val_accuracy: 0.7077\n",
      "Epoch 88/100\n",
      "13/13 [==============================] - 15s 1s/step - loss: 0.1837 - accuracy: 0.9336 - val_loss: 1.2257 - val_accuracy: 0.6923\n",
      "Epoch 89/100\n",
      "13/13 [==============================] - 15s 1s/step - loss: 0.2626 - accuracy: 0.9023 - val_loss: 1.0951 - val_accuracy: 0.7026\n",
      "Epoch 90/100\n",
      "13/13 [==============================] - 15s 1s/step - loss: 0.1980 - accuracy: 0.9236 - val_loss: 1.1912 - val_accuracy: 0.6923\n",
      "Epoch 91/100\n",
      "13/13 [==============================] - 15s 1s/step - loss: 0.1874 - accuracy: 0.9085 - val_loss: 1.5378 - val_accuracy: 0.6410\n",
      "Epoch 92/100\n",
      "13/13 [==============================] - 15s 1s/step - loss: 0.1256 - accuracy: 0.9499 - val_loss: 1.6940 - val_accuracy: 0.6615\n",
      "Epoch 93/100\n",
      "13/13 [==============================] - 15s 1s/step - loss: 0.1516 - accuracy: 0.9398 - val_loss: 1.5875 - val_accuracy: 0.6667\n",
      "Epoch 94/100\n",
      "13/13 [==============================] - 15s 1s/step - loss: 0.1687 - accuracy: 0.9311 - val_loss: 1.2584 - val_accuracy: 0.7128\n",
      "Epoch 95/100\n",
      "13/13 [==============================] - 15s 1s/step - loss: 0.1662 - accuracy: 0.9286 - val_loss: 1.8202 - val_accuracy: 0.6308\n",
      "Epoch 00095: early stopping\n"
     ]
    }
   ],
   "source": [
    "# INÍCIO DO TREINO DO MODELO #\n",
    "\n",
    "history = model.fit(train_data,\n",
    "                    epochs=100,\n",
    "                    validation_data=valid_data,\n",
    "                    callbacks = [es],\n",
    "                    verbose=True)\n",
    "\n",
    "# informação: steps_per_epoch = número de imagens / batch_size"
   ]
  },
  {
   "cell_type": "code",
   "execution_count": 29,
   "metadata": {},
   "outputs": [],
   "source": [
    "model.save('model_2est.h5',\n",
    "          overwrite = True) \n",
    "del model\n",
    "\n",
    "with open('trainHistoryDict_model_2est', 'wb') as file_pi:\n",
    "        pickle.dump(history.history, file_pi)"
   ]
  },
  {
   "cell_type": "code",
   "execution_count": 30,
   "metadata": {},
   "outputs": [],
   "source": [
    "model_2est = keras.models.load_model('model_2est.h5')\n",
    "history = pickle.load(open('trainHistoryDict_model_2est', \"rb\"))"
   ]
  },
  {
   "cell_type": "code",
   "execution_count": 31,
   "metadata": {},
   "outputs": [
    {
     "name": "stdout",
     "output_type": "stream",
     "text": [
      "Model: \"sequential\"\n",
      "_________________________________________________________________\n",
      "Layer (type)                 Output Shape              Param #   \n",
      "=================================================================\n",
      "conv2d (Conv2D)              (None, 98, 98, 32)        896       \n",
      "_________________________________________________________________\n",
      "max_pooling2d (MaxPooling2D) (None, 49, 49, 32)        0         \n",
      "_________________________________________________________________\n",
      "dropout (Dropout)            (None, 49, 49, 32)        0         \n",
      "_________________________________________________________________\n",
      "conv2d_1 (Conv2D)            (None, 47, 47, 64)        18496     \n",
      "_________________________________________________________________\n",
      "max_pooling2d_1 (MaxPooling2 (None, 23, 23, 64)        0         \n",
      "_________________________________________________________________\n",
      "dropout_1 (Dropout)          (None, 23, 23, 64)        0         \n",
      "_________________________________________________________________\n",
      "conv2d_2 (Conv2D)            (None, 21, 21, 64)        36928     \n",
      "_________________________________________________________________\n",
      "max_pooling2d_2 (MaxPooling2 (None, 10, 10, 64)        0         \n",
      "_________________________________________________________________\n",
      "dropout_2 (Dropout)          (None, 10, 10, 64)        0         \n",
      "_________________________________________________________________\n",
      "flatten (Flatten)            (None, 6400)              0         \n",
      "_________________________________________________________________\n",
      "dense (Dense)                (None, 64)                409664    \n",
      "_________________________________________________________________\n",
      "dropout_3 (Dropout)          (None, 64)                0         \n",
      "_________________________________________________________________\n",
      "dense_1 (Dense)              (None, 11)                715       \n",
      "=================================================================\n",
      "Total params: 466,699\n",
      "Trainable params: 466,699\n",
      "Non-trainable params: 0\n",
      "_________________________________________________________________\n"
     ]
    }
   ],
   "source": [
    "model_2est.summary()"
   ]
  },
  {
   "cell_type": "code",
   "execution_count": 32,
   "metadata": {},
   "outputs": [
    {
     "data": {
      "text/plain": [
       "<matplotlib.legend.Legend at 0x1baae796760>"
      ]
     },
     "execution_count": 32,
     "metadata": {},
     "output_type": "execute_result"
    },
    {
     "data": {
      "image/png": "[encoded data removed]",
      "text/plain": [
       "<Figure size 432x288 with 1 Axes>"
      ]
     },
     "metadata": {
      "needs_background": "light"
     },
     "output_type": "display_data"
    }
   ],
   "source": [
    "# GERANDO GRÁFICO COM RESULTADOS DAS ACURÁCIAS DE TREINO E VALIDAÇÃO #\n",
    "\n",
    "plt.plot(history['accuracy'], label='accuracy_train')\n",
    "plt.plot(history['val_accuracy'], label = 'accuracy_valid')\n",
    "plt.xlabel('Epoch')\n",
    "plt.ylabel('Accuracy')\n",
    "plt.ylim([0, 1])\n",
    "plt.legend(loc='lower right')"
   ]
  },
  {
   "cell_type": "code",
   "execution_count": 33,
   "metadata": {},
   "outputs": [
    {
     "data": {
      "text/plain": [
       "<matplotlib.legend.Legend at 0x1baaf8213d0>"
      ]
     },
     "execution_count": 33,
     "metadata": {},
     "output_type": "execute_result"
    },
    {
     "data": {
      "image/png": "[encoded data removed]",
      "text/plain": [
       "<Figure size 432x288 with 1 Axes>"
      ]
     },
     "metadata": {
      "needs_background": "light"
     },
     "output_type": "display_data"
    }
   ],
   "source": [
    "# GERANDO GRÁFICO COM RESULTADOS DO LOSS DE TREINO E VALIDAÇÃO #\n",
    "\n",
    "plt.plot(history['loss'], label='loss train')\n",
    "plt.plot(history['val_loss'], label='loss val')\n",
    "plt.xlabel('Epoch')\n",
    "plt.ylabel('Loss')\n",
    "plt.ylim([0, 3])\n",
    "plt.legend(loc='lower right')"
   ]
  },
  {
   "cell_type": "code",
   "execution_count": 34,
   "metadata": {},
   "outputs": [
    {
     "name": "stdout",
     "output_type": "stream",
     "text": [
      "Found 1000 images belonging to 11 classes.\n"
     ]
    }
   ],
   "source": [
    "datagen_test =  ImageDataGenerator(rescale = 1./255) # comando para reescala das imagens de teste\n",
    "\n",
    "# imagens de teste\n",
    "\n",
    "test_data = datagen_test.flow_from_directory(directory='dataset_smkt/test',\n",
    "                                             target_size = (100, 100),\n",
    "                                             batch_size = 1,\n",
    "                                             shuffle=True)"
   ]
  },
  {
   "cell_type": "code",
   "execution_count": 35,
   "metadata": {},
   "outputs": [
    {
     "name": "stdout",
     "output_type": "stream",
     "text": [
      "1000/1000 [==============================] - 13s 13ms/step - loss: 0.7093 - accuracy: 0.8180\n",
      "acurácia nos dados de teste: 0.8180000185966492\n",
      "loss dos dados de teste: 0.7092776298522949\n"
     ]
    }
   ],
   "source": [
    "# DEFININDO COMANDO PARA AVALIAR O DESEMPENHO DO MODELO NAS IMAGENS DE TESTE #\n",
    "\n",
    "test_loss, test_acc = model_2est.evaluate(test_data) # verificar versão do Keras\n",
    "\n",
    "print(\"acurácia nos dados de teste:\", test_acc)\n",
    "print(\"loss dos dados de teste:\", test_loss)"
   ]
  },
  {
   "cell_type": "code",
   "execution_count": 36,
   "metadata": {},
   "outputs": [
    {
     "name": "stdout",
     "output_type": "stream",
     "text": [
      "(1000,)\n",
      "Accuracy\n",
      "0.124\n",
      "Balanced Accuracy\n",
      "0.11263875561273262\n",
      "Confusion Matrix\n",
      "[[ 7  3  5  5  7 27  4 11 14  9  9]\n",
      " [ 8  9  9  9  9 22  5 13  9  5  8]\n",
      " [10  2  6  8  9 21  8 18 10  6  8]\n",
      " [ 9  1  5  8  2 21  5 10  9  1  7]\n",
      " [11  4  9  8  3 13  2 14 10  4  8]\n",
      " [ 7 10  7  6 12 29  3  9 19 10 12]\n",
      " [ 0  2  1  5  1 11  2  4  4  2  6]\n",
      " [17  3  8 11  4 28  4 28 16  5  8]\n",
      " [ 3  6  4  3  6 19  2  7 12  5 13]\n",
      " [ 7  3  6  3  2 15  0  5  3  4  5]\n",
      " [ 9  1  9  6  3 20  3 14 13  2 16]]\n",
      "Classification Report\n"
     ]
    }
   ],
   "source": [
    "Y_pred = model_2est.predict(test_data)\n",
    "y_pred = np.argmax(Y_pred, axis=1)\n",
    "\n",
    "print(y_pred.shape)\n",
    "\n",
    "print('Accuracy')\n",
    "print(accuracy_score(test_data.classes,y_pred))\n",
    "\n",
    "print('Balanced Accuracy')\n",
    "print(balanced_accuracy_score(test_data.classes,y_pred))\n",
    "\n",
    "print('Confusion Matrix')\n",
    "print(confusion_matrix(test_data.classes, y_pred))\n",
    "print('Classification Report')"
   ]
  },
  {
   "cell_type": "markdown",
   "metadata": {},
   "source": [
    "# Terceira estratégia: 70% treino e 30% teste"
   ]
  },
  {
   "cell_type": "code",
   "execution_count": 37,
   "metadata": {},
   "outputs": [],
   "source": [
    "# Criando modelo\n",
    "\n",
    "model = keras.models.load_model('model.h5')"
   ]
  },
  {
   "cell_type": "code",
   "execution_count": 38,
   "metadata": {},
   "outputs": [],
   "source": [
    "model.compile(optimizer='adam',\n",
    "              loss=tf.keras.losses.CategoricalCrossentropy(\n",
    "                  from_logits=False,\n",
    "                  label_smoothing=0,                            #configurações da função loss\n",
    "                  reduction=\"auto\",\n",
    "                  name=\"categorical_crossentropy\"),\n",
    "              metrics=['accuracy'])"
   ]
  },
  {
   "cell_type": "code",
   "execution_count": 39,
   "metadata": {},
   "outputs": [
    {
     "name": "stdout",
     "output_type": "stream",
     "text": [
      "Criando particionamento\n",
      "\t 140 \t+ 61 \t= 201 \t -> agata_potato\n",
      "\t 147 \t+ 64 \t= 211 \t -> diamond_peach\n",
      "\t 148 \t+ 64 \t= 212 \t -> fuji_apple\n",
      "\t 108 \t+ 47 \t= 155 \t -> granny_smith_apple\n",
      "\t 119 \t+ 52 \t= 171 \t -> kiwi\n",
      "\t 172 \t+ 75 \t= 247 \t -> nectarine\n",
      "\t 52 \t+ 23 \t= 75 \t -> onion\n",
      "\t 184 \t+ 80 \t= 264 \t -> plum\n",
      "\t 111 \t+ 48 \t= 159 \t -> spanish_pear\n",
      "\t 74 \t+ 32 \t= 106 \t -> taiti_lime\n",
      "\t 134 \t+ 58 \t= 192 \t -> watermelon\n",
      "Particionamento criado com sucesso!\n"
     ]
    }
   ],
   "source": [
    "criar_treino_teste('./dataset_smkt/', 0.3)"
   ]
  },
  {
   "cell_type": "code",
   "execution_count": 40,
   "metadata": {},
   "outputs": [
    {
     "name": "stdout",
     "output_type": "stream",
     "text": [
      "Found 1117 images belonging to 11 classes.\n",
      "Found 272 images belonging to 11 classes.\n"
     ]
    }
   ],
   "source": [
    "# DIVIDIR AS IMAGENS EM PARTIÇÃO DE TREINO E VALIDAÇÃO, UTILIZANDO O IMAGEDATAGENERATOR #\n",
    "\n",
    "datagen =  ImageDataGenerator(rescale = 1./255, validation_split=0.2) # comando para reescala + divisão em 20% para validação\n",
    "\n",
    "# imagens de treino (80%) \n",
    "\n",
    "train_data = datagen.flow_from_directory('dataset_smkt/train', \n",
    "                                         subset = 'training',\n",
    "                                         batch_size = 64,\n",
    "                                         target_size = (100, 100)) # definindo tamanho das imagens\n",
    "\n",
    "# imagens de validação (20%)\n",
    "\n",
    "valid_data = datagen.flow_from_directory('dataset_smkt/train',\n",
    "                                         subset='validation',\n",
    "                                         batch_size = 64,\n",
    "                                         target_size = (100, 100))"
   ]
  },
  {
   "cell_type": "code",
   "execution_count": 41,
   "metadata": {},
   "outputs": [
    {
     "name": "stdout",
     "output_type": "stream",
     "text": [
      "Epoch 1/100\n",
      "18/18 [==============================] - 24s 1s/step - loss: 7.0981 - accuracy: 0.0797 - val_loss: 2.3372 - val_accuracy: 0.1471\n",
      "Epoch 2/100\n",
      "18/18 [==============================] - 21s 1s/step - loss: 2.3232 - accuracy: 0.1235 - val_loss: 2.1403 - val_accuracy: 0.1985\n",
      "Epoch 3/100\n",
      "18/18 [==============================] - 21s 1s/step - loss: 2.0644 - accuracy: 0.2614 - val_loss: 2.0068 - val_accuracy: 0.3456\n",
      "Epoch 4/100\n",
      "18/18 [==============================] - 21s 1s/step - loss: 1.7549 - accuracy: 0.3796 - val_loss: 1.7990 - val_accuracy: 0.4301\n",
      "Epoch 5/100\n",
      "18/18 [==============================] - 21s 1s/step - loss: 1.5977 - accuracy: 0.4279 - val_loss: 1.6612 - val_accuracy: 0.4706\n",
      "Epoch 6/100\n",
      "18/18 [==============================] - 21s 1s/step - loss: 1.4136 - accuracy: 0.4727 - val_loss: 1.5460 - val_accuracy: 0.5074\n",
      "Epoch 7/100\n",
      "18/18 [==============================] - 21s 1s/step - loss: 1.2857 - accuracy: 0.5219 - val_loss: 1.4425 - val_accuracy: 0.5000\n",
      "Epoch 8/100\n",
      "18/18 [==============================] - 21s 1s/step - loss: 1.1299 - accuracy: 0.5568 - val_loss: 1.3773 - val_accuracy: 0.5184\n",
      "Epoch 9/100\n",
      "18/18 [==============================] - 21s 1s/step - loss: 0.9952 - accuracy: 0.6240 - val_loss: 1.3599 - val_accuracy: 0.5147\n",
      "Epoch 10/100\n",
      "18/18 [==============================] - 21s 1s/step - loss: 0.8738 - accuracy: 0.6526 - val_loss: 1.3349 - val_accuracy: 0.5294\n",
      "Epoch 11/100\n",
      "18/18 [==============================] - 21s 1s/step - loss: 0.8619 - accuracy: 0.6652 - val_loss: 1.2674 - val_accuracy: 0.5404\n",
      "Epoch 12/100\n",
      "18/18 [==============================] - 21s 1s/step - loss: 0.7989 - accuracy: 0.6831 - val_loss: 1.2369 - val_accuracy: 0.5919\n",
      "Epoch 13/100\n",
      "18/18 [==============================] - 21s 1s/step - loss: 0.7366 - accuracy: 0.7243 - val_loss: 1.2761 - val_accuracy: 0.5882\n",
      "Epoch 14/100\n",
      "18/18 [==============================] - 21s 1s/step - loss: 0.6976 - accuracy: 0.7135 - val_loss: 1.3267 - val_accuracy: 0.5625\n",
      "Epoch 15/100\n",
      "18/18 [==============================] - 21s 1s/step - loss: 0.6792 - accuracy: 0.7189 - val_loss: 1.3713 - val_accuracy: 0.5809\n",
      "Epoch 16/100\n",
      "18/18 [==============================] - 21s 1s/step - loss: 0.6284 - accuracy: 0.7404 - val_loss: 1.4491 - val_accuracy: 0.5882\n",
      "Epoch 17/100\n",
      "18/18 [==============================] - 21s 1s/step - loss: 0.5786 - accuracy: 0.7601 - val_loss: 1.3539 - val_accuracy: 0.5846\n",
      "Epoch 18/100\n",
      "18/18 [==============================] - 22s 1s/step - loss: 0.5973 - accuracy: 0.7592 - val_loss: 1.5371 - val_accuracy: 0.5588\n",
      "Epoch 19/100\n",
      "18/18 [==============================] - 21s 1s/step - loss: 0.5265 - accuracy: 0.7923 - val_loss: 1.4659 - val_accuracy: 0.5772\n",
      "Epoch 20/100\n",
      "18/18 [==============================] - 21s 1s/step - loss: 0.5143 - accuracy: 0.7977 - val_loss: 1.4667 - val_accuracy: 0.5809\n",
      "Epoch 21/100\n",
      "18/18 [==============================] - 21s 1s/step - loss: 0.5297 - accuracy: 0.8004 - val_loss: 1.4922 - val_accuracy: 0.5772\n",
      "Epoch 22/100\n",
      "18/18 [==============================] - 21s 1s/step - loss: 0.4725 - accuracy: 0.8129 - val_loss: 1.9733 - val_accuracy: 0.5331\n",
      "Epoch 23/100\n",
      "18/18 [==============================] - 21s 1s/step - loss: 0.4909 - accuracy: 0.8156 - val_loss: 1.4635 - val_accuracy: 0.5772\n",
      "Epoch 24/100\n",
      "18/18 [==============================] - 21s 1s/step - loss: 0.4255 - accuracy: 0.8254 - val_loss: 1.5821 - val_accuracy: 0.5919\n",
      "Epoch 25/100\n",
      "18/18 [==============================] - 21s 1s/step - loss: 0.5141 - accuracy: 0.8030 - val_loss: 1.5518 - val_accuracy: 0.5919\n",
      "Epoch 00025: early stopping\n"
     ]
    }
   ],
   "source": [
    "# INÍCIO DO TREINO DO MODELO #\n",
    "\n",
    "history = model.fit(train_data,\n",
    "                    epochs=100,\n",
    "                    validation_data=valid_data,\n",
    "                    callbacks = [es])\n",
    "\n",
    "# informação: steps_per_epoch = número de imagens / batch_size"
   ]
  },
  {
   "cell_type": "code",
   "execution_count": 42,
   "metadata": {},
   "outputs": [],
   "source": [
    "model.save('model_3est.h5',\n",
    "          overwrite = True) \n",
    "del model\n",
    "\n",
    "with open('trainHistoryDict_model_3est', 'wb') as file_pi:\n",
    "        pickle.dump(history.history, file_pi)"
   ]
  },
  {
   "cell_type": "code",
   "execution_count": 43,
   "metadata": {},
   "outputs": [],
   "source": [
    "model_3est = keras.models.load_model('model_3est.h5')\n",
    "history = pickle.load(open('trainHistoryDict_model_3est', \"rb\"))"
   ]
  },
  {
   "cell_type": "code",
   "execution_count": 44,
   "metadata": {},
   "outputs": [
    {
     "name": "stdout",
     "output_type": "stream",
     "text": [
      "Model: \"sequential\"\n",
      "_________________________________________________________________\n",
      "Layer (type)                 Output Shape              Param #   \n",
      "=================================================================\n",
      "conv2d (Conv2D)              (None, 98, 98, 32)        896       \n",
      "_________________________________________________________________\n",
      "max_pooling2d (MaxPooling2D) (None, 49, 49, 32)        0         \n",
      "_________________________________________________________________\n",
      "dropout (Dropout)            (None, 49, 49, 32)        0         \n",
      "_________________________________________________________________\n",
      "conv2d_1 (Conv2D)            (None, 47, 47, 64)        18496     \n",
      "_________________________________________________________________\n",
      "max_pooling2d_1 (MaxPooling2 (None, 23, 23, 64)        0         \n",
      "_________________________________________________________________\n",
      "dropout_1 (Dropout)          (None, 23, 23, 64)        0         \n",
      "_________________________________________________________________\n",
      "conv2d_2 (Conv2D)            (None, 21, 21, 64)        36928     \n",
      "_________________________________________________________________\n",
      "max_pooling2d_2 (MaxPooling2 (None, 10, 10, 64)        0         \n",
      "_________________________________________________________________\n",
      "dropout_2 (Dropout)          (None, 10, 10, 64)        0         \n",
      "_________________________________________________________________\n",
      "flatten (Flatten)            (None, 6400)              0         \n",
      "_________________________________________________________________\n",
      "dense (Dense)                (None, 64)                409664    \n",
      "_________________________________________________________________\n",
      "dropout_3 (Dropout)          (None, 64)                0         \n",
      "_________________________________________________________________\n",
      "dense_1 (Dense)              (None, 11)                715       \n",
      "=================================================================\n",
      "Total params: 466,699\n",
      "Trainable params: 466,699\n",
      "Non-trainable params: 0\n",
      "_________________________________________________________________\n"
     ]
    }
   ],
   "source": [
    "model_3est.summary()"
   ]
  },
  {
   "cell_type": "code",
   "execution_count": 45,
   "metadata": {},
   "outputs": [
    {
     "data": {
      "text/plain": [
       "<matplotlib.legend.Legend at 0x1bab031ea60>"
      ]
     },
     "execution_count": 45,
     "metadata": {},
     "output_type": "execute_result"
    },
    {
     "data": {
      "image/png": "[encoded data removed]",
      "text/plain": [
       "<Figure size 432x288 with 1 Axes>"
      ]
     },
     "metadata": {
      "needs_background": "light"
     },
     "output_type": "display_data"
    }
   ],
   "source": [
    "# GERANDO GRÁFICO COM RESULTADOS DAS ACURÁCIAS DE TREINO E VALIDAÇÃO #\n",
    "\n",
    "plt.plot(history['accuracy'], label='accuracy_train')\n",
    "plt.plot(history['val_accuracy'], label = 'accuracy_valid')\n",
    "plt.xlabel('Epoch')\n",
    "plt.ylabel('Accuracy')\n",
    "plt.ylim([0, 1])\n",
    "plt.legend(loc='lower right')"
   ]
  },
  {
   "cell_type": "code",
   "execution_count": 46,
   "metadata": {},
   "outputs": [
    {
     "data": {
      "text/plain": [
       "<matplotlib.legend.Legend at 0x1baaa81ea60>"
      ]
     },
     "execution_count": 46,
     "metadata": {},
     "output_type": "execute_result"
    },
    {
     "data": {
      "image/png": "[encoded data removed]",
      "text/plain": [
       "<Figure size 432x288 with 1 Axes>"
      ]
     },
     "metadata": {
      "needs_background": "light"
     },
     "output_type": "display_data"
    }
   ],
   "source": [
    "# GERANDO GRÁFICO COM RESULTADOS DO LOSS DE TREINO E VALIDAÇÃO #\n",
    "\n",
    "plt.plot(history['loss'], label='loss train')\n",
    "plt.plot(history['val_loss'], label='loss val')\n",
    "plt.xlabel('Epoch')\n",
    "plt.ylabel('Loss')\n",
    "plt.ylim([0, 3])\n",
    "plt.legend(loc='lower right')"
   ]
  },
  {
   "cell_type": "code",
   "execution_count": 47,
   "metadata": {},
   "outputs": [
    {
     "name": "stdout",
     "output_type": "stream",
     "text": [
      "Found 604 images belonging to 11 classes.\n"
     ]
    }
   ],
   "source": [
    "datagen_test =  ImageDataGenerator(rescale = 1./255) # comando para reescala das imagens de teste\n",
    "\n",
    "# imagens de teste\n",
    "\n",
    "test_data = datagen_test.flow_from_directory(directory='dataset_smkt/test',\n",
    "                                             target_size = (100, 100),\n",
    "                                             batch_size = 1,\n",
    "                                             shuffle=True)"
   ]
  },
  {
   "cell_type": "code",
   "execution_count": 48,
   "metadata": {},
   "outputs": [
    {
     "name": "stdout",
     "output_type": "stream",
     "text": [
      "604/604 [==============================] - 8s 12ms/step - loss: 0.4857 - accuracy: 0.8609\n",
      "acurácia nos dados de teste: 0.860927164554596\n",
      "loss dos dados de teste: 0.48573610186576843\n"
     ]
    }
   ],
   "source": [
    "# DEFININDO COMANDO PARA AVALIAR O DESEMPENHO DO MODELO NAS IMAGENS DE TESTE #\n",
    "\n",
    "test_loss, test_acc = model_3est.evaluate(test_data) # verificar versão do Keras\n",
    "\n",
    "print(\"acurácia nos dados de teste:\", test_acc)\n",
    "print(\"loss dos dados de teste:\", test_loss)"
   ]
  },
  {
   "cell_type": "code",
   "execution_count": 49,
   "metadata": {},
   "outputs": [
    {
     "name": "stdout",
     "output_type": "stream",
     "text": [
      "(604,)\n",
      "Accuracy\n",
      "0.10596026490066225\n",
      "Balanced Accuracy\n",
      "0.09785496482905845\n",
      "Confusion Matrix\n",
      "[[ 7 10  8  2  2  6  3 12  5  2  4]\n",
      " [10  7 10  4  5  7  1 11  4  0  5]\n",
      " [ 1  8  5  7  7  8  4  7  2  4 11]\n",
      " [ 4  5  7  4  3  6  1  6  5  2  4]\n",
      " [ 5  0  7  6  3  9  2  7  4  4  5]\n",
      " [ 3  9 11  5  4  7  3 11  9  6  7]\n",
      " [ 2  4  4  0  1  1  1  0  4  4  2]\n",
      " [ 7  7 10  3  8  5  2 16  7  4 11]\n",
      " [ 3  3 10  3  2  4  4  6  7  2  4]\n",
      " [ 2  1  4  4  1  7  1  2  4  2  4]\n",
      " [ 7 10 12  5  3  5  0  6  3  2  5]]\n",
      "Classification Report\n"
     ]
    }
   ],
   "source": [
    "Y_pred = model_3est.predict(test_data)\n",
    "y_pred = np.argmax(Y_pred, axis=1)\n",
    "\n",
    "print(y_pred.shape)\n",
    "\n",
    "print('Accuracy')\n",
    "print(accuracy_score(test_data.classes,y_pred))\n",
    "\n",
    "print('Balanced Accuracy')\n",
    "print(balanced_accuracy_score(test_data.classes,y_pred))\n",
    "\n",
    "print('Confusion Matrix')\n",
    "print(confusion_matrix(test_data.classes, y_pred))\n",
    "print('Classification Report')"
   ]
  },
  {
   "cell_type": "markdown",
   "metadata": {},
   "source": [
    "# Quarta estratégia: 80% treino e 20% teste"
   ]
  },
  {
   "cell_type": "code",
   "execution_count": 50,
   "metadata": {},
   "outputs": [],
   "source": [
    "# Criando modelo\n",
    "\n",
    "model = keras.models.load_model('model.h5')"
   ]
  },
  {
   "cell_type": "code",
   "execution_count": 51,
   "metadata": {},
   "outputs": [],
   "source": [
    "model.compile(optimizer='adam',\n",
    "              loss=tf.keras.losses.CategoricalCrossentropy(\n",
    "                  from_logits=False,\n",
    "                  label_smoothing=0,                            #configurações da função loss\n",
    "                  reduction=\"auto\",\n",
    "                  name=\"categorical_crossentropy\"),\n",
    "              metrics=['accuracy'])"
   ]
  },
  {
   "cell_type": "code",
   "execution_count": 52,
   "metadata": {},
   "outputs": [
    {
     "name": "stdout",
     "output_type": "stream",
     "text": [
      "Criando particionamento\n",
      "\t 160 \t+ 41 \t= 201 \t -> agata_potato\n",
      "\t 168 \t+ 43 \t= 211 \t -> diamond_peach\n",
      "\t 169 \t+ 43 \t= 212 \t -> fuji_apple\n",
      "\t 124 \t+ 31 \t= 155 \t -> granny_smith_apple\n",
      "\t 136 \t+ 35 \t= 171 \t -> kiwi\n",
      "\t 197 \t+ 50 \t= 247 \t -> nectarine\n",
      "\t 60 \t+ 15 \t= 75 \t -> onion\n",
      "\t 211 \t+ 53 \t= 264 \t -> plum\n",
      "\t 127 \t+ 32 \t= 159 \t -> spanish_pear\n",
      "\t 84 \t+ 22 \t= 106 \t -> taiti_lime\n",
      "\t 153 \t+ 39 \t= 192 \t -> watermelon\n",
      "Particionamento criado com sucesso!\n"
     ]
    }
   ],
   "source": [
    "criar_treino_teste('./dataset_smkt/', 0.2)"
   ]
  },
  {
   "cell_type": "code",
   "execution_count": 53,
   "metadata": {},
   "outputs": [
    {
     "name": "stdout",
     "output_type": "stream",
     "text": [
      "Found 1276 images belonging to 11 classes.\n",
      "Found 313 images belonging to 11 classes.\n"
     ]
    }
   ],
   "source": [
    "# DIVIDIR AS IMAGENS EM PARTIÇÃO DE TREINO E VALIDAÇÃO, UTILIZANDO O IMAGEDATAGENERATOR #\n",
    "\n",
    "datagen =  ImageDataGenerator(rescale = 1./255, validation_split=0.2) # comando para reescala + divisão em 20% para validação\n",
    "\n",
    "# imagens de treino (80%) \n",
    "\n",
    "train_data = datagen.flow_from_directory('dataset_smkt/train', \n",
    "                                         subset = 'training',\n",
    "                                         batch_size = 64,\n",
    "                                         target_size = (100, 100)) # definindo tamanho das imagens\n",
    "\n",
    "# imagens de validação (20%)\n",
    "\n",
    "valid_data = datagen.flow_from_directory('dataset_smkt/train',\n",
    "                                         subset='validation',\n",
    "                                         batch_size = 64,\n",
    "                                         target_size = (100, 100))"
   ]
  },
  {
   "cell_type": "code",
   "execution_count": 54,
   "metadata": {},
   "outputs": [
    {
     "name": "stdout",
     "output_type": "stream",
     "text": [
      "Epoch 1/100\n",
      "20/20 [==============================] - 27s 1s/step - loss: 6.4321 - accuracy: 0.0737 - val_loss: 2.3329 - val_accuracy: 0.1182\n",
      "Epoch 2/100\n",
      "20/20 [==============================] - 24s 1s/step - loss: 2.2295 - accuracy: 0.1560 - val_loss: 2.0984 - val_accuracy: 0.3099\n",
      "Epoch 3/100\n",
      "20/20 [==============================] - 24s 1s/step - loss: 1.9826 - accuracy: 0.2798 - val_loss: 1.9407 - val_accuracy: 0.3930\n",
      "Epoch 4/100\n",
      "20/20 [==============================] - 24s 1s/step - loss: 1.7037 - accuracy: 0.4020 - val_loss: 1.6778 - val_accuracy: 0.4952\n",
      "Epoch 5/100\n",
      "20/20 [==============================] - 24s 1s/step - loss: 1.5155 - accuracy: 0.4232 - val_loss: 1.5553 - val_accuracy: 0.5431\n",
      "Epoch 6/100\n",
      "20/20 [==============================] - 24s 1s/step - loss: 1.2700 - accuracy: 0.5039 - val_loss: 1.4122 - val_accuracy: 0.5399\n",
      "Epoch 7/100\n",
      "20/20 [==============================] - 24s 1s/step - loss: 1.1521 - accuracy: 0.5627 - val_loss: 1.3020 - val_accuracy: 0.5495\n",
      "Epoch 8/100\n",
      "20/20 [==============================] - 24s 1s/step - loss: 1.0597 - accuracy: 0.5729 - val_loss: 1.2739 - val_accuracy: 0.5367\n",
      "Epoch 9/100\n",
      "20/20 [==============================] - 24s 1s/step - loss: 0.9121 - accuracy: 0.6168 - val_loss: 1.2472 - val_accuracy: 0.5847\n",
      "Epoch 10/100\n",
      "20/20 [==============================] - 24s 1s/step - loss: 0.8889 - accuracy: 0.6426 - val_loss: 1.1619 - val_accuracy: 0.5847\n",
      "Epoch 11/100\n",
      "20/20 [==============================] - 24s 1s/step - loss: 0.8366 - accuracy: 0.6693 - val_loss: 0.9958 - val_accuracy: 0.6550\n",
      "Epoch 12/100\n",
      "20/20 [==============================] - 24s 1s/step - loss: 0.7798 - accuracy: 0.6889 - val_loss: 1.0568 - val_accuracy: 0.6294\n",
      "Epoch 13/100\n",
      "20/20 [==============================] - 24s 1s/step - loss: 0.7590 - accuracy: 0.6881 - val_loss: 1.2639 - val_accuracy: 0.5974\n",
      "Epoch 14/100\n",
      "20/20 [==============================] - 24s 1s/step - loss: 0.6908 - accuracy: 0.7241 - val_loss: 1.0836 - val_accuracy: 0.6422\n",
      "Epoch 15/100\n",
      "20/20 [==============================] - 24s 1s/step - loss: 0.6592 - accuracy: 0.7265 - val_loss: 1.1840 - val_accuracy: 0.6358\n",
      "Epoch 16/100\n",
      "20/20 [==============================] - 24s 1s/step - loss: 0.6542 - accuracy: 0.7241 - val_loss: 1.0634 - val_accuracy: 0.6837\n",
      "Epoch 17/100\n",
      "20/20 [==============================] - 24s 1s/step - loss: 0.6135 - accuracy: 0.7727 - val_loss: 1.0359 - val_accuracy: 0.6486\n",
      "Epoch 18/100\n",
      "20/20 [==============================] - 24s 1s/step - loss: 0.5589 - accuracy: 0.7672 - val_loss: 1.1303 - val_accuracy: 0.6709\n",
      "Epoch 19/100\n",
      "20/20 [==============================] - 24s 1s/step - loss: 0.5133 - accuracy: 0.8009 - val_loss: 1.0960 - val_accuracy: 0.6358\n",
      "Epoch 20/100\n",
      "20/20 [==============================] - 24s 1s/step - loss: 0.5568 - accuracy: 0.7947 - val_loss: 1.1963 - val_accuracy: 0.7093\n",
      "Epoch 21/100\n",
      "20/20 [==============================] - 24s 1s/step - loss: 0.5363 - accuracy: 0.7970 - val_loss: 1.0836 - val_accuracy: 0.6741\n",
      "Epoch 22/100\n",
      "20/20 [==============================] - 24s 1s/step - loss: 0.4934 - accuracy: 0.8096 - val_loss: 1.0975 - val_accuracy: 0.6581\n",
      "Epoch 23/100\n",
      "20/20 [==============================] - 24s 1s/step - loss: 0.5356 - accuracy: 0.8025 - val_loss: 1.2589 - val_accuracy: 0.6454\n",
      "Epoch 24/100\n",
      "20/20 [==============================] - 24s 1s/step - loss: 0.4551 - accuracy: 0.8292 - val_loss: 1.1145 - val_accuracy: 0.7252\n",
      "Epoch 25/100\n",
      "20/20 [==============================] - 24s 1s/step - loss: 0.4583 - accuracy: 0.8213 - val_loss: 1.0806 - val_accuracy: 0.7252\n",
      "Epoch 26/100\n",
      "20/20 [==============================] - 24s 1s/step - loss: 0.4613 - accuracy: 0.8229 - val_loss: 1.0441 - val_accuracy: 0.6965\n",
      "Epoch 27/100\n",
      "20/20 [==============================] - 24s 1s/step - loss: 0.4744 - accuracy: 0.8260 - val_loss: 1.2745 - val_accuracy: 0.6741\n",
      "Epoch 28/100\n",
      "20/20 [==============================] - 24s 1s/step - loss: 0.4784 - accuracy: 0.8064 - val_loss: 1.1199 - val_accuracy: 0.7252\n",
      "Epoch 29/100\n",
      "20/20 [==============================] - 24s 1s/step - loss: 0.4692 - accuracy: 0.8111 - val_loss: 1.3046 - val_accuracy: 0.6741\n",
      "Epoch 30/100\n",
      "20/20 [==============================] - 24s 1s/step - loss: 0.3986 - accuracy: 0.8480 - val_loss: 1.1680 - val_accuracy: 0.6869\n",
      "Epoch 31/100\n",
      "20/20 [==============================] - 24s 1s/step - loss: 0.3941 - accuracy: 0.8519 - val_loss: 1.1905 - val_accuracy: 0.6837\n",
      "Epoch 32/100\n",
      "20/20 [==============================] - 24s 1s/step - loss: 0.3737 - accuracy: 0.8629 - val_loss: 1.2141 - val_accuracy: 0.7125\n",
      "Epoch 33/100\n",
      "20/20 [==============================] - 24s 1s/step - loss: 0.3701 - accuracy: 0.8730 - val_loss: 1.2835 - val_accuracy: 0.6709\n",
      "Epoch 34/100\n",
      "20/20 [==============================] - 24s 1s/step - loss: 0.4161 - accuracy: 0.8393 - val_loss: 1.4461 - val_accuracy: 0.7029\n",
      "Epoch 35/100\n",
      "20/20 [==============================] - 24s 1s/step - loss: 0.4368 - accuracy: 0.8472 - val_loss: 1.2806 - val_accuracy: 0.7316\n",
      "Epoch 36/100\n",
      "20/20 [==============================] - 24s 1s/step - loss: 0.3780 - accuracy: 0.8574 - val_loss: 1.2631 - val_accuracy: 0.6613\n",
      "Epoch 37/100\n",
      "20/20 [==============================] - 24s 1s/step - loss: 0.4041 - accuracy: 0.8597 - val_loss: 1.2341 - val_accuracy: 0.7508\n",
      "Epoch 38/100\n",
      "20/20 [==============================] - 24s 1s/step - loss: 0.3252 - accuracy: 0.8848 - val_loss: 1.3304 - val_accuracy: 0.7604\n",
      "Epoch 39/100\n",
      "20/20 [==============================] - 24s 1s/step - loss: 0.3782 - accuracy: 0.8503 - val_loss: 1.3141 - val_accuracy: 0.7061\n",
      "Epoch 40/100\n",
      "20/20 [==============================] - 24s 1s/step - loss: 0.3313 - accuracy: 0.8754 - val_loss: 0.9761 - val_accuracy: 0.7604\n",
      "Epoch 41/100\n",
      "20/20 [==============================] - 24s 1s/step - loss: 0.3019 - accuracy: 0.8997 - val_loss: 1.3136 - val_accuracy: 0.7572\n",
      "Epoch 42/100\n",
      "20/20 [==============================] - 24s 1s/step - loss: 0.2991 - accuracy: 0.8856 - val_loss: 1.6939 - val_accuracy: 0.7029\n",
      "Epoch 43/100\n",
      "20/20 [==============================] - 24s 1s/step - loss: 0.2972 - accuracy: 0.8824 - val_loss: 1.5897 - val_accuracy: 0.7540\n",
      "Epoch 44/100\n",
      "20/20 [==============================] - 24s 1s/step - loss: 0.2833 - accuracy: 0.8918 - val_loss: 1.4566 - val_accuracy: 0.7444\n",
      "Epoch 45/100\n",
      "20/20 [==============================] - 24s 1s/step - loss: 0.2608 - accuracy: 0.8973 - val_loss: 1.3198 - val_accuracy: 0.7859\n",
      "Epoch 46/100\n",
      "20/20 [==============================] - 24s 1s/step - loss: 0.3209 - accuracy: 0.8785 - val_loss: 1.1675 - val_accuracy: 0.7764\n",
      "Epoch 47/100\n",
      "20/20 [==============================] - 24s 1s/step - loss: 0.2903 - accuracy: 0.8926 - val_loss: 1.5139 - val_accuracy: 0.7476\n",
      "Epoch 48/100\n",
      "20/20 [==============================] - 24s 1s/step - loss: 0.2985 - accuracy: 0.8973 - val_loss: 1.6031 - val_accuracy: 0.7125\n",
      "Epoch 49/100\n",
      "20/20 [==============================] - 24s 1s/step - loss: 0.2895 - accuracy: 0.8918 - val_loss: 1.2691 - val_accuracy: 0.7316\n",
      "Epoch 50/100\n",
      "20/20 [==============================] - 24s 1s/step - loss: 0.2642 - accuracy: 0.9122 - val_loss: 1.5686 - val_accuracy: 0.7061\n",
      "Epoch 51/100\n",
      "20/20 [==============================] - 24s 1s/step - loss: 0.2545 - accuracy: 0.9005 - val_loss: 1.5356 - val_accuracy: 0.7604\n",
      "Epoch 52/100\n",
      "20/20 [==============================] - 24s 1s/step - loss: 0.2331 - accuracy: 0.9122 - val_loss: 1.6832 - val_accuracy: 0.6805\n",
      "Epoch 53/100\n",
      "20/20 [==============================] - 24s 1s/step - loss: 0.2282 - accuracy: 0.9114 - val_loss: 1.6466 - val_accuracy: 0.7125\n",
      "Epoch 54/100\n",
      "20/20 [==============================] - 24s 1s/step - loss: 0.2117 - accuracy: 0.9271 - val_loss: 1.5683 - val_accuracy: 0.7796\n",
      "Epoch 55/100\n",
      "20/20 [==============================] - 24s 1s/step - loss: 0.2413 - accuracy: 0.9075 - val_loss: 1.5224 - val_accuracy: 0.7220\n",
      "Epoch 56/100\n",
      "20/20 [==============================] - 24s 1s/step - loss: 0.3254 - accuracy: 0.8926 - val_loss: 1.7105 - val_accuracy: 0.6869\n",
      "Epoch 57/100\n",
      "20/20 [==============================] - 24s 1s/step - loss: 0.2751 - accuracy: 0.8981 - val_loss: 1.4721 - val_accuracy: 0.7316\n",
      "Epoch 58/100\n",
      "20/20 [==============================] - 24s 1s/step - loss: 0.3061 - accuracy: 0.8824 - val_loss: 1.6099 - val_accuracy: 0.7348\n"
     ]
    },
    {
     "name": "stdout",
     "output_type": "stream",
     "text": [
      "Epoch 00058: early stopping\n"
     ]
    }
   ],
   "source": [
    "# INÍCIO DO TREINO DO MODELO #\n",
    "\n",
    "history = model.fit(train_data,\n",
    "                    epochs=100,\n",
    "                    validation_data=valid_data,\n",
    "                    callbacks = [es])\n",
    "\n",
    "# informação: steps_per_epoch = número de imagens / batch_size"
   ]
  },
  {
   "cell_type": "code",
   "execution_count": 55,
   "metadata": {},
   "outputs": [],
   "source": [
    "model.save('model_4est.h5',\n",
    "          overwrite = True) \n",
    "del model\n",
    "\n",
    "with open('trainHistoryDict_model_4est', 'wb') as file_pi:\n",
    "        pickle.dump(history.history, file_pi)"
   ]
  },
  {
   "cell_type": "code",
   "execution_count": 56,
   "metadata": {},
   "outputs": [],
   "source": [
    "model_4est = keras.models.load_model('model_4est.h5')\n",
    "history = pickle.load(open('trainHistoryDict_model_4est', \"rb\"))"
   ]
  },
  {
   "cell_type": "code",
   "execution_count": 57,
   "metadata": {},
   "outputs": [
    {
     "name": "stdout",
     "output_type": "stream",
     "text": [
      "Model: \"sequential\"\n",
      "_________________________________________________________________\n",
      "Layer (type)                 Output Shape              Param #   \n",
      "=================================================================\n",
      "conv2d (Conv2D)              (None, 98, 98, 32)        896       \n",
      "_________________________________________________________________\n",
      "max_pooling2d (MaxPooling2D) (None, 49, 49, 32)        0         \n",
      "_________________________________________________________________\n",
      "dropout (Dropout)            (None, 49, 49, 32)        0         \n",
      "_________________________________________________________________\n",
      "conv2d_1 (Conv2D)            (None, 47, 47, 64)        18496     \n",
      "_________________________________________________________________\n",
      "max_pooling2d_1 (MaxPooling2 (None, 23, 23, 64)        0         \n",
      "_________________________________________________________________\n",
      "dropout_1 (Dropout)          (None, 23, 23, 64)        0         \n",
      "_________________________________________________________________\n",
      "conv2d_2 (Conv2D)            (None, 21, 21, 64)        36928     \n",
      "_________________________________________________________________\n",
      "max_pooling2d_2 (MaxPooling2 (None, 10, 10, 64)        0         \n",
      "_________________________________________________________________\n",
      "dropout_2 (Dropout)          (None, 10, 10, 64)        0         \n",
      "_________________________________________________________________\n",
      "flatten (Flatten)            (None, 6400)              0         \n",
      "_________________________________________________________________\n",
      "dense (Dense)                (None, 64)                409664    \n",
      "_________________________________________________________________\n",
      "dropout_3 (Dropout)          (None, 64)                0         \n",
      "_________________________________________________________________\n",
      "dense_1 (Dense)              (None, 11)                715       \n",
      "=================================================================\n",
      "Total params: 466,699\n",
      "Trainable params: 466,699\n",
      "Non-trainable params: 0\n",
      "_________________________________________________________________\n"
     ]
    }
   ],
   "source": [
    "model_4est.summary()"
   ]
  },
  {
   "cell_type": "code",
   "execution_count": 58,
   "metadata": {},
   "outputs": [
    {
     "data": {
      "text/plain": [
       "<matplotlib.legend.Legend at 0x1baae7f97f0>"
      ]
     },
     "execution_count": 58,
     "metadata": {},
     "output_type": "execute_result"
    },
    {
     "data": {
      "image/png": "[encoded data removed]",
      "text/plain": [
       "<Figure size 432x288 with 1 Axes>"
      ]
     },
     "metadata": {
      "needs_background": "light"
     },
     "output_type": "display_data"
    }
   ],
   "source": [
    "# GERANDO GRÁFICO COM RESULTADOS DAS ACURÁCIAS DE TREINO E VALIDAÇÃO #\n",
    "\n",
    "plt.plot(history['accuracy'], label='accuracy_train')\n",
    "plt.plot(history['val_accuracy'], label = 'accuracy_valid')\n",
    "plt.xlabel('Epoch')\n",
    "plt.ylabel('Accuracy')\n",
    "plt.ylim([0, 1])\n",
    "plt.legend(loc='lower right')"
   ]
  },
  {
   "cell_type": "code",
   "execution_count": 59,
   "metadata": {},
   "outputs": [
    {
     "data": {
      "text/plain": [
       "<matplotlib.legend.Legend at 0x1bab03f6910>"
      ]
     },
     "execution_count": 59,
     "metadata": {},
     "output_type": "execute_result"
    },
    {
     "data": {
      "image/png": "[encoded data removed]",
      "text/plain": [
       "<Figure size 432x288 with 1 Axes>"
      ]
     },
     "metadata": {
      "needs_background": "light"
     },
     "output_type": "display_data"
    }
   ],
   "source": [
    "# GERANDO GRÁFICO COM RESULTADOS DO LOSS DE TREINO E VALIDAÇÃO #\n",
    "\n",
    "plt.plot(history['loss'], label='loss train')\n",
    "plt.plot(history['val_loss'], label='loss val')\n",
    "plt.xlabel('Epoch')\n",
    "plt.ylabel('Loss')\n",
    "plt.ylim([0, 3])\n",
    "plt.legend(loc='lower right')"
   ]
  },
  {
   "cell_type": "code",
   "execution_count": 60,
   "metadata": {},
   "outputs": [
    {
     "name": "stdout",
     "output_type": "stream",
     "text": [
      "Found 404 images belonging to 11 classes.\n"
     ]
    }
   ],
   "source": [
    "datagen_test =  ImageDataGenerator(rescale = 1./255) # comando para reescala das imagens de teste\n",
    "\n",
    "# imagens de teste\n",
    "\n",
    "test_data = datagen_test.flow_from_directory(directory='dataset_smkt/test',\n",
    "                                             target_size = (100, 100),\n",
    "                                             batch_size = 1,\n",
    "                                             shuffle=True)"
   ]
  },
  {
   "cell_type": "code",
   "execution_count": 61,
   "metadata": {},
   "outputs": [
    {
     "name": "stdout",
     "output_type": "stream",
     "text": [
      "404/404 [==============================] - 5s 13ms/step - loss: 0.3535 - accuracy: 0.9332\n",
      "acurácia nos dados de teste: 0.9331682920455933\n",
      "loss dos dados de teste: 0.35351690649986267\n"
     ]
    }
   ],
   "source": [
    "# DEFININDO COMANDO PARA AVALIAR O DESEMPENHO DO MODELO NAS IMAGENS DE TESTE #\n",
    "\n",
    "test_loss, test_acc = model_4est.evaluate(test_data) # verificar versão do Keras\n",
    "\n",
    "print(\"acurácia nos dados de teste:\", test_acc)\n",
    "print(\"loss dos dados de teste:\", test_loss)"
   ]
  },
  {
   "cell_type": "code",
   "execution_count": 62,
   "metadata": {},
   "outputs": [
    {
     "name": "stdout",
     "output_type": "stream",
     "text": [
      "(404,)\n",
      "Accuracy\n",
      "0.11386138613861387\n",
      "Balanced Accuracy\n",
      "0.10985907827809066\n",
      "Confusion Matrix\n",
      "[[5 3 7 2 3 3 1 6 4 3 4]\n",
      " [4 6 3 5 4 2 0 7 6 3 3]\n",
      " [2 3 7 7 1 8 2 4 5 0 4]\n",
      " [3 3 4 2 3 8 0 4 2 0 2]\n",
      " [3 3 4 1 2 7 2 5 3 2 3]\n",
      " [5 5 5 2 6 8 3 7 3 2 4]\n",
      " [0 2 1 1 0 1 2 2 1 2 3]\n",
      " [4 6 7 2 4 6 0 6 6 4 8]\n",
      " [3 5 3 3 4 3 1 3 2 1 4]\n",
      " [2 3 0 0 0 7 0 3 3 2 2]\n",
      " [3 5 4 4 1 2 3 6 4 3 4]]\n",
      "Classification Report\n"
     ]
    }
   ],
   "source": [
    "Y_pred = model_4est.predict(test_data)\n",
    "y_pred = np.argmax(Y_pred, axis=1)\n",
    "\n",
    "print(y_pred.shape)\n",
    "\n",
    "print('Accuracy')\n",
    "print(accuracy_score(test_data.classes,y_pred))\n",
    "\n",
    "print('Balanced Accuracy')\n",
    "print(balanced_accuracy_score(test_data.classes,y_pred))\n",
    "\n",
    "print('Confusion Matrix')\n",
    "print(confusion_matrix(test_data.classes, y_pred))\n",
    "print('Classification Report')"
   ]
  },
  {
   "cell_type": "code",
   "execution_count": null,
   "metadata": {},
   "outputs": [],
   "source": []
  }
 ],
 "metadata": {
  "kernelspec": {
   "display_name": "Python 3",
   "language": "python",
   "name": "python3"
  },
  "language_info": {
   "codemirror_mode": {
    "name": "ipython",
    "version": 3
   },
   "file_extension": ".py",
   "mimetype": "text/x-python",
   "name": "python",
   "nbconvert_exporter": "python",
   "pygments_lexer": "ipython3",
   "version": "3.8.8"
  }
 },
 "nbformat": 4,
 "nbformat_minor": 4
}
