{
 "cells": [
  {
   "cell_type": "code",
   "execution_count": 1,
   "metadata": {},
   "outputs": [
    {
     "name": "stdout",
     "output_type": "stream",
     "text": [
      "Versão do TensorFlow: 2.1.0\n",
      "versão do Keras: 2.2.4-tf\n"
     ]
    },
    {
     "name": "stderr",
     "output_type": "stream",
     "text": [
      "Using TensorFlow backend.\n"
     ]
    }
   ],
   "source": [
    "import tensorflow as tf\n",
    "print(\"Versão do TensorFlow:\", tf.__version__)\n",
    "\n",
    "from tensorflow import keras\n",
    "print(\"versão do Keras:\", keras.__version__)\n",
    "\n",
    "# IMPORTANDO COMANDOS E FUNÇÕES #\n",
    "\n",
    "import numpy as np\n",
    "import h5py\n",
    "import matplotlib.pyplot as plt #gerar gráfico\n",
    "import os\n",
    "from keras.preprocessing.image import ImageDataGenerator\n",
    "from keras.callbacks import EarlyStopping\n",
    "\n",
    "from sklearn.metrics import classification_report, confusion_matrix, balanced_accuracy_score, accuracy_score\n",
    "\n",
    "import pickle\n",
    "\n",
    "# IMPORTANDO LAYERS PARA A CNN #\n",
    "\n",
    "from keras.models import Sequential\n",
    "from keras import layers\n",
    "from keras.layers import Dropout"
   ]
  },
  {
   "cell_type": "code",
   "execution_count": 2,
   "metadata": {},
   "outputs": [],
   "source": [
    "# MONTANDO A ESTRUTURA DA CNN #\n",
    "\n",
    "model = Sequential()\n",
    "model.add(layers.Conv2D(32, (3, 3), activation='relu', input_shape=(100, 100, 3)))\n",
    "model.add(layers.MaxPooling2D((2, 2)))\n",
    "model.add(Dropout(0.5)) # dropout de 50%\n",
    "model.add(layers.Conv2D(64, (3, 3), activation='relu'))\n",
    "model.add(layers.MaxPooling2D((2, 2)))\n",
    "model.add(Dropout(0.5))\n",
    "model.add(layers.Conv2D(64, (3, 3), activation='relu'))\n",
    "model.add(layers.MaxPooling2D((2, 2)))\n",
    "model.add(Dropout(0.5))\n",
    "\n",
    "model.add(layers.Flatten()) # camada de achatamento\n",
    "model.add(layers.Dense(64, activation='relu'))\n",
    "model.add(Dropout(0.5))\n",
    "model.add(layers.Dense(units = 11, activation = 'softmax')) # 11 unidades de saída (11 classes)"
   ]
  },
  {
   "cell_type": "code",
   "execution_count": 3,
   "metadata": {},
   "outputs": [
    {
     "name": "stdout",
     "output_type": "stream",
     "text": [
      "versao do h5py: 2.10.0\n"
     ]
    }
   ],
   "source": [
    "print(\"versao do h5py:\", h5py.__version__)"
   ]
  },
  {
   "cell_type": "code",
   "execution_count": 4,
   "metadata": {},
   "outputs": [
    {
     "name": "stdout",
     "output_type": "stream",
     "text": [
      "Model: \"sequential_1\"\n",
      "_________________________________________________________________\n",
      "Layer (type)                 Output Shape              Param #   \n",
      "=================================================================\n",
      "conv2d_1 (Conv2D)            (None, 98, 98, 32)        896       \n",
      "_________________________________________________________________\n",
      "max_pooling2d_1 (MaxPooling2 (None, 49, 49, 32)        0         \n",
      "_________________________________________________________________\n",
      "dropout_1 (Dropout)          (None, 49, 49, 32)        0         \n",
      "_________________________________________________________________\n",
      "conv2d_2 (Conv2D)            (None, 47, 47, 64)        18496     \n",
      "_________________________________________________________________\n",
      "max_pooling2d_2 (MaxPooling2 (None, 23, 23, 64)        0         \n",
      "_________________________________________________________________\n",
      "dropout_2 (Dropout)          (None, 23, 23, 64)        0         \n",
      "_________________________________________________________________\n",
      "conv2d_3 (Conv2D)            (None, 21, 21, 64)        36928     \n",
      "_________________________________________________________________\n",
      "max_pooling2d_3 (MaxPooling2 (None, 10, 10, 64)        0         \n",
      "_________________________________________________________________\n",
      "dropout_3 (Dropout)          (None, 10, 10, 64)        0         \n",
      "_________________________________________________________________\n",
      "flatten_1 (Flatten)          (None, 6400)              0         \n",
      "_________________________________________________________________\n",
      "dense_1 (Dense)              (None, 64)                409664    \n",
      "_________________________________________________________________\n",
      "dropout_4 (Dropout)          (None, 64)                0         \n",
      "_________________________________________________________________\n",
      "dense_2 (Dense)              (None, 11)                715       \n",
      "=================================================================\n",
      "Total params: 466,699\n",
      "Trainable params: 466,699\n",
      "Non-trainable params: 0\n",
      "_________________________________________________________________\n"
     ]
    }
   ],
   "source": [
    "model.summary() # resumo da estrutura, com os parâmetros ajustáveis"
   ]
  },
  {
   "cell_type": "code",
   "execution_count": 5,
   "metadata": {},
   "outputs": [],
   "source": [
    "model.compile(optimizer='adam',\n",
    "              loss=tf.keras.losses.CategoricalCrossentropy(\n",
    "                  from_logits=False,\n",
    "                  label_smoothing=0,                            #configurações da função loss\n",
    "                  reduction=\"auto\",\n",
    "                  name=\"categorical_crossentropy\"),\n",
    "              metrics=['accuracy'])"
   ]
  },
  {
   "cell_type": "code",
   "execution_count": 6,
   "metadata": {},
   "outputs": [],
   "source": [
    "from functions_extras import criar_treino_teste"
   ]
  },
  {
   "cell_type": "code",
   "execution_count": 7,
   "metadata": {},
   "outputs": [
    {
     "name": "stdout",
     "output_type": "stream",
     "text": [
      "Criando particionamento\n",
      "\t 492 \t+ 164 \t= 656 \t -> Apple Granny Smith\n",
      "\t 492 \t+ 164 \t= 656 \t -> Apple Red 2\n",
      "\t 466 \t+ 156 \t= 622 \t -> Kiwi\n",
      "\t 492 \t+ 164 \t= 656 \t -> Limes\n",
      "\t 492 \t+ 164 \t= 656 \t -> Nectarine\n",
      "\t 438 \t+ 146 \t= 584 \t -> Onion White\n",
      "\t 492 \t+ 164 \t= 656 \t -> Peach Flat\n",
      "\t 492 \t+ 164 \t= 656 \t -> Pear Williams\n",
      "\t 421 \t+ 141 \t= 562 \t -> Plum 2\n",
      "\t 450 \t+ 150 \t= 600 \t -> Potato White\n",
      "\t 474 \t+ 158 \t= 632 \t -> Watermelon\n",
      "Particionamento criado com sucesso!\n"
     ]
    }
   ],
   "source": [
    "criar_treino_teste('./dataset_fruits/', 0.25)"
   ]
  },
  {
   "cell_type": "code",
   "execution_count": 8,
   "metadata": {},
   "outputs": [
    {
     "name": "stdout",
     "output_type": "stream",
     "text": [
      "Found 3384 images belonging to 11 classes.\n",
      "Found 1817 images belonging to 11 classes.\n"
     ]
    }
   ],
   "source": [
    "# DIVIDIR AS IMAGENS EM PARTIÇÃO DE TREINO E VALIDAÇÃO, UTILIZANDO O IMAGEDATAGENERATOR #\n",
    "\n",
    "datagen =  ImageDataGenerator(rescale = 1./255, validation_split=0.35) # comando para reescala\n",
    "\n",
    "# imagens de treino (65%) \n",
    "\n",
    "train_data = datagen.flow_from_directory('dataset_fruits/train',\n",
    "                                         subset='training',\n",
    "                                         batch_size = 64,\n",
    "                                         target_size = (100, 100)) # definindo tamanho das imagens\n",
    "\n",
    "# imagens de validação (35%)\n",
    "\n",
    "valid_data = datagen.flow_from_directory('dataset_fruits/train',\n",
    "                                         subset='validation',\n",
    "                                         batch_size = 64,\n",
    "                                         target_size = (100, 100))"
   ]
  },
  {
   "cell_type": "code",
   "execution_count": 9,
   "metadata": {},
   "outputs": [],
   "source": [
    "# DEFININDO O COMANDO EARLYSTOPPING #\n",
    "\n",
    "es = EarlyStopping(monitor='val_accuracy', mode='max', verbose=1, patience = 13) #early stopping baseado na melhor acurácia de validação"
   ]
  },
  {
   "cell_type": "code",
   "execution_count": 10,
   "metadata": {},
   "outputs": [
    {
     "name": "stdout",
     "output_type": "stream",
     "text": [
      "Epoch 1/100\n",
      "53/53 [==============================] - 53s 1s/step - loss: 2.2004 - accuracy: 0.1841 - val_loss: 1.9783 - val_accuracy: 0.3682\n",
      "Epoch 2/100\n",
      "53/53 [==============================] - 34s 650ms/step - loss: 1.4808 - accuracy: 0.4365 - val_loss: 1.1382 - val_accuracy: 0.8393\n",
      "Epoch 3/100\n",
      "53/53 [==============================] - 34s 648ms/step - loss: 1.0134 - accuracy: 0.6167 - val_loss: 0.8504 - val_accuracy: 0.8498\n",
      "Epoch 4/100\n",
      "53/53 [==============================] - 34s 647ms/step - loss: 0.7310 - accuracy: 0.7275 - val_loss: 0.3846 - val_accuracy: 0.8949\n",
      "Epoch 5/100\n",
      "53/53 [==============================] - 34s 650ms/step - loss: 0.5585 - accuracy: 0.7713 - val_loss: 0.4736 - val_accuracy: 0.8641\n",
      "Epoch 6/100\n",
      "53/53 [==============================] - 35s 656ms/step - loss: 0.5238 - accuracy: 0.7923 - val_loss: 0.3191 - val_accuracy: 0.8635\n",
      "Epoch 7/100\n",
      "53/53 [==============================] - 35s 661ms/step - loss: 0.5043 - accuracy: 0.8070 - val_loss: 0.1989 - val_accuracy: 0.9185\n",
      "Epoch 8/100\n",
      "53/53 [==============================] - 35s 663ms/step - loss: 0.4850 - accuracy: 0.8094 - val_loss: 0.1253 - val_accuracy: 0.9340\n",
      "Epoch 9/100\n",
      "53/53 [==============================] - 35s 667ms/step - loss: 0.4200 - accuracy: 0.8416 - val_loss: 0.3405 - val_accuracy: 0.9103\n",
      "Epoch 10/100\n",
      "53/53 [==============================] - 34s 651ms/step - loss: 0.4215 - accuracy: 0.8330 - val_loss: 0.4395 - val_accuracy: 0.9296\n",
      "Epoch 11/100\n",
      "53/53 [==============================] - 35s 666ms/step - loss: 0.3557 - accuracy: 0.8520 - val_loss: 0.3324 - val_accuracy: 0.9235\n",
      "Epoch 12/100\n",
      "53/53 [==============================] - 35s 652ms/step - loss: 0.3748 - accuracy: 0.8502 - val_loss: 0.0962 - val_accuracy: 0.9543\n",
      "Epoch 13/100\n",
      "53/53 [==============================] - 35s 653ms/step - loss: 0.3638 - accuracy: 0.8457 - val_loss: 0.2464 - val_accuracy: 0.9252\n",
      "Epoch 14/100\n",
      "53/53 [==============================] - 35s 658ms/step - loss: 0.3280 - accuracy: 0.8655 - val_loss: 0.2994 - val_accuracy: 0.9130\n",
      "Epoch 15/100\n",
      "53/53 [==============================] - 35s 652ms/step - loss: 0.3426 - accuracy: 0.8732 - val_loss: 0.3054 - val_accuracy: 0.9351\n",
      "Epoch 16/100\n",
      "53/53 [==============================] - 35s 655ms/step - loss: 0.3265 - accuracy: 0.8676 - val_loss: 0.4413 - val_accuracy: 0.9092\n",
      "Epoch 17/100\n",
      "53/53 [==============================] - 35s 655ms/step - loss: 0.3017 - accuracy: 0.8777 - val_loss: 0.4743 - val_accuracy: 0.9097\n",
      "Epoch 18/100\n",
      "53/53 [==============================] - 35s 653ms/step - loss: 0.3112 - accuracy: 0.8720 - val_loss: 0.5763 - val_accuracy: 0.9191\n",
      "Epoch 19/100\n",
      "53/53 [==============================] - 35s 654ms/step - loss: 0.3315 - accuracy: 0.8717 - val_loss: 0.2556 - val_accuracy: 0.9241\n",
      "Epoch 20/100\n",
      "53/53 [==============================] - 35s 656ms/step - loss: 0.2961 - accuracy: 0.8777 - val_loss: 0.0242 - val_accuracy: 0.9323\n",
      "Epoch 21/100\n",
      "53/53 [==============================] - 35s 654ms/step - loss: 0.2993 - accuracy: 0.8756 - val_loss: 0.1885 - val_accuracy: 0.9125\n",
      "Epoch 22/100\n",
      "53/53 [==============================] - 35s 656ms/step - loss: 0.2948 - accuracy: 0.8780 - val_loss: 0.4748 - val_accuracy: 0.8943\n",
      "Epoch 23/100\n",
      "53/53 [==============================] - 35s 657ms/step - loss: 0.2562 - accuracy: 0.8939 - val_loss: 0.5227 - val_accuracy: 0.8976\n",
      "Epoch 24/100\n",
      "53/53 [==============================] - 35s 656ms/step - loss: 0.2571 - accuracy: 0.8883 - val_loss: 0.2088 - val_accuracy: 0.9174\n",
      "Epoch 25/100\n",
      "53/53 [==============================] - 35s 653ms/step - loss: 0.2703 - accuracy: 0.8898 - val_loss: 0.2137 - val_accuracy: 0.8668\n",
      "Epoch 00025: early stopping\n"
     ]
    }
   ],
   "source": [
    "# INÍCIO DO TREINO DO MODELO #\n",
    "\n",
    "history = model.fit(train_data,\n",
    "                    epochs=100,\n",
    "                    validation_data=valid_data,\n",
    "                    callbacks = [es],\n",
    "                    verbose=True)\n",
    "\n",
    "# informação: steps_per_epoch = número de imagens / batch_size"
   ]
  },
  {
   "cell_type": "code",
   "execution_count": 11,
   "metadata": {},
   "outputs": [],
   "source": [
    "model.save('model.h5',\n",
    "          overwrite = True) \n",
    "del model\n",
    "\n",
    "with open('trainHistoryDict_model', 'wb') as file_pi:\n",
    "        pickle.dump(history.history, file_pi)"
   ]
  },
  {
   "cell_type": "code",
   "execution_count": 12,
   "metadata": {},
   "outputs": [],
   "source": [
    "model = keras.models.load_model('model.h5')\n",
    "history = pickle.load(open('trainHistoryDict_model', \"rb\"))"
   ]
  },
  {
   "cell_type": "code",
   "execution_count": 13,
   "metadata": {},
   "outputs": [
    {
     "data": {
      "text/plain": [
       "<matplotlib.legend.Legend at 0x2ac9ed38c08>"
      ]
     },
     "execution_count": 13,
     "metadata": {},
     "output_type": "execute_result"
    },
    {
     "data": {
      "image/png": "[encoded data removed]",
      "text/plain": [
       "<Figure size 432x288 with 1 Axes>"
      ]
     },
     "metadata": {
      "needs_background": "light"
     },
     "output_type": "display_data"
    }
   ],
   "source": [
    "# GERANDO GRÁFICO COM RESULTADOS DAS ACURÁCIAS DE TREINO E VALIDAÇÃO #\n",
    "\n",
    "plt.plot(history['accuracy'], label='accuracy_train')\n",
    "plt.plot(history['val_accuracy'], label = 'accuracy_valid')\n",
    "plt.xlabel('Epoch')\n",
    "plt.ylabel('Accuracy')\n",
    "plt.ylim([0, 1])\n",
    "plt.legend(loc='lower right')"
   ]
  },
  {
   "cell_type": "code",
   "execution_count": 14,
   "metadata": {},
   "outputs": [
    {
     "data": {
      "text/plain": [
       "<matplotlib.legend.Legend at 0x2ac9ee48608>"
      ]
     },
     "execution_count": 14,
     "metadata": {},
     "output_type": "execute_result"
    },
    {
     "data": {
      "image/png": "[encoded data removed]",
      "text/plain": [
       "<Figure size 432x288 with 1 Axes>"
      ]
     },
     "metadata": {
      "needs_background": "light"
     },
     "output_type": "display_data"
    }
   ],
   "source": [
    "# GERANDO GRÁFICO COM RESULTADOS DO LOSS DE TREINO E VALIDAÇÃO #\n",
    "\n",
    "plt.plot(history['loss'], label='loss train')\n",
    "plt.plot(history['val_loss'], label='loss val')\n",
    "plt.xlabel('Epoch')\n",
    "plt.ylabel('Loss')\n",
    "plt.ylim([0, 3])\n",
    "plt.legend(loc='lower right')"
   ]
  },
  {
   "cell_type": "code",
   "execution_count": 15,
   "metadata": {},
   "outputs": [
    {
     "name": "stdout",
     "output_type": "stream",
     "text": [
      "Found 1735 images belonging to 11 classes.\n"
     ]
    }
   ],
   "source": [
    "datagen_test =  ImageDataGenerator(rescale = 1./255) # comando para reescala das imagens de teste\n",
    "\n",
    "# imagens de teste\n",
    "\n",
    "test_data = datagen_test.flow_from_directory(directory='dataset_fruits/test',\n",
    "                                             target_size = (100, 100),\n",
    "                                             batch_size = 1,\n",
    "                                             shuffle=False)"
   ]
  },
  {
   "cell_type": "code",
   "execution_count": 16,
   "metadata": {},
   "outputs": [
    {
     "name": "stdout",
     "output_type": "stream",
     "text": [
      "WARNING:tensorflow:sample_weight modes were coerced from\n",
      "  ...\n",
      "    to  \n",
      "  ['...']\n",
      "1735/1735 [==============================] - 14s 8ms/step - loss: 0.1781 - accuracy: 0.9504\n",
      "acurácia nos dados de teste: 0.9504323\n",
      "loss dos dados de teste: 0.178090739673537\n"
     ]
    }
   ],
   "source": [
    "# DEFININDO COMANDO PARA AVALIAR O DESEMPENHO DO MODELO NAS IMAGENS DE TESTE #\n",
    "\n",
    "test_loss, test_acc = model.evaluate(test_data)\n",
    "\n",
    "print(\"acurácia nos dados de teste:\", test_acc)\n",
    "print(\"loss dos dados de teste:\", test_loss)"
   ]
  },
  {
   "cell_type": "code",
   "execution_count": 17,
   "metadata": {},
   "outputs": [
    {
     "name": "stdout",
     "output_type": "stream",
     "text": [
      "(1735,)\n",
      "Accuracy\n",
      "0.9504322766570605\n",
      "Balanced Accuracy\n",
      "0.9500517368810052\n",
      "Confusion Matrix\n",
      "[[164   0   0   0   0   0   0   0   0   0   0]\n",
      " [  0 142   0   0  22   0   0   0   0   0   0]\n",
      " [  0   0 156   0   0   0   0   0   0   0   0]\n",
      " [  0   0   0 164   0   0   0   0   0   0   0]\n",
      " [  0   0   0   0 164   0   0   0   0   0   0]\n",
      " [  0   0   0   0   0 146   0   0   0   0   0]\n",
      " [  0   0   0   0   0   0 144   0   0  20   0]\n",
      " [  0   0   0   0   0   0   0 164   0   0   0]\n",
      " [  0   0   0   0   0   0   0   0 141   0   0]\n",
      " [  0   0   0   0   0  44   0   0   0 106   0]\n",
      " [  0   0   0   0   0   0   0   0   0   0 158]]\n",
      "Classification Report\n"
     ]
    }
   ],
   "source": [
    "Y_pred = model.predict(test_data)\n",
    "y_pred = np.argmax(Y_pred, axis=1)\n",
    "\n",
    "print(y_pred.shape)\n",
    "\n",
    "print('Accuracy')\n",
    "print(accuracy_score(test_data.classes,y_pred))\n",
    "\n",
    "print('Balanced Accuracy')\n",
    "print(balanced_accuracy_score(test_data.classes,y_pred))\n",
    "\n",
    "print('Confusion Matrix')\n",
    "print(confusion_matrix(test_data.classes, y_pred))\n",
    "print('Classification Report')"
   ]
  },
  {
   "cell_type": "markdown",
   "metadata": {},
   "source": [
    "# Primeira estratégia: 100% teste"
   ]
  },
  {
   "cell_type": "code",
   "execution_count": 18,
   "metadata": {},
   "outputs": [],
   "source": [
    "# MONTANDO A ESTRUTURA DA CNN #\n",
    "\n",
    "model_1est = keras.models.load_model('model.h5')"
   ]
  },
  {
   "cell_type": "code",
   "execution_count": 19,
   "metadata": {},
   "outputs": [
    {
     "name": "stdout",
     "output_type": "stream",
     "text": [
      "Model: \"sequential_1\"\n",
      "_________________________________________________________________\n",
      "Layer (type)                 Output Shape              Param #   \n",
      "=================================================================\n",
      "conv2d_1 (Conv2D)            (None, 98, 98, 32)        896       \n",
      "_________________________________________________________________\n",
      "max_pooling2d_1 (MaxPooling2 (None, 49, 49, 32)        0         \n",
      "_________________________________________________________________\n",
      "dropout_1 (Dropout)          (None, 49, 49, 32)        0         \n",
      "_________________________________________________________________\n",
      "conv2d_2 (Conv2D)            (None, 47, 47, 64)        18496     \n",
      "_________________________________________________________________\n",
      "max_pooling2d_2 (MaxPooling2 (None, 23, 23, 64)        0         \n",
      "_________________________________________________________________\n",
      "dropout_2 (Dropout)          (None, 23, 23, 64)        0         \n",
      "_________________________________________________________________\n",
      "conv2d_3 (Conv2D)            (None, 21, 21, 64)        36928     \n",
      "_________________________________________________________________\n",
      "max_pooling2d_3 (MaxPooling2 (None, 10, 10, 64)        0         \n",
      "_________________________________________________________________\n",
      "dropout_3 (Dropout)          (None, 10, 10, 64)        0         \n",
      "_________________________________________________________________\n",
      "flatten_1 (Flatten)          (None, 6400)              0         \n",
      "_________________________________________________________________\n",
      "dense_1 (Dense)              (None, 64)                409664    \n",
      "_________________________________________________________________\n",
      "dropout_4 (Dropout)          (None, 64)                0         \n",
      "_________________________________________________________________\n",
      "dense_2 (Dense)              (None, 11)                715       \n",
      "=================================================================\n",
      "Total params: 466,699\n",
      "Trainable params: 466,699\n",
      "Non-trainable params: 0\n",
      "_________________________________________________________________\n"
     ]
    }
   ],
   "source": [
    "model_1est.summary() # resumo da estrutura, com os parâmetros ajustáveis"
   ]
  },
  {
   "cell_type": "code",
   "execution_count": 20,
   "metadata": {},
   "outputs": [
    {
     "name": "stdout",
     "output_type": "stream",
     "text": [
      "Criando particionamento\n",
      "\t 200 \t+ 1 \t= 201 \t -> agata_potato\n",
      "\t 210 \t+ 1 \t= 211 \t -> diamond_peach\n",
      "\t 211 \t+ 1 \t= 212 \t -> fuji_apple\n",
      "\t 154 \t+ 1 \t= 155 \t -> granny_smith_apple\n",
      "\t 170 \t+ 1 \t= 171 \t -> kiwi\n",
      "\t 246 \t+ 1 \t= 247 \t -> nectarine\n",
      "\t 74 \t+ 1 \t= 75 \t -> onion\n",
      "\t 263 \t+ 1 \t= 264 \t -> plum\n",
      "\t 158 \t+ 1 \t= 159 \t -> spanish_pear\n",
      "\t 105 \t+ 1 \t= 106 \t -> taiti_lime\n",
      "\t 191 \t+ 1 \t= 192 \t -> watermelon\n",
      "Particionamento criado com sucesso!\n"
     ]
    }
   ],
   "source": [
    "criar_treino_teste('./dataset_smkt/', 1)"
   ]
  },
  {
   "cell_type": "code",
   "execution_count": 21,
   "metadata": {},
   "outputs": [
    {
     "name": "stdout",
     "output_type": "stream",
     "text": [
      "Found 1982 images belonging to 11 classes.\n"
     ]
    }
   ],
   "source": [
    "# DIVIDIR AS IMAGENS EM PARTIÇÃO DE TREINO E VALIDAÇÃO, UTILIZANDO O IMAGEDATAGENERATOR #\n",
    "\n",
    "datagen =  ImageDataGenerator(rescale = 1./255) # comando para reescala\n",
    "\n",
    "# imagens de teste (100%) \n",
    "\n",
    "test_data = datagen.flow_from_directory('dataset_smkt/train', \n",
    "                                         batch_size = 1,\n",
    "                                         target_size = (100, 100),\n",
    "                                         shuffle=False) # definindo tamanho das imagens"
   ]
  },
  {
   "cell_type": "code",
   "execution_count": 22,
   "metadata": {},
   "outputs": [
    {
     "name": "stdout",
     "output_type": "stream",
     "text": [
      "WARNING:tensorflow:sample_weight modes were coerced from\n",
      "  ...\n",
      "    to  \n",
      "  ['...']\n",
      "1982/1982 [==============================] - 38s 19ms/step - loss: 11.5916 - accuracy: 0.0989\n",
      "acurácia nos dados de teste: 0.09889001\n",
      "loss dos dados de teste: 11.591568201581042\n"
     ]
    }
   ],
   "source": [
    "# DEFININDO COMANDO PARA AVALIAR O DESEMPENHO DO MODELO NAS IMAGENS DE TESTE #\n",
    "\n",
    "test_loss, test_acc = model_1est.evaluate(test_data)\n",
    "\n",
    "print(\"acurácia nos dados de teste:\", test_acc)\n",
    "print(\"loss dos dados de teste:\", test_loss)"
   ]
  },
  {
   "cell_type": "code",
   "execution_count": 23,
   "metadata": {},
   "outputs": [
    {
     "name": "stdout",
     "output_type": "stream",
     "text": [
      "(1982,)\n",
      "Accuracy\n",
      "0.09889001009081735\n",
      "Balanced Accuracy\n",
      "0.09109867439068293\n",
      "Confusion Matrix\n",
      "[[  0   5   0   0  35   3  46 105   6   0   0]\n",
      " [  0   0   0   0   0   2   5 203   0   0   0]\n",
      " [  0   0   0   0   5  10  28 164   1   0   3]\n",
      " [  0   4   0  23   1   0   0  21   0   0 105]\n",
      " [  0   0   0   0   6   0  14  89   0   0  61]\n",
      " [  0   0   0   0   0   0  27 219   0   0   0]\n",
      " [  0   0   0   0  56   3  14   1   0   0   0]\n",
      " [  0   0   0   0   5   0  63 132   0   0  63]\n",
      " [  0   0   0   3   1   0   4  78  15   0  57]\n",
      " [  0   0   0   0   0   5  27  68   0   0   5]\n",
      " [  1   1   0 169   0   1   1  12   0   0   6]]\n",
      "Classification Report\n"
     ]
    }
   ],
   "source": [
    "Y_pred = model_1est.predict(test_data)\n",
    "y_pred = np.argmax(Y_pred, axis=1)\n",
    "\n",
    "print(y_pred.shape)\n",
    "\n",
    "print('Accuracy')\n",
    "print(accuracy_score(test_data.classes,y_pred))\n",
    "\n",
    "print('Balanced Accuracy')\n",
    "print(balanced_accuracy_score(test_data.classes,y_pred))\n",
    "\n",
    "print('Confusion Matrix')\n",
    "print(confusion_matrix(test_data.classes, y_pred))\n",
    "print('Classification Report')"
   ]
  },
  {
   "cell_type": "markdown",
   "metadata": {},
   "source": [
    "# Segunda estratégia: 50% treino 50% teste"
   ]
  },
  {
   "cell_type": "code",
   "execution_count": 24,
   "metadata": {},
   "outputs": [],
   "source": [
    "# Criando modelo\n",
    "\n",
    "model = keras.models.load_model('model.h5')"
   ]
  },
  {
   "cell_type": "code",
   "execution_count": 25,
   "metadata": {},
   "outputs": [],
   "source": [
    "model.compile(optimizer='adam',\n",
    "              loss=tf.keras.losses.CategoricalCrossentropy(\n",
    "                  from_logits=False,\n",
    "                  label_smoothing=0,                            #configurações da função loss\n",
    "                  reduction=\"auto\",\n",
    "                  name=\"categorical_crossentropy\"),\n",
    "              metrics=['accuracy'])"
   ]
  },
  {
   "cell_type": "code",
   "execution_count": 26,
   "metadata": {},
   "outputs": [
    {
     "name": "stdout",
     "output_type": "stream",
     "text": [
      "Criando particionamento\n",
      "\t 100 \t+ 101 \t= 201 \t -> agata_potato\n",
      "\t 105 \t+ 106 \t= 211 \t -> diamond_peach\n",
      "\t 106 \t+ 106 \t= 212 \t -> fuji_apple\n",
      "\t 77 \t+ 78 \t= 155 \t -> granny_smith_apple\n",
      "\t 85 \t+ 86 \t= 171 \t -> kiwi\n",
      "\t 123 \t+ 124 \t= 247 \t -> nectarine\n",
      "\t 37 \t+ 38 \t= 75 \t -> onion\n",
      "\t 132 \t+ 132 \t= 264 \t -> plum\n",
      "\t 79 \t+ 80 \t= 159 \t -> spanish_pear\n",
      "\t 53 \t+ 53 \t= 106 \t -> taiti_lime\n",
      "\t 96 \t+ 96 \t= 192 \t -> watermelon\n",
      "Particionamento criado com sucesso!\n"
     ]
    }
   ],
   "source": [
    "criar_treino_teste('./dataset_smkt/', 0.5)"
   ]
  },
  {
   "cell_type": "code",
   "execution_count": 27,
   "metadata": {},
   "outputs": [
    {
     "name": "stdout",
     "output_type": "stream",
     "text": [
      "Found 798 images belonging to 11 classes.\n",
      "Found 195 images belonging to 11 classes.\n"
     ]
    }
   ],
   "source": [
    "# DIVIDIR AS IMAGENS EM PARTIÇÃO DE TREINO E VALIDAÇÃO, UTILIZANDO O IMAGEDATAGENERATOR #\n",
    "\n",
    "datagen =  ImageDataGenerator(rescale = 1./255, validation_split=0.2) # comando para reescala + divisão em 20% para validação\n",
    "\n",
    "# imagens de treino (80%) \n",
    "\n",
    "train_data = datagen.flow_from_directory('dataset_smkt/train', \n",
    "                                         subset = 'training',\n",
    "                                         batch_size = 64,\n",
    "                                         target_size = (100, 100)) # definindo tamanho das imagens\n",
    "\n",
    "# imagens de validação (20%)\n",
    "\n",
    "valid_data = datagen.flow_from_directory('dataset_smkt/train',\n",
    "                                         subset = 'validation',\n",
    "                                         batch_size = 64,\n",
    "                                         target_size = (100, 100))"
   ]
  },
  {
   "cell_type": "code",
   "execution_count": 28,
   "metadata": {
    "scrolled": false
   },
   "outputs": [
    {
     "name": "stdout",
     "output_type": "stream",
     "text": [
      "WARNING:tensorflow:sample_weight modes were coerced from\n",
      "  ...\n",
      "    to  \n",
      "  ['...']\n",
      "WARNING:tensorflow:sample_weight modes were coerced from\n",
      "  ...\n",
      "    to  \n",
      "  ['...']\n",
      "Train for 13 steps, validate for 4 steps\n",
      "Epoch 1/100\n",
      "13/13 [==============================] - 23s 2s/step - loss: 7.7780 - accuracy: 0.1053 - val_loss: 2.5619 - val_accuracy: 0.1282\n",
      "Epoch 2/100\n",
      "13/13 [==============================] - 17s 1s/step - loss: 2.4025 - accuracy: 0.1516 - val_loss: 2.3338 - val_accuracy: 0.1231\n",
      "Epoch 3/100\n",
      "13/13 [==============================] - 17s 1s/step - loss: 2.2408 - accuracy: 0.1905 - val_loss: 2.2908 - val_accuracy: 0.1487\n",
      "Epoch 4/100\n",
      "13/13 [==============================] - 17s 1s/step - loss: 2.1368 - accuracy: 0.2331 - val_loss: 2.1675 - val_accuracy: 0.2872\n",
      "Epoch 5/100\n",
      "13/13 [==============================] - 17s 1s/step - loss: 1.9114 - accuracy: 0.3333 - val_loss: 1.9462 - val_accuracy: 0.3231\n",
      "Epoch 6/100\n",
      "13/13 [==============================] - 17s 1s/step - loss: 1.6707 - accuracy: 0.3722 - val_loss: 1.6751 - val_accuracy: 0.4615\n",
      "Epoch 7/100\n",
      "13/13 [==============================] - 17s 1s/step - loss: 1.4372 - accuracy: 0.4737 - val_loss: 1.4993 - val_accuracy: 0.4718\n",
      "Epoch 8/100\n",
      "13/13 [==============================] - 17s 1s/step - loss: 1.2632 - accuracy: 0.5000 - val_loss: 1.3029 - val_accuracy: 0.5128\n",
      "Epoch 9/100\n",
      "13/13 [==============================] - 17s 1s/step - loss: 1.1275 - accuracy: 0.5614 - val_loss: 1.2686 - val_accuracy: 0.4462\n",
      "Epoch 10/100\n",
      "13/13 [==============================] - 17s 1s/step - loss: 1.0998 - accuracy: 0.5727 - val_loss: 1.1657 - val_accuracy: 0.5282\n",
      "Epoch 11/100\n",
      "13/13 [==============================] - 17s 1s/step - loss: 0.9626 - accuracy: 0.6378 - val_loss: 1.0718 - val_accuracy: 0.5333\n",
      "Epoch 12/100\n",
      "13/13 [==============================] - 17s 1s/step - loss: 0.9922 - accuracy: 0.6103 - val_loss: 1.0184 - val_accuracy: 0.5795\n",
      "Epoch 13/100\n",
      "13/13 [==============================] - 16s 1s/step - loss: 0.8712 - accuracy: 0.6754 - val_loss: 0.9552 - val_accuracy: 0.5744\n",
      "Epoch 14/100\n",
      "13/13 [==============================] - 16s 1s/step - loss: 0.8913 - accuracy: 0.6416 - val_loss: 0.9092 - val_accuracy: 0.5897\n",
      "Epoch 15/100\n",
      "13/13 [==============================] - 15s 1s/step - loss: 0.7482 - accuracy: 0.7268 - val_loss: 0.9326 - val_accuracy: 0.5949\n",
      "Epoch 16/100\n",
      "13/13 [==============================] - 16s 1s/step - loss: 0.7857 - accuracy: 0.6805 - val_loss: 0.9502 - val_accuracy: 0.6000\n",
      "Epoch 17/100\n",
      "13/13 [==============================] - 16s 1s/step - loss: 0.7186 - accuracy: 0.7231 - val_loss: 0.9698 - val_accuracy: 0.5846\n",
      "Epoch 18/100\n",
      "13/13 [==============================] - 16s 1s/step - loss: 0.6416 - accuracy: 0.7506 - val_loss: 0.9269 - val_accuracy: 0.5897\n",
      "Epoch 19/100\n",
      "13/13 [==============================] - 16s 1s/step - loss: 0.6643 - accuracy: 0.7356 - val_loss: 0.9152 - val_accuracy: 0.6000\n",
      "Epoch 20/100\n",
      "13/13 [==============================] - 15s 1s/step - loss: 0.6371 - accuracy: 0.7531 - val_loss: 0.8450 - val_accuracy: 0.5897\n",
      "Epoch 21/100\n",
      "13/13 [==============================] - 16s 1s/step - loss: 0.6402 - accuracy: 0.7581 - val_loss: 0.9112 - val_accuracy: 0.5692\n",
      "Epoch 22/100\n",
      "13/13 [==============================] - 15s 1s/step - loss: 0.5895 - accuracy: 0.7757 - val_loss: 0.8175 - val_accuracy: 0.6103\n",
      "Epoch 23/100\n",
      "13/13 [==============================] - 16s 1s/step - loss: 0.5783 - accuracy: 0.7682 - val_loss: 0.7822 - val_accuracy: 0.6256\n",
      "Epoch 24/100\n",
      "13/13 [==============================] - 15s 1s/step - loss: 0.5546 - accuracy: 0.7870 - val_loss: 0.8723 - val_accuracy: 0.6308\n",
      "Epoch 25/100\n",
      "13/13 [==============================] - 16s 1s/step - loss: 0.5009 - accuracy: 0.8158 - val_loss: 0.8861 - val_accuracy: 0.5846\n",
      "Epoch 26/100\n",
      "13/13 [==============================] - 15s 1s/step - loss: 0.5955 - accuracy: 0.7769 - val_loss: 0.8054 - val_accuracy: 0.6000\n",
      "Epoch 27/100\n",
      "13/13 [==============================] - 15s 1s/step - loss: 0.5701 - accuracy: 0.7895 - val_loss: 1.0234 - val_accuracy: 0.5692\n",
      "Epoch 28/100\n",
      "13/13 [==============================] - 15s 1s/step - loss: 0.5048 - accuracy: 0.8008 - val_loss: 0.8992 - val_accuracy: 0.5795\n",
      "Epoch 29/100\n",
      "13/13 [==============================] - 16s 1s/step - loss: 0.4858 - accuracy: 0.8058 - val_loss: 0.8929 - val_accuracy: 0.6462\n",
      "Epoch 30/100\n",
      "13/13 [==============================] - 15s 1s/step - loss: 0.4681 - accuracy: 0.8070 - val_loss: 0.8979 - val_accuracy: 0.6051\n",
      "Epoch 31/100\n",
      "13/13 [==============================] - 15s 1s/step - loss: 0.4549 - accuracy: 0.8208 - val_loss: 0.8958 - val_accuracy: 0.6205\n",
      "Epoch 32/100\n",
      "13/13 [==============================] - 16s 1s/step - loss: 0.4574 - accuracy: 0.8208 - val_loss: 0.7911 - val_accuracy: 0.6564\n",
      "Epoch 33/100\n",
      "13/13 [==============================] - 16s 1s/step - loss: 0.3668 - accuracy: 0.8559 - val_loss: 0.6957 - val_accuracy: 0.6667\n",
      "Epoch 34/100\n",
      "13/13 [==============================] - 16s 1s/step - loss: 0.3851 - accuracy: 0.8446 - val_loss: 0.7852 - val_accuracy: 0.6821\n",
      "Epoch 35/100\n",
      "13/13 [==============================] - 15s 1s/step - loss: 0.4037 - accuracy: 0.8496 - val_loss: 0.8429 - val_accuracy: 0.6564\n",
      "Epoch 36/100\n",
      "13/13 [==============================] - 15s 1s/step - loss: 0.3600 - accuracy: 0.8759 - val_loss: 0.8791 - val_accuracy: 0.6256\n",
      "Epoch 37/100\n",
      "13/13 [==============================] - 15s 1s/step - loss: 0.4115 - accuracy: 0.8459 - val_loss: 0.7679 - val_accuracy: 0.6718\n",
      "Epoch 38/100\n",
      "13/13 [==============================] - 15s 1s/step - loss: 0.4050 - accuracy: 0.8484 - val_loss: 0.7891 - val_accuracy: 0.6769\n",
      "Epoch 39/100\n",
      "13/13 [==============================] - 15s 1s/step - loss: 0.3675 - accuracy: 0.8622 - val_loss: 0.6891 - val_accuracy: 0.7128\n",
      "Epoch 40/100\n",
      "13/13 [==============================] - 16s 1s/step - loss: 0.3737 - accuracy: 0.8634 - val_loss: 0.7614 - val_accuracy: 0.6974\n",
      "Epoch 41/100\n",
      "13/13 [==============================] - 15s 1s/step - loss: 0.3568 - accuracy: 0.8571 - val_loss: 0.6476 - val_accuracy: 0.7282\n",
      "Epoch 42/100\n",
      "13/13 [==============================] - 16s 1s/step - loss: 0.3581 - accuracy: 0.8634 - val_loss: 0.8052 - val_accuracy: 0.6154\n",
      "Epoch 43/100\n",
      "13/13 [==============================] - 15s 1s/step - loss: 0.3659 - accuracy: 0.8609 - val_loss: 0.8214 - val_accuracy: 0.6410\n",
      "Epoch 44/100\n",
      "13/13 [==============================] - 16s 1s/step - loss: 0.3145 - accuracy: 0.8747 - val_loss: 0.9078 - val_accuracy: 0.6769\n",
      "Epoch 45/100\n",
      "13/13 [==============================] - 15s 1s/step - loss: 0.3676 - accuracy: 0.8684 - val_loss: 0.7943 - val_accuracy: 0.6872\n",
      "Epoch 46/100\n",
      "13/13 [==============================] - 15s 1s/step - loss: 0.2872 - accuracy: 0.8885 - val_loss: 0.7560 - val_accuracy: 0.7282\n",
      "Epoch 47/100\n",
      "13/13 [==============================] - 15s 1s/step - loss: 0.3059 - accuracy: 0.8747 - val_loss: 0.6499 - val_accuracy: 0.7333\n",
      "Epoch 48/100\n",
      "13/13 [==============================] - 16s 1s/step - loss: 0.3051 - accuracy: 0.8709 - val_loss: 0.7559 - val_accuracy: 0.6513\n",
      "Epoch 49/100\n",
      "13/13 [==============================] - 16s 1s/step - loss: 0.3534 - accuracy: 0.8684 - val_loss: 0.6828 - val_accuracy: 0.7026\n",
      "Epoch 50/100\n",
      "13/13 [==============================] - 15s 1s/step - loss: 0.3243 - accuracy: 0.8784 - val_loss: 0.5997 - val_accuracy: 0.7487\n",
      "Epoch 51/100\n",
      "13/13 [==============================] - 16s 1s/step - loss: 0.2843 - accuracy: 0.8922 - val_loss: 0.5787 - val_accuracy: 0.7436\n",
      "Epoch 52/100\n",
      "13/13 [==============================] - 15s 1s/step - loss: 0.2836 - accuracy: 0.8860 - val_loss: 0.8064 - val_accuracy: 0.7282\n",
      "Epoch 53/100\n",
      "13/13 [==============================] - 16s 1s/step - loss: 0.2739 - accuracy: 0.8772 - val_loss: 0.6766 - val_accuracy: 0.7333\n",
      "Epoch 54/100\n",
      "13/13 [==============================] - 16s 1s/step - loss: 0.2948 - accuracy: 0.8935 - val_loss: 0.8254 - val_accuracy: 0.6923\n",
      "Epoch 55/100\n",
      "13/13 [==============================] - 16s 1s/step - loss: 0.2995 - accuracy: 0.8847 - val_loss: 0.8592 - val_accuracy: 0.6974\n",
      "Epoch 56/100\n",
      "13/13 [==============================] - 16s 1s/step - loss: 0.3283 - accuracy: 0.8697 - val_loss: 0.8565 - val_accuracy: 0.6974\n",
      "Epoch 57/100\n"
     ]
    },
    {
     "name": "stdout",
     "output_type": "stream",
     "text": [
      "13/13 [==============================] - 16s 1s/step - loss: 0.2927 - accuracy: 0.8822 - val_loss: 0.7102 - val_accuracy: 0.7385\n",
      "Epoch 58/100\n",
      "13/13 [==============================] - 16s 1s/step - loss: 0.2989 - accuracy: 0.8734 - val_loss: 0.8145 - val_accuracy: 0.7128\n",
      "Epoch 59/100\n",
      "13/13 [==============================] - 16s 1s/step - loss: 0.2291 - accuracy: 0.9110 - val_loss: 0.8101 - val_accuracy: 0.7026\n",
      "Epoch 60/100\n",
      "13/13 [==============================] - 16s 1s/step - loss: 0.2173 - accuracy: 0.8985 - val_loss: 0.8892 - val_accuracy: 0.6462\n",
      "Epoch 61/100\n",
      "13/13 [==============================] - 16s 1s/step - loss: 0.2324 - accuracy: 0.9135 - val_loss: 1.1445 - val_accuracy: 0.6821\n",
      "Epoch 62/100\n",
      "13/13 [==============================] - 16s 1s/step - loss: 0.2977 - accuracy: 0.8922 - val_loss: 1.2603 - val_accuracy: 0.5949\n",
      "Epoch 63/100\n",
      "13/13 [==============================] - 16s 1s/step - loss: 0.3977 - accuracy: 0.8471 - val_loss: 0.6845 - val_accuracy: 0.6872\n",
      "Epoch 00063: early stopping\n"
     ]
    }
   ],
   "source": [
    "# INÍCIO DO TREINO DO MODELO #\n",
    "\n",
    "history = model.fit(train_data,\n",
    "                    epochs=100,\n",
    "                    validation_data=valid_data,\n",
    "                    callbacks = [es],\n",
    "                    verbose=True)\n",
    "\n",
    "# informação: steps_per_epoch = número de imagens / batch_size"
   ]
  },
  {
   "cell_type": "code",
   "execution_count": 29,
   "metadata": {},
   "outputs": [],
   "source": [
    "model.save('model_2est.h5',\n",
    "          overwrite = True) \n",
    "del model\n",
    "\n",
    "with open('trainHistoryDict_model_2est', 'wb') as file_pi:\n",
    "        pickle.dump(history.history, file_pi)"
   ]
  },
  {
   "cell_type": "code",
   "execution_count": 30,
   "metadata": {},
   "outputs": [],
   "source": [
    "model_2est = keras.models.load_model('model_2est.h5')\n",
    "history = pickle.load(open('trainHistoryDict_model_2est', \"rb\"))"
   ]
  },
  {
   "cell_type": "code",
   "execution_count": 31,
   "metadata": {},
   "outputs": [
    {
     "name": "stdout",
     "output_type": "stream",
     "text": [
      "Model: \"sequential_1\"\n",
      "_________________________________________________________________\n",
      "Layer (type)                 Output Shape              Param #   \n",
      "=================================================================\n",
      "conv2d_1 (Conv2D)            (None, 98, 98, 32)        896       \n",
      "_________________________________________________________________\n",
      "max_pooling2d_1 (MaxPooling2 (None, 49, 49, 32)        0         \n",
      "_________________________________________________________________\n",
      "dropout_1 (Dropout)          (None, 49, 49, 32)        0         \n",
      "_________________________________________________________________\n",
      "conv2d_2 (Conv2D)            (None, 47, 47, 64)        18496     \n",
      "_________________________________________________________________\n",
      "max_pooling2d_2 (MaxPooling2 (None, 23, 23, 64)        0         \n",
      "_________________________________________________________________\n",
      "dropout_2 (Dropout)          (None, 23, 23, 64)        0         \n",
      "_________________________________________________________________\n",
      "conv2d_3 (Conv2D)            (None, 21, 21, 64)        36928     \n",
      "_________________________________________________________________\n",
      "max_pooling2d_3 (MaxPooling2 (None, 10, 10, 64)        0         \n",
      "_________________________________________________________________\n",
      "dropout_3 (Dropout)          (None, 10, 10, 64)        0         \n",
      "_________________________________________________________________\n",
      "flatten_1 (Flatten)          (None, 6400)              0         \n",
      "_________________________________________________________________\n",
      "dense_1 (Dense)              (None, 64)                409664    \n",
      "_________________________________________________________________\n",
      "dropout_4 (Dropout)          (None, 64)                0         \n",
      "_________________________________________________________________\n",
      "dense_2 (Dense)              (None, 11)                715       \n",
      "=================================================================\n",
      "Total params: 466,699\n",
      "Trainable params: 466,699\n",
      "Non-trainable params: 0\n",
      "_________________________________________________________________\n"
     ]
    }
   ],
   "source": [
    "model_2est.summary()"
   ]
  },
  {
   "cell_type": "code",
   "execution_count": 32,
   "metadata": {},
   "outputs": [
    {
     "data": {
      "text/plain": [
       "<matplotlib.legend.Legend at 0x2ac9d41bc88>"
      ]
     },
     "execution_count": 32,
     "metadata": {},
     "output_type": "execute_result"
    },
    {
     "data": {
      "image/png": "[encoded data removed]",
      "text/plain": [
       "<Figure size 432x288 with 1 Axes>"
      ]
     },
     "metadata": {
      "needs_background": "light"
     },
     "output_type": "display_data"
    }
   ],
   "source": [
    "# GERANDO GRÁFICO COM RESULTADOS DAS ACURÁCIAS DE TREINO E VALIDAÇÃO #\n",
    "\n",
    "plt.plot(history['accuracy'], label='accuracy_train')\n",
    "plt.plot(history['val_accuracy'], label = 'accuracy_valid')\n",
    "plt.xlabel('Epoch')\n",
    "plt.ylabel('Accuracy')\n",
    "plt.ylim([0, 1])\n",
    "plt.legend(loc='lower right')"
   ]
  },
  {
   "cell_type": "code",
   "execution_count": 33,
   "metadata": {},
   "outputs": [
    {
     "data": {
      "text/plain": [
       "<matplotlib.legend.Legend at 0x2ac9e896d08>"
      ]
     },
     "execution_count": 33,
     "metadata": {},
     "output_type": "execute_result"
    },
    {
     "data": {
      "image/png": "[encoded data removed]",
      "text/plain": [
       "<Figure size 432x288 with 1 Axes>"
      ]
     },
     "metadata": {
      "needs_background": "light"
     },
     "output_type": "display_data"
    }
   ],
   "source": [
    "# GERANDO GRÁFICO COM RESULTADOS DO LOSS DE TREINO E VALIDAÇÃO #\n",
    "\n",
    "plt.plot(history['loss'], label='loss train')\n",
    "plt.plot(history['val_loss'], label='loss val')\n",
    "plt.xlabel('Epoch')\n",
    "plt.ylabel('Loss')\n",
    "plt.ylim([0, 3])\n",
    "plt.legend(loc='lower right')"
   ]
  },
  {
   "cell_type": "code",
   "execution_count": 34,
   "metadata": {},
   "outputs": [
    {
     "name": "stdout",
     "output_type": "stream",
     "text": [
      "Found 1000 images belonging to 11 classes.\n"
     ]
    }
   ],
   "source": [
    "datagen_test =  ImageDataGenerator(rescale = 1./255) # comando para reescala das imagens de teste\n",
    "\n",
    "# imagens de teste\n",
    "\n",
    "test_data = datagen_test.flow_from_directory(directory='dataset_smkt/test',\n",
    "                                             target_size = (100, 100),\n",
    "                                             batch_size = 1,\n",
    "                                             shuffle=False)"
   ]
  },
  {
   "cell_type": "code",
   "execution_count": 35,
   "metadata": {},
   "outputs": [
    {
     "name": "stdout",
     "output_type": "stream",
     "text": [
      "WARNING:tensorflow:sample_weight modes were coerced from\n",
      "  ...\n",
      "    to  \n",
      "  ['...']\n",
      "1000/1000 [==============================] - 17s 17ms/step - loss: 0.4855 - accuracy: 0.8450\n",
      "acurácia nos dados de teste: 0.845\n",
      "loss dos dados de teste: 0.485529463907189\n"
     ]
    }
   ],
   "source": [
    "# DEFININDO COMANDO PARA AVALIAR O DESEMPENHO DO MODELO NAS IMAGENS DE TESTE #\n",
    "\n",
    "test_loss, test_acc = model_2est.evaluate(test_data) # verificar versão do Keras\n",
    "\n",
    "print(\"acurácia nos dados de teste:\", test_acc)\n",
    "print(\"loss dos dados de teste:\", test_loss)"
   ]
  },
  {
   "cell_type": "code",
   "execution_count": 36,
   "metadata": {},
   "outputs": [
    {
     "name": "stdout",
     "output_type": "stream",
     "text": [
      "(1000,)\n",
      "Accuracy\n",
      "0.845\n",
      "Balanced Accuracy\n",
      "0.8453639477820925\n",
      "Confusion Matrix\n",
      "[[101   0   0   0   0   0   0   0   0   0   0]\n",
      " [  0  55  31   0   0   0   0   0  20   0   0]\n",
      " [  0   2  90   0   0   4   0   0  10   0   0]\n",
      " [  2   0   0  56   0   0   0   0   0   0  20]\n",
      " [ 10   1   0   0  41  23   0   3   8   0   0]\n",
      " [  0   0   2   0   1 121   0   0   0   0   0]\n",
      " [  2   0   0   0   0   0  36   0   0   0   0]\n",
      " [  0   0   1   0   0   3   0 128   0   0   0]\n",
      " [  3   1   0   0   0   0   2   0  73   0   1]\n",
      " [  0   0   0   0   0   0   0   0   0  51   2]\n",
      " [  2   0   0   0   0   0   0   0   1   0  93]]\n",
      "Classification Report\n"
     ]
    }
   ],
   "source": [
    "Y_pred = model_2est.predict(test_data)\n",
    "y_pred = np.argmax(Y_pred, axis=1)\n",
    "\n",
    "print(y_pred.shape)\n",
    "\n",
    "print('Accuracy')\n",
    "print(accuracy_score(test_data.classes,y_pred))\n",
    "\n",
    "print('Balanced Accuracy')\n",
    "print(balanced_accuracy_score(test_data.classes,y_pred))\n",
    "\n",
    "print('Confusion Matrix')\n",
    "print(confusion_matrix(test_data.classes, y_pred))\n",
    "print('Classification Report')"
   ]
  },
  {
   "cell_type": "markdown",
   "metadata": {},
   "source": [
    "# Terceira estratégia: 70% treino e 30% teste"
   ]
  },
  {
   "cell_type": "code",
   "execution_count": 37,
   "metadata": {},
   "outputs": [],
   "source": [
    "# Criando modelo\n",
    "\n",
    "model = keras.models.load_model('model.h5')"
   ]
  },
  {
   "cell_type": "code",
   "execution_count": 38,
   "metadata": {},
   "outputs": [],
   "source": [
    "model.compile(optimizer='adam',\n",
    "              loss=tf.keras.losses.CategoricalCrossentropy(\n",
    "                  from_logits=False,\n",
    "                  label_smoothing=0,                            #configurações da função loss\n",
    "                  reduction=\"auto\",\n",
    "                  name=\"categorical_crossentropy\"),\n",
    "              metrics=['accuracy'])"
   ]
  },
  {
   "cell_type": "code",
   "execution_count": 39,
   "metadata": {},
   "outputs": [
    {
     "name": "stdout",
     "output_type": "stream",
     "text": [
      "Criando particionamento\n",
      "\t 140 \t+ 61 \t= 201 \t -> agata_potato\n",
      "\t 147 \t+ 64 \t= 211 \t -> diamond_peach\n",
      "\t 148 \t+ 64 \t= 212 \t -> fuji_apple\n",
      "\t 108 \t+ 47 \t= 155 \t -> granny_smith_apple\n",
      "\t 119 \t+ 52 \t= 171 \t -> kiwi\n",
      "\t 172 \t+ 75 \t= 247 \t -> nectarine\n",
      "\t 52 \t+ 23 \t= 75 \t -> onion\n",
      "\t 184 \t+ 80 \t= 264 \t -> plum\n",
      "\t 111 \t+ 48 \t= 159 \t -> spanish_pear\n",
      "\t 74 \t+ 32 \t= 106 \t -> taiti_lime\n",
      "\t 134 \t+ 58 \t= 192 \t -> watermelon\n",
      "Particionamento criado com sucesso!\n"
     ]
    }
   ],
   "source": [
    "criar_treino_teste('./dataset_smkt/', 0.3)"
   ]
  },
  {
   "cell_type": "code",
   "execution_count": 40,
   "metadata": {},
   "outputs": [
    {
     "name": "stdout",
     "output_type": "stream",
     "text": [
      "Found 1117 images belonging to 11 classes.\n",
      "Found 272 images belonging to 11 classes.\n"
     ]
    }
   ],
   "source": [
    "# DIVIDIR AS IMAGENS EM PARTIÇÃO DE TREINO E VALIDAÇÃO, UTILIZANDO O IMAGEDATAGENERATOR #\n",
    "\n",
    "datagen =  ImageDataGenerator(rescale = 1./255, validation_split=0.2) # comando para reescala + divisão em 20% para validação\n",
    "\n",
    "# imagens de treino (80%) \n",
    "\n",
    "train_data = datagen.flow_from_directory('dataset_smkt/train', \n",
    "                                         subset = 'training',\n",
    "                                         batch_size = 64,\n",
    "                                         target_size = (100, 100)) # definindo tamanho das imagens\n",
    "\n",
    "# imagens de validação (20%)\n",
    "\n",
    "valid_data = datagen.flow_from_directory('dataset_smkt/train',\n",
    "                                         subset='validation',\n",
    "                                         batch_size = 64,\n",
    "                                         target_size = (100, 100))"
   ]
  },
  {
   "cell_type": "code",
   "execution_count": 41,
   "metadata": {},
   "outputs": [
    {
     "name": "stdout",
     "output_type": "stream",
     "text": [
      "WARNING:tensorflow:sample_weight modes were coerced from\n",
      "  ...\n",
      "    to  \n",
      "  ['...']\n",
      "WARNING:tensorflow:sample_weight modes were coerced from\n",
      "  ...\n",
      "    to  \n",
      "  ['...']\n",
      "Train for 18 steps, validate for 5 steps\n",
      "Epoch 1/100\n",
      "18/18 [==============================] - 28s 2s/step - loss: 5.4630 - accuracy: 0.1253 - val_loss: 2.4217 - val_accuracy: 0.0809\n",
      "Epoch 2/100\n",
      "18/18 [==============================] - 22s 1s/step - loss: 2.2766 - accuracy: 0.1755 - val_loss: 2.3084 - val_accuracy: 0.1250\n",
      "Epoch 3/100\n",
      "18/18 [==============================] - 22s 1s/step - loss: 2.0961 - accuracy: 0.2534 - val_loss: 2.1894 - val_accuracy: 0.2022\n",
      "Epoch 4/100\n",
      "18/18 [==============================] - 22s 1s/step - loss: 1.8131 - accuracy: 0.3527 - val_loss: 1.9655 - val_accuracy: 0.4228\n",
      "Epoch 5/100\n",
      "18/18 [==============================] - 25s 1s/step - loss: 1.5394 - accuracy: 0.4244 - val_loss: 1.7469 - val_accuracy: 0.4118\n",
      "Epoch 6/100\n",
      "18/18 [==============================] - 30s 2s/step - loss: 1.2901 - accuracy: 0.5049 - val_loss: 1.6186 - val_accuracy: 0.4816\n",
      "Epoch 7/100\n",
      "18/18 [==============================] - 30s 2s/step - loss: 1.1682 - accuracy: 0.5577 - val_loss: 1.4365 - val_accuracy: 0.5184\n",
      "Epoch 8/100\n",
      "18/18 [==============================] - 28s 2s/step - loss: 1.0420 - accuracy: 0.6303 - val_loss: 1.4282 - val_accuracy: 0.5551\n",
      "Epoch 9/100\n",
      "18/18 [==============================] - 27s 1s/step - loss: 0.9551 - accuracy: 0.6509 - val_loss: 1.2267 - val_accuracy: 0.5956\n",
      "Epoch 10/100\n",
      "18/18 [==============================] - 24s 1s/step - loss: 0.8238 - accuracy: 0.6840 - val_loss: 1.1676 - val_accuracy: 0.6140\n",
      "Epoch 11/100\n",
      "18/18 [==============================] - 25s 1s/step - loss: 0.7857 - accuracy: 0.7099 - val_loss: 1.1747 - val_accuracy: 0.6029\n",
      "Epoch 12/100\n",
      "18/18 [==============================] - 22s 1s/step - loss: 0.7642 - accuracy: 0.7216 - val_loss: 1.1761 - val_accuracy: 0.5772\n",
      "Epoch 13/100\n",
      "18/18 [==============================] - 22s 1s/step - loss: 0.7770 - accuracy: 0.7243 - val_loss: 1.0383 - val_accuracy: 0.6581\n",
      "Epoch 14/100\n",
      "18/18 [==============================] - 22s 1s/step - loss: 0.7055 - accuracy: 0.7359 - val_loss: 1.0219 - val_accuracy: 0.6324\n",
      "Epoch 15/100\n",
      "18/18 [==============================] - 22s 1s/step - loss: 0.6239 - accuracy: 0.7708 - val_loss: 1.0195 - val_accuracy: 0.6471\n",
      "Epoch 16/100\n",
      "18/18 [==============================] - 22s 1s/step - loss: 0.5641 - accuracy: 0.7977 - val_loss: 0.9319 - val_accuracy: 0.6654\n",
      "Epoch 17/100\n",
      "18/18 [==============================] - 22s 1s/step - loss: 0.5344 - accuracy: 0.7977 - val_loss: 0.9185 - val_accuracy: 0.6544\n",
      "Epoch 18/100\n",
      "18/18 [==============================] - 22s 1s/step - loss: 0.5484 - accuracy: 0.7950 - val_loss: 0.8763 - val_accuracy: 0.6544\n",
      "Epoch 19/100\n",
      "18/18 [==============================] - 22s 1s/step - loss: 0.4815 - accuracy: 0.8120 - val_loss: 0.8656 - val_accuracy: 0.6728\n",
      "Epoch 20/100\n",
      "18/18 [==============================] - 22s 1s/step - loss: 0.4537 - accuracy: 0.8344 - val_loss: 0.8762 - val_accuracy: 0.6838\n",
      "Epoch 21/100\n",
      "18/18 [==============================] - 22s 1s/step - loss: 0.4312 - accuracy: 0.8263 - val_loss: 0.8919 - val_accuracy: 0.6507\n",
      "Epoch 22/100\n",
      "18/18 [==============================] - 21s 1s/step - loss: 0.4231 - accuracy: 0.8308 - val_loss: 0.9385 - val_accuracy: 0.6618\n",
      "Epoch 23/100\n",
      "18/18 [==============================] - 22s 1s/step - loss: 0.4580 - accuracy: 0.8290 - val_loss: 1.0052 - val_accuracy: 0.5993\n",
      "Epoch 24/100\n",
      "18/18 [==============================] - 21s 1s/step - loss: 0.4725 - accuracy: 0.8201 - val_loss: 0.8793 - val_accuracy: 0.6875\n",
      "Epoch 25/100\n",
      "18/18 [==============================] - 22s 1s/step - loss: 0.6210 - accuracy: 0.7735 - val_loss: 1.0412 - val_accuracy: 0.6434\n",
      "Epoch 26/100\n",
      "18/18 [==============================] - 22s 1s/step - loss: 0.4477 - accuracy: 0.8183 - val_loss: 0.8923 - val_accuracy: 0.6875\n",
      "Epoch 27/100\n",
      "18/18 [==============================] - 21s 1s/step - loss: 0.3679 - accuracy: 0.8594 - val_loss: 0.7961 - val_accuracy: 0.7059\n",
      "Epoch 28/100\n",
      "18/18 [==============================] - 23s 1s/step - loss: 0.3312 - accuracy: 0.8711 - val_loss: 0.9438 - val_accuracy: 0.6691\n",
      "Epoch 29/100\n",
      "18/18 [==============================] - 23s 1s/step - loss: 0.3458 - accuracy: 0.8684 - val_loss: 0.7300 - val_accuracy: 0.7206\n",
      "Epoch 30/100\n",
      "18/18 [==============================] - 23s 1s/step - loss: 0.2949 - accuracy: 0.8720 - val_loss: 1.2169 - val_accuracy: 0.6507\n",
      "Epoch 31/100\n",
      "18/18 [==============================] - 22s 1s/step - loss: 0.3194 - accuracy: 0.8666 - val_loss: 0.7409 - val_accuracy: 0.7243\n",
      "Epoch 32/100\n",
      "18/18 [==============================] - 22s 1s/step - loss: 0.2908 - accuracy: 0.8872 - val_loss: 0.6831 - val_accuracy: 0.7426\n",
      "Epoch 33/100\n",
      "18/18 [==============================] - 22s 1s/step - loss: 0.2729 - accuracy: 0.8854 - val_loss: 0.7598 - val_accuracy: 0.7426\n",
      "Epoch 34/100\n",
      "18/18 [==============================] - 22s 1s/step - loss: 0.2935 - accuracy: 0.8800 - val_loss: 0.7242 - val_accuracy: 0.7721\n",
      "Epoch 35/100\n",
      "18/18 [==============================] - 22s 1s/step - loss: 0.2949 - accuracy: 0.8765 - val_loss: 0.7013 - val_accuracy: 0.7426\n",
      "Epoch 36/100\n",
      "18/18 [==============================] - 22s 1s/step - loss: 0.3281 - accuracy: 0.8729 - val_loss: 0.7361 - val_accuracy: 0.7279\n",
      "Epoch 37/100\n",
      "18/18 [==============================] - 22s 1s/step - loss: 0.2966 - accuracy: 0.8791 - val_loss: 0.8765 - val_accuracy: 0.7132\n",
      "Epoch 38/100\n",
      "18/18 [==============================] - 22s 1s/step - loss: 0.2592 - accuracy: 0.8997 - val_loss: 0.7361 - val_accuracy: 0.7684\n",
      "Epoch 39/100\n",
      "18/18 [==============================] - 21s 1s/step - loss: 0.2423 - accuracy: 0.9150 - val_loss: 0.8194 - val_accuracy: 0.6912\n",
      "Epoch 40/100\n",
      "18/18 [==============================] - 22s 1s/step - loss: 0.2515 - accuracy: 0.8997 - val_loss: 0.8126 - val_accuracy: 0.7463\n",
      "Epoch 41/100\n",
      "18/18 [==============================] - 21s 1s/step - loss: 0.2667 - accuracy: 0.8827 - val_loss: 0.8085 - val_accuracy: 0.7721\n",
      "Epoch 42/100\n",
      "18/18 [==============================] - 22s 1s/step - loss: 0.2285 - accuracy: 0.9132 - val_loss: 0.6135 - val_accuracy: 0.7831\n",
      "Epoch 43/100\n",
      "18/18 [==============================] - 22s 1s/step - loss: 0.2266 - accuracy: 0.9069 - val_loss: 0.8794 - val_accuracy: 0.7279\n",
      "Epoch 44/100\n",
      "18/18 [==============================] - 22s 1s/step - loss: 0.2259 - accuracy: 0.9051 - val_loss: 0.8312 - val_accuracy: 0.7279\n",
      "Epoch 45/100\n",
      "18/18 [==============================] - 22s 1s/step - loss: 0.2370 - accuracy: 0.9087 - val_loss: 0.8042 - val_accuracy: 0.6985\n",
      "Epoch 46/100\n",
      "18/18 [==============================] - 22s 1s/step - loss: 0.2157 - accuracy: 0.9158 - val_loss: 0.9510 - val_accuracy: 0.6581\n",
      "Epoch 47/100\n",
      "18/18 [==============================] - 22s 1s/step - loss: 0.2783 - accuracy: 0.8988 - val_loss: 1.0891 - val_accuracy: 0.6765\n",
      "Epoch 48/100\n",
      "18/18 [==============================] - 22s 1s/step - loss: 0.2910 - accuracy: 0.8926 - val_loss: 1.0538 - val_accuracy: 0.7500\n",
      "Epoch 49/100\n",
      "18/18 [==============================] - 22s 1s/step - loss: 0.2877 - accuracy: 0.8926 - val_loss: 0.8364 - val_accuracy: 0.6949\n",
      "Epoch 50/100\n",
      "18/18 [==============================] - 22s 1s/step - loss: 0.2717 - accuracy: 0.8854 - val_loss: 1.0376 - val_accuracy: 0.7096\n",
      "Epoch 51/100\n",
      "18/18 [==============================] - 21s 1s/step - loss: 0.2378 - accuracy: 0.9167 - val_loss: 0.6041 - val_accuracy: 0.7647\n",
      "Epoch 52/100\n",
      "18/18 [==============================] - 22s 1s/step - loss: 0.1946 - accuracy: 0.9194 - val_loss: 0.5792 - val_accuracy: 0.7831\n",
      "Epoch 53/100\n",
      "18/18 [==============================] - 22s 1s/step - loss: 0.1518 - accuracy: 0.9445 - val_loss: 0.6238 - val_accuracy: 0.8199\n",
      "Epoch 54/100\n",
      "18/18 [==============================] - 22s 1s/step - loss: 0.1931 - accuracy: 0.9239 - val_loss: 0.7265 - val_accuracy: 0.7574\n",
      "Epoch 55/100\n",
      "18/18 [==============================] - 22s 1s/step - loss: 0.1954 - accuracy: 0.9230 - val_loss: 0.7118 - val_accuracy: 0.8235\n",
      "Epoch 56/100\n",
      "18/18 [==============================] - 21s 1s/step - loss: 0.1911 - accuracy: 0.9212 - val_loss: 0.7194 - val_accuracy: 0.7684\n",
      "Epoch 57/100\n"
     ]
    },
    {
     "name": "stdout",
     "output_type": "stream",
     "text": [
      "18/18 [==============================] - 22s 1s/step - loss: 0.2279 - accuracy: 0.9078 - val_loss: 0.7646 - val_accuracy: 0.7537\n",
      "Epoch 58/100\n",
      "18/18 [==============================] - 22s 1s/step - loss: 0.2110 - accuracy: 0.9239 - val_loss: 0.6761 - val_accuracy: 0.7500\n",
      "Epoch 59/100\n",
      "18/18 [==============================] - 21s 1s/step - loss: 0.1958 - accuracy: 0.9123 - val_loss: 0.5882 - val_accuracy: 0.7904\n",
      "Epoch 60/100\n",
      "18/18 [==============================] - 22s 1s/step - loss: 0.1833 - accuracy: 0.9257 - val_loss: 0.9150 - val_accuracy: 0.7390\n",
      "Epoch 61/100\n",
      "18/18 [==============================] - 22s 1s/step - loss: 0.1505 - accuracy: 0.9409 - val_loss: 0.8181 - val_accuracy: 0.7390\n",
      "Epoch 62/100\n",
      "18/18 [==============================] - 22s 1s/step - loss: 0.1901 - accuracy: 0.9221 - val_loss: 0.7530 - val_accuracy: 0.7279\n",
      "Epoch 63/100\n",
      "18/18 [==============================] - 22s 1s/step - loss: 0.1906 - accuracy: 0.9167 - val_loss: 0.7614 - val_accuracy: 0.7316\n",
      "Epoch 64/100\n",
      "18/18 [==============================] - 22s 1s/step - loss: 0.1541 - accuracy: 0.9320 - val_loss: 0.7166 - val_accuracy: 0.7463\n",
      "Epoch 65/100\n",
      "18/18 [==============================] - 22s 1s/step - loss: 0.1652 - accuracy: 0.9230 - val_loss: 1.0997 - val_accuracy: 0.7096\n",
      "Epoch 66/100\n",
      "18/18 [==============================] - 22s 1s/step - loss: 0.1900 - accuracy: 0.9248 - val_loss: 0.7059 - val_accuracy: 0.7794\n",
      "Epoch 67/100\n",
      "18/18 [==============================] - 21s 1s/step - loss: 0.1328 - accuracy: 0.9552 - val_loss: 0.9808 - val_accuracy: 0.7096\n",
      "Epoch 68/100\n",
      "18/18 [==============================] - 21s 1s/step - loss: 0.1710 - accuracy: 0.9293 - val_loss: 0.5587 - val_accuracy: 0.8199\n",
      "Epoch 00068: early stopping\n"
     ]
    }
   ],
   "source": [
    "# INÍCIO DO TREINO DO MODELO #\n",
    "\n",
    "history = model.fit(train_data,\n",
    "                    epochs=100,\n",
    "                    validation_data=valid_data,\n",
    "                    callbacks = [es])\n",
    "\n",
    "# informação: steps_per_epoch = número de imagens / batch_size"
   ]
  },
  {
   "cell_type": "code",
   "execution_count": 42,
   "metadata": {},
   "outputs": [],
   "source": [
    "model.save('model_3est.h5',\n",
    "          overwrite = True) \n",
    "del model\n",
    "\n",
    "with open('trainHistoryDict_model_3est', 'wb') as file_pi:\n",
    "        pickle.dump(history.history, file_pi)"
   ]
  },
  {
   "cell_type": "code",
   "execution_count": 43,
   "metadata": {},
   "outputs": [],
   "source": [
    "model_3est = keras.models.load_model('model_3est.h5')\n",
    "history = pickle.load(open('trainHistoryDict_model_3est', \"rb\"))"
   ]
  },
  {
   "cell_type": "code",
   "execution_count": 44,
   "metadata": {},
   "outputs": [
    {
     "name": "stdout",
     "output_type": "stream",
     "text": [
      "Model: \"sequential_1\"\n",
      "_________________________________________________________________\n",
      "Layer (type)                 Output Shape              Param #   \n",
      "=================================================================\n",
      "conv2d_1 (Conv2D)            (None, 98, 98, 32)        896       \n",
      "_________________________________________________________________\n",
      "max_pooling2d_1 (MaxPooling2 (None, 49, 49, 32)        0         \n",
      "_________________________________________________________________\n",
      "dropout_1 (Dropout)          (None, 49, 49, 32)        0         \n",
      "_________________________________________________________________\n",
      "conv2d_2 (Conv2D)            (None, 47, 47, 64)        18496     \n",
      "_________________________________________________________________\n",
      "max_pooling2d_2 (MaxPooling2 (None, 23, 23, 64)        0         \n",
      "_________________________________________________________________\n",
      "dropout_2 (Dropout)          (None, 23, 23, 64)        0         \n",
      "_________________________________________________________________\n",
      "conv2d_3 (Conv2D)            (None, 21, 21, 64)        36928     \n",
      "_________________________________________________________________\n",
      "max_pooling2d_3 (MaxPooling2 (None, 10, 10, 64)        0         \n",
      "_________________________________________________________________\n",
      "dropout_3 (Dropout)          (None, 10, 10, 64)        0         \n",
      "_________________________________________________________________\n",
      "flatten_1 (Flatten)          (None, 6400)              0         \n",
      "_________________________________________________________________\n",
      "dense_1 (Dense)              (None, 64)                409664    \n",
      "_________________________________________________________________\n",
      "dropout_4 (Dropout)          (None, 64)                0         \n",
      "_________________________________________________________________\n",
      "dense_2 (Dense)              (None, 11)                715       \n",
      "=================================================================\n",
      "Total params: 466,699\n",
      "Trainable params: 466,699\n",
      "Non-trainable params: 0\n",
      "_________________________________________________________________\n"
     ]
    }
   ],
   "source": [
    "model_3est.summary()"
   ]
  },
  {
   "cell_type": "code",
   "execution_count": 45,
   "metadata": {},
   "outputs": [
    {
     "data": {
      "text/plain": [
       "<matplotlib.legend.Legend at 0x2aca74afa08>"
      ]
     },
     "execution_count": 45,
     "metadata": {},
     "output_type": "execute_result"
    },
    {
     "data": {
      "image/png": "[encoded data removed]",
      "text/plain": [
       "<Figure size 432x288 with 1 Axes>"
      ]
     },
     "metadata": {
      "needs_background": "light"
     },
     "output_type": "display_data"
    }
   ],
   "source": [
    "# GERANDO GRÁFICO COM RESULTADOS DAS ACURÁCIAS DE TREINO E VALIDAÇÃO #\n",
    "\n",
    "plt.plot(history['accuracy'], label='accuracy_train')\n",
    "plt.plot(history['val_accuracy'], label = 'accuracy_valid')\n",
    "plt.xlabel('Epoch')\n",
    "plt.ylabel('Accuracy')\n",
    "plt.ylim([0, 1])\n",
    "plt.legend(loc='lower right')"
   ]
  },
  {
   "cell_type": "code",
   "execution_count": 46,
   "metadata": {},
   "outputs": [
    {
     "data": {
      "text/plain": [
       "<matplotlib.legend.Legend at 0x2aca752db08>"
      ]
     },
     "execution_count": 46,
     "metadata": {},
     "output_type": "execute_result"
    },
    {
     "data": {
      "image/png": "[encoded data removed]",
      "text/plain": [
       "<Figure size 432x288 with 1 Axes>"
      ]
     },
     "metadata": {
      "needs_background": "light"
     },
     "output_type": "display_data"
    }
   ],
   "source": [
    "# GERANDO GRÁFICO COM RESULTADOS DO LOSS DE TREINO E VALIDAÇÃO #\n",
    "\n",
    "plt.plot(history['loss'], label='loss train')\n",
    "plt.plot(history['val_loss'], label='loss val')\n",
    "plt.xlabel('Epoch')\n",
    "plt.ylabel('Loss')\n",
    "plt.ylim([0, 3])\n",
    "plt.legend(loc='lower right')"
   ]
  },
  {
   "cell_type": "code",
   "execution_count": 47,
   "metadata": {},
   "outputs": [
    {
     "name": "stdout",
     "output_type": "stream",
     "text": [
      "Found 604 images belonging to 11 classes.\n"
     ]
    }
   ],
   "source": [
    "datagen_test =  ImageDataGenerator(rescale = 1./255) # comando para reescala das imagens de teste\n",
    "\n",
    "# imagens de teste\n",
    "\n",
    "test_data = datagen_test.flow_from_directory(directory='dataset_smkt/test',\n",
    "                                             target_size = (100, 100),\n",
    "                                             batch_size = 1,\n",
    "                                             shuffle=False)"
   ]
  },
  {
   "cell_type": "code",
   "execution_count": 48,
   "metadata": {},
   "outputs": [
    {
     "name": "stdout",
     "output_type": "stream",
     "text": [
      "WARNING:tensorflow:sample_weight modes were coerced from\n",
      "  ...\n",
      "    to  \n",
      "  ['...']\n",
      "604/604 [==============================] - 7s 12ms/step - loss: 0.1530 - accuracy: 0.9354\n",
      "acurácia nos dados de teste: 0.93543047\n",
      "loss dos dados de teste: 0.15297900299767506\n"
     ]
    }
   ],
   "source": [
    "# DEFININDO COMANDO PARA AVALIAR O DESEMPENHO DO MODELO NAS IMAGENS DE TESTE #\n",
    "\n",
    "test_loss, test_acc = model_3est.evaluate(test_data) # verificar versão do Keras\n",
    "\n",
    "print(\"acurácia nos dados de teste:\", test_acc)\n",
    "print(\"loss dos dados de teste:\", test_loss)"
   ]
  },
  {
   "cell_type": "code",
   "execution_count": 49,
   "metadata": {},
   "outputs": [
    {
     "name": "stdout",
     "output_type": "stream",
     "text": [
      "(604,)\n",
      "Accuracy\n",
      "0.9354304635761589\n",
      "Balanced Accuracy\n",
      "0.9349305251321106\n",
      "Confusion Matrix\n",
      "[[57  0  0  0  0  0  0  0  4  0  0]\n",
      " [ 0 51 12  0  0  0  1  0  0  0  0]\n",
      " [ 0  0 61  0  0  0  0  0  3  0  0]\n",
      " [ 0  0  0 44  0  0  0  0  0  0  3]\n",
      " [ 3  0  0  0 42  7  0  0  0  0  0]\n",
      " [ 0  0  0  0  0 75  0  0  0  0  0]\n",
      " [ 1  0  0  0  0  0 22  0  0  0  0]\n",
      " [ 0  0  0  0  0  0  0 80  0  0  0]\n",
      " [ 2  2  0  0  0  0  0  0 44  0  0]\n",
      " [ 0  0  0  0  0  0  0  0  0 32  0]\n",
      " [ 1  0  0  0  0  0  0  0  0  0 57]]\n",
      "Classification Report\n"
     ]
    }
   ],
   "source": [
    "Y_pred = model_3est.predict(test_data)\n",
    "y_pred = np.argmax(Y_pred, axis=1)\n",
    "\n",
    "print(y_pred.shape)\n",
    "\n",
    "print('Accuracy')\n",
    "print(accuracy_score(test_data.classes,y_pred))\n",
    "\n",
    "print('Balanced Accuracy')\n",
    "print(balanced_accuracy_score(test_data.classes,y_pred))\n",
    "\n",
    "print('Confusion Matrix')\n",
    "print(confusion_matrix(test_data.classes, y_pred))\n",
    "print('Classification Report')"
   ]
  },
  {
   "cell_type": "markdown",
   "metadata": {},
   "source": [
    "# Quarta estratégia: 80% treino e 20% teste"
   ]
  },
  {
   "cell_type": "code",
   "execution_count": 50,
   "metadata": {},
   "outputs": [],
   "source": [
    "# Criando modelo\n",
    "\n",
    "model = keras.models.load_model('model.h5')"
   ]
  },
  {
   "cell_type": "code",
   "execution_count": 51,
   "metadata": {},
   "outputs": [],
   "source": [
    "model.compile(optimizer='adam',\n",
    "              loss=tf.keras.losses.CategoricalCrossentropy(\n",
    "                  from_logits=False,\n",
    "                  label_smoothing=0,                            #configurações da função loss\n",
    "                  reduction=\"auto\",\n",
    "                  name=\"categorical_crossentropy\"),\n",
    "              metrics=['accuracy'])"
   ]
  },
  {
   "cell_type": "code",
   "execution_count": 52,
   "metadata": {},
   "outputs": [
    {
     "name": "stdout",
     "output_type": "stream",
     "text": [
      "Criando particionamento\n",
      "\t 160 \t+ 41 \t= 201 \t -> agata_potato\n",
      "\t 168 \t+ 43 \t= 211 \t -> diamond_peach\n",
      "\t 169 \t+ 43 \t= 212 \t -> fuji_apple\n",
      "\t 124 \t+ 31 \t= 155 \t -> granny_smith_apple\n",
      "\t 136 \t+ 35 \t= 171 \t -> kiwi\n",
      "\t 197 \t+ 50 \t= 247 \t -> nectarine\n",
      "\t 60 \t+ 15 \t= 75 \t -> onion\n",
      "\t 211 \t+ 53 \t= 264 \t -> plum\n",
      "\t 127 \t+ 32 \t= 159 \t -> spanish_pear\n",
      "\t 84 \t+ 22 \t= 106 \t -> taiti_lime\n",
      "\t 153 \t+ 39 \t= 192 \t -> watermelon\n",
      "Particionamento criado com sucesso!\n"
     ]
    }
   ],
   "source": [
    "criar_treino_teste('./dataset_smkt/', 0.2)"
   ]
  },
  {
   "cell_type": "code",
   "execution_count": 53,
   "metadata": {},
   "outputs": [
    {
     "name": "stdout",
     "output_type": "stream",
     "text": [
      "Found 1276 images belonging to 11 classes.\n",
      "Found 313 images belonging to 11 classes.\n"
     ]
    }
   ],
   "source": [
    "# DIVIDIR AS IMAGENS EM PARTIÇÃO DE TREINO E VALIDAÇÃO, UTILIZANDO O IMAGEDATAGENERATOR #\n",
    "\n",
    "datagen =  ImageDataGenerator(rescale = 1./255, validation_split=0.2) # comando para reescala + divisão em 20% para validação\n",
    "\n",
    "# imagens de treino (80%) \n",
    "\n",
    "train_data = datagen.flow_from_directory('dataset_smkt/train', \n",
    "                                         subset = 'training',\n",
    "                                         batch_size = 64,\n",
    "                                         target_size = (100, 100)) # definindo tamanho das imagens\n",
    "\n",
    "# imagens de validação (20%)\n",
    "\n",
    "valid_data = datagen.flow_from_directory('dataset_smkt/train',\n",
    "                                         subset='validation',\n",
    "                                         batch_size = 64,\n",
    "                                         target_size = (100, 100))"
   ]
  },
  {
   "cell_type": "code",
   "execution_count": 54,
   "metadata": {},
   "outputs": [
    {
     "name": "stdout",
     "output_type": "stream",
     "text": [
      "WARNING:tensorflow:sample_weight modes were coerced from\n",
      "  ...\n",
      "    to  \n",
      "  ['...']\n",
      "WARNING:tensorflow:sample_weight modes were coerced from\n",
      "  ...\n",
      "    to  \n",
      "  ['...']\n",
      "Train for 20 steps, validate for 5 steps\n",
      "Epoch 1/100\n",
      "20/20 [==============================] - 37s 2s/step - loss: 5.3426 - accuracy: 0.1285 - val_loss: 2.3863 - val_accuracy: 0.0511\n",
      "Epoch 2/100\n",
      "20/20 [==============================] - 25s 1s/step - loss: 2.2821 - accuracy: 0.2030 - val_loss: 2.3385 - val_accuracy: 0.0927\n",
      "Epoch 3/100\n",
      "20/20 [==============================] - 25s 1s/step - loss: 2.0507 - accuracy: 0.3150 - val_loss: 2.1792 - val_accuracy: 0.2780\n",
      "Epoch 4/100\n",
      "20/20 [==============================] - 25s 1s/step - loss: 1.6740 - accuracy: 0.4052 - val_loss: 1.9041 - val_accuracy: 0.3482\n",
      "Epoch 5/100\n",
      "20/20 [==============================] - 25s 1s/step - loss: 1.2929 - accuracy: 0.5345 - val_loss: 1.6827 - val_accuracy: 0.3546\n",
      "Epoch 6/100\n",
      "20/20 [==============================] - 25s 1s/step - loss: 1.0704 - accuracy: 0.6223 - val_loss: 1.5123 - val_accuracy: 0.4696\n",
      "Epoch 7/100\n",
      "20/20 [==============================] - 25s 1s/step - loss: 0.9084 - accuracy: 0.6622 - val_loss: 1.3631 - val_accuracy: 0.5176\n",
      "Epoch 8/100\n",
      "20/20 [==============================] - 25s 1s/step - loss: 0.7598 - accuracy: 0.7335 - val_loss: 1.3475 - val_accuracy: 0.5399\n",
      "Epoch 9/100\n",
      "20/20 [==============================] - 25s 1s/step - loss: 0.6772 - accuracy: 0.7578 - val_loss: 1.4166 - val_accuracy: 0.5240\n",
      "Epoch 10/100\n",
      "20/20 [==============================] - 25s 1s/step - loss: 0.5835 - accuracy: 0.7806 - val_loss: 1.1503 - val_accuracy: 0.5751\n",
      "Epoch 11/100\n",
      "20/20 [==============================] - 25s 1s/step - loss: 0.4995 - accuracy: 0.8190 - val_loss: 1.1388 - val_accuracy: 0.5655\n",
      "Epoch 12/100\n",
      "20/20 [==============================] - 25s 1s/step - loss: 0.4555 - accuracy: 0.8354 - val_loss: 1.0837 - val_accuracy: 0.6070\n",
      "Epoch 13/100\n",
      "20/20 [==============================] - 25s 1s/step - loss: 0.4446 - accuracy: 0.8401 - val_loss: 1.2498 - val_accuracy: 0.5623\n",
      "Epoch 14/100\n",
      "20/20 [==============================] - 25s 1s/step - loss: 0.4087 - accuracy: 0.8448 - val_loss: 1.0482 - val_accuracy: 0.6198\n",
      "Epoch 15/100\n",
      "20/20 [==============================] - 25s 1s/step - loss: 0.4005 - accuracy: 0.8605 - val_loss: 1.0649 - val_accuracy: 0.6230\n",
      "Epoch 16/100\n",
      "20/20 [==============================] - 24s 1s/step - loss: 0.3732 - accuracy: 0.8519 - val_loss: 0.9941 - val_accuracy: 0.6262\n",
      "Epoch 17/100\n",
      "20/20 [==============================] - 24s 1s/step - loss: 0.3524 - accuracy: 0.8660 - val_loss: 1.0789 - val_accuracy: 0.6070\n",
      "Epoch 18/100\n",
      "20/20 [==============================] - 25s 1s/step - loss: 0.3599 - accuracy: 0.8652 - val_loss: 1.1551 - val_accuracy: 0.6070\n",
      "Epoch 19/100\n",
      "20/20 [==============================] - 25s 1s/step - loss: 0.3308 - accuracy: 0.8793 - val_loss: 1.0099 - val_accuracy: 0.6486\n",
      "Epoch 20/100\n",
      "20/20 [==============================] - 25s 1s/step - loss: 0.2943 - accuracy: 0.8911 - val_loss: 1.5186 - val_accuracy: 0.5144\n",
      "Epoch 21/100\n",
      "20/20 [==============================] - 25s 1s/step - loss: 0.3271 - accuracy: 0.8785 - val_loss: 1.1474 - val_accuracy: 0.6006\n",
      "Epoch 22/100\n",
      "20/20 [==============================] - 25s 1s/step - loss: 0.2816 - accuracy: 0.8966 - val_loss: 1.3044 - val_accuracy: 0.5719\n",
      "Epoch 23/100\n",
      "20/20 [==============================] - 25s 1s/step - loss: 0.2770 - accuracy: 0.8997 - val_loss: 0.8240 - val_accuracy: 0.6837\n",
      "Epoch 24/100\n",
      "20/20 [==============================] - 25s 1s/step - loss: 0.2814 - accuracy: 0.8966 - val_loss: 1.3001 - val_accuracy: 0.5495\n",
      "Epoch 25/100\n",
      "20/20 [==============================] - 25s 1s/step - loss: 0.2944 - accuracy: 0.8824 - val_loss: 0.8458 - val_accuracy: 0.6837\n",
      "Epoch 26/100\n",
      "20/20 [==============================] - 25s 1s/step - loss: 0.3046 - accuracy: 0.8864 - val_loss: 1.2207 - val_accuracy: 0.6038\n",
      "Epoch 27/100\n",
      "20/20 [==============================] - 25s 1s/step - loss: 0.3269 - accuracy: 0.8738 - val_loss: 0.8786 - val_accuracy: 0.6997\n",
      "Epoch 28/100\n",
      "20/20 [==============================] - 25s 1s/step - loss: 0.2810 - accuracy: 0.8879 - val_loss: 1.0047 - val_accuracy: 0.6422\n",
      "Epoch 29/100\n",
      "20/20 [==============================] - 25s 1s/step - loss: 0.2978 - accuracy: 0.8817 - val_loss: 0.8703 - val_accuracy: 0.6677\n",
      "Epoch 30/100\n",
      "20/20 [==============================] - 25s 1s/step - loss: 0.1916 - accuracy: 0.9255 - val_loss: 0.9499 - val_accuracy: 0.6581\n",
      "Epoch 31/100\n",
      "20/20 [==============================] - 25s 1s/step - loss: 0.2130 - accuracy: 0.9161 - val_loss: 0.9459 - val_accuracy: 0.7061\n",
      "Epoch 32/100\n",
      "20/20 [==============================] - 25s 1s/step - loss: 0.2808 - accuracy: 0.8934 - val_loss: 0.7179 - val_accuracy: 0.7316\n",
      "Epoch 33/100\n",
      "20/20 [==============================] - 25s 1s/step - loss: 0.2293 - accuracy: 0.9099 - val_loss: 0.7099 - val_accuracy: 0.7540\n",
      "Epoch 34/100\n",
      "20/20 [==============================] - 25s 1s/step - loss: 0.2388 - accuracy: 0.9122 - val_loss: 0.8943 - val_accuracy: 0.6933\n",
      "Epoch 35/100\n",
      "20/20 [==============================] - 25s 1s/step - loss: 0.2444 - accuracy: 0.8989 - val_loss: 0.8751 - val_accuracy: 0.6869\n",
      "Epoch 36/100\n",
      "20/20 [==============================] - 25s 1s/step - loss: 0.2234 - accuracy: 0.9060 - val_loss: 0.9400 - val_accuracy: 0.6869\n",
      "Epoch 37/100\n",
      "20/20 [==============================] - 25s 1s/step - loss: 0.2088 - accuracy: 0.9216 - val_loss: 0.7440 - val_accuracy: 0.7157\n",
      "Epoch 38/100\n",
      "20/20 [==============================] - 25s 1s/step - loss: 0.1978 - accuracy: 0.9248 - val_loss: 0.9016 - val_accuracy: 0.7188\n",
      "Epoch 39/100\n",
      "20/20 [==============================] - 25s 1s/step - loss: 0.2052 - accuracy: 0.9177 - val_loss: 0.8271 - val_accuracy: 0.7125\n",
      "Epoch 40/100\n",
      "20/20 [==============================] - 25s 1s/step - loss: 0.2082 - accuracy: 0.9177 - val_loss: 0.8572 - val_accuracy: 0.7029\n",
      "Epoch 41/100\n",
      "20/20 [==============================] - 25s 1s/step - loss: 0.2171 - accuracy: 0.9232 - val_loss: 1.0048 - val_accuracy: 0.6677\n",
      "Epoch 42/100\n",
      "20/20 [==============================] - 25s 1s/step - loss: 0.1956 - accuracy: 0.9208 - val_loss: 0.7708 - val_accuracy: 0.8019\n",
      "Epoch 43/100\n",
      "20/20 [==============================] - 25s 1s/step - loss: 0.2230 - accuracy: 0.9154 - val_loss: 0.8942 - val_accuracy: 0.6965\n",
      "Epoch 44/100\n",
      "20/20 [==============================] - 25s 1s/step - loss: 0.2617 - accuracy: 0.9075 - val_loss: 0.9378 - val_accuracy: 0.6581\n",
      "Epoch 45/100\n",
      "20/20 [==============================] - 25s 1s/step - loss: 0.1862 - accuracy: 0.9287 - val_loss: 0.8405 - val_accuracy: 0.6933\n",
      "Epoch 46/100\n",
      "20/20 [==============================] - 25s 1s/step - loss: 0.1859 - accuracy: 0.9248 - val_loss: 0.8712 - val_accuracy: 0.7316\n",
      "Epoch 47/100\n",
      "20/20 [==============================] - 25s 1s/step - loss: 0.1707 - accuracy: 0.9334 - val_loss: 1.2366 - val_accuracy: 0.6486\n",
      "Epoch 48/100\n",
      "20/20 [==============================] - 25s 1s/step - loss: 0.1913 - accuracy: 0.9303 - val_loss: 0.8114 - val_accuracy: 0.7380\n",
      "Epoch 49/100\n",
      "20/20 [==============================] - 25s 1s/step - loss: 0.1649 - accuracy: 0.9451 - val_loss: 1.2269 - val_accuracy: 0.6741\n",
      "Epoch 50/100\n",
      "20/20 [==============================] - 25s 1s/step - loss: 0.1708 - accuracy: 0.9357 - val_loss: 1.1267 - val_accuracy: 0.6550\n",
      "Epoch 51/100\n",
      "20/20 [==============================] - 25s 1s/step - loss: 0.1502 - accuracy: 0.9498 - val_loss: 0.8045 - val_accuracy: 0.7476\n",
      "Epoch 52/100\n",
      "20/20 [==============================] - 25s 1s/step - loss: 0.1472 - accuracy: 0.9404 - val_loss: 0.8428 - val_accuracy: 0.7348\n",
      "Epoch 53/100\n",
      "20/20 [==============================] - 25s 1s/step - loss: 0.1297 - accuracy: 0.9538 - val_loss: 0.8971 - val_accuracy: 0.7380\n",
      "Epoch 54/100\n",
      "20/20 [==============================] - 25s 1s/step - loss: 0.1503 - accuracy: 0.9436 - val_loss: 0.9419 - val_accuracy: 0.7316\n",
      "Epoch 55/100\n",
      "20/20 [==============================] - 25s 1s/step - loss: 0.1593 - accuracy: 0.9381 - val_loss: 0.9084 - val_accuracy: 0.7093\n",
      "Epoch 00055: early stopping\n"
     ]
    }
   ],
   "source": [
    "# INÍCIO DO TREINO DO MODELO #\n",
    "\n",
    "history = model.fit(train_data,\n",
    "                    epochs=100,\n",
    "                    validation_data=valid_data,\n",
    "                    callbacks = [es])\n",
    "\n",
    "# informação: steps_per_epoch = número de imagens / batch_size"
   ]
  },
  {
   "cell_type": "code",
   "execution_count": 55,
   "metadata": {},
   "outputs": [],
   "source": [
    "model.save('model_4est.h5',\n",
    "          overwrite = True) \n",
    "del model\n",
    "\n",
    "with open('trainHistoryDict_model_4est', 'wb') as file_pi:\n",
    "        pickle.dump(history.history, file_pi)"
   ]
  },
  {
   "cell_type": "code",
   "execution_count": 56,
   "metadata": {},
   "outputs": [],
   "source": [
    "model_4est = keras.models.load_model('model_4est.h5')\n",
    "history = pickle.load(open('trainHistoryDict_model_4est', \"rb\"))"
   ]
  },
  {
   "cell_type": "code",
   "execution_count": 57,
   "metadata": {},
   "outputs": [
    {
     "name": "stdout",
     "output_type": "stream",
     "text": [
      "Model: \"sequential_1\"\n",
      "_________________________________________________________________\n",
      "Layer (type)                 Output Shape              Param #   \n",
      "=================================================================\n",
      "conv2d_1 (Conv2D)            (None, 98, 98, 32)        896       \n",
      "_________________________________________________________________\n",
      "max_pooling2d_1 (MaxPooling2 (None, 49, 49, 32)        0         \n",
      "_________________________________________________________________\n",
      "dropout_1 (Dropout)          (None, 49, 49, 32)        0         \n",
      "_________________________________________________________________\n",
      "conv2d_2 (Conv2D)            (None, 47, 47, 64)        18496     \n",
      "_________________________________________________________________\n",
      "max_pooling2d_2 (MaxPooling2 (None, 23, 23, 64)        0         \n",
      "_________________________________________________________________\n",
      "dropout_2 (Dropout)          (None, 23, 23, 64)        0         \n",
      "_________________________________________________________________\n",
      "conv2d_3 (Conv2D)            (None, 21, 21, 64)        36928     \n",
      "_________________________________________________________________\n",
      "max_pooling2d_3 (MaxPooling2 (None, 10, 10, 64)        0         \n",
      "_________________________________________________________________\n",
      "dropout_3 (Dropout)          (None, 10, 10, 64)        0         \n",
      "_________________________________________________________________\n",
      "flatten_1 (Flatten)          (None, 6400)              0         \n",
      "_________________________________________________________________\n",
      "dense_1 (Dense)              (None, 64)                409664    \n",
      "_________________________________________________________________\n",
      "dropout_4 (Dropout)          (None, 64)                0         \n",
      "_________________________________________________________________\n",
      "dense_2 (Dense)              (None, 11)                715       \n",
      "=================================================================\n",
      "Total params: 466,699\n",
      "Trainable params: 466,699\n",
      "Non-trainable params: 0\n",
      "_________________________________________________________________\n"
     ]
    }
   ],
   "source": [
    "model_4est.summary()"
   ]
  },
  {
   "cell_type": "code",
   "execution_count": 58,
   "metadata": {},
   "outputs": [
    {
     "data": {
      "text/plain": [
       "<matplotlib.legend.Legend at 0x2acaa693748>"
      ]
     },
     "execution_count": 58,
     "metadata": {},
     "output_type": "execute_result"
    },
    {
     "data": {
      "image/png": "[encoded data removed]",
      "text/plain": [
       "<Figure size 432x288 with 1 Axes>"
      ]
     },
     "metadata": {
      "needs_background": "light"
     },
     "output_type": "display_data"
    }
   ],
   "source": [
    "# GERANDO GRÁFICO COM RESULTADOS DAS ACURÁCIAS DE TREINO E VALIDAÇÃO #\n",
    "\n",
    "plt.plot(history['accuracy'], label='accuracy_train')\n",
    "plt.plot(history['val_accuracy'], label = 'accuracy_valid')\n",
    "plt.xlabel('Epoch')\n",
    "plt.ylabel('Accuracy')\n",
    "plt.ylim([0, 1])\n",
    "plt.legend(loc='lower right')"
   ]
  },
  {
   "cell_type": "code",
   "execution_count": 59,
   "metadata": {},
   "outputs": [
    {
     "data": {
      "text/plain": [
       "<matplotlib.legend.Legend at 0x2acac2c6f48>"
      ]
     },
     "execution_count": 59,
     "metadata": {},
     "output_type": "execute_result"
    },
    {
     "data": {
      "image/png": "[encoded data removed]",
      "text/plain": [
       "<Figure size 432x288 with 1 Axes>"
      ]
     },
     "metadata": {
      "needs_background": "light"
     },
     "output_type": "display_data"
    }
   ],
   "source": [
    "# GERANDO GRÁFICO COM RESULTADOS DO LOSS DE TREINO E VALIDAÇÃO #\n",
    "\n",
    "plt.plot(history['loss'], label='loss train')\n",
    "plt.plot(history['val_loss'], label='loss val')\n",
    "plt.xlabel('Epoch')\n",
    "plt.ylabel('Loss')\n",
    "plt.ylim([0, 3])\n",
    "plt.legend(loc='lower right')"
   ]
  },
  {
   "cell_type": "code",
   "execution_count": 60,
   "metadata": {},
   "outputs": [
    {
     "name": "stdout",
     "output_type": "stream",
     "text": [
      "Found 404 images belonging to 11 classes.\n"
     ]
    }
   ],
   "source": [
    "datagen_test =  ImageDataGenerator(rescale = 1./255) # comando para reescala das imagens de teste\n",
    "\n",
    "# imagens de teste\n",
    "\n",
    "test_data = datagen_test.flow_from_directory(directory='dataset_smkt/test',\n",
    "                                             target_size = (100, 100),\n",
    "                                             batch_size = 1,\n",
    "                                             shuffle=False)"
   ]
  },
  {
   "cell_type": "code",
   "execution_count": 61,
   "metadata": {},
   "outputs": [
    {
     "name": "stdout",
     "output_type": "stream",
     "text": [
      "WARNING:tensorflow:sample_weight modes were coerced from\n",
      "  ...\n",
      "    to  \n",
      "  ['...']\n",
      "404/404 [==============================] - 7s 17ms/step - loss: 0.1994 - accuracy: 0.9455\n",
      "acurácia nos dados de teste: 0.94554454\n",
      "loss dos dados de teste: 0.19938121981757434\n"
     ]
    }
   ],
   "source": [
    "# DEFININDO COMANDO PARA AVALIAR O DESEMPENHO DO MODELO NAS IMAGENS DE TESTE #\n",
    "\n",
    "test_loss, test_acc = model_4est.evaluate(test_data) # verificar versão do Keras\n",
    "\n",
    "print(\"acurácia nos dados de teste:\", test_acc)\n",
    "print(\"loss dos dados de teste:\", test_loss)"
   ]
  },
  {
   "cell_type": "code",
   "execution_count": 62,
   "metadata": {},
   "outputs": [
    {
     "name": "stdout",
     "output_type": "stream",
     "text": [
      "(404,)\n",
      "Accuracy\n",
      "0.9455445544554455\n",
      "Balanced Accuracy\n",
      "0.948318631508868\n",
      "Confusion Matrix\n",
      "[[36  0  0  0  0  0  0  0  5  0  0]\n",
      " [ 0 40  3  0  0  0  0  0  0  0  0]\n",
      " [ 0  1 40  0  0  1  0  0  1  0  0]\n",
      " [ 0  0  0 31  0  0  0  0  0  0  0]\n",
      " [ 0  0  0  0 28  7  0  0  0  0  0]\n",
      " [ 0  0  0  0  0 50  0  0  0  0  0]\n",
      " [ 0  0  0  0  0  0 15  0  0  0  0]\n",
      " [ 0  0  0  0  0  1  0 52  0  0  0]\n",
      " [ 0  2  0  0  0  0  0  0 30  0  0]\n",
      " [ 0  0  0  0  0  0  0  0  0 22  0]\n",
      " [ 1  0  0  0  0  0  0  0  0  0 38]]\n",
      "Classification Report\n"
     ]
    }
   ],
   "source": [
    "Y_pred = model_4est.predict(test_data)\n",
    "y_pred = np.argmax(Y_pred, axis=1)\n",
    "\n",
    "print(y_pred.shape)\n",
    "\n",
    "print('Accuracy')\n",
    "print(accuracy_score(test_data.classes,y_pred))\n",
    "\n",
    "print('Balanced Accuracy')\n",
    "print(balanced_accuracy_score(test_data.classes,y_pred))\n",
    "\n",
    "print('Confusion Matrix')\n",
    "print(confusion_matrix(test_data.classes, y_pred))\n",
    "print('Classification Report')"
   ]
  },
  {
   "cell_type": "code",
   "execution_count": null,
   "metadata": {},
   "outputs": [],
   "source": []
  }
 ],
 "metadata": {
  "kernelspec": {
   "display_name": "Python 3",
   "language": "python",
   "name": "python3"
  },
  "language_info": {
   "codemirror_mode": {
    "name": "ipython",
    "version": 3
   },
   "file_extension": ".py",
   "mimetype": "text/x-python",
   "name": "python",
   "nbconvert_exporter": "python",
   "pygments_lexer": "ipython3",
   "version": "3.7.7"
  }
 },
 "nbformat": 4,
 "nbformat_minor": 4
}
