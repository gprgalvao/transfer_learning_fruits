{
 "cells": [
  {
   "cell_type": "markdown",
   "metadata": {},
   "source": [
    "# Código testando as estratégias de divisão dos dados para fine-tuning"
   ]
  },
  {
   "cell_type": "markdown",
   "metadata": {},
   "source": [
    "Neste código, será criado um modelo base (\"model\"), o qual será ajustado posteriormente com fine-tuning. O modelo base será treinado e testado utilizando o dataset Fruits 360 (https://www.kaggle.com/moltean/fruits).\n",
    "\n",
    "O fine-tuning será feito com o dataset Supermarket Produce (ROCHA et al., 2010), utilizando diferentes estretégias de divisão dos dados (treino e teste).\n",
    "\n",
    "As estratégias serão as seguintes:\n",
    "- 1ª estratégia (1_est): 100% do dataset para teste (avaliar a capacidade de generalização do modelo base em outra base de dados sem utilizar fine-tuning);\n",
    "- 2ª estratégia (2_est): 50% do dataset para treino e 50% para teste;\n",
    "- 3ª estratégia (3_est): 70% do dataset para treino e 30% para teste;\n",
    "- 4ª estratégia (4_est): 80% do dataset para treino e 20% para teste."
   ]
  },
  {
   "cell_type": "code",
   "execution_count": 1,
   "metadata": {},
   "outputs": [
    {
     "name": "stdout",
     "output_type": "stream",
     "text": [
      "Versão do TensorFlow: 2.5.0\n",
      "versão do Keras: 2.5.0\n"
     ]
    }
   ],
   "source": [
    "import tensorflow as tf\n",
    "print(\"Versão do TensorFlow:\", tf.__version__)\n",
    "\n",
    "from tensorflow import keras\n",
    "print(\"versão do Keras:\", keras.__version__)\n",
    "\n",
    "# IMPORTANDO COMANDOS E FUNÇÕES #\n",
    "\n",
    "import numpy             as np\n",
    "import h5py\n",
    "import matplotlib.pyplot as plt #gerar gráfico\n",
    "import os\n",
    "from keras.preprocessing.image import ImageDataGenerator\n",
    "from keras.callbacks           import EarlyStopping\n",
    "\n",
    "from sklearn.metrics import classification_report, confusion_matrix, balanced_accuracy_score, accuracy_score\n",
    "\n",
    "import pickle\n",
    "\n",
    "# IMPORTANDO LAYERS PARA A CNN #\n",
    "\n",
    "from keras.models import Sequential\n",
    "from keras        import layers\n",
    "from keras.layers import Dropout"
   ]
  },
  {
   "cell_type": "code",
   "execution_count": 2,
   "metadata": {},
   "outputs": [],
   "source": [
    "# Definindo uma semente para treinamento\n",
    "\n",
    "semente = 13\n",
    "\n",
    "from numpy.random import seed\n",
    "seed(semente)\n",
    "\n",
    "tf.random.set_seed(semente)"
   ]
  },
  {
   "cell_type": "code",
   "execution_count": 3,
   "metadata": {},
   "outputs": [],
   "source": [
    "# MONTANDO A ESTRUTURA DA CNN #\n",
    "\n",
    "model = Sequential()\n",
    "model.add(layers.Conv2D(32, (3, 3), activation='relu', input_shape=(100, 100, 3)))\n",
    "model.add(layers.MaxPooling2D((2, 2)))\n",
    "model.add(Dropout(0.5)) # dropout de 50%\n",
    "model.add(layers.Conv2D(64, (3, 3), activation='relu'))\n",
    "model.add(layers.MaxPooling2D((2, 2)))\n",
    "model.add(Dropout(0.5))\n",
    "model.add(layers.Conv2D(64, (3, 3), activation='relu'))\n",
    "model.add(layers.MaxPooling2D((2, 2)))\n",
    "model.add(Dropout(0.5))\n",
    "\n",
    "model.add(layers.Flatten()) # camada de achatamento\n",
    "model.add(layers.Dense(64, activation='relu'))\n",
    "model.add(Dropout(0.5))\n",
    "model.add(layers.Dense(units = 11, activation = 'softmax')) # 11 unidades de saída (11 classes)"
   ]
  },
  {
   "cell_type": "code",
   "execution_count": 4,
   "metadata": {},
   "outputs": [
    {
     "name": "stdout",
     "output_type": "stream",
     "text": [
      "versao do h5py: 3.1.0\n"
     ]
    }
   ],
   "source": [
    "print(\"versao do h5py:\", h5py.__version__)"
   ]
  },
  {
   "cell_type": "code",
   "execution_count": 5,
   "metadata": {},
   "outputs": [
    {
     "name": "stdout",
     "output_type": "stream",
     "text": [
      "Model: \"sequential\"\n",
      "_________________________________________________________________\n",
      "Layer (type)                 Output Shape              Param #   \n",
      "=================================================================\n",
      "conv2d (Conv2D)              (None, 98, 98, 32)        896       \n",
      "_________________________________________________________________\n",
      "max_pooling2d (MaxPooling2D) (None, 49, 49, 32)        0         \n",
      "_________________________________________________________________\n",
      "dropout (Dropout)            (None, 49, 49, 32)        0         \n",
      "_________________________________________________________________\n",
      "conv2d_1 (Conv2D)            (None, 47, 47, 64)        18496     \n",
      "_________________________________________________________________\n",
      "max_pooling2d_1 (MaxPooling2 (None, 23, 23, 64)        0         \n",
      "_________________________________________________________________\n",
      "dropout_1 (Dropout)          (None, 23, 23, 64)        0         \n",
      "_________________________________________________________________\n",
      "conv2d_2 (Conv2D)            (None, 21, 21, 64)        36928     \n",
      "_________________________________________________________________\n",
      "max_pooling2d_2 (MaxPooling2 (None, 10, 10, 64)        0         \n",
      "_________________________________________________________________\n",
      "dropout_2 (Dropout)          (None, 10, 10, 64)        0         \n",
      "_________________________________________________________________\n",
      "flatten (Flatten)            (None, 6400)              0         \n",
      "_________________________________________________________________\n",
      "dense (Dense)                (None, 64)                409664    \n",
      "_________________________________________________________________\n",
      "dropout_3 (Dropout)          (None, 64)                0         \n",
      "_________________________________________________________________\n",
      "dense_1 (Dense)              (None, 11)                715       \n",
      "=================================================================\n",
      "Total params: 466,699\n",
      "Trainable params: 466,699\n",
      "Non-trainable params: 0\n",
      "_________________________________________________________________\n"
     ]
    }
   ],
   "source": [
    "model.summary() # resumo da estrutura, com os parâmetros ajustáveis"
   ]
  },
  {
   "cell_type": "code",
   "execution_count": 6,
   "metadata": {},
   "outputs": [],
   "source": [
    "model.compile(optimizer='adam',\n",
    "              loss=tf.keras.losses.CategoricalCrossentropy(\n",
    "                  from_logits=False,\n",
    "                  label_smoothing=0,                            #configurações da função loss\n",
    "                  reduction=\"auto\",\n",
    "                  name=\"categorical_crossentropy\"),\n",
    "              metrics=['accuracy'])"
   ]
  },
  {
   "cell_type": "code",
   "execution_count": 7,
   "metadata": {},
   "outputs": [],
   "source": [
    "# Importando a função (criada pelo Gustavo) que faz a separação dos dados em treino e teste\n",
    "\n",
    "from functions_extras import criar_treino_teste"
   ]
  },
  {
   "cell_type": "code",
   "execution_count": 8,
   "metadata": {},
   "outputs": [
    {
     "name": "stdout",
     "output_type": "stream",
     "text": [
      "Criando particionamento\n",
      "\t 492 \t+ 164 \t= 656 \t -> apple1\n",
      "\t 492 \t+ 164 \t= 656 \t -> granny_smith_apple\n",
      "\t 466 \t+ 156 \t= 622 \t -> kiwi\n",
      "\t 492 \t+ 164 \t= 656 \t -> lime\n",
      "\t 492 \t+ 164 \t= 656 \t -> nectarine\n",
      "\t 438 \t+ 146 \t= 584 \t -> onion\n",
      "\t 492 \t+ 164 \t= 656 \t -> peach\n",
      "\t 492 \t+ 164 \t= 656 \t -> pear\n",
      "\t 421 \t+ 141 \t= 562 \t -> plum\n",
      "\t 450 \t+ 150 \t= 600 \t -> potato\n",
      "\t 474 \t+ 158 \t= 632 \t -> watermelon\n",
      "Particionamento criado com sucesso!\n"
     ]
    }
   ],
   "source": [
    "criar_treino_teste('./dataset_fruits/', 0.25)"
   ]
  },
  {
   "cell_type": "code",
   "execution_count": 9,
   "metadata": {},
   "outputs": [
    {
     "name": "stdout",
     "output_type": "stream",
     "text": [
      "Found 3384 images belonging to 11 classes.\n",
      "Found 1817 images belonging to 11 classes.\n"
     ]
    }
   ],
   "source": [
    "# DIVIDIR AS IMAGENS EM PARTIÇÃO DE TREINO E VALIDAÇÃO, UTILIZANDO O IMAGEDATAGENERATOR #\n",
    "\n",
    "datagen =  ImageDataGenerator(rescale = 1./255, validation_split=0.35) # comando para reescala\n",
    "\n",
    "# imagens de treino (65%) \n",
    "\n",
    "train_data = datagen.flow_from_directory('dataset_fruits/train',\n",
    "                                         subset='training',\n",
    "                                         batch_size = 64,\n",
    "                                         target_size = (100, 100)) # definindo tamanho das imagens\n",
    "\n",
    "# imagens de validação (35%)\n",
    "\n",
    "valid_data = datagen.flow_from_directory('dataset_fruits/train',\n",
    "                                         subset='validation',\n",
    "                                         batch_size = 64,\n",
    "                                         target_size = (100, 100))"
   ]
  },
  {
   "cell_type": "code",
   "execution_count": 10,
   "metadata": {},
   "outputs": [],
   "source": [
    "# DEFININDO O COMANDO EARLYSTOPPING #\n",
    "\n",
    "es = EarlyStopping(monitor='val_accuracy', mode='max', verbose=1, patience = 13) #early stopping baseado na melhor acurácia de validação"
   ]
  },
  {
   "cell_type": "code",
   "execution_count": 11,
   "metadata": {},
   "outputs": [
    {
     "name": "stdout",
     "output_type": "stream",
     "text": [
      "Epoch 1/100\n",
      "53/53 [==============================] - 54s 707ms/step - loss: 2.3172 - accuracy: 0.1538 - val_loss: 1.4380 - val_accuracy: 0.5905\n",
      "Epoch 2/100\n",
      "53/53 [==============================] - 36s 681ms/step - loss: 1.3867 - accuracy: 0.4676 - val_loss: 0.8626 - val_accuracy: 0.7501\n",
      "Epoch 3/100\n",
      "53/53 [==============================] - 38s 715ms/step - loss: 0.9707 - accuracy: 0.6018 - val_loss: 0.6870 - val_accuracy: 0.8178\n",
      "Epoch 4/100\n",
      "53/53 [==============================] - 39s 731ms/step - loss: 0.8398 - accuracy: 0.6598 - val_loss: 0.5018 - val_accuracy: 0.8542\n",
      "Epoch 5/100\n",
      "53/53 [==============================] - 36s 678ms/step - loss: 0.6264 - accuracy: 0.7376 - val_loss: 0.4173 - val_accuracy: 0.8646\n",
      "Epoch 6/100\n",
      "53/53 [==============================] - 40s 754ms/step - loss: 0.6178 - accuracy: 0.7448 - val_loss: 0.3993 - val_accuracy: 0.8778\n",
      "Epoch 7/100\n",
      "53/53 [==============================] - 39s 731ms/step - loss: 0.5723 - accuracy: 0.7446 - val_loss: 0.3407 - val_accuracy: 0.8965\n",
      "Epoch 8/100\n",
      "53/53 [==============================] - 36s 673ms/step - loss: 0.4667 - accuracy: 0.7948 - val_loss: 0.3331 - val_accuracy: 0.9004\n",
      "Epoch 9/100\n",
      "53/53 [==============================] - 37s 707ms/step - loss: 0.4385 - accuracy: 0.7970 - val_loss: 0.3312 - val_accuracy: 0.9009\n",
      "Epoch 10/100\n",
      "53/53 [==============================] - 36s 687ms/step - loss: 0.4481 - accuracy: 0.8107 - val_loss: 0.3416 - val_accuracy: 0.8861\n",
      "Epoch 11/100\n",
      "53/53 [==============================] - 36s 671ms/step - loss: 0.4424 - accuracy: 0.8060 - val_loss: 0.3273 - val_accuracy: 0.9119\n",
      "Epoch 12/100\n",
      "53/53 [==============================] - 37s 696ms/step - loss: 0.3897 - accuracy: 0.8207 - val_loss: 0.2799 - val_accuracy: 0.9108\n",
      "Epoch 13/100\n",
      "53/53 [==============================] - 35s 665ms/step - loss: 0.3695 - accuracy: 0.8399 - val_loss: 0.2564 - val_accuracy: 0.9318\n",
      "Epoch 14/100\n",
      "53/53 [==============================] - 37s 703ms/step - loss: 0.3460 - accuracy: 0.8497 - val_loss: 0.2376 - val_accuracy: 0.9598\n",
      "Epoch 15/100\n",
      "53/53 [==============================] - 37s 693ms/step - loss: 0.3509 - accuracy: 0.8428 - val_loss: 0.4413 - val_accuracy: 0.9169\n",
      "Epoch 16/100\n",
      "53/53 [==============================] - 35s 666ms/step - loss: 0.3589 - accuracy: 0.8349 - val_loss: 0.1801 - val_accuracy: 0.9494\n",
      "Epoch 17/100\n",
      "53/53 [==============================] - 37s 701ms/step - loss: 0.3548 - accuracy: 0.8436 - val_loss: 0.2029 - val_accuracy: 0.9637\n",
      "Epoch 18/100\n",
      "53/53 [==============================] - 35s 669ms/step - loss: 0.3422 - accuracy: 0.8508 - val_loss: 0.1886 - val_accuracy: 0.9604\n",
      "Epoch 19/100\n",
      "53/53 [==============================] - 37s 691ms/step - loss: 0.2942 - accuracy: 0.8705 - val_loss: 0.2259 - val_accuracy: 0.9659\n",
      "Epoch 20/100\n",
      "53/53 [==============================] - 37s 693ms/step - loss: 0.3054 - accuracy: 0.8525 - val_loss: 0.2546 - val_accuracy: 0.9494\n",
      "Epoch 21/100\n",
      "53/53 [==============================] - 35s 660ms/step - loss: 0.3089 - accuracy: 0.8644 - val_loss: 0.2714 - val_accuracy: 0.9444\n",
      "Epoch 22/100\n",
      "53/53 [==============================] - 37s 700ms/step - loss: 0.2927 - accuracy: 0.8691 - val_loss: 0.2236 - val_accuracy: 0.9417\n",
      "Epoch 23/100\n",
      "53/53 [==============================] - 35s 657ms/step - loss: 0.2892 - accuracy: 0.8677 - val_loss: 0.3909 - val_accuracy: 0.9345\n",
      "Epoch 24/100\n",
      "53/53 [==============================] - 37s 699ms/step - loss: 0.2677 - accuracy: 0.8745 - val_loss: 0.2427 - val_accuracy: 0.9455\n",
      "Epoch 25/100\n",
      "53/53 [==============================] - 37s 706ms/step - loss: 0.2687 - accuracy: 0.8821 - val_loss: 0.4262 - val_accuracy: 0.8514\n",
      "Epoch 26/100\n",
      "53/53 [==============================] - 35s 657ms/step - loss: 0.3261 - accuracy: 0.8465 - val_loss: 0.2555 - val_accuracy: 0.9263\n",
      "Epoch 27/100\n",
      "53/53 [==============================] - 39s 737ms/step - loss: 0.2968 - accuracy: 0.8597 - val_loss: 0.2009 - val_accuracy: 0.9466\n",
      "Epoch 28/100\n",
      "53/53 [==============================] - 35s 670ms/step - loss: 0.2644 - accuracy: 0.8810 - val_loss: 0.2767 - val_accuracy: 0.9406\n",
      "Epoch 29/100\n",
      "53/53 [==============================] - 37s 702ms/step - loss: 0.2778 - accuracy: 0.8684 - val_loss: 0.4498 - val_accuracy: 0.9185\n",
      "Epoch 30/100\n",
      "53/53 [==============================] - 37s 698ms/step - loss: 0.2595 - accuracy: 0.8861 - val_loss: 0.5124 - val_accuracy: 0.9185\n",
      "Epoch 31/100\n",
      "53/53 [==============================] - 35s 669ms/step - loss: 0.2637 - accuracy: 0.8738 - val_loss: 0.2602 - val_accuracy: 0.9433\n",
      "Epoch 32/100\n",
      "53/53 [==============================] - 37s 700ms/step - loss: 0.2977 - accuracy: 0.8655 - val_loss: 0.2757 - val_accuracy: 0.9081\n",
      "Epoch 00032: early stopping\n"
     ]
    }
   ],
   "source": [
    "# INÍCIO DO TREINO DO MODELO #\n",
    "\n",
    "history = model.fit(train_data,\n",
    "                    epochs=100,\n",
    "                    validation_data=valid_data,\n",
    "                    callbacks = [es],\n",
    "                    verbose=True)\n",
    "\n",
    "# informação: steps_per_epoch = número de imagens / batch_size"
   ]
  },
  {
   "cell_type": "code",
   "execution_count": 12,
   "metadata": {},
   "outputs": [],
   "source": [
    "model.save('model.h5',\n",
    "          overwrite = True) \n",
    "del model\n",
    "\n",
    "with open('trainHistoryDict_model', 'wb') as file_pi:\n",
    "        pickle.dump(history.history, file_pi)"
   ]
  },
  {
   "cell_type": "code",
   "execution_count": 13,
   "metadata": {},
   "outputs": [],
   "source": [
    "model = keras.models.load_model('model.h5')\n",
    "history = pickle.load(open('trainHistoryDict_model', \"rb\"))"
   ]
  },
  {
   "cell_type": "code",
   "execution_count": 14,
   "metadata": {},
   "outputs": [
    {
     "data": {
      "text/plain": [
       "<matplotlib.legend.Legend at 0x27c63a2e5e0>"
      ]
     },
     "execution_count": 14,
     "metadata": {},
     "output_type": "execute_result"
    },
    {
     "data": {
      "image/png": "[encoded data removed]",
      "text/plain": [
       "<Figure size 432x288 with 1 Axes>"
      ]
     },
     "metadata": {
      "needs_background": "light"
     },
     "output_type": "display_data"
    }
   ],
   "source": [
    "# GERANDO GRÁFICO COM RESULTADOS DAS ACURÁCIAS DE TREINO E VALIDAÇÃO #\n",
    "\n",
    "plt.plot(history['accuracy'], label='accuracy_train')\n",
    "plt.plot(history['val_accuracy'], label = 'accuracy_valid')\n",
    "plt.xlabel('Epoch')\n",
    "plt.ylabel('Accuracy')\n",
    "plt.ylim([0, 1])\n",
    "plt.legend(loc='lower right')"
   ]
  },
  {
   "cell_type": "code",
   "execution_count": 15,
   "metadata": {},
   "outputs": [
    {
     "data": {
      "text/plain": [
       "<matplotlib.legend.Legend at 0x27c63828610>"
      ]
     },
     "execution_count": 15,
     "metadata": {},
     "output_type": "execute_result"
    },
    {
     "data": {
      "image/png": "[encoded data removed]",
      "text/plain": [
       "<Figure size 432x288 with 1 Axes>"
      ]
     },
     "metadata": {
      "needs_background": "light"
     },
     "output_type": "display_data"
    }
   ],
   "source": [
    "# GERANDO GRÁFICO COM RESULTADOS DO LOSS DE TREINO E VALIDAÇÃO #\n",
    "\n",
    "plt.plot(history['loss'], label='loss train')\n",
    "plt.plot(history['val_loss'], label='loss val')\n",
    "plt.xlabel('Epoch')\n",
    "plt.ylabel('Loss')\n",
    "plt.ylim([0, 3])\n",
    "plt.legend(loc='lower right')"
   ]
  },
  {
   "cell_type": "code",
   "execution_count": 16,
   "metadata": {},
   "outputs": [
    {
     "name": "stdout",
     "output_type": "stream",
     "text": [
      "Found 1735 images belonging to 11 classes.\n"
     ]
    }
   ],
   "source": [
    "datagen_test =  ImageDataGenerator(rescale = 1./255) # comando para reescala das imagens de teste\n",
    "\n",
    "# imagens de teste\n",
    "\n",
    "test_data = datagen_test.flow_from_directory(directory='dataset_fruits/test',\n",
    "                                                      target_size = (100, 100),\n",
    "                                                      batch_size = 64,\n",
    "                                                      shuffle=False)"
   ]
  },
  {
   "cell_type": "code",
   "execution_count": 17,
   "metadata": {},
   "outputs": [
    {
     "name": "stdout",
     "output_type": "stream",
     "text": [
      "28/28 [==============================] - 4s 136ms/step - loss: 0.1000 - accuracy: 0.9648\n",
      "acurácia nos dados de teste: 0.9648414850234985\n",
      "loss dos dados de teste: 0.09997152537107468\n"
     ]
    }
   ],
   "source": [
    "# DEFININDO COMANDO PARA AVALIAR O DESEMPENHO DO MODELO NAS IMAGENS DE TESTE #\n",
    "\n",
    "test_loss, test_acc = model.evaluate(test_data)\n",
    "\n",
    "print(\"acurácia nos dados de teste:\", test_acc)\n",
    "print(\"loss dos dados de teste:\", test_loss)"
   ]
  },
  {
   "cell_type": "code",
   "execution_count": 18,
   "metadata": {},
   "outputs": [
    {
     "name": "stdout",
     "output_type": "stream",
     "text": [
      "(1735,)\n",
      "Accuracy\n",
      "0.9648414985590779\n",
      "Balanced Accuracy\n",
      "0.9642202512934219\n",
      "Confusion Matrix\n",
      "[[160   0   0   0   4   0   0   0   0   0   0]\n",
      " [  0 164   0   0   0   0   0   0   0   0   0]\n",
      " [  0   0 156   0   0   0   0   0   0   0   0]\n",
      " [  0   0   0 164   0   0   0   0   0   0   0]\n",
      " [  0   0   0   0 164   0   0   0   0   0   0]\n",
      " [  0   0   0   0   0 146   0   0   0   0   0]\n",
      " [  0   0   0   0   0  19 145   0   0   0   0]\n",
      " [  0   0   0   0   0   0   0 164   0   0   0]\n",
      " [  0   0   0   0   0   0   0   0 141   0   0]\n",
      " [  0   0   0   0   0  38   0   0   0 112   0]\n",
      " [  0   0   0   0   0   0   0   0   0   0 158]]\n",
      "Classification Report\n"
     ]
    }
   ],
   "source": [
    "Y_pred = model.predict(test_data)\n",
    "y_pred = np.argmax(Y_pred, axis=1)\n",
    "\n",
    "print(y_pred.shape)\n",
    "\n",
    "print('Accuracy')\n",
    "print(accuracy_score(test_data.classes,y_pred)) #procurar outro comando que acesse as classes sem ordená-las automaticamente\n",
    "\n",
    "print('Balanced Accuracy')\n",
    "print(balanced_accuracy_score(test_data.classes,y_pred))\n",
    "\n",
    "print('Confusion Matrix')\n",
    "print(confusion_matrix(test_data.classes, y_pred))\n",
    "print('Classification Report')"
   ]
  },
  {
   "cell_type": "markdown",
   "metadata": {},
   "source": [
    "## Primeira estratégia: 100% teste"
   ]
  },
  {
   "cell_type": "code",
   "execution_count": 19,
   "metadata": {},
   "outputs": [],
   "source": [
    "# MONTANDO A ESTRUTURA DA CNN #\n",
    "\n",
    "model_1est = keras.models.load_model('model.h5')"
   ]
  },
  {
   "cell_type": "code",
   "execution_count": 20,
   "metadata": {},
   "outputs": [
    {
     "name": "stdout",
     "output_type": "stream",
     "text": [
      "Model: \"sequential\"\n",
      "_________________________________________________________________\n",
      "Layer (type)                 Output Shape              Param #   \n",
      "=================================================================\n",
      "conv2d (Conv2D)              (None, 98, 98, 32)        896       \n",
      "_________________________________________________________________\n",
      "max_pooling2d (MaxPooling2D) (None, 49, 49, 32)        0         \n",
      "_________________________________________________________________\n",
      "dropout (Dropout)            (None, 49, 49, 32)        0         \n",
      "_________________________________________________________________\n",
      "conv2d_1 (Conv2D)            (None, 47, 47, 64)        18496     \n",
      "_________________________________________________________________\n",
      "max_pooling2d_1 (MaxPooling2 (None, 23, 23, 64)        0         \n",
      "_________________________________________________________________\n",
      "dropout_1 (Dropout)          (None, 23, 23, 64)        0         \n",
      "_________________________________________________________________\n",
      "conv2d_2 (Conv2D)            (None, 21, 21, 64)        36928     \n",
      "_________________________________________________________________\n",
      "max_pooling2d_2 (MaxPooling2 (None, 10, 10, 64)        0         \n",
      "_________________________________________________________________\n",
      "dropout_2 (Dropout)          (None, 10, 10, 64)        0         \n",
      "_________________________________________________________________\n",
      "flatten (Flatten)            (None, 6400)              0         \n",
      "_________________________________________________________________\n",
      "dense (Dense)                (None, 64)                409664    \n",
      "_________________________________________________________________\n",
      "dropout_3 (Dropout)          (None, 64)                0         \n",
      "_________________________________________________________________\n",
      "dense_1 (Dense)              (None, 11)                715       \n",
      "=================================================================\n",
      "Total params: 466,699\n",
      "Trainable params: 466,699\n",
      "Non-trainable params: 0\n",
      "_________________________________________________________________\n"
     ]
    }
   ],
   "source": [
    "model_1est.summary() # resumo da estrutura, com os parâmetros ajustáveis"
   ]
  },
  {
   "cell_type": "code",
   "execution_count": 21,
   "metadata": {},
   "outputs": [
    {
     "name": "stdout",
     "output_type": "stream",
     "text": [
      "Criando particionamento\n",
      "\t 211 \t+ 1 \t= 212 \t -> apple1\n",
      "\t 154 \t+ 1 \t= 155 \t -> granny_smith_apple\n",
      "\t 170 \t+ 1 \t= 171 \t -> kiwi\n",
      "\t 105 \t+ 1 \t= 106 \t -> lime\n",
      "\t 246 \t+ 1 \t= 247 \t -> nectarine\n",
      "\t 74 \t+ 1 \t= 75 \t -> onion\n",
      "\t 210 \t+ 1 \t= 211 \t -> peach\n",
      "\t 158 \t+ 1 \t= 159 \t -> pear\n",
      "\t 263 \t+ 1 \t= 264 \t -> plum\n",
      "\t 200 \t+ 1 \t= 201 \t -> potato\n",
      "\t 191 \t+ 1 \t= 192 \t -> watermelon\n",
      "Particionamento criado com sucesso!\n"
     ]
    }
   ],
   "source": [
    "criar_treino_teste('./dataset_smkt/', 1)"
   ]
  },
  {
   "cell_type": "code",
   "execution_count": 22,
   "metadata": {},
   "outputs": [
    {
     "name": "stdout",
     "output_type": "stream",
     "text": [
      "Found 1982 images belonging to 11 classes.\n"
     ]
    }
   ],
   "source": [
    "# DIVIDIR AS IMAGENS EM PARTIÇÃO DE TREINO E VALIDAÇÃO, UTILIZANDO O IMAGEDATAGENERATOR #\n",
    "\n",
    "datagen =  ImageDataGenerator(rescale = 1./255) # comando para reescala\n",
    "\n",
    "# imagens de teste (100%) \n",
    "\n",
    "test_data          = datagen.flow_from_directory('dataset_smkt/train', \n",
    "                                                  batch_size = 1,\n",
    "                                                  target_size = (100, 100),\n",
    "                                                  shuffle=False)"
   ]
  },
  {
   "cell_type": "code",
   "execution_count": 23,
   "metadata": {},
   "outputs": [
    {
     "name": "stdout",
     "output_type": "stream",
     "text": [
      "1982/1982 [==============================] - 25s 12ms/step - loss: 15.1384 - accuracy: 0.1080\n",
      "acurácia nos dados de teste: 0.10797174274921417\n",
      "loss dos dados de teste: 15.138442039489746\n"
     ]
    }
   ],
   "source": [
    "# DEFININDO COMANDO PARA AVALIAR O DESEMPENHO DO MODELO NAS IMAGENS DE TESTE #\n",
    "\n",
    "test_loss, test_acc = model_1est.evaluate(test_data)\n",
    "\n",
    "print(\"acurácia nos dados de teste:\", test_acc)\n",
    "print(\"loss dos dados de teste:\", test_loss)"
   ]
  },
  {
   "cell_type": "code",
   "execution_count": 24,
   "metadata": {},
   "outputs": [
    {
     "name": "stdout",
     "output_type": "stream",
     "text": [
      "(1982,)\n",
      "Accuracy\n",
      "0.10797174571140263\n",
      "Balanced Accuracy\n",
      "0.1561500239836446\n",
      "Confusion Matrix\n",
      "[[  0   0   0   0   0   8 130  72   0   0   1]\n",
      " [  0   0   0  20   0   0   6  83   0   0  45]\n",
      " [  3   0   0   3   0   1  19 103   0   0  41]\n",
      " [  0   0   0   0   0   0  28  61   0   4  12]\n",
      " [  0   0   0   0   0   0  75 171   0   0   0]\n",
      " [  3   0   1   0   0  63   3   4   0   0   0]\n",
      " [  0   0   0   0   0  10  49 151   0   0   0]\n",
      " [  2   2   0   2   0   6  28  92  11   1  14]\n",
      " [  0   0   0   0   2   1 207  22   1   0  30]\n",
      " [ 34   0   0   0   3  63   2  97   0   1   0]\n",
      " [  0  14   0  88   0   0   0  80   0   1   8]]\n",
      "Classification Report\n"
     ]
    }
   ],
   "source": [
    "Y_pred = model_1est.predict(test_data)\n",
    "y_pred = np.argmax(Y_pred, axis=1)\n",
    "\n",
    "print(y_pred.shape)\n",
    "\n",
    "print('Accuracy')\n",
    "print(accuracy_score(test_data.classes,y_pred))\n",
    "\n",
    "print('Balanced Accuracy')\n",
    "print(balanced_accuracy_score(test_data.classes,y_pred))\n",
    "\n",
    "print('Confusion Matrix')\n",
    "print(confusion_matrix(test_data.classes, y_pred))\n",
    "print('Classification Report')"
   ]
  },
  {
   "cell_type": "markdown",
   "metadata": {},
   "source": [
    "## Segunda estratégia: 50% treino 50% teste"
   ]
  },
  {
   "cell_type": "code",
   "execution_count": 25,
   "metadata": {},
   "outputs": [],
   "source": [
    "# Criando modelo\n",
    "\n",
    "model = keras.models.load_model('model.h5')"
   ]
  },
  {
   "cell_type": "code",
   "execution_count": 26,
   "metadata": {},
   "outputs": [],
   "source": [
    "model.compile(optimizer='adam',\n",
    "              loss=tf.keras.losses.CategoricalCrossentropy(\n",
    "                  from_logits=False,\n",
    "                  label_smoothing=0,                            #configurações da função loss\n",
    "                  reduction=\"auto\",\n",
    "                  name=\"categorical_crossentropy\"),\n",
    "              metrics=['accuracy'])"
   ]
  },
  {
   "cell_type": "code",
   "execution_count": 27,
   "metadata": {},
   "outputs": [
    {
     "name": "stdout",
     "output_type": "stream",
     "text": [
      "Criando particionamento\n",
      "\t 106 \t+ 106 \t= 212 \t -> apple1\n",
      "\t 77 \t+ 78 \t= 155 \t -> granny_smith_apple\n",
      "\t 85 \t+ 86 \t= 171 \t -> kiwi\n",
      "\t 53 \t+ 53 \t= 106 \t -> lime\n",
      "\t 123 \t+ 124 \t= 247 \t -> nectarine\n",
      "\t 37 \t+ 38 \t= 75 \t -> onion\n",
      "\t 105 \t+ 106 \t= 211 \t -> peach\n",
      "\t 79 \t+ 80 \t= 159 \t -> pear\n",
      "\t 132 \t+ 132 \t= 264 \t -> plum\n",
      "\t 100 \t+ 101 \t= 201 \t -> potato\n",
      "\t 96 \t+ 96 \t= 192 \t -> watermelon\n",
      "Particionamento criado com sucesso!\n"
     ]
    }
   ],
   "source": [
    "criar_treino_teste('./dataset_smkt/', 0.5)"
   ]
  },
  {
   "cell_type": "code",
   "execution_count": 28,
   "metadata": {},
   "outputs": [
    {
     "name": "stdout",
     "output_type": "stream",
     "text": [
      "Found 798 images belonging to 11 classes.\n",
      "Found 195 images belonging to 11 classes.\n"
     ]
    }
   ],
   "source": [
    "# DIVIDIR AS IMAGENS EM PARTIÇÃO DE TREINO E VALIDAÇÃO, UTILIZANDO O IMAGEDATAGENERATOR #\n",
    "\n",
    "datagen =  ImageDataGenerator(rescale = 1./255, validation_split=0.2) # comando para reescala + divisão em 20% para validação\n",
    "\n",
    "# imagens de treino (80%) \n",
    "\n",
    "train_data = datagen.flow_from_directory('dataset_smkt/train', \n",
    "                                         subset = 'training',\n",
    "                                         batch_size = 64,\n",
    "                                         target_size = (100, 100)) # definindo tamanho das imagens\n",
    "\n",
    "# imagens de validação (20%)\n",
    "\n",
    "valid_data = datagen.flow_from_directory('dataset_smkt/train',\n",
    "                                         subset = 'validation',\n",
    "                                         batch_size = 64,\n",
    "                                         target_size = (100, 100))"
   ]
  },
  {
   "cell_type": "code",
   "execution_count": 29,
   "metadata": {
    "scrolled": false
   },
   "outputs": [
    {
     "name": "stdout",
     "output_type": "stream",
     "text": [
      "Epoch 1/100\n",
      "13/13 [==============================] - 18s 1s/step - loss: 8.5270 - accuracy: 0.1053 - val_loss: 2.1769 - val_accuracy: 0.1744\n",
      "Epoch 2/100\n",
      "13/13 [==============================] - 16s 1s/step - loss: 2.3769 - accuracy: 0.1679 - val_loss: 2.1395 - val_accuracy: 0.1487\n",
      "Epoch 3/100\n",
      "13/13 [==============================] - 16s 1s/step - loss: 2.1631 - accuracy: 0.2080 - val_loss: 2.0502 - val_accuracy: 0.1744\n",
      "Epoch 4/100\n",
      "13/13 [==============================] - 15s 1s/step - loss: 1.8903 - accuracy: 0.3496 - val_loss: 1.8975 - val_accuracy: 0.3487\n",
      "Epoch 5/100\n",
      "13/13 [==============================] - 15s 1s/step - loss: 1.6872 - accuracy: 0.4060 - val_loss: 1.7378 - val_accuracy: 0.3846\n",
      "Epoch 6/100\n",
      "13/13 [==============================] - 16s 1s/step - loss: 1.4857 - accuracy: 0.4737 - val_loss: 1.5150 - val_accuracy: 0.4615\n",
      "Epoch 7/100\n",
      "13/13 [==============================] - 15s 1s/step - loss: 1.3192 - accuracy: 0.5426 - val_loss: 1.3905 - val_accuracy: 0.4974\n",
      "Epoch 8/100\n",
      "13/13 [==============================] - 15s 1s/step - loss: 1.1210 - accuracy: 0.6040 - val_loss: 1.1963 - val_accuracy: 0.5744\n",
      "Epoch 9/100\n",
      "13/13 [==============================] - 15s 1s/step - loss: 1.0226 - accuracy: 0.6328 - val_loss: 1.1242 - val_accuracy: 0.5795\n",
      "Epoch 10/100\n",
      "13/13 [==============================] - 16s 1s/step - loss: 0.8875 - accuracy: 0.6905 - val_loss: 1.1077 - val_accuracy: 0.6000\n",
      "Epoch 11/100\n",
      "13/13 [==============================] - 15s 1s/step - loss: 0.7628 - accuracy: 0.7343 - val_loss: 1.0661 - val_accuracy: 0.6256\n",
      "Epoch 12/100\n",
      "13/13 [==============================] - 15s 1s/step - loss: 0.7303 - accuracy: 0.7581 - val_loss: 1.0299 - val_accuracy: 0.6359\n",
      "Epoch 13/100\n",
      "13/13 [==============================] - 15s 1s/step - loss: 0.6828 - accuracy: 0.7607 - val_loss: 1.0158 - val_accuracy: 0.6513\n",
      "Epoch 14/100\n",
      "13/13 [==============================] - 16s 1s/step - loss: 0.6477 - accuracy: 0.7619 - val_loss: 1.0805 - val_accuracy: 0.5744\n",
      "Epoch 15/100\n",
      "13/13 [==============================] - 15s 1s/step - loss: 0.5892 - accuracy: 0.7995 - val_loss: 1.0932 - val_accuracy: 0.5897\n",
      "Epoch 16/100\n",
      "13/13 [==============================] - 15s 1s/step - loss: 0.5502 - accuracy: 0.8008 - val_loss: 1.1189 - val_accuracy: 0.5692\n",
      "Epoch 17/100\n",
      "13/13 [==============================] - 16s 1s/step - loss: 0.5235 - accuracy: 0.8108 - val_loss: 1.0924 - val_accuracy: 0.5487\n",
      "Epoch 18/100\n",
      "13/13 [==============================] - 17s 1s/step - loss: 0.4632 - accuracy: 0.8321 - val_loss: 1.0588 - val_accuracy: 0.5949\n",
      "Epoch 19/100\n",
      "13/13 [==============================] - 15s 1s/step - loss: 0.4847 - accuracy: 0.8271 - val_loss: 1.1789 - val_accuracy: 0.5846\n",
      "Epoch 20/100\n",
      "13/13 [==============================] - 15s 1s/step - loss: 0.4728 - accuracy: 0.8346 - val_loss: 1.1347 - val_accuracy: 0.5744\n",
      "Epoch 21/100\n",
      "13/13 [==============================] - 16s 1s/step - loss: 0.4068 - accuracy: 0.8534 - val_loss: 1.0655 - val_accuracy: 0.6308\n",
      "Epoch 22/100\n",
      "13/13 [==============================] - 16s 1s/step - loss: 0.4008 - accuracy: 0.8496 - val_loss: 1.2406 - val_accuracy: 0.5282\n",
      "Epoch 23/100\n",
      "13/13 [==============================] - 15s 1s/step - loss: 0.3711 - accuracy: 0.8622 - val_loss: 1.2457 - val_accuracy: 0.5692\n",
      "Epoch 24/100\n",
      "13/13 [==============================] - 15s 1s/step - loss: 0.3415 - accuracy: 0.8847 - val_loss: 1.2085 - val_accuracy: 0.5590\n",
      "Epoch 25/100\n",
      "13/13 [==============================] - 16s 1s/step - loss: 0.3550 - accuracy: 0.8584 - val_loss: 1.1652 - val_accuracy: 0.5744\n",
      "Epoch 26/100\n",
      "13/13 [==============================] - 15s 1s/step - loss: 0.3514 - accuracy: 0.8784 - val_loss: 1.0761 - val_accuracy: 0.5949\n",
      "Epoch 00026: early stopping\n"
     ]
    }
   ],
   "source": [
    "# INÍCIO DO TREINO DO MODELO #\n",
    "\n",
    "history = model.fit(train_data,\n",
    "                    epochs=100,\n",
    "                    validation_data=valid_data,\n",
    "                    callbacks = [es],\n",
    "                    verbose=True)\n",
    "\n",
    "# informação: steps_per_epoch = número de imagens / batch_size"
   ]
  },
  {
   "cell_type": "code",
   "execution_count": 30,
   "metadata": {},
   "outputs": [],
   "source": [
    "model.save('model_2est.h5',\n",
    "          overwrite = True) \n",
    "del model\n",
    "\n",
    "with open('trainHistoryDict_model_2est', 'wb') as file_pi:\n",
    "        pickle.dump(history.history, file_pi)"
   ]
  },
  {
   "cell_type": "code",
   "execution_count": 31,
   "metadata": {},
   "outputs": [],
   "source": [
    "model_2est = keras.models.load_model('model_2est.h5')\n",
    "history = pickle.load(open('trainHistoryDict_model_2est', \"rb\"))"
   ]
  },
  {
   "cell_type": "code",
   "execution_count": 32,
   "metadata": {},
   "outputs": [
    {
     "name": "stdout",
     "output_type": "stream",
     "text": [
      "Model: \"sequential\"\n",
      "_________________________________________________________________\n",
      "Layer (type)                 Output Shape              Param #   \n",
      "=================================================================\n",
      "conv2d (Conv2D)              (None, 98, 98, 32)        896       \n",
      "_________________________________________________________________\n",
      "max_pooling2d (MaxPooling2D) (None, 49, 49, 32)        0         \n",
      "_________________________________________________________________\n",
      "dropout (Dropout)            (None, 49, 49, 32)        0         \n",
      "_________________________________________________________________\n",
      "conv2d_1 (Conv2D)            (None, 47, 47, 64)        18496     \n",
      "_________________________________________________________________\n",
      "max_pooling2d_1 (MaxPooling2 (None, 23, 23, 64)        0         \n",
      "_________________________________________________________________\n",
      "dropout_1 (Dropout)          (None, 23, 23, 64)        0         \n",
      "_________________________________________________________________\n",
      "conv2d_2 (Conv2D)            (None, 21, 21, 64)        36928     \n",
      "_________________________________________________________________\n",
      "max_pooling2d_2 (MaxPooling2 (None, 10, 10, 64)        0         \n",
      "_________________________________________________________________\n",
      "dropout_2 (Dropout)          (None, 10, 10, 64)        0         \n",
      "_________________________________________________________________\n",
      "flatten (Flatten)            (None, 6400)              0         \n",
      "_________________________________________________________________\n",
      "dense (Dense)                (None, 64)                409664    \n",
      "_________________________________________________________________\n",
      "dropout_3 (Dropout)          (None, 64)                0         \n",
      "_________________________________________________________________\n",
      "dense_1 (Dense)              (None, 11)                715       \n",
      "=================================================================\n",
      "Total params: 466,699\n",
      "Trainable params: 466,699\n",
      "Non-trainable params: 0\n",
      "_________________________________________________________________\n"
     ]
    }
   ],
   "source": [
    "model_2est.summary()"
   ]
  },
  {
   "cell_type": "code",
   "execution_count": 33,
   "metadata": {},
   "outputs": [
    {
     "data": {
      "text/plain": [
       "<matplotlib.legend.Legend at 0x27c01bd6f70>"
      ]
     },
     "execution_count": 33,
     "metadata": {},
     "output_type": "execute_result"
    },
    {
     "data": {
      "image/png": "[encoded data removed]",
      "text/plain": [
       "<Figure size 432x288 with 1 Axes>"
      ]
     },
     "metadata": {
      "needs_background": "light"
     },
     "output_type": "display_data"
    }
   ],
   "source": [
    "# GERANDO GRÁFICO COM RESULTADOS DAS ACURÁCIAS DE TREINO E VALIDAÇÃO #\n",
    "\n",
    "plt.plot(history['accuracy'], label='accuracy_train')\n",
    "plt.plot(history['val_accuracy'], label = 'accuracy_valid')\n",
    "plt.xlabel('Epoch')\n",
    "plt.ylabel('Accuracy')\n",
    "plt.ylim([0, 1])\n",
    "plt.legend(loc='lower right')"
   ]
  },
  {
   "cell_type": "code",
   "execution_count": 34,
   "metadata": {},
   "outputs": [
    {
     "data": {
      "text/plain": [
       "<matplotlib.legend.Legend at 0x27c01c4dfd0>"
      ]
     },
     "execution_count": 34,
     "metadata": {},
     "output_type": "execute_result"
    },
    {
     "data": {
      "image/png": "[encoded data removed]",
      "text/plain": [
       "<Figure size 432x288 with 1 Axes>"
      ]
     },
     "metadata": {
      "needs_background": "light"
     },
     "output_type": "display_data"
    }
   ],
   "source": [
    "# GERANDO GRÁFICO COM RESULTADOS DO LOSS DE TREINO E VALIDAÇÃO #\n",
    "\n",
    "plt.plot(history['loss'], label='loss train')\n",
    "plt.plot(history['val_loss'], label='loss val')\n",
    "plt.xlabel('Epoch')\n",
    "plt.ylabel('Loss')\n",
    "plt.ylim([0, 3])\n",
    "plt.legend(loc='lower right')"
   ]
  },
  {
   "cell_type": "code",
   "execution_count": 35,
   "metadata": {},
   "outputs": [
    {
     "name": "stdout",
     "output_type": "stream",
     "text": [
      "Found 1000 images belonging to 11 classes.\n"
     ]
    }
   ],
   "source": [
    "datagen_test =  ImageDataGenerator(rescale = 1./255) # comando para reescala das imagens de teste\n",
    "\n",
    "# imagens de teste\n",
    "\n",
    "test_data = datagen_test.flow_from_directory(directory='dataset_smkt/test',\n",
    "                                                      target_size = (100, 100),\n",
    "                                                      batch_size = 64,\n",
    "                                                      shuffle=False)"
   ]
  },
  {
   "cell_type": "code",
   "execution_count": 36,
   "metadata": {},
   "outputs": [
    {
     "name": "stdout",
     "output_type": "stream",
     "text": [
      "16/16 [==============================] - 11s 672ms/step - loss: 0.5773 - accuracy: 0.7930\n",
      "acurácia nos dados de teste: 0.7929999828338623\n",
      "loss dos dados de teste: 0.5773276686668396\n"
     ]
    }
   ],
   "source": [
    "# DEFININDO COMANDO PARA AVALIAR O DESEMPENHO DO MODELO NAS IMAGENS DE TESTE #\n",
    "\n",
    "test_loss, test_acc = model_2est.evaluate(test_data) # verificar versão do Keras\n",
    "\n",
    "print(\"acurácia nos dados de teste:\", test_acc)\n",
    "print(\"loss dos dados de teste:\", test_loss)"
   ]
  },
  {
   "cell_type": "code",
   "execution_count": 37,
   "metadata": {},
   "outputs": [
    {
     "name": "stdout",
     "output_type": "stream",
     "text": [
      "(1000,)\n",
      "Accuracy\n",
      "0.793\n",
      "Balanced Accuracy\n",
      "0.7920026370152563\n",
      "Confusion Matrix\n",
      "[[ 62   0   1   0  32   1   5   5   0   0   0]\n",
      " [  0  73   0   0   0   0   0   1   0   0   4]\n",
      " [  0   1  51   0  22   0   1   7   0   4   0]\n",
      " [  0   6   0  39   0   0   0   1   0   0   7]\n",
      " [ 13   0   3   0 107   0   0   1   0   0   0]\n",
      " [  1   0   0   0   0  32   0   0   0   5   0]\n",
      " [  5   0   9   0   4   0  53  28   0   7   0]\n",
      " [  0   0   3   0   1   1   1  69   0   4   1]\n",
      " [  2   0   0   0   5   0   0   0 125   0   0]\n",
      " [  0   0   0   0   0   0   0   8   0  93   0]\n",
      " [  0   7   0   0   0   0   0   0   0   0  89]]\n",
      "Classification Report\n"
     ]
    }
   ],
   "source": [
    "Y_pred = model_2est.predict(test_data)\n",
    "y_pred = np.argmax(Y_pred, axis=1)\n",
    "\n",
    "print(y_pred.shape)\n",
    "\n",
    "print('Accuracy')\n",
    "print(accuracy_score(test_data.classes,y_pred))\n",
    "\n",
    "print('Balanced Accuracy')\n",
    "print(balanced_accuracy_score(test_data.classes,y_pred))\n",
    "\n",
    "print('Confusion Matrix')\n",
    "print(confusion_matrix(test_data.classes, y_pred))\n",
    "print('Classification Report')"
   ]
  },
  {
   "cell_type": "markdown",
   "metadata": {},
   "source": [
    "## Terceira estratégia: 70% treino e 30% teste"
   ]
  },
  {
   "cell_type": "code",
   "execution_count": 38,
   "metadata": {},
   "outputs": [],
   "source": [
    "# Criando modelo\n",
    "\n",
    "model = keras.models.load_model('model.h5')"
   ]
  },
  {
   "cell_type": "code",
   "execution_count": 39,
   "metadata": {},
   "outputs": [],
   "source": [
    "model.compile(optimizer='adam',\n",
    "              loss=tf.keras.losses.CategoricalCrossentropy(\n",
    "                  from_logits=False,\n",
    "                  label_smoothing=0,                            #configurações da função loss\n",
    "                  reduction=\"auto\",\n",
    "                  name=\"categorical_crossentropy\"),\n",
    "              metrics=['accuracy'])"
   ]
  },
  {
   "cell_type": "code",
   "execution_count": 40,
   "metadata": {},
   "outputs": [
    {
     "name": "stdout",
     "output_type": "stream",
     "text": [
      "Criando particionamento\n",
      "\t 148 \t+ 64 \t= 212 \t -> apple1\n",
      "\t 108 \t+ 47 \t= 155 \t -> granny_smith_apple\n",
      "\t 119 \t+ 52 \t= 171 \t -> kiwi\n",
      "\t 74 \t+ 32 \t= 106 \t -> lime\n",
      "\t 172 \t+ 75 \t= 247 \t -> nectarine\n",
      "\t 52 \t+ 23 \t= 75 \t -> onion\n",
      "\t 147 \t+ 64 \t= 211 \t -> peach\n",
      "\t 111 \t+ 48 \t= 159 \t -> pear\n",
      "\t 184 \t+ 80 \t= 264 \t -> plum\n",
      "\t 140 \t+ 61 \t= 201 \t -> potato\n",
      "\t 134 \t+ 58 \t= 192 \t -> watermelon\n",
      "Particionamento criado com sucesso!\n"
     ]
    }
   ],
   "source": [
    "criar_treino_teste('./dataset_smkt/', 0.3)"
   ]
  },
  {
   "cell_type": "code",
   "execution_count": 41,
   "metadata": {},
   "outputs": [
    {
     "name": "stdout",
     "output_type": "stream",
     "text": [
      "Found 1117 images belonging to 11 classes.\n",
      "Found 272 images belonging to 11 classes.\n"
     ]
    }
   ],
   "source": [
    "# DIVIDIR AS IMAGENS EM PARTIÇÃO DE TREINO E VALIDAÇÃO, UTILIZANDO O IMAGEDATAGENERATOR #\n",
    "\n",
    "datagen =  ImageDataGenerator(rescale = 1./255, validation_split=0.2) # comando para reescala + divisão em 20% para validação\n",
    "\n",
    "# imagens de treino (80%) \n",
    "\n",
    "train_data = datagen.flow_from_directory('dataset_smkt/train', \n",
    "                                         subset = 'training',\n",
    "                                         batch_size = 64,\n",
    "                                         target_size = (100, 100)) # definindo tamanho das imagens\n",
    "\n",
    "# imagens de validação (20%)\n",
    "\n",
    "valid_data = datagen.flow_from_directory('dataset_smkt/train',\n",
    "                                         subset='validation',\n",
    "                                         batch_size = 64,\n",
    "                                         target_size = (100, 100))"
   ]
  },
  {
   "cell_type": "code",
   "execution_count": 42,
   "metadata": {},
   "outputs": [
    {
     "name": "stdout",
     "output_type": "stream",
     "text": [
      "Epoch 1/100\n",
      "18/18 [==============================] - 24s 1s/step - loss: 6.6613 - accuracy: 0.1092 - val_loss: 2.2013 - val_accuracy: 0.1471\n",
      "Epoch 2/100\n",
      "18/18 [==============================] - 21s 1s/step - loss: 2.2764 - accuracy: 0.1692 - val_loss: 2.0909 - val_accuracy: 0.1912\n",
      "Epoch 3/100\n",
      "18/18 [==============================] - 21s 1s/step - loss: 1.9521 - accuracy: 0.2910 - val_loss: 1.8736 - val_accuracy: 0.3971\n",
      "Epoch 4/100\n",
      "18/18 [==============================] - 22s 1s/step - loss: 1.6456 - accuracy: 0.4118 - val_loss: 1.6070 - val_accuracy: 0.5110\n",
      "Epoch 5/100\n",
      "18/18 [==============================] - 21s 1s/step - loss: 1.3987 - accuracy: 0.5166 - val_loss: 1.3120 - val_accuracy: 0.5882\n",
      "Epoch 6/100\n",
      "18/18 [==============================] - 21s 1s/step - loss: 1.1022 - accuracy: 0.6177 - val_loss: 1.1195 - val_accuracy: 0.6507\n",
      "Epoch 7/100\n",
      "18/18 [==============================] - 22s 1s/step - loss: 0.9752 - accuracy: 0.6553 - val_loss: 1.0086 - val_accuracy: 0.6801\n",
      "Epoch 8/100\n",
      "18/18 [==============================] - 21s 1s/step - loss: 0.8505 - accuracy: 0.6983 - val_loss: 0.9680 - val_accuracy: 0.6360\n",
      "Epoch 9/100\n",
      "18/18 [==============================] - 22s 1s/step - loss: 0.7279 - accuracy: 0.7350 - val_loss: 0.9077 - val_accuracy: 0.6618\n",
      "Epoch 10/100\n",
      "18/18 [==============================] - 22s 1s/step - loss: 0.7081 - accuracy: 0.7359 - val_loss: 0.8878 - val_accuracy: 0.6875\n",
      "Epoch 11/100\n",
      "18/18 [==============================] - 21s 1s/step - loss: 0.5767 - accuracy: 0.8066 - val_loss: 0.8617 - val_accuracy: 0.6875\n",
      "Epoch 12/100\n",
      "18/18 [==============================] - 22s 1s/step - loss: 0.5291 - accuracy: 0.8397 - val_loss: 0.7861 - val_accuracy: 0.7316\n",
      "Epoch 13/100\n",
      "18/18 [==============================] - 22s 1s/step - loss: 0.5042 - accuracy: 0.8138 - val_loss: 0.8554 - val_accuracy: 0.6912\n",
      "Epoch 14/100\n",
      "18/18 [==============================] - 21s 1s/step - loss: 0.4306 - accuracy: 0.8380 - val_loss: 0.8426 - val_accuracy: 0.6728\n",
      "Epoch 15/100\n",
      "18/18 [==============================] - 22s 1s/step - loss: 0.4189 - accuracy: 0.8389 - val_loss: 0.9460 - val_accuracy: 0.6765\n",
      "Epoch 16/100\n",
      "18/18 [==============================] - 21s 1s/step - loss: 0.4761 - accuracy: 0.8299 - val_loss: 0.8096 - val_accuracy: 0.7279\n",
      "Epoch 17/100\n",
      "18/18 [==============================] - 21s 1s/step - loss: 0.4279 - accuracy: 0.8460 - val_loss: 0.8805 - val_accuracy: 0.7390\n",
      "Epoch 18/100\n",
      "18/18 [==============================] - 22s 1s/step - loss: 0.3573 - accuracy: 0.8729 - val_loss: 0.9164 - val_accuracy: 0.7022\n",
      "Epoch 19/100\n",
      "18/18 [==============================] - 21s 1s/step - loss: 0.3379 - accuracy: 0.8962 - val_loss: 0.8924 - val_accuracy: 0.6765\n",
      "Epoch 20/100\n",
      "18/18 [==============================] - 22s 1s/step - loss: 0.2972 - accuracy: 0.8970 - val_loss: 0.7965 - val_accuracy: 0.6985\n",
      "Epoch 21/100\n",
      "18/18 [==============================] - 22s 1s/step - loss: 0.2618 - accuracy: 0.9069 - val_loss: 0.7414 - val_accuracy: 0.7206\n",
      "Epoch 22/100\n",
      "18/18 [==============================] - 21s 1s/step - loss: 0.2685 - accuracy: 0.9069 - val_loss: 0.6227 - val_accuracy: 0.7904\n",
      "Epoch 23/100\n",
      "18/18 [==============================] - 22s 1s/step - loss: 0.2337 - accuracy: 0.9114 - val_loss: 0.6162 - val_accuracy: 0.7757\n",
      "Epoch 24/100\n",
      "18/18 [==============================] - 21s 1s/step - loss: 0.2326 - accuracy: 0.9167 - val_loss: 0.7827 - val_accuracy: 0.7353\n",
      "Epoch 25/100\n",
      "18/18 [==============================] - 22s 1s/step - loss: 0.2475 - accuracy: 0.9158 - val_loss: 0.7756 - val_accuracy: 0.7353\n",
      "Epoch 26/100\n",
      "18/18 [==============================] - 22s 1s/step - loss: 0.3043 - accuracy: 0.8944 - val_loss: 0.7514 - val_accuracy: 0.7243\n",
      "Epoch 27/100\n",
      "18/18 [==============================] - 21s 1s/step - loss: 0.2632 - accuracy: 0.9060 - val_loss: 0.9832 - val_accuracy: 0.7059\n",
      "Epoch 28/100\n",
      "18/18 [==============================] - 21s 1s/step - loss: 0.2382 - accuracy: 0.9150 - val_loss: 0.6518 - val_accuracy: 0.7279\n",
      "Epoch 29/100\n",
      "18/18 [==============================] - 22s 1s/step - loss: 0.2098 - accuracy: 0.9284 - val_loss: 0.5748 - val_accuracy: 0.8051\n",
      "Epoch 30/100\n",
      "18/18 [==============================] - 21s 1s/step - loss: 0.2049 - accuracy: 0.9230 - val_loss: 0.6651 - val_accuracy: 0.7463\n",
      "Epoch 31/100\n",
      "18/18 [==============================] - 21s 1s/step - loss: 0.1788 - accuracy: 0.9436 - val_loss: 0.6319 - val_accuracy: 0.7941\n",
      "Epoch 32/100\n",
      "18/18 [==============================] - 22s 1s/step - loss: 0.2021 - accuracy: 0.9248 - val_loss: 0.6829 - val_accuracy: 0.7684\n",
      "Epoch 33/100\n",
      "18/18 [==============================] - 22s 1s/step - loss: 0.2280 - accuracy: 0.9123 - val_loss: 1.1103 - val_accuracy: 0.7022\n",
      "Epoch 34/100\n",
      "18/18 [==============================] - 22s 1s/step - loss: 0.2809 - accuracy: 0.9015 - val_loss: 0.7384 - val_accuracy: 0.7647\n",
      "Epoch 35/100\n",
      "18/18 [==============================] - 22s 1s/step - loss: 0.2236 - accuracy: 0.9194 - val_loss: 0.6100 - val_accuracy: 0.7721\n",
      "Epoch 36/100\n",
      "18/18 [==============================] - 22s 1s/step - loss: 0.1728 - accuracy: 0.9391 - val_loss: 0.6739 - val_accuracy: 0.7132\n",
      "Epoch 37/100\n",
      "18/18 [==============================] - 22s 1s/step - loss: 0.1622 - accuracy: 0.9382 - val_loss: 0.8239 - val_accuracy: 0.7316\n",
      "Epoch 38/100\n",
      "18/18 [==============================] - 21s 1s/step - loss: 0.1786 - accuracy: 0.9400 - val_loss: 0.6210 - val_accuracy: 0.7390\n",
      "Epoch 39/100\n",
      "18/18 [==============================] - 21s 1s/step - loss: 0.1803 - accuracy: 0.9373 - val_loss: 0.5179 - val_accuracy: 0.8125\n",
      "Epoch 40/100\n",
      "18/18 [==============================] - 22s 1s/step - loss: 0.1501 - accuracy: 0.9355 - val_loss: 0.5968 - val_accuracy: 0.7757\n",
      "Epoch 41/100\n",
      "18/18 [==============================] - 21s 1s/step - loss: 0.1221 - accuracy: 0.9561 - val_loss: 0.6432 - val_accuracy: 0.7574\n",
      "Epoch 42/100\n",
      "18/18 [==============================] - 21s 1s/step - loss: 0.1626 - accuracy: 0.9499 - val_loss: 0.7258 - val_accuracy: 0.7279\n",
      "Epoch 43/100\n",
      "18/18 [==============================] - 22s 1s/step - loss: 0.1319 - accuracy: 0.9526 - val_loss: 0.8032 - val_accuracy: 0.7132\n",
      "Epoch 44/100\n",
      "18/18 [==============================] - 21s 1s/step - loss: 0.1084 - accuracy: 0.9633 - val_loss: 0.8980 - val_accuracy: 0.7169\n",
      "Epoch 45/100\n",
      "18/18 [==============================] - 21s 1s/step - loss: 0.1236 - accuracy: 0.9552 - val_loss: 0.7790 - val_accuracy: 0.7500\n",
      "Epoch 46/100\n",
      "18/18 [==============================] - 22s 1s/step - loss: 0.1564 - accuracy: 0.9400 - val_loss: 0.8839 - val_accuracy: 0.7316\n",
      "Epoch 47/100\n",
      "18/18 [==============================] - 21s 1s/step - loss: 0.1335 - accuracy: 0.9570 - val_loss: 0.9546 - val_accuracy: 0.7390\n",
      "Epoch 48/100\n",
      "18/18 [==============================] - 22s 1s/step - loss: 0.1265 - accuracy: 0.9526 - val_loss: 0.6778 - val_accuracy: 0.8015\n",
      "Epoch 49/100\n",
      "18/18 [==============================] - 21s 1s/step - loss: 0.1026 - accuracy: 0.9606 - val_loss: 0.7228 - val_accuracy: 0.7647\n",
      "Epoch 50/100\n",
      "18/18 [==============================] - 21s 1s/step - loss: 0.1237 - accuracy: 0.9517 - val_loss: 0.6326 - val_accuracy: 0.8088\n",
      "Epoch 51/100\n",
      "18/18 [==============================] - 22s 1s/step - loss: 0.1563 - accuracy: 0.9418 - val_loss: 0.7818 - val_accuracy: 0.7463\n",
      "Epoch 52/100\n",
      "18/18 [==============================] - 21s 1s/step - loss: 0.1245 - accuracy: 0.9543 - val_loss: 1.0885 - val_accuracy: 0.6875\n",
      "Epoch 00052: early stopping\n"
     ]
    }
   ],
   "source": [
    "# INÍCIO DO TREINO DO MODELO #\n",
    "\n",
    "history = model.fit(train_data,\n",
    "                    epochs=100,\n",
    "                    validation_data=valid_data,\n",
    "                    callbacks = [es])\n",
    "\n",
    "# informação: steps_per_epoch = número de imagens / batch_size"
   ]
  },
  {
   "cell_type": "code",
   "execution_count": 43,
   "metadata": {},
   "outputs": [],
   "source": [
    "model.save('model_3est.h5',\n",
    "          overwrite = True) \n",
    "del model\n",
    "\n",
    "with open('trainHistoryDict_model_3est', 'wb') as file_pi:\n",
    "        pickle.dump(history.history, file_pi)"
   ]
  },
  {
   "cell_type": "code",
   "execution_count": 44,
   "metadata": {},
   "outputs": [],
   "source": [
    "model_3est = keras.models.load_model('model_3est.h5')\n",
    "history = pickle.load(open('trainHistoryDict_model_3est', \"rb\"))"
   ]
  },
  {
   "cell_type": "code",
   "execution_count": 45,
   "metadata": {},
   "outputs": [
    {
     "name": "stdout",
     "output_type": "stream",
     "text": [
      "Model: \"sequential\"\n",
      "_________________________________________________________________\n",
      "Layer (type)                 Output Shape              Param #   \n",
      "=================================================================\n",
      "conv2d (Conv2D)              (None, 98, 98, 32)        896       \n",
      "_________________________________________________________________\n",
      "max_pooling2d (MaxPooling2D) (None, 49, 49, 32)        0         \n",
      "_________________________________________________________________\n",
      "dropout (Dropout)            (None, 49, 49, 32)        0         \n",
      "_________________________________________________________________\n",
      "conv2d_1 (Conv2D)            (None, 47, 47, 64)        18496     \n",
      "_________________________________________________________________\n",
      "max_pooling2d_1 (MaxPooling2 (None, 23, 23, 64)        0         \n",
      "_________________________________________________________________\n",
      "dropout_1 (Dropout)          (None, 23, 23, 64)        0         \n",
      "_________________________________________________________________\n",
      "conv2d_2 (Conv2D)            (None, 21, 21, 64)        36928     \n",
      "_________________________________________________________________\n",
      "max_pooling2d_2 (MaxPooling2 (None, 10, 10, 64)        0         \n",
      "_________________________________________________________________\n",
      "dropout_2 (Dropout)          (None, 10, 10, 64)        0         \n",
      "_________________________________________________________________\n",
      "flatten (Flatten)            (None, 6400)              0         \n",
      "_________________________________________________________________\n",
      "dense (Dense)                (None, 64)                409664    \n",
      "_________________________________________________________________\n",
      "dropout_3 (Dropout)          (None, 64)                0         \n",
      "_________________________________________________________________\n",
      "dense_1 (Dense)              (None, 11)                715       \n",
      "=================================================================\n",
      "Total params: 466,699\n",
      "Trainable params: 466,699\n",
      "Non-trainable params: 0\n",
      "_________________________________________________________________\n"
     ]
    }
   ],
   "source": [
    "model_3est.summary()"
   ]
  },
  {
   "cell_type": "code",
   "execution_count": 46,
   "metadata": {},
   "outputs": [
    {
     "data": {
      "text/plain": [
       "<matplotlib.legend.Legend at 0x27c6373e910>"
      ]
     },
     "execution_count": 46,
     "metadata": {},
     "output_type": "execute_result"
    },
    {
     "data": {
      "image/png": "[encoded data removed]",
      "text/plain": [
       "<Figure size 432x288 with 1 Axes>"
      ]
     },
     "metadata": {
      "needs_background": "light"
     },
     "output_type": "display_data"
    }
   ],
   "source": [
    "# GERANDO GRÁFICO COM RESULTADOS DAS ACURÁCIAS DE TREINO E VALIDAÇÃO #\n",
    "\n",
    "plt.plot(history['accuracy'], label='accuracy_train')\n",
    "plt.plot(history['val_accuracy'], label = 'accuracy_valid')\n",
    "plt.xlabel('Epoch')\n",
    "plt.ylabel('Accuracy')\n",
    "plt.ylim([0, 1])\n",
    "plt.legend(loc='lower right')"
   ]
  },
  {
   "cell_type": "code",
   "execution_count": 47,
   "metadata": {},
   "outputs": [
    {
     "data": {
      "text/plain": [
       "<matplotlib.legend.Legend at 0x27c010a0ca0>"
      ]
     },
     "execution_count": 47,
     "metadata": {},
     "output_type": "execute_result"
    },
    {
     "data": {
      "image/png": "[encoded data removed]",
      "text/plain": [
       "<Figure size 432x288 with 1 Axes>"
      ]
     },
     "metadata": {
      "needs_background": "light"
     },
     "output_type": "display_data"
    }
   ],
   "source": [
    "# GERANDO GRÁFICO COM RESULTADOS DO LOSS DE TREINO E VALIDAÇÃO #\n",
    "\n",
    "plt.plot(history['loss'], label='loss train')\n",
    "plt.plot(history['val_loss'], label='loss val')\n",
    "plt.xlabel('Epoch')\n",
    "plt.ylabel('Loss')\n",
    "plt.ylim([0, 3])\n",
    "plt.legend(loc='lower right')"
   ]
  },
  {
   "cell_type": "code",
   "execution_count": 48,
   "metadata": {},
   "outputs": [
    {
     "name": "stdout",
     "output_type": "stream",
     "text": [
      "Found 604 images belonging to 11 classes.\n"
     ]
    }
   ],
   "source": [
    "datagen_test =  ImageDataGenerator(rescale = 1./255) # comando para reescala das imagens de teste\n",
    "\n",
    "# imagens de teste\n",
    "\n",
    "test_data          = datagen_test.flow_from_directory(directory='dataset_smkt/test',\n",
    "                                                      target_size = (100, 100),\n",
    "                                                      batch_size = 64,\n",
    "                                                      shuffle=False)"
   ]
  },
  {
   "cell_type": "code",
   "execution_count": 49,
   "metadata": {},
   "outputs": [
    {
     "name": "stdout",
     "output_type": "stream",
     "text": [
      "10/10 [==============================] - 7s 646ms/step - loss: 0.4701 - accuracy: 0.8725\n",
      "acurácia nos dados de teste: 0.8725165724754333\n",
      "loss dos dados de teste: 0.4701056182384491\n"
     ]
    }
   ],
   "source": [
    "# DEFININDO COMANDO PARA AVALIAR O DESEMPENHO DO MODELO NAS IMAGENS DE TESTE #\n",
    "\n",
    "test_loss, test_acc = model_3est.evaluate(test_data) # verificar versão do Keras\n",
    "\n",
    "print(\"acurácia nos dados de teste:\", test_acc)\n",
    "print(\"loss dos dados de teste:\", test_loss)"
   ]
  },
  {
   "cell_type": "code",
   "execution_count": 50,
   "metadata": {},
   "outputs": [
    {
     "name": "stdout",
     "output_type": "stream",
     "text": [
      "(604,)\n",
      "Accuracy\n",
      "0.8725165562913907\n",
      "Balanced Accuracy\n",
      "0.8714583375753115\n",
      "Confusion Matrix\n",
      "[[59  0  0  0  0  0  2  3  0  0  0]\n",
      " [ 0 42  0  0  0  0  0  0  0  0  5]\n",
      " [ 0  0 33  0 11  0  1  7  0  0  0]\n",
      " [ 0  1  0 27  0  0  0  0  0  0  4]\n",
      " [ 1  0  1  0 73  0  0  0  0  0  0]\n",
      " [ 0  0  0  0  0 22  0  0  0  1  0]\n",
      " [ 5  0  7  0  0  0 34 17  0  1  0]\n",
      " [ 0  1  0  0  0  0  0 46  0  0  1]\n",
      " [ 0  0  0  0  1  0  0  0 79  0  0]\n",
      " [ 0  0  0  0  0  0  0  7  0 54  0]\n",
      " [ 0  0  0  0  0  0  0  0  0  0 58]]\n",
      "Classification Report\n"
     ]
    }
   ],
   "source": [
    "Y_pred = model_3est.predict(test_data)\n",
    "y_pred = np.argmax(Y_pred, axis=1)\n",
    "\n",
    "print(y_pred.shape)\n",
    "\n",
    "print('Accuracy')\n",
    "print(accuracy_score(test_data.classes,y_pred))\n",
    "\n",
    "print('Balanced Accuracy')\n",
    "print(balanced_accuracy_score(test_data.classes,y_pred))\n",
    "\n",
    "print('Confusion Matrix')\n",
    "print(confusion_matrix(test_data.classes, y_pred))\n",
    "print('Classification Report')"
   ]
  },
  {
   "cell_type": "markdown",
   "metadata": {},
   "source": [
    "## Quarta estratégia: 80% treino e 20% teste"
   ]
  },
  {
   "cell_type": "code",
   "execution_count": 51,
   "metadata": {},
   "outputs": [],
   "source": [
    "# Criando modelo\n",
    "\n",
    "model = keras.models.load_model('model.h5')"
   ]
  },
  {
   "cell_type": "code",
   "execution_count": 52,
   "metadata": {},
   "outputs": [],
   "source": [
    "model.compile(optimizer='adam',\n",
    "              loss=tf.keras.losses.CategoricalCrossentropy(\n",
    "                  from_logits=False,\n",
    "                  label_smoothing=0,                            #configurações da função loss\n",
    "                  reduction=\"auto\",\n",
    "                  name=\"categorical_crossentropy\"),\n",
    "              metrics=['accuracy'])"
   ]
  },
  {
   "cell_type": "code",
   "execution_count": 53,
   "metadata": {},
   "outputs": [
    {
     "name": "stdout",
     "output_type": "stream",
     "text": [
      "Criando particionamento\n",
      "\t 169 \t+ 43 \t= 212 \t -> apple1\n",
      "\t 124 \t+ 31 \t= 155 \t -> granny_smith_apple\n",
      "\t 136 \t+ 35 \t= 171 \t -> kiwi\n",
      "\t 84 \t+ 22 \t= 106 \t -> lime\n",
      "\t 197 \t+ 50 \t= 247 \t -> nectarine\n",
      "\t 60 \t+ 15 \t= 75 \t -> onion\n",
      "\t 168 \t+ 43 \t= 211 \t -> peach\n",
      "\t 127 \t+ 32 \t= 159 \t -> pear\n",
      "\t 211 \t+ 53 \t= 264 \t -> plum\n",
      "\t 160 \t+ 41 \t= 201 \t -> potato\n",
      "\t 153 \t+ 39 \t= 192 \t -> watermelon\n",
      "Particionamento criado com sucesso!\n"
     ]
    }
   ],
   "source": [
    "criar_treino_teste('./dataset_smkt/', 0.2)"
   ]
  },
  {
   "cell_type": "code",
   "execution_count": 54,
   "metadata": {},
   "outputs": [
    {
     "name": "stdout",
     "output_type": "stream",
     "text": [
      "Found 1276 images belonging to 11 classes.\n",
      "Found 313 images belonging to 11 classes.\n"
     ]
    }
   ],
   "source": [
    "# DIVIDIR AS IMAGENS EM PARTIÇÃO DE TREINO E VALIDAÇÃO, UTILIZANDO O IMAGEDATAGENERATOR #\n",
    "\n",
    "datagen =  ImageDataGenerator(rescale = 1./255, validation_split=0.2) # comando para reescala + divisão em 20% para validação\n",
    "\n",
    "# imagens de treino (80%) \n",
    "\n",
    "train_data = datagen.flow_from_directory('dataset_smkt/train', \n",
    "                                         subset = 'training',\n",
    "                                         batch_size = 64,\n",
    "                                         target_size = (100, 100)) # definindo tamanho das imagens\n",
    "\n",
    "# imagens de validação (20%)\n",
    "\n",
    "valid_data = datagen.flow_from_directory('dataset_smkt/train',\n",
    "                                         subset='validation',\n",
    "                                         batch_size = 64,\n",
    "                                         target_size = (100, 100))"
   ]
  },
  {
   "cell_type": "code",
   "execution_count": 55,
   "metadata": {},
   "outputs": [
    {
     "name": "stdout",
     "output_type": "stream",
     "text": [
      "Epoch 1/100\n",
      "20/20 [==============================] - 27s 1s/step - loss: 6.5998 - accuracy: 0.1176 - val_loss: 2.1643 - val_accuracy: 0.1949\n",
      "Epoch 2/100\n",
      "20/20 [==============================] - 24s 1s/step - loss: 2.1456 - accuracy: 0.2202 - val_loss: 2.0266 - val_accuracy: 0.2907\n",
      "Epoch 3/100\n",
      "20/20 [==============================] - 25s 1s/step - loss: 1.7494 - accuracy: 0.3848 - val_loss: 1.7702 - val_accuracy: 0.4026\n",
      "Epoch 4/100\n",
      "20/20 [==============================] - 24s 1s/step - loss: 1.4601 - accuracy: 0.4765 - val_loss: 1.4752 - val_accuracy: 0.5080\n",
      "Epoch 5/100\n",
      "20/20 [==============================] - 24s 1s/step - loss: 1.1901 - accuracy: 0.5846 - val_loss: 1.2665 - val_accuracy: 0.5655\n",
      "Epoch 6/100\n",
      "20/20 [==============================] - 25s 1s/step - loss: 0.9632 - accuracy: 0.6497 - val_loss: 1.1861 - val_accuracy: 0.5783\n",
      "Epoch 7/100\n",
      "20/20 [==============================] - 24s 1s/step - loss: 0.7938 - accuracy: 0.7163 - val_loss: 1.1021 - val_accuracy: 0.5783\n",
      "Epoch 8/100\n",
      "20/20 [==============================] - 25s 1s/step - loss: 0.7165 - accuracy: 0.7453 - val_loss: 0.9823 - val_accuracy: 0.6358\n",
      "Epoch 9/100\n",
      "20/20 [==============================] - 25s 1s/step - loss: 0.6641 - accuracy: 0.7704 - val_loss: 1.0046 - val_accuracy: 0.5942\n",
      "Epoch 10/100\n",
      "20/20 [==============================] - 25s 1s/step - loss: 0.5939 - accuracy: 0.7962 - val_loss: 0.9951 - val_accuracy: 0.6070\n",
      "Epoch 11/100\n",
      "20/20 [==============================] - 25s 1s/step - loss: 0.5042 - accuracy: 0.8174 - val_loss: 1.1399 - val_accuracy: 0.5942\n",
      "Epoch 12/100\n",
      "20/20 [==============================] - 24s 1s/step - loss: 0.5295 - accuracy: 0.8205 - val_loss: 1.0691 - val_accuracy: 0.6262\n",
      "Epoch 13/100\n",
      "20/20 [==============================] - 25s 1s/step - loss: 0.4971 - accuracy: 0.8174 - val_loss: 0.9616 - val_accuracy: 0.6965\n",
      "Epoch 14/100\n",
      "20/20 [==============================] - 24s 1s/step - loss: 0.4347 - accuracy: 0.8370 - val_loss: 0.9586 - val_accuracy: 0.6262\n",
      "Epoch 15/100\n",
      "20/20 [==============================] - 25s 1s/step - loss: 0.3588 - accuracy: 0.8676 - val_loss: 0.8331 - val_accuracy: 0.6645\n",
      "Epoch 16/100\n",
      "20/20 [==============================] - 25s 1s/step - loss: 0.3300 - accuracy: 0.8918 - val_loss: 1.1009 - val_accuracy: 0.6454\n",
      "Epoch 17/100\n",
      "20/20 [==============================] - 26s 1s/step - loss: 0.3399 - accuracy: 0.8824 - val_loss: 1.0145 - val_accuracy: 0.6677\n",
      "Epoch 18/100\n",
      "20/20 [==============================] - 25s 1s/step - loss: 0.3054 - accuracy: 0.8864 - val_loss: 0.8067 - val_accuracy: 0.6869\n",
      "Epoch 19/100\n",
      "20/20 [==============================] - 24s 1s/step - loss: 0.3127 - accuracy: 0.8903 - val_loss: 0.9488 - val_accuracy: 0.6741\n",
      "Epoch 20/100\n",
      "20/20 [==============================] - 25s 1s/step - loss: 0.2633 - accuracy: 0.9060 - val_loss: 0.9544 - val_accuracy: 0.7029\n",
      "Epoch 21/100\n",
      "20/20 [==============================] - 24s 1s/step - loss: 0.2785 - accuracy: 0.8973 - val_loss: 0.7944 - val_accuracy: 0.7061\n",
      "Epoch 22/100\n",
      "20/20 [==============================] - 25s 1s/step - loss: 0.2536 - accuracy: 0.9075 - val_loss: 0.7601 - val_accuracy: 0.7188\n",
      "Epoch 23/100\n",
      "20/20 [==============================] - 25s 1s/step - loss: 0.2385 - accuracy: 0.9114 - val_loss: 0.8454 - val_accuracy: 0.6933\n",
      "Epoch 24/100\n",
      "20/20 [==============================] - 24s 1s/step - loss: 0.2069 - accuracy: 0.9303 - val_loss: 0.6802 - val_accuracy: 0.7732\n",
      "Epoch 25/100\n",
      "20/20 [==============================] - 25s 1s/step - loss: 0.2525 - accuracy: 0.9122 - val_loss: 0.6927 - val_accuracy: 0.7764\n",
      "Epoch 26/100\n",
      "20/20 [==============================] - 25s 1s/step - loss: 0.2297 - accuracy: 0.9161 - val_loss: 1.0197 - val_accuracy: 0.7157\n",
      "Epoch 27/100\n",
      "20/20 [==============================] - 25s 1s/step - loss: 0.2035 - accuracy: 0.9232 - val_loss: 0.6780 - val_accuracy: 0.7827\n",
      "Epoch 28/100\n",
      "20/20 [==============================] - 27s 1s/step - loss: 0.2088 - accuracy: 0.9263 - val_loss: 0.7343 - val_accuracy: 0.7540\n",
      "Epoch 29/100\n",
      "20/20 [==============================] - 26s 1s/step - loss: 0.1849 - accuracy: 0.9365 - val_loss: 1.0058 - val_accuracy: 0.6677\n",
      "Epoch 30/100\n",
      "20/20 [==============================] - 27s 1s/step - loss: 0.1572 - accuracy: 0.9451 - val_loss: 0.9629 - val_accuracy: 0.6741\n",
      "Epoch 31/100\n",
      "20/20 [==============================] - 28s 1s/step - loss: 0.1686 - accuracy: 0.9404 - val_loss: 0.6946 - val_accuracy: 0.7508\n",
      "Epoch 32/100\n",
      "20/20 [==============================] - 30s 2s/step - loss: 0.1633 - accuracy: 0.9444 - val_loss: 0.6975 - val_accuracy: 0.7636\n",
      "Epoch 33/100\n",
      "20/20 [==============================] - 27s 1s/step - loss: 0.1541 - accuracy: 0.9428 - val_loss: 0.7443 - val_accuracy: 0.7955\n",
      "Epoch 34/100\n",
      "20/20 [==============================] - 27s 1s/step - loss: 0.1467 - accuracy: 0.9444 - val_loss: 0.7998 - val_accuracy: 0.7700\n",
      "Epoch 35/100\n",
      "20/20 [==============================] - 25s 1s/step - loss: 0.1559 - accuracy: 0.9483 - val_loss: 0.7624 - val_accuracy: 0.7188\n",
      "Epoch 36/100\n",
      "20/20 [==============================] - 26s 1s/step - loss: 0.1388 - accuracy: 0.9522 - val_loss: 0.6428 - val_accuracy: 0.7955\n",
      "Epoch 37/100\n",
      "20/20 [==============================] - 25s 1s/step - loss: 0.1596 - accuracy: 0.9459 - val_loss: 0.6125 - val_accuracy: 0.8179\n",
      "Epoch 38/100\n",
      "20/20 [==============================] - 27s 1s/step - loss: 0.1249 - accuracy: 0.9522 - val_loss: 0.5971 - val_accuracy: 0.8147\n",
      "Epoch 39/100\n",
      "20/20 [==============================] - 25s 1s/step - loss: 0.1705 - accuracy: 0.9318 - val_loss: 1.0973 - val_accuracy: 0.7125\n",
      "Epoch 40/100\n",
      "20/20 [==============================] - 27s 1s/step - loss: 0.1743 - accuracy: 0.9334 - val_loss: 0.8910 - val_accuracy: 0.7700\n",
      "Epoch 41/100\n",
      "20/20 [==============================] - 27s 1s/step - loss: 0.1351 - accuracy: 0.9522 - val_loss: 0.6593 - val_accuracy: 0.7955\n",
      "Epoch 42/100\n",
      "20/20 [==============================] - 28s 1s/step - loss: 0.1134 - accuracy: 0.9592 - val_loss: 1.0098 - val_accuracy: 0.6965\n",
      "Epoch 43/100\n",
      "20/20 [==============================] - 26s 1s/step - loss: 0.1411 - accuracy: 0.9530 - val_loss: 0.8974 - val_accuracy: 0.7348\n",
      "Epoch 44/100\n",
      "20/20 [==============================] - 25s 1s/step - loss: 0.1292 - accuracy: 0.9506 - val_loss: 0.8685 - val_accuracy: 0.7508\n",
      "Epoch 45/100\n",
      "20/20 [==============================] - 26s 1s/step - loss: 0.1208 - accuracy: 0.9608 - val_loss: 0.8565 - val_accuracy: 0.7796\n",
      "Epoch 46/100\n",
      "20/20 [==============================] - 26s 1s/step - loss: 0.1295 - accuracy: 0.9561 - val_loss: 0.5586 - val_accuracy: 0.8371\n",
      "Epoch 47/100\n",
      "20/20 [==============================] - 26s 1s/step - loss: 0.0924 - accuracy: 0.9647 - val_loss: 0.7780 - val_accuracy: 0.7891\n",
      "Epoch 48/100\n",
      "20/20 [==============================] - 25s 1s/step - loss: 0.1548 - accuracy: 0.9506 - val_loss: 0.6094 - val_accuracy: 0.8275\n",
      "Epoch 49/100\n",
      "20/20 [==============================] - 24s 1s/step - loss: 0.1072 - accuracy: 0.9592 - val_loss: 0.6915 - val_accuracy: 0.8115\n",
      "Epoch 50/100\n",
      "20/20 [==============================] - 27s 1s/step - loss: 0.1037 - accuracy: 0.9624 - val_loss: 0.5852 - val_accuracy: 0.8498\n",
      "Epoch 51/100\n",
      "20/20 [==============================] - 27s 1s/step - loss: 0.1107 - accuracy: 0.9561 - val_loss: 1.1127 - val_accuracy: 0.7157\n",
      "Epoch 52/100\n",
      "20/20 [==============================] - 26s 1s/step - loss: 0.1097 - accuracy: 0.9632 - val_loss: 0.7017 - val_accuracy: 0.8115\n",
      "Epoch 53/100\n",
      "20/20 [==============================] - 25s 1s/step - loss: 0.1064 - accuracy: 0.9600 - val_loss: 0.5390 - val_accuracy: 0.8498\n",
      "Epoch 54/100\n",
      "20/20 [==============================] - 27s 1s/step - loss: 0.0913 - accuracy: 0.9702 - val_loss: 0.6416 - val_accuracy: 0.8275\n",
      "Epoch 55/100\n",
      "20/20 [==============================] - 27s 1s/step - loss: 0.0880 - accuracy: 0.9710 - val_loss: 0.6263 - val_accuracy: 0.8051\n",
      "Epoch 56/100\n",
      "20/20 [==============================] - 27s 1s/step - loss: 0.0872 - accuracy: 0.9663 - val_loss: 0.7866 - val_accuracy: 0.7827\n",
      "Epoch 57/100\n",
      "20/20 [==============================] - 28s 1s/step - loss: 0.1332 - accuracy: 0.9553 - val_loss: 0.8681 - val_accuracy: 0.8147\n",
      "Epoch 58/100\n",
      "20/20 [==============================] - 26s 1s/step - loss: 0.1134 - accuracy: 0.9592 - val_loss: 0.6284 - val_accuracy: 0.8275\n"
     ]
    },
    {
     "name": "stdout",
     "output_type": "stream",
     "text": [
      "Epoch 59/100\n",
      "20/20 [==============================] - 27s 1s/step - loss: 0.1248 - accuracy: 0.9545 - val_loss: 0.6856 - val_accuracy: 0.8051\n",
      "Epoch 60/100\n",
      "20/20 [==============================] - 27s 1s/step - loss: 0.1105 - accuracy: 0.9608 - val_loss: 0.6660 - val_accuracy: 0.8211\n",
      "Epoch 61/100\n",
      "20/20 [==============================] - 28s 1s/step - loss: 0.1217 - accuracy: 0.9545 - val_loss: 0.9150 - val_accuracy: 0.7348\n",
      "Epoch 62/100\n",
      "20/20 [==============================] - 26s 1s/step - loss: 0.1050 - accuracy: 0.9624 - val_loss: 0.6399 - val_accuracy: 0.8403\n",
      "Epoch 63/100\n",
      "20/20 [==============================] - 26s 1s/step - loss: 0.0763 - accuracy: 0.9710 - val_loss: 0.6086 - val_accuracy: 0.8115\n",
      "Epoch 00063: early stopping\n"
     ]
    }
   ],
   "source": [
    "# INÍCIO DO TREINO DO MODELO #\n",
    "\n",
    "history = model.fit(train_data,\n",
    "                    epochs=100,\n",
    "                    validation_data=valid_data,\n",
    "                    callbacks = [es])\n",
    "\n",
    "# informação: steps_per_epoch = número de imagens / batch_size"
   ]
  },
  {
   "cell_type": "code",
   "execution_count": 56,
   "metadata": {},
   "outputs": [],
   "source": [
    "model.save('model_4est.h5',\n",
    "          overwrite = True) \n",
    "del model\n",
    "\n",
    "with open('trainHistoryDict_model_4est', 'wb') as file_pi:\n",
    "        pickle.dump(history.history, file_pi)"
   ]
  },
  {
   "cell_type": "code",
   "execution_count": 57,
   "metadata": {},
   "outputs": [],
   "source": [
    "model_4est = keras.models.load_model('model_4est.h5')\n",
    "history = pickle.load(open('trainHistoryDict_model_4est', \"rb\"))"
   ]
  },
  {
   "cell_type": "code",
   "execution_count": 58,
   "metadata": {},
   "outputs": [
    {
     "name": "stdout",
     "output_type": "stream",
     "text": [
      "Model: \"sequential\"\n",
      "_________________________________________________________________\n",
      "Layer (type)                 Output Shape              Param #   \n",
      "=================================================================\n",
      "conv2d (Conv2D)              (None, 98, 98, 32)        896       \n",
      "_________________________________________________________________\n",
      "max_pooling2d (MaxPooling2D) (None, 49, 49, 32)        0         \n",
      "_________________________________________________________________\n",
      "dropout (Dropout)            (None, 49, 49, 32)        0         \n",
      "_________________________________________________________________\n",
      "conv2d_1 (Conv2D)            (None, 47, 47, 64)        18496     \n",
      "_________________________________________________________________\n",
      "max_pooling2d_1 (MaxPooling2 (None, 23, 23, 64)        0         \n",
      "_________________________________________________________________\n",
      "dropout_1 (Dropout)          (None, 23, 23, 64)        0         \n",
      "_________________________________________________________________\n",
      "conv2d_2 (Conv2D)            (None, 21, 21, 64)        36928     \n",
      "_________________________________________________________________\n",
      "max_pooling2d_2 (MaxPooling2 (None, 10, 10, 64)        0         \n",
      "_________________________________________________________________\n",
      "dropout_2 (Dropout)          (None, 10, 10, 64)        0         \n",
      "_________________________________________________________________\n",
      "flatten (Flatten)            (None, 6400)              0         \n",
      "_________________________________________________________________\n",
      "dense (Dense)                (None, 64)                409664    \n",
      "_________________________________________________________________\n",
      "dropout_3 (Dropout)          (None, 64)                0         \n",
      "_________________________________________________________________\n",
      "dense_1 (Dense)              (None, 11)                715       \n",
      "=================================================================\n",
      "Total params: 466,699\n",
      "Trainable params: 466,699\n",
      "Non-trainable params: 0\n",
      "_________________________________________________________________\n"
     ]
    }
   ],
   "source": [
    "model_4est.summary()"
   ]
  },
  {
   "cell_type": "code",
   "execution_count": 59,
   "metadata": {},
   "outputs": [
    {
     "data": {
      "text/plain": [
       "<matplotlib.legend.Legend at 0x27c03ed5fd0>"
      ]
     },
     "execution_count": 59,
     "metadata": {},
     "output_type": "execute_result"
    },
    {
     "data": {
      "image/png": "[encoded data removed]",
      "text/plain": [
       "<Figure size 432x288 with 1 Axes>"
      ]
     },
     "metadata": {
      "needs_background": "light"
     },
     "output_type": "display_data"
    }
   ],
   "source": [
    "# GERANDO GRÁFICO COM RESULTADOS DAS ACURÁCIAS DE TREINO E VALIDAÇÃO #\n",
    "\n",
    "plt.plot(history['accuracy'], label='accuracy_train')\n",
    "plt.plot(history['val_accuracy'], label = 'accuracy_valid')\n",
    "plt.xlabel('Epoch')\n",
    "plt.ylabel('Accuracy')\n",
    "plt.ylim([0, 1])\n",
    "plt.legend(loc='lower right')"
   ]
  },
  {
   "cell_type": "code",
   "execution_count": 60,
   "metadata": {},
   "outputs": [
    {
     "data": {
      "text/plain": [
       "<matplotlib.legend.Legend at 0x27c03f29fd0>"
      ]
     },
     "execution_count": 60,
     "metadata": {},
     "output_type": "execute_result"
    },
    {
     "data": {
      "image/png": "[encoded data removed]",
      "text/plain": [
       "<Figure size 432x288 with 1 Axes>"
      ]
     },
     "metadata": {
      "needs_background": "light"
     },
     "output_type": "display_data"
    }
   ],
   "source": [
    "# GERANDO GRÁFICO COM RESULTADOS DO LOSS DE TREINO E VALIDAÇÃO #\n",
    "\n",
    "plt.plot(history['loss'], label='loss train')\n",
    "plt.plot(history['val_loss'], label='loss val')\n",
    "plt.xlabel('Epoch')\n",
    "plt.ylabel('Loss')\n",
    "plt.ylim([0, 3])\n",
    "plt.legend(loc='lower right')"
   ]
  },
  {
   "cell_type": "code",
   "execution_count": 61,
   "metadata": {},
   "outputs": [
    {
     "name": "stdout",
     "output_type": "stream",
     "text": [
      "Found 404 images belonging to 11 classes.\n"
     ]
    }
   ],
   "source": [
    "datagen_test =  ImageDataGenerator(rescale = 1./255) # comando para reescala das imagens de teste\n",
    "\n",
    "# imagens de teste\n",
    "\n",
    "test_data = datagen_test.flow_from_directory(directory='dataset_smkt/test',\n",
    "                                                      target_size = (100, 100),\n",
    "                                                      batch_size = 64,\n",
    "                                                      shuffle=False)"
   ]
  },
  {
   "cell_type": "code",
   "execution_count": 62,
   "metadata": {},
   "outputs": [
    {
     "name": "stdout",
     "output_type": "stream",
     "text": [
      "7/7 [==============================] - 5s 676ms/step - loss: 0.1181 - accuracy: 0.9554\n",
      "acurácia nos dados de teste: 0.9554455280303955\n",
      "loss dos dados de teste: 0.11809960752725601\n"
     ]
    }
   ],
   "source": [
    "# DEFININDO COMANDO PARA AVALIAR O DESEMPENHO DO MODELO NAS IMAGENS DE TESTE #\n",
    "\n",
    "test_loss, test_acc = model_4est.evaluate(test_data) # verificar versão do Keras\n",
    "\n",
    "print(\"acurácia nos dados de teste:\", test_acc)\n",
    "print(\"loss dos dados de teste:\", test_loss)"
   ]
  },
  {
   "cell_type": "code",
   "execution_count": 63,
   "metadata": {},
   "outputs": [
    {
     "name": "stdout",
     "output_type": "stream",
     "text": [
      "(404,)\n",
      "Accuracy\n",
      "0.9554455445544554\n",
      "Balanced Accuracy\n",
      "0.958320830626445\n",
      "Confusion Matrix\n",
      "[[41  0  0  0  0  0  2  0  0  0  0]\n",
      " [ 0 30  0  0  0  0  0  0  0  0  1]\n",
      " [ 0  0 32  0  2  0  0  0  1  0  0]\n",
      " [ 0  0  0 22  0  0  0  0  0  0  0]\n",
      " [ 0  0  0  0 50  0  0  0  0  0  0]\n",
      " [ 0  0  0  0  0 15  0  0  0  0  0]\n",
      " [ 4  0  0  0  1  0 37  0  0  1  0]\n",
      " [ 0  0  0  0  0  0  1 31  0  0  0]\n",
      " [ 0  0  0  0  0  0  0  0 53  0  0]\n",
      " [ 0  0  0  0  0  0  0  4  0 37  0]\n",
      " [ 0  1  0  0  0  0  0  0  0  0 38]]\n",
      "Classification Report\n"
     ]
    }
   ],
   "source": [
    "Y_pred = model_4est.predict(test_data)\n",
    "y_pred = np.argmax(Y_pred, axis=1)\n",
    "\n",
    "print(y_pred.shape)\n",
    "\n",
    "print('Accuracy')\n",
    "print(accuracy_score(test_data.classes,y_pred))\n",
    "\n",
    "print('Balanced Accuracy')\n",
    "print(balanced_accuracy_score(test_data.classes,y_pred))\n",
    "\n",
    "print('Confusion Matrix')\n",
    "print(confusion_matrix(test_data.classes, y_pred))\n",
    "print('Classification Report')"
   ]
  },
  {
   "cell_type": "markdown",
   "metadata": {},
   "source": [
    "#### Referência:\n",
    "\n",
    "ROCHA, A. et al. Automatic fruit and vegetable classification from images. Computers and Electronics in Agriculture, v. 70, n. 1, p. 96-104, 2010."
   ]
  },
  {
   "cell_type": "code",
   "execution_count": null,
   "metadata": {},
   "outputs": [],
   "source": []
  }
 ],
 "metadata": {
  "kernelspec": {
   "display_name": "Python 3",
   "language": "python",
   "name": "python3"
  },
  "language_info": {
   "codemirror_mode": {
    "name": "ipython",
    "version": 3
   },
   "file_extension": ".py",
   "mimetype": "text/x-python",
   "name": "python",
   "nbconvert_exporter": "python",
   "pygments_lexer": "ipython3",
   "version": "3.8.8"
  }
 },
 "nbformat": 4,
 "nbformat_minor": 4
}
