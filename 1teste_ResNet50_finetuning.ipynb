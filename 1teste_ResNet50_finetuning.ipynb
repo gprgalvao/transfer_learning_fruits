{
 "cells": [
  {
   "cell_type": "code",
   "execution_count": null,
   "metadata": {},
   "outputs": [],
   "source": [
    "import tensorflow as tf\n",
    "\n",
    "import keras\n",
    "\n",
    "import h5py\n",
    "\n",
    "# IMPORTANDO COMANDOS E FUNÇÕES #\n",
    "\n",
    "import numpy as np\n",
    "import matplotlib.pyplot as plt #gerar gráfico\n",
    "import os\n",
    "from keras.preprocessing.image import ImageDataGenerator\n",
    "from keras.callbacks import EarlyStopping\n",
    "\n",
    "import pickle\n",
    "\n",
    "# IMPORTANDO LAYERS PARA A CNN #\n",
    "\n",
    "from keras.models import load_model\n",
    "from keras import applications\n",
    "from keras import optimizers\n",
    "from keras.models import Sequential,Model,load_model\n",
    "from keras.layers import Dense, Dropout, Flatten, Conv2D, MaxPool2D,GlobalAveragePooling2D"
   ]
  },
  {
   "cell_type": "code",
   "execution_count": null,
   "metadata": {},
   "outputs": [],
   "source": [
    "# DIVIDIR AS 8000 IMAGENS EM PARTIÇÃO DE TREINO E VALIDAÇÃO, UTILIZANDO O IMAGEDATAGENERATOR #\n",
    "\n",
    "from keras.preprocessing.image import ImageDataGenerator\n",
    "\n",
    "datagen =  ImageDataGenerator(rescale = 1./255, validation_split=0.2) # comando para reescala + divisão em 20% para validação\n",
    "\n",
    "# imagens de treino (80%) \n",
    "\n",
    "train_data = datagen.flow_from_directory('outputs/output_train_val', \n",
    "                                         subset = 'training',\n",
    "                                         batch_size = 64,\n",
    "                                         target_size = (224, 224)) # definindo tamanho das imagens\n",
    "\n",
    "# imagens de validação (20%)\n",
    "\n",
    "valid_data = datagen.flow_from_directory('outputs/output_train_val',\n",
    "                                         subset='validation',\n",
    "                                         batch_size = 64,\n",
    "                                         target_size = (224, 224))"
   ]
  },
  {
   "cell_type": "code",
   "execution_count": null,
   "metadata": {},
   "outputs": [],
   "source": [
    "datagen_test =  ImageDataGenerator(rescale = 1./255) # comando para reescala das imagens de teste\n",
    "\n",
    "# IMAGENS DE TESTE\n",
    "\n",
    "test_data = datagen_test.flow_from_directory(directory='outputs/output_test',\n",
    "                                             target_size = (224, 224),\n",
    "                                             batch_size = 1,\n",
    "                                             shuffle=False)"
   ]
  },
  {
   "cell_type": "code",
   "execution_count": null,
   "metadata": {},
   "outputs": [],
   "source": [
    "# acessando o modelo pré treinado ResNet-50 #\n",
    "\n",
    "base_model = keras.applications.resnet50.ResNet50(\n",
    "        include_top=False,\n",
    "        weights='imagenet',\n",
    "        input_shape=(224, 224, 3))"
   ]
  },
  {
   "cell_type": "code",
   "execution_count": null,
   "metadata": {},
   "outputs": [],
   "source": [
    "# adicionando pooling global de média + camada de dropout #\n",
    "\n",
    "x = base_model.output\n",
    "x = GlobalAveragePooling2D()(x)\n",
    "x = Dropout(0.5)(x)\n",
    "\n",
    "# adicionando uma camada totalmente conectada e a camada de saída #\n",
    "\n",
    "x = Dense(1024, activation='relu')(x)\n",
    "\n",
    "predictions = Dense(11, activation='softmax')(x)\n",
    "\n",
    "# por fim, o modelo que será treinado: #\n",
    "\n",
    "model = Model(inputs = base_model.input, outputs = predictions)"
   ]
  },
  {
   "cell_type": "code",
   "execution_count": null,
   "metadata": {},
   "outputs": [],
   "source": [
    "# apenas as últimas camadas serão treinadas (as inicializadaasc com pesos aleatórios) #\n",
    "# para tal, congelam-se as camadas já treinadas da ResNet-50 #\n",
    "\n",
    "for layer in base_model.layers:\n",
    "    layer.trainable = False"
   ]
  },
  {
   "cell_type": "code",
   "execution_count": null,
   "metadata": {},
   "outputs": [],
   "source": [
    "# compilando o modelo #\n",
    "\n",
    "model.compile(optimizer='adam',\n",
    "              loss='categorical_crossentropy',\n",
    "              metrics=['accuracy'])"
   ]
  },
  {
   "cell_type": "code",
   "execution_count": null,
   "metadata": {},
   "outputs": [],
   "source": [
    "# DEFININDO O COMANDO EARLYSTOPPING #\n",
    "\n",
    "es = EarlyStopping(monitor='val_accuracy', mode='max', verbose=1, patience = 7) #early stopping baseado na melhor acurácia de validação"
   ]
  },
  {
   "cell_type": "code",
   "execution_count": null,
   "metadata": {},
   "outputs": [],
   "source": [
    "# INÍCIO DO TREINO DO MODELO (em novos dados, por poucas épocas) #\n",
    "\n",
    "model.fit(train_data,\n",
    "          epochs=100,\n",
    "          validation_data=valid_data,\n",
    "          callbacks=[es])\n",
    "\n",
    "# informação: steps_per_epoch = número de imagens / batch_size"
   ]
  },
  {
   "cell_type": "code",
   "execution_count": null,
   "metadata": {},
   "outputs": [],
   "source": [
    "# após isso, as últimas camadas já estão treinadas, podemos iniciar o ajuste fino #\n",
    "# das camadas convolutivas da ResNet-50, congelando camadas iniciais #\n",
    "# e treinando as camadas restantes #"
   ]
  },
  {
   "cell_type": "code",
   "execution_count": null,
   "metadata": {},
   "outputs": [],
   "source": [
    "# visualizar o nome/indíces das camadas, para saber quais congelar #\n",
    "\n",
    "for i, layer in enumerate(base_model.layers):\n",
    "    print(i, layer.name)"
   ]
  },
  {
   "cell_type": "code",
   "execution_count": null,
   "metadata": {},
   "outputs": [],
   "source": [
    "# exemplo: congelar primeiras 249 camadas e descongelar o resto #\n",
    "\n",
    "for layer in model.layers[:249]:\n",
    "    layer.trainable = False\n",
    "\n",
    "for layer in model.layers[249:]:\n",
    "    layer.trainable = True"
   ]
  },
  {
   "cell_type": "code",
   "execution_count": null,
   "metadata": {},
   "outputs": [],
   "source": [
    "# recompilando o modelo para que as alterações façam efeito #\n",
    "\n",
    "model.compile(optimizer='adam',\n",
    "              loss='categorical_crossentropy',\n",
    "              metrics=['accuracy'])"
   ]
  },
  {
   "cell_type": "code",
   "execution_count": null,
   "metadata": {},
   "outputs": [],
   "source": [
    "# re-treinamento do modelo #\n",
    "\n",
    "history = model.fit(train_data,\n",
    "                    epochs=100,\n",
    "                    validation_data=valid_data,\n",
    "                    callbacks=[es])"
   ]
  },
  {
   "cell_type": "code",
   "execution_count": null,
   "metadata": {},
   "outputs": [],
   "source": [
    "model.save('1teste_ResNet50_finetuning',\n",
    "          overwrite = True) \n",
    "\n",
    "with open('trainHistoryDict_1teste_ResNet50_finetuning', 'wb') as file_pi:\n",
    "        pickle.dump(history.history, file_pi)"
   ]
  },
  {
   "cell_type": "code",
   "execution_count": null,
   "metadata": {},
   "outputs": [],
   "source": [
    "model = keras.models.load_model('1teste_ResNet50_finetuning')\n",
    "history = pickle.load(open('trainHistoryDict_1teste_ResNet50_finetuning', \"rb\"))"
   ]
  },
  {
   "cell_type": "code",
   "execution_count": null,
   "metadata": {},
   "outputs": [],
   "source": [
    "# GERANDO GRÁFICO COM RESULTADOS DAS ACURÁCIAS DE TREINO E VALIDAÇÃO #\n",
    "\n",
    "plt.plot(history['accuracy'], label='accuracy_train')\n",
    "plt.plot(history['val_accuracy'], label = 'accuracy_valid')\n",
    "plt.xlabel('Epoch')\n",
    "plt.ylabel('Accuracy')\n",
    "plt.ylim([0, 1])\n",
    "plt.legend(loc='lower right')"
   ]
  },
  {
   "cell_type": "code",
   "execution_count": null,
   "metadata": {},
   "outputs": [],
   "source": [
    "# GERANDO GRÁFICO COM RESULTADOS DO LOSS DE TREINO E VALIDAÇÃO #\n",
    "\n",
    "plt.plot(history['loss'], label='loss train')\n",
    "plt.plot(history['val_loss'], label='loss val')\n",
    "plt.xlabel('Epoch')\n",
    "plt.ylabel('Loss')\n",
    "plt.ylim([0, 3])\n",
    "plt.legend(loc='lower right')"
   ]
  },
  {
   "cell_type": "code",
   "execution_count": null,
   "metadata": {},
   "outputs": [],
   "source": [
    "# DEFININDO COMANDO PARA AVALIAR O DESEMPENHO DO MODELO NAS IMAGENS DE TESTE #\n",
    "\n",
    "test_loss, test_acc = model.evaluate(test_data) # verificar versão do Keras\n",
    "\n",
    "print(\"acurácia nos dados de teste:\", test_acc)\n",
    "print(\"loss dos dados de teste:\", test_loss)"
   ]
  },
  {
   "cell_type": "code",
   "execution_count": null,
   "metadata": {},
   "outputs": [],
   "source": [
    "from sklearn.metrics import classification_report, confusion_matrix, balanced_accuracy_score, accuracy_score\n",
    "\n",
    "Y_pred = model.predict(test_data)\n",
    "y_pred = np.argmax(Y_pred, axis=1)\n",
    "\n",
    "print(y_pred.shape)\n",
    "\n",
    "print(test_data.classes)\n",
    "\n",
    "print('Accuracy')\n",
    "print(accuracy_score(test_data.classes,y_pred))\n",
    "\n",
    "print('Balanced Accuracy')\n",
    "print(balanced_accuracy_score(test_data.classes,y_pred))\n",
    "\n",
    "print('Confusion Matrix')\n",
    "print(confusion_matrix(test_data.classes, y_pred))\n",
    "print('Classification Report')"
   ]
  },
  {
   "cell_type": "code",
   "execution_count": null,
   "metadata": {},
   "outputs": [],
   "source": [
    "model.summary()"
   ]
  }
 ],
 "metadata": {
  "kernelspec": {
   "display_name": "Python 3",
   "language": "python",
   "name": "python3"
  },
  "language_info": {
   "codemirror_mode": {
    "name": "ipython",
    "version": 3
   },
   "file_extension": ".py",
   "mimetype": "text/x-python",
   "name": "python",
   "nbconvert_exporter": "python",
   "pygments_lexer": "ipython3",
   "version": "3.7.7"
  }
 },
 "nbformat": 4,
 "nbformat_minor": 4
}
