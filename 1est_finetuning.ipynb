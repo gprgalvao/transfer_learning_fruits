{
 "cells": [
  {
   "cell_type": "code",
   "execution_count": 1,
   "metadata": {},
   "outputs": [
    {
     "name": "stdout",
     "output_type": "stream",
     "text": [
      "Versão do TensorFlow: 2.1.0\n",
      "versão do Keras: 2.2.4-tf\n"
     ]
    },
    {
     "name": "stderr",
     "output_type": "stream",
     "text": [
      "Using TensorFlow backend.\n"
     ]
    }
   ],
   "source": [
    "import tensorflow as tf\n",
    "print(\"Versão do TensorFlow:\", tf.__version__)\n",
    "\n",
    "from tensorflow import keras\n",
    "print(\"versão do Keras:\", keras.__version__)\n",
    "\n",
    "# IMPORTANDO COMANDOS E FUNÇÕES #\n",
    "\n",
    "import numpy as np\n",
    "import matplotlib.pyplot as plt #gerar gráfico\n",
    "import os\n",
    "from keras.preprocessing.image import ImageDataGenerator\n",
    "from keras.callbacks import EarlyStopping\n",
    "\n",
    "import pickle\n",
    "\n",
    "# IMPORTANDO LAYERS PARA A CNN #\n",
    "\n",
    "from keras.models import Sequential\n",
    "from keras import layers\n",
    "from keras.layers import Dropout"
   ]
  },
  {
   "cell_type": "code",
   "execution_count": 2,
   "metadata": {},
   "outputs": [
    {
     "name": "stdout",
     "output_type": "stream",
     "text": [
      "versao do h5py: 2.10.0\n"
     ]
    }
   ],
   "source": [
    "import h5py\n",
    "\n",
    "print(\"versao do h5py:\", h5py.__version__)"
   ]
  },
  {
   "cell_type": "code",
   "execution_count": 3,
   "metadata": {},
   "outputs": [],
   "source": [
    "# MONTANDO A ESTRUTURA DA CNN #\n",
    "\n",
    "model = keras.models.load_model('model_proj_antigo_patience=15.h5')"
   ]
  },
  {
   "cell_type": "code",
   "execution_count": 4,
   "metadata": {},
   "outputs": [
    {
     "name": "stdout",
     "output_type": "stream",
     "text": [
      "Model: \"sequential_1\"\n",
      "_________________________________________________________________\n",
      "Layer (type)                 Output Shape              Param #   \n",
      "=================================================================\n",
      "conv2d_1 (Conv2D)            (None, 98, 98, 32)        896       \n",
      "_________________________________________________________________\n",
      "max_pooling2d_1 (MaxPooling2 (None, 49, 49, 32)        0         \n",
      "_________________________________________________________________\n",
      "dropout_1 (Dropout)          (None, 49, 49, 32)        0         \n",
      "_________________________________________________________________\n",
      "conv2d_2 (Conv2D)            (None, 47, 47, 64)        18496     \n",
      "_________________________________________________________________\n",
      "max_pooling2d_2 (MaxPooling2 (None, 23, 23, 64)        0         \n",
      "_________________________________________________________________\n",
      "dropout_2 (Dropout)          (None, 23, 23, 64)        0         \n",
      "_________________________________________________________________\n",
      "conv2d_3 (Conv2D)            (None, 21, 21, 64)        36928     \n",
      "_________________________________________________________________\n",
      "max_pooling2d_3 (MaxPooling2 (None, 10, 10, 64)        0         \n",
      "_________________________________________________________________\n",
      "dropout_3 (Dropout)          (None, 10, 10, 64)        0         \n",
      "_________________________________________________________________\n",
      "flatten_1 (Flatten)          (None, 6400)              0         \n",
      "_________________________________________________________________\n",
      "dense_1 (Dense)              (None, 64)                409664    \n",
      "_________________________________________________________________\n",
      "dropout_4 (Dropout)          (None, 64)                0         \n",
      "_________________________________________________________________\n",
      "dense_2 (Dense)              (None, 11)                715       \n",
      "=================================================================\n",
      "Total params: 466,699\n",
      "Trainable params: 466,699\n",
      "Non-trainable params: 0\n",
      "_________________________________________________________________\n"
     ]
    }
   ],
   "source": [
    "model.summary() # resumo da estrutura, com os parâmetros ajustáveis"
   ]
  },
  {
   "cell_type": "code",
   "execution_count": 5,
   "metadata": {},
   "outputs": [],
   "source": [
    "model.compile(optimizer='adam',\n",
    "              loss=tf.keras.losses.CategoricalCrossentropy(\n",
    "                  from_logits=False,\n",
    "                  label_smoothing=0,                            #configurações da função loss\n",
    "                  reduction=\"auto\",\n",
    "                  name=\"categorical_crossentropy\"),\n",
    "              metrics=['accuracy'])"
   ]
  },
  {
   "cell_type": "code",
   "execution_count": 6,
   "metadata": {},
   "outputs": [
    {
     "name": "stdout",
     "output_type": "stream",
     "text": [
      "Found 1281 images belonging to 11 classes.\n",
      "Found 315 images belonging to 11 classes.\n"
     ]
    }
   ],
   "source": [
    "# DIVIDIR AS 8000 IMAGENS EM PARTIÇÃO DE TREINO E VALIDAÇÃO, UTILIZANDO O IMAGEDATAGENERATOR #\n",
    "\n",
    "from keras.preprocessing.image import ImageDataGenerator\n",
    "\n",
    "datagen =  ImageDataGenerator(rescale = 1./255, validation_split=0.2) # comando para reescala + divisão em 20% para validação\n",
    "\n",
    "# imagens de treino (80%) \n",
    "\n",
    "train_data = datagen.flow_from_directory('dataset_smkt/Training', \n",
    "                                         subset = 'training',\n",
    "                                         batch_size = 64,\n",
    "                                         target_size = (100, 100)) # definindo tamanho das imagens\n",
    "\n",
    "# imagens de validação (20%)\n",
    "\n",
    "valid_data = datagen.flow_from_directory('dataset_smkt/Training',\n",
    "                                         subset='validation',\n",
    "                                         batch_size = 64,\n",
    "                                         target_size = (100, 100))"
   ]
  },
  {
   "cell_type": "code",
   "execution_count": 7,
   "metadata": {},
   "outputs": [],
   "source": [
    "# DEFININDO O COMANDO EARLYSTOPPING #\n",
    "\n",
    "es = EarlyStopping(monitor='val_accuracy', mode='max', verbose=1, patience = 10) #early stopping baseado na melhor acurácia de validação"
   ]
  },
  {
   "cell_type": "code",
   "execution_count": 8,
   "metadata": {},
   "outputs": [
    {
     "name": "stdout",
     "output_type": "stream",
     "text": [
      "WARNING:tensorflow:sample_weight modes were coerced from\n",
      "  ...\n",
      "    to  \n",
      "  ['...']\n",
      "WARNING:tensorflow:sample_weight modes were coerced from\n",
      "  ...\n",
      "    to  \n",
      "  ['...']\n",
      "Train for 21 steps, validate for 5 steps\n",
      "Epoch 1/100\n",
      "21/21 [==============================] - 50s 2s/step - loss: 9.5256 - accuracy: 0.1140 - val_loss: 2.2682 - val_accuracy: 0.2032\n",
      "Epoch 2/100\n",
      "21/21 [==============================] - 37s 2s/step - loss: 2.3153 - accuracy: 0.1608 - val_loss: 2.2746 - val_accuracy: 0.1302\n",
      "Epoch 3/100\n",
      "21/21 [==============================] - 32s 2s/step - loss: 2.1346 - accuracy: 0.2498 - val_loss: 2.0082 - val_accuracy: 0.3048\n",
      "Epoch 4/100\n",
      "21/21 [==============================] - 35s 2s/step - loss: 1.7681 - accuracy: 0.3357 - val_loss: 1.7975 - val_accuracy: 0.3651\n",
      "Epoch 5/100\n",
      "21/21 [==============================] - 37s 2s/step - loss: 1.5700 - accuracy: 0.4450 - val_loss: 1.6895 - val_accuracy: 0.4444\n",
      "Epoch 6/100\n",
      "21/21 [==============================] - 34s 2s/step - loss: 1.2619 - accuracy: 0.5574 - val_loss: 1.5951 - val_accuracy: 0.4889\n",
      "Epoch 7/100\n",
      "21/21 [==============================] - 33s 2s/step - loss: 1.1311 - accuracy: 0.5941 - val_loss: 1.5279 - val_accuracy: 0.4952\n",
      "Epoch 8/100\n",
      "21/21 [==============================] - 34s 2s/step - loss: 1.0849 - accuracy: 0.6409 - val_loss: 1.4744 - val_accuracy: 0.5079\n",
      "Epoch 9/100\n",
      "21/21 [==============================] - 34s 2s/step - loss: 1.0305 - accuracy: 0.6456 - val_loss: 1.2977 - val_accuracy: 0.5333\n",
      "Epoch 10/100\n",
      "21/21 [==============================] - 33s 2s/step - loss: 0.7814 - accuracy: 0.6971 - val_loss: 1.0649 - val_accuracy: 0.6286\n",
      "Epoch 11/100\n",
      "21/21 [==============================] - 33s 2s/step - loss: 0.7090 - accuracy: 0.7416 - val_loss: 1.1081 - val_accuracy: 0.6254\n",
      "Epoch 12/100\n",
      "21/21 [==============================] - 33s 2s/step - loss: 0.6544 - accuracy: 0.7588 - val_loss: 0.9844 - val_accuracy: 0.6857\n",
      "Epoch 13/100\n",
      "21/21 [==============================] - 33s 2s/step - loss: 0.6510 - accuracy: 0.7806 - val_loss: 1.0809 - val_accuracy: 0.6444\n",
      "Epoch 14/100\n",
      "21/21 [==============================] - 33s 2s/step - loss: 0.5864 - accuracy: 0.7994 - val_loss: 0.7627 - val_accuracy: 0.7937\n",
      "Epoch 15/100\n",
      "21/21 [==============================] - 32s 2s/step - loss: 0.5668 - accuracy: 0.8064 - val_loss: 0.9624 - val_accuracy: 0.6921\n",
      "Epoch 16/100\n",
      "21/21 [==============================] - 34s 2s/step - loss: 0.4415 - accuracy: 0.8384 - val_loss: 0.7919 - val_accuracy: 0.7714\n",
      "Epoch 17/100\n",
      "21/21 [==============================] - 32s 2s/step - loss: 0.5250 - accuracy: 0.8368 - val_loss: 0.9129 - val_accuracy: 0.7270\n",
      "Epoch 18/100\n",
      "21/21 [==============================] - 32s 2s/step - loss: 0.4154 - accuracy: 0.8392 - val_loss: 0.9413 - val_accuracy: 0.6984\n",
      "Epoch 19/100\n",
      "21/21 [==============================] - 32s 2s/step - loss: 0.4394 - accuracy: 0.8454 - val_loss: 0.8051 - val_accuracy: 0.7683\n",
      "Epoch 20/100\n",
      "21/21 [==============================] - 30s 1s/step - loss: 0.4187 - accuracy: 0.8415 - val_loss: 0.8695 - val_accuracy: 0.7460\n",
      "Epoch 21/100\n",
      "21/21 [==============================] - 33s 2s/step - loss: 0.3575 - accuracy: 0.8665 - val_loss: 0.7341 - val_accuracy: 0.7778\n",
      "Epoch 22/100\n",
      "21/21 [==============================] - 32s 2s/step - loss: 0.3566 - accuracy: 0.8673 - val_loss: 0.6957 - val_accuracy: 0.7841\n",
      "Epoch 23/100\n",
      "21/21 [==============================] - 32s 2s/step - loss: 0.3411 - accuracy: 0.8798 - val_loss: 0.7748 - val_accuracy: 0.7746\n",
      "Epoch 24/100\n",
      "21/21 [==============================] - 31s 1s/step - loss: 0.3538 - accuracy: 0.8618 - val_loss: 0.6628 - val_accuracy: 0.8190\n",
      "Epoch 25/100\n",
      "21/21 [==============================] - 31s 1s/step - loss: 0.3206 - accuracy: 0.8774 - val_loss: 0.6713 - val_accuracy: 0.8000\n",
      "Epoch 26/100\n",
      "21/21 [==============================] - 32s 2s/step - loss: 0.4310 - accuracy: 0.8556 - val_loss: 1.1767 - val_accuracy: 0.6762\n",
      "Epoch 27/100\n",
      "21/21 [==============================] - 31s 1s/step - loss: 0.4080 - accuracy: 0.8478 - val_loss: 0.7793 - val_accuracy: 0.8000\n",
      "Epoch 28/100\n",
      "21/21 [==============================] - 31s 1s/step - loss: 0.3317 - accuracy: 0.8767 - val_loss: 0.6631 - val_accuracy: 0.8032\n",
      "Epoch 29/100\n",
      "21/21 [==============================] - 31s 1s/step - loss: 0.3244 - accuracy: 0.8751 - val_loss: 0.6698 - val_accuracy: 0.8349\n",
      "Epoch 30/100\n",
      "21/21 [==============================] - 32s 2s/step - loss: 0.3031 - accuracy: 0.8891 - val_loss: 0.6349 - val_accuracy: 0.8159\n",
      "Epoch 31/100\n",
      "21/21 [==============================] - 31s 1s/step - loss: 0.2933 - accuracy: 0.8970 - val_loss: 0.7093 - val_accuracy: 0.7873\n",
      "Epoch 32/100\n",
      "21/21 [==============================] - 31s 1s/step - loss: 0.3058 - accuracy: 0.8993 - val_loss: 0.7286 - val_accuracy: 0.7937\n",
      "Epoch 33/100\n",
      "21/21 [==============================] - 31s 1s/step - loss: 0.2765 - accuracy: 0.8993 - val_loss: 0.6703 - val_accuracy: 0.8413\n",
      "Epoch 34/100\n",
      "21/21 [==============================] - 31s 1s/step - loss: 0.2830 - accuracy: 0.8946 - val_loss: 0.6972 - val_accuracy: 0.8000\n",
      "Epoch 35/100\n",
      "21/21 [==============================] - 30s 1s/step - loss: 0.2722 - accuracy: 0.8977 - val_loss: 0.6283 - val_accuracy: 0.8476\n",
      "Epoch 36/100\n",
      "21/21 [==============================] - 30s 1s/step - loss: 0.2298 - accuracy: 0.9204 - val_loss: 0.5495 - val_accuracy: 0.8476\n",
      "Epoch 37/100\n",
      "21/21 [==============================] - 30s 1s/step - loss: 0.2030 - accuracy: 0.9251 - val_loss: 0.6944 - val_accuracy: 0.8381\n",
      "Epoch 38/100\n",
      "21/21 [==============================] - 31s 1s/step - loss: 0.2617 - accuracy: 0.9079 - val_loss: 1.1107 - val_accuracy: 0.7048\n",
      "Epoch 39/100\n",
      "21/21 [==============================] - 40s 2s/step - loss: 0.2021 - accuracy: 0.9329 - val_loss: 0.6813 - val_accuracy: 0.7905\n",
      "Epoch 40/100\n",
      "21/21 [==============================] - 57s 3s/step - loss: 0.2497 - accuracy: 0.9001 - val_loss: 0.6805 - val_accuracy: 0.8190\n",
      "Epoch 41/100\n",
      "21/21 [==============================] - 52s 2s/step - loss: 0.2192 - accuracy: 0.9133 - val_loss: 0.5820 - val_accuracy: 0.8317\n",
      "Epoch 42/100\n",
      "21/21 [==============================] - 53s 3s/step - loss: 0.1999 - accuracy: 0.9297 - val_loss: 0.7131 - val_accuracy: 0.7873\n",
      "Epoch 43/100\n",
      "21/21 [==============================] - 48s 2s/step - loss: 0.2132 - accuracy: 0.9251 - val_loss: 0.5795 - val_accuracy: 0.8508\n",
      "Epoch 44/100\n",
      "21/21 [==============================] - 45s 2s/step - loss: 0.2257 - accuracy: 0.9149 - val_loss: 0.5834 - val_accuracy: 0.8190\n",
      "Epoch 45/100\n",
      "21/21 [==============================] - 46s 2s/step - loss: 0.2100 - accuracy: 0.9282 - val_loss: 0.5008 - val_accuracy: 0.8540\n",
      "Epoch 46/100\n",
      "21/21 [==============================] - 49s 2s/step - loss: 0.2760 - accuracy: 0.9032 - val_loss: 0.5434 - val_accuracy: 0.8444\n",
      "Epoch 47/100\n",
      "21/21 [==============================] - 43s 2s/step - loss: 0.2234 - accuracy: 0.9118 - val_loss: 0.5500 - val_accuracy: 0.8667\n",
      "Epoch 48/100\n",
      "21/21 [==============================] - 34s 2s/step - loss: 0.2477 - accuracy: 0.9196 - val_loss: 0.5022 - val_accuracy: 0.8730\n",
      "Epoch 49/100\n",
      "21/21 [==============================] - 34s 2s/step - loss: 0.1891 - accuracy: 0.9415 - val_loss: 0.7591 - val_accuracy: 0.8063\n",
      "Epoch 50/100\n",
      "21/21 [==============================] - 32s 2s/step - loss: 0.1976 - accuracy: 0.9282 - val_loss: 0.4987 - val_accuracy: 0.8571\n",
      "Epoch 51/100\n",
      "21/21 [==============================] - 35s 2s/step - loss: 0.2086 - accuracy: 0.9227 - val_loss: 0.6804 - val_accuracy: 0.8000\n",
      "Epoch 52/100\n",
      "21/21 [==============================] - 36s 2s/step - loss: 0.1975 - accuracy: 0.9305 - val_loss: 0.5337 - val_accuracy: 0.8508\n",
      "Epoch 53/100\n",
      "21/21 [==============================] - 32s 2s/step - loss: 0.1771 - accuracy: 0.9422 - val_loss: 0.5114 - val_accuracy: 0.8540\n",
      "Epoch 54/100\n",
      "21/21 [==============================] - 33s 2s/step - loss: 0.1728 - accuracy: 0.9321 - val_loss: 0.7717 - val_accuracy: 0.7746\n",
      "Epoch 55/100\n",
      "21/21 [==============================] - 33s 2s/step - loss: 0.1939 - accuracy: 0.9235 - val_loss: 0.8284 - val_accuracy: 0.7841\n",
      "Epoch 56/100\n",
      "21/21 [==============================] - 36s 2s/step - loss: 0.1812 - accuracy: 0.9383 - val_loss: 0.6387 - val_accuracy: 0.8730\n",
      "Epoch 57/100\n"
     ]
    },
    {
     "name": "stdout",
     "output_type": "stream",
     "text": [
      "21/21 [==============================] - 35s 2s/step - loss: 0.1836 - accuracy: 0.9282 - val_loss: 0.5608 - val_accuracy: 0.8508\n",
      "Epoch 58/100\n",
      "21/21 [==============================] - 33s 2s/step - loss: 0.2268 - accuracy: 0.9321 - val_loss: 0.4016 - val_accuracy: 0.8794\n",
      "Epoch 59/100\n",
      "21/21 [==============================] - 36s 2s/step - loss: 0.1904 - accuracy: 0.9297 - val_loss: 0.8419 - val_accuracy: 0.7937\n",
      "Epoch 60/100\n",
      "21/21 [==============================] - 33s 2s/step - loss: 0.1880 - accuracy: 0.9313 - val_loss: 0.6704 - val_accuracy: 0.8444\n",
      "Epoch 61/100\n",
      "21/21 [==============================] - 33s 2s/step - loss: 0.1865 - accuracy: 0.9305 - val_loss: 0.5575 - val_accuracy: 0.8286\n",
      "Epoch 62/100\n",
      "21/21 [==============================] - 33s 2s/step - loss: 0.1714 - accuracy: 0.9375 - val_loss: 0.5404 - val_accuracy: 0.8476\n",
      "Epoch 63/100\n",
      "21/21 [==============================] - 33s 2s/step - loss: 0.1578 - accuracy: 0.9383 - val_loss: 0.7814 - val_accuracy: 0.7937\n",
      "Epoch 64/100\n",
      "21/21 [==============================] - 35s 2s/step - loss: 0.1723 - accuracy: 0.9336 - val_loss: 1.0560 - val_accuracy: 0.7524\n",
      "Epoch 65/100\n",
      "21/21 [==============================] - 33s 2s/step - loss: 0.1674 - accuracy: 0.9399 - val_loss: 0.5921 - val_accuracy: 0.8476\n",
      "Epoch 66/100\n",
      "21/21 [==============================] - 35s 2s/step - loss: 0.1365 - accuracy: 0.9524 - val_loss: 0.4931 - val_accuracy: 0.8667\n",
      "Epoch 67/100\n",
      "21/21 [==============================] - 34s 2s/step - loss: 0.1389 - accuracy: 0.9446 - val_loss: 0.5198 - val_accuracy: 0.8540\n",
      "Epoch 68/100\n",
      "21/21 [==============================] - 33s 2s/step - loss: 0.1881 - accuracy: 0.9469 - val_loss: 0.6051 - val_accuracy: 0.8317\n",
      "Epoch 00068: early stopping\n"
     ]
    }
   ],
   "source": [
    "# INÍCIO DO TREINO DO MODELO #\n",
    "\n",
    "history = model.fit(train_data,\n",
    "                    epochs=100,\n",
    "                    validation_data=valid_data,\n",
    "                    callbacks = [es])\n",
    "\n",
    "# informação: steps_per_epoch = número de imagens / batch_size"
   ]
  },
  {
   "cell_type": "code",
   "execution_count": 9,
   "metadata": {},
   "outputs": [],
   "source": [
    "model.save('model_1est.h5',\n",
    "          overwrite = True) \n",
    "del model\n",
    "\n",
    "with open('trainHistoryDict_model_1est', 'wb') as file_pi:\n",
    "        pickle.dump(history.history, file_pi)"
   ]
  },
  {
   "cell_type": "code",
   "execution_count": 10,
   "metadata": {},
   "outputs": [],
   "source": [
    "model = keras.models.load_model('model_1est.h5')\n",
    "history = pickle.load(open('trainHistoryDict_model_1est', \"rb\"))"
   ]
  },
  {
   "cell_type": "code",
   "execution_count": 11,
   "metadata": {},
   "outputs": [
    {
     "name": "stdout",
     "output_type": "stream",
     "text": [
      "Model: \"sequential_1\"\n",
      "_________________________________________________________________\n",
      "Layer (type)                 Output Shape              Param #   \n",
      "=================================================================\n",
      "conv2d_1 (Conv2D)            (None, 98, 98, 32)        896       \n",
      "_________________________________________________________________\n",
      "max_pooling2d_1 (MaxPooling2 (None, 49, 49, 32)        0         \n",
      "_________________________________________________________________\n",
      "dropout_1 (Dropout)          (None, 49, 49, 32)        0         \n",
      "_________________________________________________________________\n",
      "conv2d_2 (Conv2D)            (None, 47, 47, 64)        18496     \n",
      "_________________________________________________________________\n",
      "max_pooling2d_2 (MaxPooling2 (None, 23, 23, 64)        0         \n",
      "_________________________________________________________________\n",
      "dropout_2 (Dropout)          (None, 23, 23, 64)        0         \n",
      "_________________________________________________________________\n",
      "conv2d_3 (Conv2D)            (None, 21, 21, 64)        36928     \n",
      "_________________________________________________________________\n",
      "max_pooling2d_3 (MaxPooling2 (None, 10, 10, 64)        0         \n",
      "_________________________________________________________________\n",
      "dropout_3 (Dropout)          (None, 10, 10, 64)        0         \n",
      "_________________________________________________________________\n",
      "flatten_1 (Flatten)          (None, 6400)              0         \n",
      "_________________________________________________________________\n",
      "dense_1 (Dense)              (None, 64)                409664    \n",
      "_________________________________________________________________\n",
      "dropout_4 (Dropout)          (None, 64)                0         \n",
      "_________________________________________________________________\n",
      "dense_2 (Dense)              (None, 11)                715       \n",
      "=================================================================\n",
      "Total params: 466,699\n",
      "Trainable params: 466,699\n",
      "Non-trainable params: 0\n",
      "_________________________________________________________________\n"
     ]
    }
   ],
   "source": [
    "model.summary()"
   ]
  },
  {
   "cell_type": "code",
   "execution_count": 12,
   "metadata": {},
   "outputs": [
    {
     "data": {
      "text/plain": [
       "<matplotlib.legend.Legend at 0x1a8667bb948>"
      ]
     },
     "execution_count": 12,
     "metadata": {},
     "output_type": "execute_result"
    },
    {
     "data": {
      "image/png": "[encoded data removed]",
      "text/plain": [
       "<Figure size 432x288 with 1 Axes>"
      ]
     },
     "metadata": {
      "needs_background": "light"
     },
     "output_type": "display_data"
    }
   ],
   "source": [
    "# GERANDO GRÁFICO COM RESULTADOS DAS ACURÁCIAS DE TREINO E VALIDAÇÃO #\n",
    "plt.plot(history['accuracy'], label='accuracy_train')\n",
    "plt.plot(history['val_accuracy'], label = 'accuracy_valid')\n",
    "plt.xlabel('Epoch')\n",
    "plt.ylabel('Accuracy')\n",
    "plt.ylim([0, 1])\n",
    "plt.legend(loc='lower right')"
   ]
  },
  {
   "cell_type": "code",
   "execution_count": 13,
   "metadata": {},
   "outputs": [
    {
     "data": {
      "text/plain": [
       "<matplotlib.legend.Legend at 0x1a8663eefc8>"
      ]
     },
     "execution_count": 13,
     "metadata": {},
     "output_type": "execute_result"
    },
    {
     "data": {
      "image/png": "[encoded data removed]",
      "text/plain": [
       "<Figure size 432x288 with 1 Axes>"
      ]
     },
     "metadata": {
      "needs_background": "light"
     },
     "output_type": "display_data"
    }
   ],
   "source": [
    "# GERANDO GRÁFICO COM RESULTADOS DO LOSS DE TREINO E VALIDAÇÃO #\n",
    "\n",
    "plt.plot(history['loss'], label='loss train')\n",
    "plt.plot(history['val_loss'], label='loss val')\n",
    "plt.xlabel('Epoch')\n",
    "plt.ylabel('Loss')\n",
    "plt.ylim([0, 3])\n",
    "plt.legend(loc='lower right')"
   ]
  },
  {
   "cell_type": "code",
   "execution_count": 14,
   "metadata": {},
   "outputs": [
    {
     "name": "stdout",
     "output_type": "stream",
     "text": [
      "Found 397 images belonging to 11 classes.\n"
     ]
    }
   ],
   "source": [
    "datagen_test =  ImageDataGenerator(rescale = 1./255) # comando para reescala das imagens de teste\n",
    "\n",
    "# imagens de teste\n",
    "\n",
    "test_data = datagen_test.flow_from_directory(directory='dataset_smkt/Test',\n",
    "                                             target_size = (100, 100),\n",
    "                                             batch_size = 1,\n",
    "                                             shuffle=False)"
   ]
  },
  {
   "cell_type": "code",
   "execution_count": 15,
   "metadata": {},
   "outputs": [
    {
     "name": "stdout",
     "output_type": "stream",
     "text": [
      "WARNING:tensorflow:sample_weight modes were coerced from\n",
      "  ...\n",
      "    to  \n",
      "  ['...']\n",
      "397/397 [==============================] - 18s 44ms/step - loss: 1.0888 - accuracy: 0.7078\n",
      "acurácia nos dados de teste: 0.70780855\n",
      "loss dos dados de teste: 1.0887725388144813\n"
     ]
    }
   ],
   "source": [
    "# DEFININDO COMANDO PARA AVALIAR O DESEMPENHO DO MODELO NAS IMAGENS DE TESTE #\n",
    "\n",
    "test_loss, test_acc = model.evaluate(test_data) # verificar versão do Keras\n",
    "\n",
    "print(\"acurácia nos dados de teste:\", test_acc)\n",
    "print(\"loss dos dados de teste:\", test_loss)"
   ]
  },
  {
   "cell_type": "code",
   "execution_count": 16,
   "metadata": {},
   "outputs": [
    {
     "name": "stdout",
     "output_type": "stream",
     "text": [
      "(397,)\n",
      "[ 0  0  0  0  0  0  0  0  0  0  0  0  0  0  0  0  0  0  0  0  0  0  0  0\n",
      "  0  0  0  0  0  0  0  0  0  0  0  0  0  0  0  0  1  1  1  1  1  1  1  1\n",
      "  1  1  1  1  1  1  1  1  1  1  1  1  1  1  1  1  1  1  1  1  1  1  1  1\n",
      "  1  1  1  1  1  1  1  1  1  1  2  2  2  2  2  2  2  2  2  2  2  2  2  2\n",
      "  2  2  2  2  2  2  2  2  2  2  2  2  2  2  2  2  2  2  2  2  2  2  2  2\n",
      "  2  2  2  2  3  3  3  3  3  3  3  3  3  3  3  3  3  3  3  3  3  3  3  3\n",
      "  3  3  3  3  3  3  3  3  3  3  3  4  4  4  4  4  4  4  4  4  4  4  4  4\n",
      "  4  4  4  4  4  4  4  4  4  4  4  4  4  4  4  4  4  4  4  4  4  5  5  5\n",
      "  5  5  5  5  5  5  5  5  5  5  5  5  5  5  5  5  5  5  5  5  5  5  5  5\n",
      "  5  5  5  5  5  5  5  5  5  5  5  5  5  5  5  5  5  5  5  5  5  5  6  6\n",
      "  6  6  6  6  6  6  6  6  6  6  6  6  6  7  7  7  7  7  7  7  7  7  7  7\n",
      "  7  7  7  7  7  7  7  7  7  7  7  7  7  7  7  7  7  7  7  7  7  7  7  7\n",
      "  7  7  7  7  7  7  7  7  7  7  7  7  7  7  7  7  7  7  8  8  8  8  8  8\n",
      "  8  8  8  8  8  8  8  8  8  8  8  8  8  8  8  8  8  8  8  8  8  8  8  8\n",
      "  8  8  9  9  9  9  9  9  9  9  9  9  9  9  9  9  9  9  9  9  9  9  9 10\n",
      " 10 10 10 10 10 10 10 10 10 10 10 10 10 10 10 10 10 10 10 10 10 10 10 10\n",
      " 10 10 10 10 10 10 10 10 10 10 10 10 10]\n",
      "Accuracy\n",
      "0.707808564231738\n",
      "Balanced Accuracy\n",
      "0.7113606707087137\n",
      "Confusion Matrix\n",
      "[[27  0  0  0 12  0  0  0  1  0  0]\n",
      " [ 0 28 14  0  0  0  0  0  0  0  0]\n",
      " [ 0  7 27  0  1  1  0  3  3  0  0]\n",
      " [ 0  0  0 30  1  0  0  0  0  0  0]\n",
      " [ 0  0  0  0  0 34  0  0  0  0  0]\n",
      " [ 0  1  5  0  0 43  0  0  0  0  0]\n",
      " [ 1  0  0  0  0  0 14  0  0  0  0]\n",
      " [ 1  0  0  0  1  0  0 50  1  0  0]\n",
      " [ 1 10  8  0  1  2  0  2  8  0  0]\n",
      " [ 0  0  0  0  0  0  0  0  0 21  0]\n",
      " [ 0  0  0  5  0  0  0  0  0  0 33]]\n",
      "Classification Report\n"
     ]
    }
   ],
   "source": [
    "from sklearn.metrics import classification_report, confusion_matrix, balanced_accuracy_score, accuracy_score\n",
    "\n",
    "Y_pred = model.predict(test_data)\n",
    "y_pred = np.argmax(Y_pred, axis=1)\n",
    "\n",
    "print(y_pred.shape)\n",
    "\n",
    "print(test_data.classes)\n",
    "\n",
    "print('Accuracy')\n",
    "print(accuracy_score(test_data.classes,y_pred))\n",
    "\n",
    "print('Balanced Accuracy')\n",
    "print(balanced_accuracy_score(test_data.classes,y_pred))\n",
    "\n",
    "print('Confusion Matrix')\n",
    "print(confusion_matrix(test_data.classes, y_pred))\n",
    "print('Classification Report')"
   ]
  },
  {
   "cell_type": "code",
   "execution_count": null,
   "metadata": {},
   "outputs": [],
   "source": []
  }
 ],
 "metadata": {
  "kernelspec": {
   "display_name": "Python 3",
   "language": "python",
   "name": "python3"
  },
  "language_info": {
   "codemirror_mode": {
    "name": "ipython",
    "version": 3
   },
   "file_extension": ".py",
   "mimetype": "text/x-python",
   "name": "python",
   "nbconvert_exporter": "python",
   "pygments_lexer": "ipython3",
   "version": "3.7.7"
  }
 },
 "nbformat": 4,
 "nbformat_minor": 4
}
