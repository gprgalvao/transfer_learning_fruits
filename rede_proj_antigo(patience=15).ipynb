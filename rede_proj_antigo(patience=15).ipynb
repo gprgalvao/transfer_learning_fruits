{
 "cells": [
  {
   "cell_type": "code",
   "execution_count": 1,
   "metadata": {},
   "outputs": [
    {
     "name": "stdout",
     "output_type": "stream",
     "text": [
      "Versão do TensorFlow: 2.1.0\n",
      "versão do Keras: 2.2.4-tf\n"
     ]
    },
    {
     "name": "stderr",
     "output_type": "stream",
     "text": [
      "Using TensorFlow backend.\n"
     ]
    }
   ],
   "source": [
    "import tensorflow as tf\n",
    "print(\"Versão do TensorFlow:\", tf.__version__)\n",
    "\n",
    "from tensorflow import keras\n",
    "print(\"versão do Keras:\", keras.__version__)\n",
    "\n",
    "# IMPORTANDO COMANDOS E FUNÇÕES #\n",
    "\n",
    "import numpy as np\n",
    "import matplotlib.pyplot as plt #gerar gráfico\n",
    "import os\n",
    "from keras.preprocessing.image import ImageDataGenerator\n",
    "from keras.callbacks import EarlyStopping\n",
    "\n",
    "import pickle\n",
    "\n",
    "# IMPORTANDO LAYERS PARA A CNN #\n",
    "\n",
    "from keras.models import Sequential\n",
    "from keras import layers\n",
    "from keras.layers import Dropout"
   ]
  },
  {
   "cell_type": "code",
   "execution_count": 2,
   "metadata": {},
   "outputs": [],
   "source": [
    "# MONTANDO A ESTRUTURA DA CNN #\n",
    "\n",
    "model = Sequential()\n",
    "model.add(layers.Conv2D(32, (3, 3), activation='relu', input_shape=(100, 100, 3)))\n",
    "model.add(layers.MaxPooling2D((2, 2)))\n",
    "model.add(Dropout(0.5)) # dropout de 50%\n",
    "model.add(layers.Conv2D(64, (3, 3), activation='relu'))\n",
    "model.add(layers.MaxPooling2D((2, 2)))\n",
    "model.add(Dropout(0.5))\n",
    "model.add(layers.Conv2D(64, (3, 3), activation='relu'))\n",
    "model.add(layers.MaxPooling2D((2, 2)))\n",
    "model.add(Dropout(0.5))\n",
    "\n",
    "model.add(layers.Flatten()) # camada de achatamento\n",
    "model.add(layers.Dense(64, activation='relu'))\n",
    "model.add(Dropout(0.5))\n",
    "model.add(layers.Dense(units = 11, activation = 'softmax')) # 11 unidades de saída (11 classes)"
   ]
  },
  {
   "cell_type": "code",
   "execution_count": 3,
   "metadata": {},
   "outputs": [
    {
     "name": "stdout",
     "output_type": "stream",
     "text": [
      "versao do h5py: 2.10.0\n"
     ]
    }
   ],
   "source": [
    "import h5py\n",
    "\n",
    "print(\"versao do h5py:\", h5py.__version__)"
   ]
  },
  {
   "cell_type": "code",
   "execution_count": 4,
   "metadata": {},
   "outputs": [
    {
     "name": "stdout",
     "output_type": "stream",
     "text": [
      "Model: \"sequential_1\"\n",
      "_________________________________________________________________\n",
      "Layer (type)                 Output Shape              Param #   \n",
      "=================================================================\n",
      "conv2d_1 (Conv2D)            (None, 98, 98, 32)        896       \n",
      "_________________________________________________________________\n",
      "max_pooling2d_1 (MaxPooling2 (None, 49, 49, 32)        0         \n",
      "_________________________________________________________________\n",
      "dropout_1 (Dropout)          (None, 49, 49, 32)        0         \n",
      "_________________________________________________________________\n",
      "conv2d_2 (Conv2D)            (None, 47, 47, 64)        18496     \n",
      "_________________________________________________________________\n",
      "max_pooling2d_2 (MaxPooling2 (None, 23, 23, 64)        0         \n",
      "_________________________________________________________________\n",
      "dropout_2 (Dropout)          (None, 23, 23, 64)        0         \n",
      "_________________________________________________________________\n",
      "conv2d_3 (Conv2D)            (None, 21, 21, 64)        36928     \n",
      "_________________________________________________________________\n",
      "max_pooling2d_3 (MaxPooling2 (None, 10, 10, 64)        0         \n",
      "_________________________________________________________________\n",
      "dropout_3 (Dropout)          (None, 10, 10, 64)        0         \n",
      "_________________________________________________________________\n",
      "flatten_1 (Flatten)          (None, 6400)              0         \n",
      "_________________________________________________________________\n",
      "dense_1 (Dense)              (None, 64)                409664    \n",
      "_________________________________________________________________\n",
      "dropout_4 (Dropout)          (None, 64)                0         \n",
      "_________________________________________________________________\n",
      "dense_2 (Dense)              (None, 11)                715       \n",
      "=================================================================\n",
      "Total params: 466,699\n",
      "Trainable params: 466,699\n",
      "Non-trainable params: 0\n",
      "_________________________________________________________________\n"
     ]
    }
   ],
   "source": [
    "model.summary() # resumo da estrutura, com os parâmetros ajustáveis"
   ]
  },
  {
   "cell_type": "code",
   "execution_count": 5,
   "metadata": {},
   "outputs": [],
   "source": [
    "model.compile(optimizer='adam',\n",
    "              loss=tf.keras.losses.CategoricalCrossentropy(\n",
    "                  from_logits=False,\n",
    "                  label_smoothing=0,                            #configurações da função loss\n",
    "                  reduction=\"auto\",\n",
    "                  name=\"categorical_crossentropy\"),\n",
    "              metrics=['accuracy'])"
   ]
  },
  {
   "cell_type": "code",
   "execution_count": 6,
   "metadata": {},
   "outputs": [
    {
     "name": "stdout",
     "output_type": "stream",
     "text": [
      "Found 4160 images belonging to 11 classes.\n",
      "Found 1037 images belonging to 11 classes.\n"
     ]
    }
   ],
   "source": [
    "# DIVIDIR AS 8000 IMAGENS EM PARTIÇÃO DE TREINO E VALIDAÇÃO, UTILIZANDO O IMAGEDATAGENERATOR #\n",
    "\n",
    "from keras.preprocessing.image import ImageDataGenerator\n",
    "\n",
    "datagen =  ImageDataGenerator(rescale = 1./255, validation_split=0.2) # comando para reescala + divisão em 20% para validação\n",
    "\n",
    "# imagens de treino (80%) \n",
    "\n",
    "train_data = datagen.flow_from_directory('dataset_fruits/Training', \n",
    "                                         subset = 'training',\n",
    "                                         batch_size = 64,\n",
    "                                         target_size = (100, 100)) # definindo tamanho das imagens\n",
    "\n",
    "# imagens de validação (20%)\n",
    "\n",
    "valid_data = datagen.flow_from_directory('dataset_fruits/Training',\n",
    "                                         subset='validation',\n",
    "                                         batch_size = 64,\n",
    "                                         target_size = (100, 100))"
   ]
  },
  {
   "cell_type": "code",
   "execution_count": 7,
   "metadata": {},
   "outputs": [],
   "source": [
    "# DEFININDO O COMANDO EARLYSTOPPING #\n",
    "\n",
    "es = EarlyStopping(monitor='val_accuracy', mode='max', verbose=1, patience = 15) #early stopping baseado na melhor acurácia de validação"
   ]
  },
  {
   "cell_type": "code",
   "execution_count": 8,
   "metadata": {},
   "outputs": [
    {
     "name": "stdout",
     "output_type": "stream",
     "text": [
      "Epoch 1/100\n",
      "65/65 [==============================] - 117s 2s/step - loss: 2.1085 - accuracy: 0.2320 - val_loss: 1.4759 - val_accuracy: 0.5815\n",
      "Epoch 2/100\n",
      "65/65 [==============================] - 42s 651ms/step - loss: 1.0422 - accuracy: 0.6111 - val_loss: 0.6619 - val_accuracy: 0.7936\n",
      "Epoch 3/100\n",
      "65/65 [==============================] - 46s 712ms/step - loss: 0.6979 - accuracy: 0.7320 - val_loss: 0.2584 - val_accuracy: 0.8544\n",
      "Epoch 4/100\n",
      "65/65 [==============================] - 48s 744ms/step - loss: 0.5124 - accuracy: 0.8077 - val_loss: 0.2082 - val_accuracy: 0.8737\n",
      "Epoch 5/100\n",
      "65/65 [==============================] - 47s 727ms/step - loss: 0.4818 - accuracy: 0.8156 - val_loss: 0.3085 - val_accuracy: 0.8910\n",
      "Epoch 6/100\n",
      "65/65 [==============================] - 47s 719ms/step - loss: 0.4184 - accuracy: 0.8389 - val_loss: 0.2668 - val_accuracy: 0.8949\n",
      "Epoch 7/100\n",
      "65/65 [==============================] - 46s 705ms/step - loss: 0.3335 - accuracy: 0.8680 - val_loss: 0.1075 - val_accuracy: 0.8785\n",
      "Epoch 8/100\n",
      "65/65 [==============================] - 45s 689ms/step - loss: 0.2837 - accuracy: 0.8928 - val_loss: 0.4032 - val_accuracy: 0.9045\n",
      "Epoch 9/100\n",
      "65/65 [==============================] - 46s 713ms/step - loss: 0.2769 - accuracy: 0.8947 - val_loss: 0.5247 - val_accuracy: 0.9103\n",
      "Epoch 10/100\n",
      "65/65 [==============================] - 47s 724ms/step - loss: 0.2712 - accuracy: 0.8983 - val_loss: 0.0618 - val_accuracy: 0.9576\n",
      "Epoch 11/100\n",
      "65/65 [==============================] - 45s 686ms/step - loss: 0.2594 - accuracy: 0.9050 - val_loss: 0.4795 - val_accuracy: 0.9151\n",
      "Epoch 12/100\n",
      "65/65 [==============================] - 45s 690ms/step - loss: 0.2451 - accuracy: 0.9031 - val_loss: 0.1449 - val_accuracy: 0.9315\n",
      "Epoch 13/100\n",
      "65/65 [==============================] - 44s 677ms/step - loss: 0.2472 - accuracy: 0.9038 - val_loss: 0.1411 - val_accuracy: 0.9605\n",
      "Epoch 14/100\n",
      "65/65 [==============================] - 43s 666ms/step - loss: 0.2335 - accuracy: 0.9118 - val_loss: 0.0291 - val_accuracy: 0.9614\n",
      "Epoch 15/100\n",
      "65/65 [==============================] - 44s 675ms/step - loss: 0.2069 - accuracy: 0.9264 - val_loss: 0.1827 - val_accuracy: 0.9402\n",
      "Epoch 16/100\n",
      "65/65 [==============================] - 43s 669ms/step - loss: 0.2018 - accuracy: 0.9264 - val_loss: 0.0445 - val_accuracy: 0.9392\n",
      "Epoch 17/100\n",
      "65/65 [==============================] - 44s 672ms/step - loss: 0.1835 - accuracy: 0.9317 - val_loss: 0.1336 - val_accuracy: 0.9460\n",
      "Epoch 18/100\n",
      "65/65 [==============================] - 44s 678ms/step - loss: 0.2129 - accuracy: 0.9260 - val_loss: 0.1498 - val_accuracy: 0.9325\n",
      "Epoch 19/100\n",
      "65/65 [==============================] - 44s 670ms/step - loss: 0.1947 - accuracy: 0.9272 - val_loss: 0.0740 - val_accuracy: 0.9200\n",
      "Epoch 20/100\n",
      "65/65 [==============================] - 43s 664ms/step - loss: 0.1961 - accuracy: 0.9296 - val_loss: 0.0099 - val_accuracy: 0.9605\n",
      "Epoch 21/100\n",
      "65/65 [==============================] - 44s 676ms/step - loss: 0.1925 - accuracy: 0.9286 - val_loss: 0.7402 - val_accuracy: 0.9499\n",
      "Epoch 22/100\n",
      "65/65 [==============================] - 43s 664ms/step - loss: 0.1791 - accuracy: 0.9332 - val_loss: 0.0238 - val_accuracy: 0.9807\n",
      "Epoch 23/100\n",
      "65/65 [==============================] - 43s 667ms/step - loss: 0.1816 - accuracy: 0.9346 - val_loss: 0.0059 - val_accuracy: 0.9797\n",
      "Epoch 24/100\n",
      "65/65 [==============================] - 44s 675ms/step - loss: 0.1735 - accuracy: 0.9375 - val_loss: 0.1858 - val_accuracy: 0.9778\n",
      "Epoch 25/100\n",
      "65/65 [==============================] - 43s 668ms/step - loss: 0.1670 - accuracy: 0.9389 - val_loss: 0.0467 - val_accuracy: 0.9537\n",
      "Epoch 26/100\n",
      "65/65 [==============================] - 45s 694ms/step - loss: 0.1800 - accuracy: 0.9344 - val_loss: 0.0201 - val_accuracy: 0.9402\n",
      "Epoch 27/100\n",
      "65/65 [==============================] - 43s 667ms/step - loss: 0.1713 - accuracy: 0.9339 - val_loss: 0.2866 - val_accuracy: 0.9412\n",
      "Epoch 28/100\n",
      "65/65 [==============================] - 43s 659ms/step - loss: 0.1737 - accuracy: 0.9337 - val_loss: 3.2245e-04 - val_accuracy: 0.9151\n",
      "Epoch 29/100\n",
      "65/65 [==============================] - 43s 668ms/step - loss: 0.1971 - accuracy: 0.9325 - val_loss: 0.1129 - val_accuracy: 0.9797\n",
      "Epoch 30/100\n",
      "65/65 [==============================] - 43s 654ms/step - loss: 0.1653 - accuracy: 0.9385 - val_loss: 0.0013 - val_accuracy: 0.9325\n",
      "Epoch 31/100\n",
      "65/65 [==============================] - 43s 655ms/step - loss: 0.1491 - accuracy: 0.9421 - val_loss: 0.0166 - val_accuracy: 0.9923\n",
      "Epoch 32/100\n",
      "65/65 [==============================] - 44s 675ms/step - loss: 0.1599 - accuracy: 0.9377 - val_loss: 0.1560 - val_accuracy: 0.9354\n",
      "Epoch 33/100\n",
      "65/65 [==============================] - 44s 684ms/step - loss: 0.1343 - accuracy: 0.9476 - val_loss: 0.0644 - val_accuracy: 0.9508\n",
      "Epoch 34/100\n",
      "65/65 [==============================] - 43s 667ms/step - loss: 0.1615 - accuracy: 0.9370 - val_loss: 5.4378e-04 - val_accuracy: 0.9518\n",
      "Epoch 35/100\n",
      "65/65 [==============================] - 44s 672ms/step - loss: 0.1398 - accuracy: 0.9476 - val_loss: 0.0948 - val_accuracy: 0.9479\n",
      "Epoch 36/100\n",
      "65/65 [==============================] - 44s 673ms/step - loss: 0.1505 - accuracy: 0.9450 - val_loss: 0.0012 - val_accuracy: 1.0000\n",
      "Epoch 37/100\n",
      "65/65 [==============================] - 44s 672ms/step - loss: 0.1319 - accuracy: 0.9507 - val_loss: 0.1171 - val_accuracy: 0.9595\n",
      "Epoch 38/100\n",
      "65/65 [==============================] - 43s 667ms/step - loss: 0.1437 - accuracy: 0.9459 - val_loss: 0.6748 - val_accuracy: 0.9142\n",
      "Epoch 39/100\n",
      "65/65 [==============================] - 44s 673ms/step - loss: 0.1235 - accuracy: 0.9560 - val_loss: 0.0093 - val_accuracy: 0.9807\n",
      "Epoch 40/100\n",
      "65/65 [==============================] - 45s 687ms/step - loss: 0.1392 - accuracy: 0.9486 - val_loss: 3.7956e-04 - val_accuracy: 0.9797\n",
      "Epoch 41/100\n",
      "65/65 [==============================] - 43s 665ms/step - loss: 0.1440 - accuracy: 0.9459 - val_loss: 0.0161 - val_accuracy: 0.9826\n",
      "Epoch 42/100\n",
      "65/65 [==============================] - 43s 662ms/step - loss: 0.1185 - accuracy: 0.9560 - val_loss: 0.3881 - val_accuracy: 0.9325\n",
      "Epoch 43/100\n",
      "65/65 [==============================] - 44s 671ms/step - loss: 0.1429 - accuracy: 0.9500 - val_loss: 0.3460 - val_accuracy: 0.9527\n",
      "Epoch 44/100\n",
      "65/65 [==============================] - 43s 660ms/step - loss: 0.1256 - accuracy: 0.9548 - val_loss: 0.1851 - val_accuracy: 0.9585\n",
      "Epoch 45/100\n",
      "65/65 [==============================] - 43s 665ms/step - loss: 0.1256 - accuracy: 0.9534 - val_loss: 0.3704 - val_accuracy: 0.9122\n",
      "Epoch 46/100\n",
      "65/65 [==============================] - 44s 678ms/step - loss: 0.1282 - accuracy: 0.9493 - val_loss: 0.0023 - val_accuracy: 0.9566\n",
      "Epoch 47/100\n",
      "65/65 [==============================] - 43s 661ms/step - loss: 0.1571 - accuracy: 0.9440 - val_loss: 0.2283 - val_accuracy: 0.8380\n",
      "Epoch 48/100\n",
      "65/65 [==============================] - 43s 666ms/step - loss: 0.1205 - accuracy: 0.9563 - val_loss: 0.0981 - val_accuracy: 0.9508\n",
      "Epoch 49/100\n",
      "65/65 [==============================] - 44s 674ms/step - loss: 0.1104 - accuracy: 0.9599 - val_loss: 4.7314e-04 - val_accuracy: 0.9547\n",
      "Epoch 50/100\n",
      "65/65 [==============================] - 43s 662ms/step - loss: 0.1019 - accuracy: 0.9620 - val_loss: 0.6006 - val_accuracy: 0.8901\n",
      "Epoch 51/100\n",
      "65/65 [==============================] - 49s 755ms/step - loss: 0.1103 - accuracy: 0.9613 - val_loss: 0.0255 - val_accuracy: 0.9518\n",
      "Epoch 00051: early stopping\n"
     ]
    }
   ],
   "source": [
    "# INÍCIO DO TREINO DO MODELO #\n",
    "\n",
    "history = model.fit(train_data,\n",
    "                    epochs=100,\n",
    "                    validation_data=valid_data,\n",
    "                    callbacks = [es])\n",
    "\n",
    "# informação: steps_per_epoch = número de imagens / batch_size"
   ]
  },
  {
   "cell_type": "code",
   "execution_count": 9,
   "metadata": {},
   "outputs": [],
   "source": [
    "model.save('model_proj_antigo_patience=15.h5',\n",
    "          overwrite = True) \n",
    "del model\n",
    "\n",
    "with open('trainHistoryDict_proj_antigo_patience=15', 'wb') as file_pi:\n",
    "        pickle.dump(history.history, file_pi)"
   ]
  },
  {
   "cell_type": "code",
   "execution_count": 10,
   "metadata": {},
   "outputs": [],
   "source": [
    "model = keras.models.load_model('model_proj_antigo_patience=15.h5')\n",
    "history = pickle.load(open('trainHistoryDict_proj_antigo_patience=15', \"rb\"))"
   ]
  },
  {
   "cell_type": "code",
   "execution_count": 11,
   "metadata": {},
   "outputs": [
    {
     "name": "stdout",
     "output_type": "stream",
     "text": [
      "Model: \"sequential_1\"\n",
      "_________________________________________________________________\n",
      "Layer (type)                 Output Shape              Param #   \n",
      "=================================================================\n",
      "conv2d_1 (Conv2D)            (None, 98, 98, 32)        896       \n",
      "_________________________________________________________________\n",
      "max_pooling2d_1 (MaxPooling2 (None, 49, 49, 32)        0         \n",
      "_________________________________________________________________\n",
      "dropout_1 (Dropout)          (None, 49, 49, 32)        0         \n",
      "_________________________________________________________________\n",
      "conv2d_2 (Conv2D)            (None, 47, 47, 64)        18496     \n",
      "_________________________________________________________________\n",
      "max_pooling2d_2 (MaxPooling2 (None, 23, 23, 64)        0         \n",
      "_________________________________________________________________\n",
      "dropout_2 (Dropout)          (None, 23, 23, 64)        0         \n",
      "_________________________________________________________________\n",
      "conv2d_3 (Conv2D)            (None, 21, 21, 64)        36928     \n",
      "_________________________________________________________________\n",
      "max_pooling2d_3 (MaxPooling2 (None, 10, 10, 64)        0         \n",
      "_________________________________________________________________\n",
      "dropout_3 (Dropout)          (None, 10, 10, 64)        0         \n",
      "_________________________________________________________________\n",
      "flatten_1 (Flatten)          (None, 6400)              0         \n",
      "_________________________________________________________________\n",
      "dense_1 (Dense)              (None, 64)                409664    \n",
      "_________________________________________________________________\n",
      "dropout_4 (Dropout)          (None, 64)                0         \n",
      "_________________________________________________________________\n",
      "dense_2 (Dense)              (None, 11)                715       \n",
      "=================================================================\n",
      "Total params: 466,699\n",
      "Trainable params: 466,699\n",
      "Non-trainable params: 0\n",
      "_________________________________________________________________\n"
     ]
    }
   ],
   "source": [
    "model.summary()"
   ]
  },
  {
   "cell_type": "code",
   "execution_count": 12,
   "metadata": {},
   "outputs": [
    {
     "data": {
      "text/plain": [
       "<matplotlib.legend.Legend at 0x258a60c3e08>"
      ]
     },
     "execution_count": 12,
     "metadata": {},
     "output_type": "execute_result"
    },
    {
     "data": {
      "image/png": "[encoded data removed]",
      "text/plain": [
       "<Figure size 432x288 with 1 Axes>"
      ]
     },
     "metadata": {
      "needs_background": "light"
     },
     "output_type": "display_data"
    }
   ],
   "source": [
    "# GERANDO GRÁFICO COM RESULTADOS DAS ACURÁCIAS DE TREINO E VALIDAÇÃO #\n",
    "plt.plot(history['accuracy'], label='accuracy_train')\n",
    "plt.plot(history['val_accuracy'], label = 'accuracy_valid')\n",
    "plt.xlabel('Epoch')\n",
    "plt.ylabel('Accuracy')\n",
    "plt.ylim([0, 1])\n",
    "plt.legend(loc='lower right')"
   ]
  },
  {
   "cell_type": "code",
   "execution_count": 13,
   "metadata": {},
   "outputs": [
    {
     "data": {
      "text/plain": [
       "<matplotlib.legend.Legend at 0x258a619b1c8>"
      ]
     },
     "execution_count": 13,
     "metadata": {},
     "output_type": "execute_result"
    },
    {
     "data": {
      "image/png": "[encoded data removed]",
      "text/plain": [
       "<Figure size 432x288 with 1 Axes>"
      ]
     },
     "metadata": {
      "needs_background": "light"
     },
     "output_type": "display_data"
    }
   ],
   "source": [
    "# GERANDO GRÁFICO COM RESULTADOS DO LOSS DE TREINO E VALIDAÇÃO #\n",
    "\n",
    "plt.plot(history['loss'], label='loss train')\n",
    "plt.plot(history['val_loss'], label='loss val')\n",
    "plt.xlabel('Epoch')\n",
    "plt.ylabel('Loss')\n",
    "plt.ylim([0, 3])\n",
    "plt.legend(loc='lower right')"
   ]
  },
  {
   "cell_type": "code",
   "execution_count": 14,
   "metadata": {},
   "outputs": [
    {
     "name": "stdout",
     "output_type": "stream",
     "text": [
      "Found 1739 images belonging to 11 classes.\n"
     ]
    }
   ],
   "source": [
    "datagen_test =  ImageDataGenerator(rescale = 1./255) # comando para reescala das imagens de teste\n",
    "\n",
    "# imagens de teste\n",
    "\n",
    "test_data = datagen_test.flow_from_directory(directory='dataset_fruits/Test',\n",
    "                                             target_size = (100, 100),\n",
    "                                             batch_size = 1,\n",
    "                                             shuffle=False)"
   ]
  },
  {
   "cell_type": "code",
   "execution_count": 15,
   "metadata": {},
   "outputs": [
    {
     "name": "stdout",
     "output_type": "stream",
     "text": [
      "WARNING:tensorflow:sample_weight modes were coerced from\n",
      "  ...\n",
      "    to  \n",
      "  ['...']\n",
      "1739/1739 [==============================] - 27s 16ms/step - loss: 0.0097 - accuracy: 1.0000\n",
      "acurácia nos dados de teste: 1.0\n",
      "loss dos dados de teste: 0.009680514419564402\n"
     ]
    }
   ],
   "source": [
    "# DEFININDO COMANDO PARA AVALIAR O DESEMPENHO DO MODELO NAS IMAGENS DE TESTE #\n",
    "\n",
    "test_loss, test_acc = model.evaluate(test_data) # verificar versão do Keras\n",
    "\n",
    "print(\"acurácia nos dados de teste:\", test_acc)\n",
    "print(\"loss dos dados de teste:\", test_loss)"
   ]
  },
  {
   "cell_type": "code",
   "execution_count": 16,
   "metadata": {},
   "outputs": [
    {
     "name": "stdout",
     "output_type": "stream",
     "text": [
      "(1739,)\n",
      "[ 0  0  0 ... 10 10 10]\n",
      "Accuracy\n",
      "1.0\n",
      "Balanced Accuracy\n",
      "1.0\n",
      "Confusion Matrix\n",
      "[[164   0   0   0   0   0   0   0   0   0   0]\n",
      " [  0 164   0   0   0   0   0   0   0   0   0]\n",
      " [  0   0 156   0   0   0   0   0   0   0   0]\n",
      " [  0   0   0 166   0   0   0   0   0   0   0]\n",
      " [  0   0   0   0 164   0   0   0   0   0   0]\n",
      " [  0   0   0   0   0 146   0   0   0   0   0]\n",
      " [  0   0   0   0   0   0 164   0   0   0   0]\n",
      " [  0   0   0   0   0   0   0 166   0   0   0]\n",
      " [  0   0   0   0   0   0   0   0 142   0   0]\n",
      " [  0   0   0   0   0   0   0   0   0 150   0]\n",
      " [  0   0   0   0   0   0   0   0   0   0 157]]\n",
      "Classification Report\n"
     ]
    }
   ],
   "source": [
    "from sklearn.metrics import classification_report, confusion_matrix, balanced_accuracy_score, accuracy_score\n",
    "\n",
    "Y_pred = model.predict(test_data)\n",
    "y_pred = np.argmax(Y_pred, axis=1)\n",
    "\n",
    "print(y_pred.shape)\n",
    "\n",
    "print(test_data.classes)\n",
    "\n",
    "print('Accuracy')\n",
    "print(accuracy_score(test_data.classes,y_pred))\n",
    "\n",
    "print('Balanced Accuracy')\n",
    "print(balanced_accuracy_score(test_data.classes,y_pred))\n",
    "\n",
    "print('Confusion Matrix')\n",
    "print(confusion_matrix(test_data.classes, y_pred))\n",
    "print('Classification Report')"
   ]
  },
  {
   "cell_type": "code",
   "execution_count": 1,
   "metadata": {},
   "outputs": [
    {
     "data": {
      "text/plain": [
       "1594.4"
      ]
     },
     "execution_count": 1,
     "metadata": {},
     "output_type": "execute_result"
    }
   ],
   "source": [
    "total = 1993\n",
    "batch_size = 64\n",
    "total*0.8"
   ]
  },
  {
   "cell_type": "code",
   "execution_count": 2,
   "metadata": {},
   "outputs": [
    {
     "data": {
      "text/plain": [
       "24.90625"
      ]
     },
     "execution_count": 2,
     "metadata": {},
     "output_type": "execute_result"
    }
   ],
   "source": [
    "1594/64\n"
   ]
  },
  {
   "cell_type": "code",
   "execution_count": null,
   "metadata": {},
   "outputs": [],
   "source": []
  }
 ],
 "metadata": {
  "kernelspec": {
   "display_name": "Python 3",
   "language": "python",
   "name": "python3"
  },
  "language_info": {
   "codemirror_mode": {
    "name": "ipython",
    "version": 3
   },
   "file_extension": ".py",
   "mimetype": "text/x-python",
   "name": "python",
   "nbconvert_exporter": "python",
   "pygments_lexer": "ipython3",
   "version": "3.7.7"
  }
 },
 "nbformat": 4,
 "nbformat_minor": 4
}
