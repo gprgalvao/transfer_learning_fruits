{
 "cells": [
  {
   "cell_type": "markdown",
   "metadata": {},
   "source": [
    "# Documentation\n",
    "\n",
    "- https://stackoverflow.com/questions/13118029/deleting-folders-in-python-recursively\n",
    "- https://stackoverflow.com/questions/2793789/create-destination-path-for-shutil-copy-files/3284204"
   ]
  },
  {
   "cell_type": "code",
   "execution_count": 1,
   "metadata": {},
   "outputs": [],
   "source": [
    "import os, shutil\n",
    "from sklearn.model_selection import train_test_split"
   ]
  },
  {
   "cell_type": "code",
   "execution_count": 2,
   "metadata": {},
   "outputs": [],
   "source": [
    "def criar_treino_teste(directory, percent_test):\n",
    "    print('Criando particionamento')\n",
    "    for dir_t in ['test', 'train']:\n",
    "        #Limpando pastas de trino e teste\n",
    "        shutil.rmtree(directory + dir_t)\n",
    "        os.mkdir(directory + dir_t)\n",
    "\n",
    "    categories = os.listdir(directory + 'all')\n",
    "    for cat in categories:\n",
    "        #Pegando dados gerais para o particionamento\n",
    "        dir_cat = directory + 'all/' + cat\n",
    "        files_cat = os.listdir(dir_cat)\n",
    "\n",
    "        #Particionando os dados em treino e teste\n",
    "        train, test = train_test_split(files_cat, test_size = percent_test, random_state = 13)\n",
    "        #Para treinamento\n",
    "        dir_train = directory + 'train/' + cat\n",
    "        os.mkdir(dir_train)\n",
    "        for file in train:\n",
    "            shutil.copy(dir_cat + '/' + file, dir_train + '/' + file)\n",
    "        #Para teste\n",
    "        dir_test = directory + 'test/' + cat\n",
    "        os.mkdir(dir_test)\n",
    "        for file in test:\n",
    "            shutil.copy(dir_cat + '/' + file, dir_test + '/' + file)\n",
    "\n",
    "        print('\\t', len(train), '\\t+', len(test), '\\t=', len(files_cat), '\\t ->', cat)\n",
    "        \n",
    "    print('Particionamento criado com sucesso!')"
   ]
  },
  {
   "cell_type": "code",
   "execution_count": 4,
   "metadata": {},
   "outputs": [
    {
     "name": "stdout",
     "output_type": "stream",
     "text": [
      "Criando particionamento\n",
      "\t 84 \t+ 22 \t= 106 \t -> taiti_lime\n",
      "\t 60 \t+ 15 \t= 75 \t -> onion\n",
      "\t 153 \t+ 39 \t= 192 \t -> watermelon\n",
      "\t 160 \t+ 41 \t= 201 \t -> agata_potato\n",
      "\t 127 \t+ 32 \t= 159 \t -> spanish_pear\n",
      "\t 136 \t+ 35 \t= 171 \t -> kiwi\n",
      "\t 169 \t+ 43 \t= 212 \t -> fuji_apple\n",
      "\t 211 \t+ 53 \t= 264 \t -> plum\n",
      "\t 168 \t+ 43 \t= 211 \t -> diamond_peach\n",
      "\t 197 \t+ 50 \t= 247 \t -> nectarine\n",
      "\t 124 \t+ 31 \t= 155 \t -> granny_smith_apple\n",
      "Particionamento criado com sucesso!\n"
     ]
    }
   ],
   "source": [
    "directory    = './dataset_smkt/'\n",
    "percent_test = 0.2\n",
    "\n",
    "criar_treino_teste(directory, percent_test)"
   ]
  }
 ],
 "metadata": {
  "kernelspec": {
   "display_name": "Python 3",
   "language": "python",
   "name": "python3"
  },
  "language_info": {
   "codemirror_mode": {
    "name": "ipython",
    "version": 3
   },
   "file_extension": ".py",
   "mimetype": "text/x-python",
   "name": "python",
   "nbconvert_exporter": "python",
   "pygments_lexer": "ipython3",
   "version": "3.7.7"
  }
 },
 "nbformat": 4,
 "nbformat_minor": 5
}
