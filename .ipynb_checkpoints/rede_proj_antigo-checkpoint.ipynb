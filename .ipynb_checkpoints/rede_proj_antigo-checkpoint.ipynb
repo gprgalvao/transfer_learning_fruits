{
 "cells": [
  {
   "cell_type": "code",
   "execution_count": 1,
   "metadata": {},
   "outputs": [
    {
     "name": "stdout",
     "output_type": "stream",
     "text": [
      "Versão do TensorFlow: 2.1.0\n",
      "versão do Keras: 2.2.4-tf\n"
     ]
    },
    {
     "name": "stderr",
     "output_type": "stream",
     "text": [
      "Using TensorFlow backend.\n"
     ]
    }
   ],
   "source": [
    "import tensorflow as tf\n",
    "print(\"Versão do TensorFlow:\", tf.__version__)\n",
    "\n",
    "from tensorflow import keras\n",
    "print(\"versão do Keras:\", keras.__version__)\n",
    "\n",
    "# IMPORTANDO COMANDOS E FUNÇÕES #\n",
    "\n",
    "import numpy as np\n",
    "import matplotlib.pyplot as plt #gerar gráfico\n",
    "import os\n",
    "from keras.preprocessing.image import ImageDataGenerator\n",
    "from keras.callbacks import EarlyStopping\n",
    "\n",
    "import pickle\n",
    "\n",
    "# IMPORTANDO LAYERS PARA A CNN #\n",
    "\n",
    "from keras.models import Sequential\n",
    "from keras import layers\n",
    "from keras.layers import Dropout"
   ]
  },
  {
   "cell_type": "code",
   "execution_count": 2,
   "metadata": {},
   "outputs": [],
   "source": [
    "# MONTANDO A ESTRUTURA DA CNN #\n",
    "\n",
    "model = Sequential()\n",
    "model.add(layers.Conv2D(32, (3, 3), activation='relu', input_shape=(64, 64, 3)))\n",
    "model.add(layers.MaxPooling2D((2, 2)))\n",
    "model.add(Dropout(0.5)) # dropout de 50%\n",
    "model.add(layers.Conv2D(64, (3, 3), activation='relu'))\n",
    "model.add(layers.MaxPooling2D((2, 2)))\n",
    "model.add(Dropout(0.5))\n",
    "model.add(layers.Conv2D(64, (3, 3), activation='relu'))\n",
    "model.add(layers.MaxPooling2D((2, 2)))\n",
    "model.add(Dropout(0.5))\n",
    "\n",
    "model.add(layers.Flatten()) # camada de achatamento\n",
    "model.add(layers.Dense(64, activation='relu'))\n",
    "model.add(Dropout(0.5))\n",
    "model.add(layers.Dense(units = 11, activation = 'softmax')) # 15 unidades de saída (15 classes)"
   ]
  },
  {
   "cell_type": "code",
   "execution_count": 3,
   "metadata": {},
   "outputs": [
    {
     "name": "stdout",
     "output_type": "stream",
     "text": [
      "versao do h5py: 2.10.0\n"
     ]
    }
   ],
   "source": [
    "import h5py\n",
    "\n",
    "print(\"versao do h5py:\", h5py.__version__)"
   ]
  },
  {
   "cell_type": "code",
   "execution_count": 4,
   "metadata": {},
   "outputs": [
    {
     "name": "stdout",
     "output_type": "stream",
     "text": [
      "Model: \"sequential_1\"\n",
      "_________________________________________________________________\n",
      "Layer (type)                 Output Shape              Param #   \n",
      "=================================================================\n",
      "conv2d_1 (Conv2D)            (None, 62, 62, 32)        896       \n",
      "_________________________________________________________________\n",
      "max_pooling2d_1 (MaxPooling2 (None, 31, 31, 32)        0         \n",
      "_________________________________________________________________\n",
      "dropout_1 (Dropout)          (None, 31, 31, 32)        0         \n",
      "_________________________________________________________________\n",
      "conv2d_2 (Conv2D)            (None, 29, 29, 64)        18496     \n",
      "_________________________________________________________________\n",
      "max_pooling2d_2 (MaxPooling2 (None, 14, 14, 64)        0         \n",
      "_________________________________________________________________\n",
      "dropout_2 (Dropout)          (None, 14, 14, 64)        0         \n",
      "_________________________________________________________________\n",
      "conv2d_3 (Conv2D)            (None, 12, 12, 64)        36928     \n",
      "_________________________________________________________________\n",
      "max_pooling2d_3 (MaxPooling2 (None, 6, 6, 64)          0         \n",
      "_________________________________________________________________\n",
      "dropout_3 (Dropout)          (None, 6, 6, 64)          0         \n",
      "_________________________________________________________________\n",
      "flatten_1 (Flatten)          (None, 2304)              0         \n",
      "_________________________________________________________________\n",
      "dense_1 (Dense)              (None, 64)                147520    \n",
      "_________________________________________________________________\n",
      "dropout_4 (Dropout)          (None, 64)                0         \n",
      "_________________________________________________________________\n",
      "dense_2 (Dense)              (None, 15)                975       \n",
      "=================================================================\n",
      "Total params: 204,815\n",
      "Trainable params: 204,815\n",
      "Non-trainable params: 0\n",
      "_________________________________________________________________\n"
     ]
    }
   ],
   "source": [
    "model.summary() # resumo da estrutura, com os parâmetros ajustáveis"
   ]
  },
  {
   "cell_type": "code",
   "execution_count": 5,
   "metadata": {},
   "outputs": [],
   "source": [
    "model.compile(optimizer='adam',\n",
    "              loss=tf.keras.losses.CategoricalCrossentropy(\n",
    "                  from_logits=False,\n",
    "                  label_smoothing=0,                            #configurações da função loss\n",
    "                  reduction=\"auto\",\n",
    "                  name=\"categorical_crossentropy\"),\n",
    "              metrics=['accuracy'])"
   ]
  },
  {
   "cell_type": "code",
   "execution_count": 6,
   "metadata": {},
   "outputs": [
    {
     "name": "stdout",
     "output_type": "stream",
     "text": [
      "Found 6406 images belonging to 15 classes.\n",
      "Found 1594 images belonging to 15 classes.\n"
     ]
    }
   ],
   "source": [
    "# DIVIDIR AS 8000 IMAGENS EM PARTIÇÃO DE TREINO E VALIDAÇÃO, UTILIZANDO O IMAGEDATAGENERATOR #\n",
    "\n",
    "from keras.preprocessing.image import ImageDataGenerator\n",
    "\n",
    "datagen =  ImageDataGenerator(rescale = 1./255, validation_split=0.2) # comando para reescala + divisão em 20% para validação\n",
    "\n",
    "# imagens de treino (80%) \n",
    "\n",
    "train_data = datagen.flow_from_directory('dataset_fruits/Training', \n",
    "                                         subset = 'training',\n",
    "                                         batch_size = 16,\n",
    "                                         target_size = (64, 64)) # definindo tamanho das imagens\n",
    "\n",
    "# imagens de validação (20%)\n",
    "\n",
    "valid_data = datagen.flow_from_directory('dataset_fruits/Training',\n",
    "                                         subset='validation',\n",
    "                                         batch_size = 16,\n",
    "                                         target_size = (64, 64))"
   ]
  },
  {
   "cell_type": "code",
   "execution_count": 7,
   "metadata": {},
   "outputs": [],
   "source": [
    "# DEFININDO O COMANDO EARLYSTOPPING #\n",
    "\n",
    "es = EarlyStopping(monitor='val_accuracy', mode='max', verbose=1, patience = 10) #early stopping baseado na melhor acurácia de validação"
   ]
  },
  {
   "cell_type": "code",
   "execution_count": 8,
   "metadata": {},
   "outputs": [
    {
     "name": "stdout",
     "output_type": "stream",
     "text": [
      "Epoch 1/100\n",
      "401/401 [==============================] - 92s 228ms/step - loss: 2.2506 - accuracy: 0.2150 - val_loss: 1.3267 - val_accuracy: 0.4887\n",
      "Epoch 2/100\n",
      "401/401 [==============================] - 90s 225ms/step - loss: 1.3470 - accuracy: 0.5050 - val_loss: 1.1907 - val_accuracy: 0.5521\n",
      "Epoch 3/100\n",
      "401/401 [==============================] - 91s 227ms/step - loss: 0.8748 - accuracy: 0.6820 - val_loss: 0.6078 - val_accuracy: 0.7208\n",
      "Epoch 4/100\n",
      "401/401 [==============================] - 91s 227ms/step - loss: 0.6818 - accuracy: 0.7509 - val_loss: 1.4418 - val_accuracy: 0.7365\n",
      "Epoch 5/100\n",
      "401/401 [==============================] - 91s 227ms/step - loss: 0.5956 - accuracy: 0.7916 - val_loss: 1.2139 - val_accuracy: 0.7315\n",
      "Epoch 6/100\n",
      "401/401 [==============================] - 92s 228ms/step - loss: 0.5334 - accuracy: 0.8100 - val_loss: 0.9470 - val_accuracy: 0.7516\n",
      "Epoch 7/100\n",
      "401/401 [==============================] - 92s 229ms/step - loss: 0.4707 - accuracy: 0.8348 - val_loss: 0.6059 - val_accuracy: 0.8024\n",
      "Epoch 8/100\n",
      "401/401 [==============================] - 92s 228ms/step - loss: 0.4080 - accuracy: 0.8558 - val_loss: 2.0323 - val_accuracy: 0.7673\n",
      "Epoch 9/100\n",
      "401/401 [==============================] - 91s 227ms/step - loss: 0.4629 - accuracy: 0.8437 - val_loss: 0.3119 - val_accuracy: 0.8413\n",
      "Epoch 10/100\n",
      "401/401 [==============================] - 93s 231ms/step - loss: 0.3858 - accuracy: 0.8706 - val_loss: 0.2031 - val_accuracy: 0.8532\n",
      "Epoch 11/100\n",
      "401/401 [==============================] - 91s 227ms/step - loss: 0.3441 - accuracy: 0.8810 - val_loss: 0.8828 - val_accuracy: 0.7321\n",
      "Epoch 12/100\n",
      "401/401 [==============================] - 93s 232ms/step - loss: 0.3642 - accuracy: 0.8793 - val_loss: 0.3709 - val_accuracy: 0.8413\n",
      "Epoch 13/100\n",
      "401/401 [==============================] - 107s 268ms/step - loss: 0.3203 - accuracy: 0.8904 - val_loss: 0.8800 - val_accuracy: 0.8450\n",
      "Epoch 14/100\n",
      "401/401 [==============================] - 105s 263ms/step - loss: 0.3067 - accuracy: 0.8937 - val_loss: 1.4515 - val_accuracy: 0.8156\n",
      "Epoch 15/100\n",
      "401/401 [==============================] - 94s 234ms/step - loss: 0.3235 - accuracy: 0.8914 - val_loss: 0.7535 - val_accuracy: 0.8174\n",
      "Epoch 16/100\n",
      "401/401 [==============================] - 92s 230ms/step - loss: 0.2627 - accuracy: 0.9112 - val_loss: 1.9581 - val_accuracy: 0.8225\n",
      "Epoch 17/100\n",
      "401/401 [==============================] - 93s 231ms/step - loss: 0.3015 - accuracy: 0.9020 - val_loss: 0.3522 - val_accuracy: 0.8576\n",
      "Epoch 18/100\n",
      "401/401 [==============================] - 91s 227ms/step - loss: 0.2775 - accuracy: 0.9090 - val_loss: 0.5781 - val_accuracy: 0.8275\n",
      "Epoch 19/100\n",
      "401/401 [==============================] - 91s 228ms/step - loss: 0.2939 - accuracy: 0.9015 - val_loss: 1.9981 - val_accuracy: 0.8250\n",
      "Epoch 20/100\n",
      "401/401 [==============================] - 91s 228ms/step - loss: 0.2402 - accuracy: 0.9179 - val_loss: 0.0178 - val_accuracy: 0.8507\n",
      "Epoch 21/100\n",
      "401/401 [==============================] - 91s 228ms/step - loss: 0.2755 - accuracy: 0.9121 - val_loss: 0.5302 - val_accuracy: 0.8507\n",
      "Epoch 22/100\n",
      "401/401 [==============================] - 91s 228ms/step - loss: 0.2614 - accuracy: 0.9166 - val_loss: 0.4172 - val_accuracy: 0.8363\n",
      "Epoch 23/100\n",
      "401/401 [==============================] - 91s 228ms/step - loss: 0.2383 - accuracy: 0.9204 - val_loss: 0.4011 - val_accuracy: 0.7409\n",
      "Epoch 24/100\n",
      "401/401 [==============================] - 92s 229ms/step - loss: 0.2477 - accuracy: 0.9138 - val_loss: 0.9468 - val_accuracy: 0.8262\n",
      "Epoch 25/100\n",
      "401/401 [==============================] - 92s 228ms/step - loss: 0.2171 - accuracy: 0.9269 - val_loss: 1.0357 - val_accuracy: 0.8061\n",
      "Epoch 26/100\n",
      "401/401 [==============================] - 92s 228ms/step - loss: 0.2246 - accuracy: 0.9235 - val_loss: 4.7783 - val_accuracy: 0.7553\n",
      "Epoch 27/100\n",
      "401/401 [==============================] - 92s 230ms/step - loss: 0.2293 - accuracy: 0.9254 - val_loss: 0.0130 - val_accuracy: 0.7271\n",
      "Epoch 00027: early stopping\n"
     ]
    }
   ],
   "source": [
    "# INÍCIO DO TREINO DO MODELO #\n",
    "\n",
    "history = model.fit(train_data,\n",
    "                    epochs=100,\n",
    "                    validation_data=valid_data,\n",
    "                    callbacks = [es])\n",
    "\n",
    "# informação: steps_per_epoch = número de imagens / batch_size"
   ]
  },
  {
   "cell_type": "code",
   "execution_count": 9,
   "metadata": {},
   "outputs": [],
   "source": [
    "#model.save('model_dpt',\n",
    "#          overwrite = True) \n",
    "\n",
    "#with open('trainHistoryDict_dpt', 'wb') as file_pi:\n",
    "#        pickle.dump(history.history, file_pi)"
   ]
  },
  {
   "cell_type": "code",
   "execution_count": 10,
   "metadata": {},
   "outputs": [],
   "source": [
    "model = keras.models.load_model('model_dpt')\n",
    "history = pickle.load(open('trainHistoryDict_dpt', \"rb\"))"
   ]
  },
  {
   "cell_type": "code",
   "execution_count": 11,
   "metadata": {},
   "outputs": [
    {
     "name": "stdout",
     "output_type": "stream",
     "text": [
      "Model: \"sequential_1\"\n",
      "_________________________________________________________________\n",
      "Layer (type)                 Output Shape              Param #   \n",
      "=================================================================\n",
      "conv2d_1 (Conv2D)            (None, 62, 62, 32)        896       \n",
      "_________________________________________________________________\n",
      "max_pooling2d_1 (MaxPooling2 (None, 31, 31, 32)        0         \n",
      "_________________________________________________________________\n",
      "dropout_1 (Dropout)          (None, 31, 31, 32)        0         \n",
      "_________________________________________________________________\n",
      "conv2d_2 (Conv2D)            (None, 29, 29, 64)        18496     \n",
      "_________________________________________________________________\n",
      "max_pooling2d_2 (MaxPooling2 (None, 14, 14, 64)        0         \n",
      "_________________________________________________________________\n",
      "dropout_2 (Dropout)          (None, 14, 14, 64)        0         \n",
      "_________________________________________________________________\n",
      "conv2d_3 (Conv2D)            (None, 12, 12, 64)        36928     \n",
      "_________________________________________________________________\n",
      "max_pooling2d_3 (MaxPooling2 (None, 6, 6, 64)          0         \n",
      "_________________________________________________________________\n",
      "dropout_3 (Dropout)          (None, 6, 6, 64)          0         \n",
      "_________________________________________________________________\n",
      "flatten_1 (Flatten)          (None, 2304)              0         \n",
      "_________________________________________________________________\n",
      "dense_1 (Dense)              (None, 64)                147520    \n",
      "_________________________________________________________________\n",
      "dropout_4 (Dropout)          (None, 64)                0         \n",
      "_________________________________________________________________\n",
      "dense_2 (Dense)              (None, 15)                975       \n",
      "=================================================================\n",
      "Total params: 204,815\n",
      "Trainable params: 204,815\n",
      "Non-trainable params: 0\n",
      "_________________________________________________________________\n"
     ]
    }
   ],
   "source": [
    "model.summary()"
   ]
  },
  {
   "cell_type": "code",
   "execution_count": 12,
   "metadata": {},
   "outputs": [
    {
     "data": {
      "text/plain": [
       "<matplotlib.legend.Legend at 0x1f31ae5ae48>"
      ]
     },
     "execution_count": 12,
     "metadata": {},
     "output_type": "execute_result"
    },
    {
     "data": {
      "image/png": "[encoded data removed]",
      "text/plain": [
       "<Figure size 432x288 with 1 Axes>"
      ]
     },
     "metadata": {
      "needs_background": "light"
     },
     "output_type": "display_data"
    }
   ],
   "source": [
    "# GERANDO GRÁFICO COM RESULTADOS DAS ACURÁCIAS DE TREINO E VALIDAÇÃO #\n",
    "plt.plot(history['accuracy'], label='accuracy_train')\n",
    "plt.plot(history['val_accuracy'], label = 'accuracy_valid')\n",
    "plt.xlabel('Epoch')\n",
    "plt.ylabel('Accuracy')\n",
    "plt.ylim([0, 1])\n",
    "plt.legend(loc='lower right')"
   ]
  },
  {
   "cell_type": "code",
   "execution_count": 13,
   "metadata": {},
   "outputs": [
    {
     "data": {
      "text/plain": [
       "<matplotlib.legend.Legend at 0x1f31af1da88>"
      ]
     },
     "execution_count": 13,
     "metadata": {},
     "output_type": "execute_result"
    },
    {
     "data": {
      "image/png": "[encoded data removed]",
      "text/plain": [
       "<Figure size 432x288 with 1 Axes>"
      ]
     },
     "metadata": {
      "needs_background": "light"
     },
     "output_type": "display_data"
    }
   ],
   "source": [
    "# GERANDO GRÁFICO COM RESULTADOS DO LOSS DE TREINO E VALIDAÇÃO #\n",
    "\n",
    "plt.plot(history['loss'], label='loss train')\n",
    "plt.plot(history['val_loss'], label='loss val')\n",
    "plt.xlabel('Epoch')\n",
    "plt.ylabel('Loss')\n",
    "plt.ylim([0, 3])\n",
    "plt.legend(loc='lower right')"
   ]
  },
  {
   "cell_type": "code",
   "execution_count": 14,
   "metadata": {},
   "outputs": [
    {
     "name": "stdout",
     "output_type": "stream",
     "text": [
      "Found 2000 images belonging to 15 classes.\n"
     ]
    }
   ],
   "source": [
    "datagen_test =  ImageDataGenerator(rescale = 1./255) # comando para reescala das imagens de teste\n",
    "\n",
    "# imagens de teste\n",
    "\n",
    "test_data = datagen_test.flow_from_directory(directory='outputs/output_test',\n",
    "                                             target_size = (64, 64),\n",
    "                                             batch_size = 1,\n",
    "                                             shuffle=False)"
   ]
  },
  {
   "cell_type": "code",
   "execution_count": 15,
   "metadata": {},
   "outputs": [
    {
     "name": "stdout",
     "output_type": "stream",
     "text": [
      "WARNING:tensorflow:sample_weight modes were coerced from\n",
      "  ...\n",
      "    to  \n",
      "  ['...']\n",
      "2000/2000 [==============================] - 47s 24ms/step - loss: 1.6465 - accuracy: 0.6890\n",
      "acurácia nos dados de teste: 0.689\n",
      "loss dos dados de teste: 1.6465025093945356\n"
     ]
    }
   ],
   "source": [
    "# DEFININDO COMANDO PARA AVALIAR O DESEMPENHO DO MODELO NAS IMAGENS DE TESTE #\n",
    "\n",
    "test_loss, test_acc = model.evaluate(test_data) # verificar versão do Keras\n",
    "\n",
    "print(\"acurácia nos dados de teste:\", test_acc)\n",
    "print(\"loss dos dados de teste:\", test_loss)"
   ]
  },
  {
   "cell_type": "code",
   "execution_count": 16,
   "metadata": {},
   "outputs": [
    {
     "name": "stdout",
     "output_type": "stream",
     "text": [
      "(2000,)\n",
      "[ 0  0  0 ... 14 14 14]\n",
      "Accuracy\n",
      "0.689\n",
      "Balanced Accuracy\n",
      "0.6567295703163719\n",
      "Confusion Matrix\n",
      "[[142   0   0   0   0   0   0   0   0   0   0   0   0   0   0]\n",
      " [  0 149   0   0   0   0   0   0   0   0   0   0   0   0   0]\n",
      " [  0   0 173   0   0   0   0   0   7   0   0   0   0   0   0]\n",
      " [  0   0   0 104  15   0   0  39   2   0   0   0   9   0   0]\n",
      " [  0   0   0   1   3   0   0  42  15   0   0  86   5   0   0]\n",
      " [  0   0   0   0   0 118   0   0   0   0   0   0   0   0   6]\n",
      " [  7   0   0   0   0   0  28   0   0   0   0   0  60   0   0]\n",
      " [  0   0   0   0   0   0   0   0 140   0   0   0   0   0   0]\n",
      " [  0   0  31   0   0   0   0   0 143   0   0   0   0   0   0]\n",
      " [  4  19   0   0   0   0   0   0   0  32   0   0   0   0   0]\n",
      " [  5   0   0   0   0   3   9   0   0   1  18   0   0  33   4]\n",
      " [  0   0   0   0   0   0   0   0   5   0   0 202   1   0   0]\n",
      " [  9   4   0   5   0   0   0  40   3   0   0   1  74   0   0]\n",
      " [  0   0   0   0   0  11   0   0   0   0   0   0   0  59   0]\n",
      " [  0   0   0   0   0   0   0   0   0   0   0   0   0   0 133]]\n",
      "Classification Report\n"
     ]
    }
   ],
   "source": [
    "from sklearn.metrics import classification_report, confusion_matrix, balanced_accuracy_score, accuracy_score\n",
    "\n",
    "Y_pred = model.predict(test_data)\n",
    "y_pred = np.argmax(Y_pred, axis=1)\n",
    "\n",
    "print(y_pred.shape)\n",
    "\n",
    "print(test_data.classes)\n",
    "\n",
    "print('Accuracy')\n",
    "print(accuracy_score(test_data.classes,y_pred))\n",
    "\n",
    "print('Balanced Accuracy')\n",
    "print(balanced_accuracy_score(test_data.classes,y_pred))\n",
    "\n",
    "print('Confusion Matrix')\n",
    "print(confusion_matrix(test_data.classes, y_pred))\n",
    "print('Classification Report')"
   ]
  },
  {
   "cell_type": "code",
   "execution_count": null,
   "metadata": {},
   "outputs": [],
   "source": []
  }
 ],
 "metadata": {
  "kernelspec": {
   "display_name": "Python 3",
   "language": "python",
   "name": "python3"
  },
  "language_info": {
   "codemirror_mode": {
    "name": "ipython",
    "version": 3
   },
   "file_extension": ".py",
   "mimetype": "text/x-python",
   "name": "python",
   "nbconvert_exporter": "python",
   "pygments_lexer": "ipython3",
   "version": "3.7.7"
  }
 },
 "nbformat": 4,
 "nbformat_minor": 4
}
